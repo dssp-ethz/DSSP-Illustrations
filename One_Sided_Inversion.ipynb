{
  "nbformat": 4,
  "nbformat_minor": 0,
  "metadata": {
    "colab": {
      "name": "One-Sided Inversion",
      "provenance": [],
      "collapsed_sections": [
        "KvXPJ7VhgcrG",
        "NXElGekWjdPd"
      ],
      "authorship_tag": "ABX9TyOOOrV/1gDWS4XVR87wdSwY",
      "include_colab_link": true
    },
    "kernelspec": {
      "name": "python3",
      "display_name": "Python 3"
    },
    "language_info": {
      "name": "python"
    },
    "widgets": {
      "application/vnd.jupyter.widget-state+json": {
        "9aadc795ffd14d02a1a7524a46652a62": {
          "model_module": "@jupyter-widgets/controls",
          "model_name": "VBoxModel",
          "state": {
            "_view_name": "VBoxView",
            "_dom_classes": [
              "widget-interact"
            ],
            "_model_name": "VBoxModel",
            "_view_module": "@jupyter-widgets/controls",
            "_model_module_version": "1.5.0",
            "_view_count": null,
            "_view_module_version": "1.5.0",
            "box_style": "",
            "layout": "IPY_MODEL_9773fd70e90c406198613697afe04640",
            "_model_module": "@jupyter-widgets/controls",
            "children": [
              "IPY_MODEL_0f249579f16a4f8fb500f6f6bd06466b",
              "IPY_MODEL_3f4d8c311a624835ae6ab9d049d6ba3a",
              "IPY_MODEL_a039ff2329a74535829b525295863e8d",
              "IPY_MODEL_a0d640011c55415eb2dee109d5c6d616"
            ]
          }
        },
        "9773fd70e90c406198613697afe04640": {
          "model_module": "@jupyter-widgets/base",
          "model_name": "LayoutModel",
          "state": {
            "_view_name": "LayoutView",
            "grid_template_rows": null,
            "right": null,
            "justify_content": null,
            "_view_module": "@jupyter-widgets/base",
            "overflow": null,
            "_model_module_version": "1.2.0",
            "_view_count": null,
            "flex_flow": null,
            "width": null,
            "min_width": null,
            "border": null,
            "align_items": null,
            "bottom": null,
            "_model_module": "@jupyter-widgets/base",
            "top": null,
            "grid_column": null,
            "overflow_y": null,
            "overflow_x": null,
            "grid_auto_flow": null,
            "grid_area": null,
            "grid_template_columns": null,
            "flex": null,
            "_model_name": "LayoutModel",
            "justify_items": null,
            "grid_row": null,
            "max_height": null,
            "align_content": null,
            "visibility": null,
            "align_self": null,
            "height": null,
            "min_height": null,
            "padding": null,
            "grid_auto_rows": null,
            "grid_gap": null,
            "max_width": null,
            "order": null,
            "_view_module_version": "1.2.0",
            "grid_template_areas": null,
            "object_position": null,
            "object_fit": null,
            "grid_auto_columns": null,
            "margin": null,
            "display": null,
            "left": null
          }
        },
        "0f249579f16a4f8fb500f6f6bd06466b": {
          "model_module": "@jupyter-widgets/controls",
          "model_name": "DropdownModel",
          "state": {
            "_options_labels": [
              "unit step",
              "unit impulse",
              "ramp",
              "exponential",
              "sinus",
              "sinus squared",
              "causal arbitrary"
            ],
            "_view_name": "DropdownView",
            "style": "IPY_MODEL_ab4d211970c34c8aa4968dfe6fbc57c8",
            "_dom_classes": [],
            "description": "signal type",
            "_model_name": "DropdownModel",
            "index": 6,
            "_view_module": "@jupyter-widgets/controls",
            "_model_module_version": "1.5.0",
            "_view_count": null,
            "disabled": false,
            "_view_module_version": "1.5.0",
            "description_tooltip": null,
            "_model_module": "@jupyter-widgets/controls",
            "layout": "IPY_MODEL_77cc641067dc40b89b2aa834b4fdec47"
          }
        },
        "3f4d8c311a624835ae6ab9d049d6ba3a": {
          "model_module": "@jupyter-widgets/controls",
          "model_name": "IntSliderModel",
          "state": {
            "_view_name": "IntSliderView",
            "style": "IPY_MODEL_8da056b94b2a48539914f796f1e3dc68",
            "_dom_classes": [],
            "description": "parameter",
            "step": 1,
            "_model_name": "IntSliderModel",
            "orientation": "horizontal",
            "max": 10,
            "_view_module": "@jupyter-widgets/controls",
            "_model_module_version": "1.5.0",
            "value": 1,
            "_view_count": null,
            "disabled": false,
            "_view_module_version": "1.5.0",
            "min": -10,
            "continuous_update": true,
            "readout_format": "d",
            "description_tooltip": null,
            "readout": true,
            "_model_module": "@jupyter-widgets/controls",
            "layout": "IPY_MODEL_565e952238474b279197525d094301c9"
          }
        },
        "a039ff2329a74535829b525295863e8d": {
          "model_module": "@jupyter-widgets/controls",
          "model_name": "TextModel",
          "state": {
            "_view_name": "TextView",
            "style": "IPY_MODEL_0f8aefb0622f4819bed45ff9db1c19e0",
            "_dom_classes": [],
            "description": "causal signal",
            "_model_name": "TextModel",
            "placeholder": "​",
            "_view_module": "@jupyter-widgets/controls",
            "_model_module_version": "1.5.0",
            "value": "1 2 1 -2 2",
            "_view_count": null,
            "disabled": false,
            "_view_module_version": "1.5.0",
            "continuous_update": true,
            "description_tooltip": null,
            "_model_module": "@jupyter-widgets/controls",
            "layout": "IPY_MODEL_417735e0d8bf47a693ab65787525113d"
          }
        },
        "a0d640011c55415eb2dee109d5c6d616": {
          "model_module": "@jupyter-widgets/output",
          "model_name": "OutputModel",
          "state": {
            "_view_name": "OutputView",
            "msg_id": "",
            "_dom_classes": [],
            "_model_name": "OutputModel",
            "outputs": [],
            "_view_module": "@jupyter-widgets/output",
            "_model_module_version": "1.0.0",
            "_view_count": null,
            "_view_module_version": "1.0.0",
            "layout": "IPY_MODEL_91ab85ff52d24ace87592863c93e3ba2",
            "_model_module": "@jupyter-widgets/output"
          }
        },
        "ab4d211970c34c8aa4968dfe6fbc57c8": {
          "model_module": "@jupyter-widgets/controls",
          "model_name": "DescriptionStyleModel",
          "state": {
            "_view_name": "StyleView",
            "_model_name": "DescriptionStyleModel",
            "description_width": "",
            "_view_module": "@jupyter-widgets/base",
            "_model_module_version": "1.5.0",
            "_view_count": null,
            "_view_module_version": "1.2.0",
            "_model_module": "@jupyter-widgets/controls"
          }
        },
        "77cc641067dc40b89b2aa834b4fdec47": {
          "model_module": "@jupyter-widgets/base",
          "model_name": "LayoutModel",
          "state": {
            "_view_name": "LayoutView",
            "grid_template_rows": null,
            "right": null,
            "justify_content": null,
            "_view_module": "@jupyter-widgets/base",
            "overflow": null,
            "_model_module_version": "1.2.0",
            "_view_count": null,
            "flex_flow": null,
            "width": null,
            "min_width": null,
            "border": null,
            "align_items": null,
            "bottom": null,
            "_model_module": "@jupyter-widgets/base",
            "top": null,
            "grid_column": null,
            "overflow_y": null,
            "overflow_x": null,
            "grid_auto_flow": null,
            "grid_area": null,
            "grid_template_columns": null,
            "flex": null,
            "_model_name": "LayoutModel",
            "justify_items": null,
            "grid_row": null,
            "max_height": null,
            "align_content": null,
            "visibility": null,
            "align_self": null,
            "height": null,
            "min_height": null,
            "padding": null,
            "grid_auto_rows": null,
            "grid_gap": null,
            "max_width": null,
            "order": null,
            "_view_module_version": "1.2.0",
            "grid_template_areas": null,
            "object_position": null,
            "object_fit": null,
            "grid_auto_columns": null,
            "margin": null,
            "display": null,
            "left": null
          }
        },
        "8da056b94b2a48539914f796f1e3dc68": {
          "model_module": "@jupyter-widgets/controls",
          "model_name": "SliderStyleModel",
          "state": {
            "_view_name": "StyleView",
            "handle_color": null,
            "_model_name": "SliderStyleModel",
            "description_width": "",
            "_view_module": "@jupyter-widgets/base",
            "_model_module_version": "1.5.0",
            "_view_count": null,
            "_view_module_version": "1.2.0",
            "_model_module": "@jupyter-widgets/controls"
          }
        },
        "565e952238474b279197525d094301c9": {
          "model_module": "@jupyter-widgets/base",
          "model_name": "LayoutModel",
          "state": {
            "_view_name": "LayoutView",
            "grid_template_rows": null,
            "right": null,
            "justify_content": null,
            "_view_module": "@jupyter-widgets/base",
            "overflow": null,
            "_model_module_version": "1.2.0",
            "_view_count": null,
            "flex_flow": null,
            "width": null,
            "min_width": null,
            "border": null,
            "align_items": null,
            "bottom": null,
            "_model_module": "@jupyter-widgets/base",
            "top": null,
            "grid_column": null,
            "overflow_y": null,
            "overflow_x": null,
            "grid_auto_flow": null,
            "grid_area": null,
            "grid_template_columns": null,
            "flex": null,
            "_model_name": "LayoutModel",
            "justify_items": null,
            "grid_row": null,
            "max_height": null,
            "align_content": null,
            "visibility": null,
            "align_self": null,
            "height": null,
            "min_height": null,
            "padding": null,
            "grid_auto_rows": null,
            "grid_gap": null,
            "max_width": null,
            "order": null,
            "_view_module_version": "1.2.0",
            "grid_template_areas": null,
            "object_position": null,
            "object_fit": null,
            "grid_auto_columns": null,
            "margin": null,
            "display": null,
            "left": null
          }
        },
        "0f8aefb0622f4819bed45ff9db1c19e0": {
          "model_module": "@jupyter-widgets/controls",
          "model_name": "DescriptionStyleModel",
          "state": {
            "_view_name": "StyleView",
            "_model_name": "DescriptionStyleModel",
            "description_width": "",
            "_view_module": "@jupyter-widgets/base",
            "_model_module_version": "1.5.0",
            "_view_count": null,
            "_view_module_version": "1.2.0",
            "_model_module": "@jupyter-widgets/controls"
          }
        },
        "417735e0d8bf47a693ab65787525113d": {
          "model_module": "@jupyter-widgets/base",
          "model_name": "LayoutModel",
          "state": {
            "_view_name": "LayoutView",
            "grid_template_rows": null,
            "right": null,
            "justify_content": null,
            "_view_module": "@jupyter-widgets/base",
            "overflow": null,
            "_model_module_version": "1.2.0",
            "_view_count": null,
            "flex_flow": null,
            "width": null,
            "min_width": null,
            "border": null,
            "align_items": null,
            "bottom": null,
            "_model_module": "@jupyter-widgets/base",
            "top": null,
            "grid_column": null,
            "overflow_y": null,
            "overflow_x": null,
            "grid_auto_flow": null,
            "grid_area": null,
            "grid_template_columns": null,
            "flex": null,
            "_model_name": "LayoutModel",
            "justify_items": null,
            "grid_row": null,
            "max_height": null,
            "align_content": null,
            "visibility": null,
            "align_self": null,
            "height": null,
            "min_height": null,
            "padding": null,
            "grid_auto_rows": null,
            "grid_gap": null,
            "max_width": null,
            "order": null,
            "_view_module_version": "1.2.0",
            "grid_template_areas": null,
            "object_position": null,
            "object_fit": null,
            "grid_auto_columns": null,
            "margin": null,
            "display": null,
            "left": null
          }
        },
        "91ab85ff52d24ace87592863c93e3ba2": {
          "model_module": "@jupyter-widgets/base",
          "model_name": "LayoutModel",
          "state": {
            "_view_name": "LayoutView",
            "grid_template_rows": null,
            "right": null,
            "justify_content": null,
            "_view_module": "@jupyter-widgets/base",
            "overflow": null,
            "_model_module_version": "1.2.0",
            "_view_count": null,
            "flex_flow": null,
            "width": null,
            "min_width": null,
            "border": null,
            "align_items": null,
            "bottom": null,
            "_model_module": "@jupyter-widgets/base",
            "top": null,
            "grid_column": null,
            "overflow_y": null,
            "overflow_x": null,
            "grid_auto_flow": null,
            "grid_area": null,
            "grid_template_columns": null,
            "flex": null,
            "_model_name": "LayoutModel",
            "justify_items": null,
            "grid_row": null,
            "max_height": null,
            "align_content": null,
            "visibility": null,
            "align_self": null,
            "height": null,
            "min_height": null,
            "padding": null,
            "grid_auto_rows": null,
            "grid_gap": null,
            "max_width": null,
            "order": null,
            "_view_module_version": "1.2.0",
            "grid_template_areas": null,
            "object_position": null,
            "object_fit": null,
            "grid_auto_columns": null,
            "margin": null,
            "display": null,
            "left": null
          }
        },
        "c8a93c59d3424749b35aa86e419bfa91": {
          "model_module": "@jupyter-widgets/controls",
          "model_name": "VBoxModel",
          "state": {
            "_view_name": "VBoxView",
            "_dom_classes": [
              "widget-interact"
            ],
            "_model_name": "VBoxModel",
            "_view_module": "@jupyter-widgets/controls",
            "_model_module_version": "1.5.0",
            "_view_count": null,
            "_view_module_version": "1.5.0",
            "box_style": "",
            "layout": "IPY_MODEL_4d72d30c454b408184d6b000c028536f",
            "_model_module": "@jupyter-widgets/controls",
            "children": [
              "IPY_MODEL_ba3c8b685ce149b19728d2ac4a8adbb7",
              "IPY_MODEL_3adfb10d532444b68d64aeb7e11b837c"
            ]
          }
        },
        "4d72d30c454b408184d6b000c028536f": {
          "model_module": "@jupyter-widgets/base",
          "model_name": "LayoutModel",
          "state": {
            "_view_name": "LayoutView",
            "grid_template_rows": null,
            "right": null,
            "justify_content": null,
            "_view_module": "@jupyter-widgets/base",
            "overflow": null,
            "_model_module_version": "1.2.0",
            "_view_count": null,
            "flex_flow": null,
            "width": null,
            "min_width": null,
            "border": null,
            "align_items": null,
            "bottom": null,
            "_model_module": "@jupyter-widgets/base",
            "top": null,
            "grid_column": null,
            "overflow_y": null,
            "overflow_x": null,
            "grid_auto_flow": null,
            "grid_area": null,
            "grid_template_columns": null,
            "flex": null,
            "_model_name": "LayoutModel",
            "justify_items": null,
            "grid_row": null,
            "max_height": null,
            "align_content": null,
            "visibility": null,
            "align_self": null,
            "height": null,
            "min_height": null,
            "padding": null,
            "grid_auto_rows": null,
            "grid_gap": null,
            "max_width": null,
            "order": null,
            "_view_module_version": "1.2.0",
            "grid_template_areas": null,
            "object_position": null,
            "object_fit": null,
            "grid_auto_columns": null,
            "margin": null,
            "display": null,
            "left": null
          }
        },
        "ba3c8b685ce149b19728d2ac4a8adbb7": {
          "model_module": "@jupyter-widgets/controls",
          "model_name": "CheckboxModel",
          "state": {
            "_view_name": "CheckboxView",
            "style": "IPY_MODEL_887c18d9ec814cbaaaf935230e45e978",
            "_dom_classes": [],
            "description": "logarithmic plot",
            "_model_name": "CheckboxModel",
            "_view_module": "@jupyter-widgets/controls",
            "_model_module_version": "1.5.0",
            "value": false,
            "_view_count": null,
            "disabled": false,
            "_view_module_version": "1.5.0",
            "indent": true,
            "description_tooltip": null,
            "_model_module": "@jupyter-widgets/controls",
            "layout": "IPY_MODEL_4e59bb0f05d7412fb4a328fb684c2660"
          }
        },
        "3adfb10d532444b68d64aeb7e11b837c": {
          "model_module": "@jupyter-widgets/output",
          "model_name": "OutputModel",
          "state": {
            "_view_name": "OutputView",
            "msg_id": "",
            "_dom_classes": [],
            "_model_name": "OutputModel",
            "outputs": [],
            "_view_module": "@jupyter-widgets/output",
            "_model_module_version": "1.0.0",
            "_view_count": null,
            "_view_module_version": "1.0.0",
            "layout": "IPY_MODEL_e34d19f6c8dc4c44a7977e10d0128db6",
            "_model_module": "@jupyter-widgets/output"
          }
        },
        "887c18d9ec814cbaaaf935230e45e978": {
          "model_module": "@jupyter-widgets/controls",
          "model_name": "DescriptionStyleModel",
          "state": {
            "_view_name": "StyleView",
            "_model_name": "DescriptionStyleModel",
            "description_width": "",
            "_view_module": "@jupyter-widgets/base",
            "_model_module_version": "1.5.0",
            "_view_count": null,
            "_view_module_version": "1.2.0",
            "_model_module": "@jupyter-widgets/controls"
          }
        },
        "4e59bb0f05d7412fb4a328fb684c2660": {
          "model_module": "@jupyter-widgets/base",
          "model_name": "LayoutModel",
          "state": {
            "_view_name": "LayoutView",
            "grid_template_rows": null,
            "right": null,
            "justify_content": null,
            "_view_module": "@jupyter-widgets/base",
            "overflow": null,
            "_model_module_version": "1.2.0",
            "_view_count": null,
            "flex_flow": null,
            "width": null,
            "min_width": null,
            "border": null,
            "align_items": null,
            "bottom": null,
            "_model_module": "@jupyter-widgets/base",
            "top": null,
            "grid_column": null,
            "overflow_y": null,
            "overflow_x": null,
            "grid_auto_flow": null,
            "grid_area": null,
            "grid_template_columns": null,
            "flex": null,
            "_model_name": "LayoutModel",
            "justify_items": null,
            "grid_row": null,
            "max_height": null,
            "align_content": null,
            "visibility": null,
            "align_self": null,
            "height": null,
            "min_height": null,
            "padding": null,
            "grid_auto_rows": null,
            "grid_gap": null,
            "max_width": null,
            "order": null,
            "_view_module_version": "1.2.0",
            "grid_template_areas": null,
            "object_position": null,
            "object_fit": null,
            "grid_auto_columns": null,
            "margin": null,
            "display": null,
            "left": null
          }
        },
        "e34d19f6c8dc4c44a7977e10d0128db6": {
          "model_module": "@jupyter-widgets/base",
          "model_name": "LayoutModel",
          "state": {
            "_view_name": "LayoutView",
            "grid_template_rows": null,
            "right": null,
            "justify_content": null,
            "_view_module": "@jupyter-widgets/base",
            "overflow": null,
            "_model_module_version": "1.2.0",
            "_view_count": null,
            "flex_flow": null,
            "width": null,
            "min_width": null,
            "border": null,
            "align_items": null,
            "bottom": null,
            "_model_module": "@jupyter-widgets/base",
            "top": null,
            "grid_column": null,
            "overflow_y": null,
            "overflow_x": null,
            "grid_auto_flow": null,
            "grid_area": null,
            "grid_template_columns": null,
            "flex": null,
            "_model_name": "LayoutModel",
            "justify_items": null,
            "grid_row": null,
            "max_height": null,
            "align_content": null,
            "visibility": null,
            "align_self": null,
            "height": null,
            "min_height": null,
            "padding": null,
            "grid_auto_rows": null,
            "grid_gap": null,
            "max_width": null,
            "order": null,
            "_view_module_version": "1.2.0",
            "grid_template_areas": null,
            "object_position": null,
            "object_fit": null,
            "grid_auto_columns": null,
            "margin": null,
            "display": null,
            "left": null
          }
        }
      }
    }
  },
  "cells": [
    {
      "cell_type": "markdown",
      "metadata": {
        "id": "view-in-github",
        "colab_type": "text"
      },
      "source": [
        "<a href=\"https://colab.research.google.com/github/dssp-ethz/DSSP-Illustrations/blob/main/One_Sided_Inversion.ipynb\" target=\"_parent\"><img src=\"https://colab.research.google.com/assets/colab-badge.svg\" alt=\"Open In Colab\"/></a>"
      ]
    },
    {
      "cell_type": "markdown",
      "metadata": {
        "id": "K-F0wIzCftlu"
      },
      "source": [
        "# Right sided and left sided inversion"
      ]
    },
    {
      "cell_type": "markdown",
      "metadata": {
        "id": "KvXPJ7VhgcrG"
      },
      "source": [
        "## Example 1.10 from lecture notes (as of 2020)"
      ]
    },
    {
      "cell_type": "code",
      "metadata": {
        "id": "bYh6Hw4bfJZq"
      },
      "source": [
        "import numpy as np\n",
        "import matplotlib.pyplot as plt\n",
        "%matplotlib inline\n",
        "#-------------------------------------------------------------------------------\n",
        "\n",
        "def h(t):\n",
        "  if t == 1:\n",
        "    return 1\n",
        "  elif t == 2:\n",
        "    return 1/2\n",
        "  return 0\n",
        "\n",
        "def g(t):\n",
        "  if t >= -1:\n",
        "    return (-1/2)**(t+1)\n",
        "  return 0\n",
        "\n",
        "t_values = np.arange(-10,10)\n",
        "\n",
        "def plot_time():\n",
        "  y_values = [h(t) for t in t_values]\n",
        "  y2_values = [g(t) for t in t_values]\n",
        "\n",
        "  fig = plt.figure(figsize=(20, 8))\n",
        "\n",
        "  ax1 = fig.add_subplot(1, 2, 1)\n",
        "  ax1.grid()\n",
        "  ax1.set_title('filter')\n",
        "  ax1.set_xlabel('$k$', fontsize=14)\n",
        "  ax1.set_ylabel('$f[k]$', fontsize=14)\n",
        "  ax1.axis(xmin=t_values[0], xmax=t_values[-1])\n",
        "  ax1.stem(t_values, y_values);\n",
        "\n",
        "  ax2 = fig.add_subplot(1, 2, 2)\n",
        "  ax2.grid()\n",
        "  ax2.set_title('inverted filter')\n",
        "  ax2.set_xlabel('$k$', fontsize=14)\n",
        "  ax2.set_ylabel('$g[k]$', fontsize=14)\n",
        "  ax2.axis(xmin=t_values[0], xmax=t_values[-1])\n",
        "  ax2.stem(t_values, y2_values);"
      ],
      "execution_count": 3,
      "outputs": []
    },
    {
      "cell_type": "code",
      "metadata": {
        "colab": {
          "base_uri": "https://localhost:8080/",
          "height": 572
        },
        "id": "3mmYM38Ti7Cb",
        "outputId": "81f64b88-c3b1-4f2c-d181-ae17f571773e"
      },
      "source": [
        "plot_time()"
      ],
      "execution_count": null,
      "outputs": [
        {
          "output_type": "stream",
          "text": [
            "/usr/local/lib/python3.7/dist-packages/ipykernel_launcher.py:32: UserWarning: In Matplotlib 3.3 individual lines on a stem plot will be added as a LineCollection instead of individual lines. This significantly improves the performance of a stem plot. To remove this warning and switch to the new behaviour, set the \"use_line_collection\" keyword argument to True.\n",
            "/usr/local/lib/python3.7/dist-packages/ipykernel_launcher.py:40: UserWarning: In Matplotlib 3.3 individual lines on a stem plot will be added as a LineCollection instead of individual lines. This significantly improves the performance of a stem plot. To remove this warning and switch to the new behaviour, set the \"use_line_collection\" keyword argument to True.\n"
          ],
          "name": "stderr"
        },
        {
          "output_type": "display_data",
          "data": {
            "image/png": "[encoded data removed]",
            "text/plain": [
              "<Figure size 1440x576 with 2 Axes>"
            ]
          },
          "metadata": {
            "tags": [],
            "needs_background": "light"
          }
        }
      ]
    },
    {
      "cell_type": "markdown",
      "metadata": {
        "id": "NXElGekWjdPd"
      },
      "source": [
        "# Example 1.11 (as of 2020)"
      ]
    },
    {
      "cell_type": "code",
      "metadata": {
        "id": "_JNwBkXSjfYT"
      },
      "source": [
        "import numpy as np\n",
        "import matplotlib.pyplot as plt\n",
        "%matplotlib inline\n",
        "#-------------------------------------------------------------------------------\n",
        "\n",
        "def h(k):\n",
        "  if k == 1:\n",
        "    return 1\n",
        "  elif k == 2:\n",
        "    return 2\n",
        "  return 0\n",
        "\n",
        "def g_r(k):\n",
        "  if k >= -1:\n",
        "    return (-1/2)**(-k)\n",
        "  return 0\n",
        "\n",
        "def g_l(k):\n",
        "  if k < 0:\n",
        "    return -(-1/2)**(-k)\n",
        "  return 0\n",
        "\n",
        "def g_l_delay_truncated(k):\n",
        "  if k < 0:\n",
        "    return 0\n",
        "  return g_l(k-4)\n",
        "\n",
        "k_values = np.arange(-10,10)\n",
        "\n",
        "def plot_time2():\n",
        "  y_values = [h(k) for k in k_values]\n",
        "  y2_values = [g_r(k) for k in k_values]\n",
        "  y3_values = [g_l(k) for k in k_values]\n",
        "  y4_values = [g_l_delay_truncated(k) for k in k_values]\n",
        "\n",
        "  fig = plt.figure(figsize=(20, 14))\n",
        "\n",
        "  ax1 = fig.add_subplot(2, 2, 1)\n",
        "  ax1.grid()\n",
        "  ax1.set_title('signal')\n",
        "  ax1.set_xlabel('$k$', fontsize=14)\n",
        "  ax1.set_ylabel('$f[k]$', fontsize=14)\n",
        "  ax1.axis(xmin=k_values[0], xmax=k_values[-1])\n",
        "  ax1.stem(k_values, y_values);\n",
        "\n",
        "  ax2 = fig.add_subplot(2, 2, 2)\n",
        "  ax2.grid()\n",
        "  ax2.set_title('right sided inversion')\n",
        "  ax2.set_xlabel('$k$', fontsize=14)\n",
        "  ax2.set_ylabel('$g_r[k]$', fontsize=14)\n",
        "  ax2.axis(xmin=k_values[0], xmax=k_values[-1])\n",
        "  ax2.stem(k_values, y2_values);\n",
        "\n",
        "  ax3 = fig.add_subplot(2, 2, 3)\n",
        "  ax3.grid()\n",
        "  ax3.set_title('left sided inversion')\n",
        "  ax3.set_xlabel('$k$', fontsize=14)\n",
        "  ax3.set_ylabel('$g_l[k]$', fontsize=14)\n",
        "  ax3.axis(xmin=k_values[0], xmax=k_values[-1])\n",
        "  ax3.stem(k_values, y3_values);\n",
        "\n",
        "  ax3 = fig.add_subplot(2, 2, 4)\n",
        "  ax3.grid()\n",
        "  ax3.set_title('truncated and causal left sided inversion')\n",
        "  ax3.set_xlabel('$k$', fontsize=14)\n",
        "  ax3.set_ylabel('$truncated\\ delayed\\ g_l[k]$', fontsize=14)\n",
        "  ax3.axis(xmin=k_values[0], xmax=k_values[-1])\n",
        "  ax3.stem(k_values, y4_values);"
      ],
      "execution_count": 4,
      "outputs": []
    },
    {
      "cell_type": "code",
      "metadata": {
        "colab": {
          "base_uri": "https://localhost:8080/",
          "height": 932
        },
        "id": "7PsMJzmAjhin",
        "outputId": "4bdcebd6-707d-4d6d-a8fd-4e796767683a"
      },
      "source": [
        "plot_time2()"
      ],
      "execution_count": null,
      "outputs": [
        {
          "output_type": "stream",
          "text": [
            "/usr/local/lib/python3.7/dist-packages/ipykernel_launcher.py:44: UserWarning: In Matplotlib 3.3 individual lines on a stem plot will be added as a LineCollection instead of individual lines. This significantly improves the performance of a stem plot. To remove this warning and switch to the new behaviour, set the \"use_line_collection\" keyword argument to True.\n",
            "/usr/local/lib/python3.7/dist-packages/ipykernel_launcher.py:52: UserWarning: In Matplotlib 3.3 individual lines on a stem plot will be added as a LineCollection instead of individual lines. This significantly improves the performance of a stem plot. To remove this warning and switch to the new behaviour, set the \"use_line_collection\" keyword argument to True.\n",
            "/usr/local/lib/python3.7/dist-packages/ipykernel_launcher.py:60: UserWarning: In Matplotlib 3.3 individual lines on a stem plot will be added as a LineCollection instead of individual lines. This significantly improves the performance of a stem plot. To remove this warning and switch to the new behaviour, set the \"use_line_collection\" keyword argument to True.\n",
            "/usr/local/lib/python3.7/dist-packages/ipykernel_launcher.py:68: UserWarning: In Matplotlib 3.3 individual lines on a stem plot will be added as a LineCollection instead of individual lines. This significantly improves the performance of a stem plot. To remove this warning and switch to the new behaviour, set the \"use_line_collection\" keyword argument to True.\n"
          ],
          "name": "stderr"
        },
        {
          "output_type": "display_data",
          "data": {
            "image/png": "[encoded data removed]",
            "text/plain": [
              "<Figure size 1440x1008 with 4 Axes>"
            ]
          },
          "metadata": {
            "tags": [],
            "needs_background": "light"
          }
        }
      ]
    },
    {
      "cell_type": "markdown",
      "metadata": {
        "id": "qry831t_maym"
      },
      "source": [
        "# Right Sided Inversion Formula"
      ]
    },
    {
      "cell_type": "code",
      "metadata": {
        "colab": {
          "base_uri": "https://localhost:8080/"
        },
        "id": "Oo88bnAFLsTS",
        "outputId": "bf9eede1-f22c-4ca5-f00c-bf02e0ae91a3"
      },
      "source": [
        "pip install pydsm"
      ],
      "execution_count": 55,
      "outputs": [
        {
          "output_type": "stream",
          "text": [
            "Requirement already satisfied: pydsm in /usr/local/lib/python3.7/dist-packages (0.14.0.0)\n"
          ],
          "name": "stdout"
        }
      ]
    },
    {
      "cell_type": "code",
      "metadata": {
        "colab": {
          "base_uri": "https://localhost:8080/"
        },
        "id": "5-2j3gWJLmBX",
        "outputId": "a69decf0-543d-49e2-f083-a817ee13ed75"
      },
      "source": [
        "!gdown https://drive.google.com/uc?id=1-nxgfNaJPeB88X_kE5T2xDqiGI5T2I1u"
      ],
      "execution_count": 56,
      "outputs": [
        {
          "output_type": "stream",
          "text": [
            "Downloading...\n",
            "From: https://drive.google.com/uc?id=1-nxgfNaJPeB88X_kE5T2xDqiGI5T2I1u\n",
            "To: /content/signals.py\n",
            "\r  0% 0.00/6.53k [00:00<?, ?B/s]\r100% 6.53k/6.53k [00:00<00:00, 5.44MB/s]\n"
          ],
          "name": "stdout"
        }
      ]
    },
    {
      "cell_type": "code",
      "metadata": {
        "id": "eEN32DwsLy2f"
      },
      "source": [
        "import signals\n",
        "import numpy as np\n",
        "import ipywidgets as widgets\n",
        "import matplotlib.pyplot as plt"
      ],
      "execution_count": 57,
      "outputs": []
    },
    {
      "cell_type": "markdown",
      "metadata": {
        "id": "MDSxxLeFmheo"
      },
      "source": [
        "Suppose $h[k]$ is a function describing an arbitrary right sided signal. We obtain the right sided inversion with the algorithm on page 14 (as of 2020). To avoid duplicate computation the technique of memoization is used here. The offset corresponds to $m$ in the lecture notes and must first be set before computing the right sided inversion filter."
      ]
    },
    {
      "cell_type": "code",
      "metadata": {
        "id": "MJvEmsWtmc8L"
      },
      "source": [
        "#FILTER INVERSION ALGORITHM\n",
        "#assumes h() is a well-defined function\n",
        "offset = 0\n",
        "mem_r = {}\n",
        "\n",
        "def g_right_sided_set_init():\n",
        "  global offset, mem_r\n",
        "  offset = 0 #resets if forgot to do so before\n",
        "  mem_r = {}\n",
        "\n",
        "  while h(offset) == 0:\n",
        "    offset += 1\n",
        "  while h(offset) != 0:\n",
        "    offset -= 1\n",
        "  offset += 1\n",
        "\n",
        "def g_right_sided_at(idx):\n",
        "  if idx in mem_r:\n",
        "    return mem_r[idx]\n",
        "\n",
        "  if idx < -offset:\n",
        "    mem_r[idx] = 0\n",
        "\n",
        "  elif idx == -offset:\n",
        "    mem_r[idx] = 1/h(offset)\n",
        "  \n",
        "  else:\n",
        "    sum = 0\n",
        "    for i in range(0, idx-offset): #0, ..., k-1\n",
        "      sum += h(idx-i) * g_right_sided_at(i)\n",
        "    mem_r[idx] = -sum/h(offset)\n",
        "\n",
        "  return mem_r[idx]"
      ],
      "execution_count": 67,
      "outputs": []
    },
    {
      "cell_type": "markdown",
      "metadata": {
        "id": "KmpTP0D7NVZI"
      },
      "source": [
        "## Applying the inversion formula to a signal"
      ]
    },
    {
      "cell_type": "markdown",
      "metadata": {
        "id": "urvGmOKELHtb"
      },
      "source": [
        "You may select any signal to test the inversion formula. You will see that the inverse signal need not be stable."
      ]
    },
    {
      "cell_type": "code",
      "metadata": {
        "colab": {
          "base_uri": "https://localhost:8080/",
          "height": 146,
          "referenced_widgets": [
            "9aadc795ffd14d02a1a7524a46652a62",
            "9773fd70e90c406198613697afe04640",
            "0f249579f16a4f8fb500f6f6bd06466b",
            "3f4d8c311a624835ae6ab9d049d6ba3a",
            "a039ff2329a74535829b525295863e8d",
            "a0d640011c55415eb2dee109d5c6d616",
            "ab4d211970c34c8aa4968dfe6fbc57c8",
            "77cc641067dc40b89b2aa834b4fdec47",
            "8da056b94b2a48539914f796f1e3dc68",
            "565e952238474b279197525d094301c9",
            "0f8aefb0622f4819bed45ff9db1c19e0",
            "417735e0d8bf47a693ab65787525113d",
            "91ab85ff52d24ace87592863c93e3ba2",
            "c8a93c59d3424749b35aa86e419bfa91",
            "4d72d30c454b408184d6b000c028536f",
            "ba3c8b685ce149b19728d2ac4a8adbb7",
            "3adfb10d532444b68d64aeb7e11b837c",
            "887c18d9ec814cbaaaf935230e45e978",
            "4e59bb0f05d7412fb4a328fb684c2660",
            "e34d19f6c8dc4c44a7977e10d0128db6"
          ]
        },
        "id": "JrAYRk0ULItT",
        "outputId": "97c9a643-d21b-4163-c936-0c04ee9ad0d2"
      },
      "source": [
        "signals.widget()\n",
        "\n",
        "def update_parameters(logPlot):\n",
        "  global logPlotG\n",
        "  logPlotG = logPlot\n",
        "\n",
        "widgets.interact(update_parameters,\n",
        "  logPlot = widgets.Checkbox(\n",
        "    value=False,\n",
        "    description='logarithmic plot')\n",
        ");"
      ],
      "execution_count": 59,
      "outputs": [
        {
          "output_type": "display_data",
          "data": {
            "application/vnd.jupyter.widget-view+json": {
              "model_id": "9aadc795ffd14d02a1a7524a46652a62",
              "version_minor": 0,
              "version_major": 2
            },
            "text/plain": [
              "interactive(children=(Dropdown(description='signal type', options=('unit step', 'unit impulse', 'ramp', 'expon…"
            ]
          },
          "metadata": {
            "tags": []
          }
        },
        {
          "output_type": "display_data",
          "data": {
            "application/vnd.jupyter.widget-view+json": {
              "model_id": "c8a93c59d3424749b35aa86e419bfa91",
              "version_minor": 0,
              "version_major": 2
            },
            "text/plain": [
              "interactive(children=(Checkbox(value=False, description='logarithmic plot'), Output()), _dom_classes=('widget-…"
            ]
          },
          "metadata": {
            "tags": []
          }
        }
      ]
    },
    {
      "cell_type": "code",
      "metadata": {
        "colab": {
          "base_uri": "https://localhost:8080/",
          "height": 62
        },
        "id": "uJx0SZyfL9mU",
        "outputId": "7c576505-282a-4072-85f4-8ef70489bff9"
      },
      "source": [
        "signals.display_signal_selection(continuous=False) #do not be confused by u[k], it is actually h[k]"
      ],
      "execution_count": 62,
      "outputs": [
        {
          "output_type": "display_data",
          "data": {
            "image/png": "[encoded data removed]",
            "text/plain": [
              "<Figure size 640x32 with 1 Axes>"
            ]
          },
          "metadata": {
            "tags": [],
            "needs_background": "light"
          }
        }
      ]
    },
    {
      "cell_type": "markdown",
      "metadata": {
        "id": "IXG7ORkPVn8Q"
      },
      "source": [
        "Make sure each time you update the signal you run the graph plotting code below to read in the new signal."
      ]
    },
    {
      "cell_type": "code",
      "metadata": {
        "colab": {
          "base_uri": "https://localhost:8080/",
          "height": 468
        },
        "id": "r35TQiPKMV3z",
        "outputId": "b3c92618-069a-4da8-f776-96d6f0102194"
      },
      "source": [
        "time_values = np.arange(3*np.min(signals.nG), 3*np.max(signals.nG)+3)\n",
        "h_values = signals.time_domain_signal_long()\n",
        "\n",
        "fig = plt.figure(figsize=(20, 8))\n",
        "\n",
        "ax1 = fig.add_subplot(1, 1, 1)\n",
        "ax1.grid()\n",
        "ax1.set_title('original signal')\n",
        "ax1.set_xlabel('$k$', fontsize=14)\n",
        "ax1.set_ylabel('$h[k]$', fontsize=14)\n",
        "ax1.axis(xmin=time_values[0], xmax=time_values[-1])\n",
        "if logPlotG == False:\n",
        "  ax1.axis(ymin=-3, ymax=3)\n",
        "  ax1.plot(time_values, h_values, alpha=0.5, marker='o', markersize=8);\n",
        "else:\n",
        "  ax1.axis(ymin=0.1, ymax=3)\n",
        "  ax1.semilogy(time_values, h_values, alpha=0.5, marker='o', markersize=8);"
      ],
      "execution_count": 63,
      "outputs": [
        {
          "output_type": "display_data",
          "data": {
            "image/png": "[encoded data removed]",
            "text/plain": [
              "<Figure size 1440x576 with 1 Axes>"
            ]
          },
          "metadata": {
            "tags": [],
            "needs_background": "light"
          }
        }
      ]
    },
    {
      "cell_type": "markdown",
      "metadata": {
        "id": "oCoh1otiriVX"
      },
      "source": [
        "Let us apply the right sided inversion to the filtered signal."
      ]
    },
    {
      "cell_type": "code",
      "metadata": {
        "id": "Z6xzztOgrhxb"
      },
      "source": [
        "def h(k):#used for function to compute inverse\n",
        "  if k in list(time_values):\n",
        "    return h_values[list(time_values).index(k)]\n",
        "  else:\n",
        "    return 0\n",
        "\n",
        "g_right_sided_set_init()\n",
        "g_values = [g_right_sided_at(t) for t in time_values]"
      ],
      "execution_count": 75,
      "outputs": []
    },
    {
      "cell_type": "code",
      "metadata": {
        "colab": {
          "base_uri": "https://localhost:8080/",
          "height": 467
        },
        "id": "aBXtDPs4MP6Q",
        "outputId": "3f0bed66-97e6-4b67-f8b2-40a32b2f3c2a"
      },
      "source": [
        "fig = plt.figure(figsize=(20, 8))\n",
        "\n",
        "ax2 = fig.add_subplot(1, 1, 1)\n",
        "ax2.grid()\n",
        "ax2.set_title('inverted signal')\n",
        "ax2.set_xlabel('$k$', fontsize=14)\n",
        "ax2.set_ylabel('$g[k]$', fontsize=14)\n",
        "ax2.axis(xmin=time_values[0], xmax=time_values[-1])\n",
        "if logPlotG == False:\n",
        "  ax2.axis(ymin=-3, ymax=3)\n",
        "  ax2.plot(time_values, g_values, alpha=0.5, marker='o', markersize=8);\n",
        "else:\n",
        "  ax2.axis(ymin=0.1, ymax=3)\n",
        "  ax2.semilogy(time_values, g_values, alpha=0.5, marker='o', markersize=8);"
      ],
      "execution_count": 76,
      "outputs": [
        {
          "output_type": "display_data",
          "data": {
            "image/png": "[encoded data removed]",
            "text/plain": [
              "<Figure size 1440x576 with 1 Axes>"
            ]
          },
          "metadata": {
            "tags": [],
            "needs_background": "light"
          }
        }
      ]
    }
  ]
}