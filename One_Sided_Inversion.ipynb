{
  "nbformat": 4,
  "nbformat_minor": 0,
  "metadata": {
    "colab": {
      "name": "One-Sided Inversion",
      "provenance": [],
      "collapsed_sections": [],
      "authorship_tag": "ABX9TyNSjcSihqs/5TVe89AzCXif",
      "include_colab_link": true
    },
    "kernelspec": {
      "name": "python3",
      "display_name": "Python 3"
    },
    "language_info": {
      "name": "python"
    },
    "widgets": {
      "application/vnd.jupyter.widget-state+json": {
        "2ea16aadcca04c02a506f081fdbc74a1": {
          "model_module": "@jupyter-widgets/controls",
          "model_name": "VBoxModel",
          "model_module_version": "1.5.0",
          "state": {
            "_view_name": "VBoxView",
            "_dom_classes": [
              "widget-interact"
            ],
            "_model_name": "VBoxModel",
            "_view_module": "@jupyter-widgets/controls",
            "_model_module_version": "1.5.0",
            "_view_count": null,
            "_view_module_version": "1.5.0",
            "box_style": "",
            "layout": "IPY_MODEL_38272a788632461e8077e340c5695049",
            "_model_module": "@jupyter-widgets/controls",
            "children": [
              "IPY_MODEL_b017c4b9af9d4c14a4ad07a36e3f3457",
              "IPY_MODEL_56875003998449559ac7c39eee3ad3f0",
              "IPY_MODEL_f607f85de6ce439c968d13c2c8c972ac",
              "IPY_MODEL_89a7a0275fe3436b8a497b68f3aadf7c"
            ]
          }
        },
        "38272a788632461e8077e340c5695049": {
          "model_module": "@jupyter-widgets/base",
          "model_name": "LayoutModel",
          "model_module_version": "1.2.0",
          "state": {
            "_view_name": "LayoutView",
            "grid_template_rows": null,
            "right": null,
            "justify_content": null,
            "_view_module": "@jupyter-widgets/base",
            "overflow": null,
            "_model_module_version": "1.2.0",
            "_view_count": null,
            "flex_flow": null,
            "width": null,
            "min_width": null,
            "border": null,
            "align_items": null,
            "bottom": null,
            "_model_module": "@jupyter-widgets/base",
            "top": null,
            "grid_column": null,
            "overflow_y": null,
            "overflow_x": null,
            "grid_auto_flow": null,
            "grid_area": null,
            "grid_template_columns": null,
            "flex": null,
            "_model_name": "LayoutModel",
            "justify_items": null,
            "grid_row": null,
            "max_height": null,
            "align_content": null,
            "visibility": null,
            "align_self": null,
            "height": null,
            "min_height": null,
            "padding": null,
            "grid_auto_rows": null,
            "grid_gap": null,
            "max_width": null,
            "order": null,
            "_view_module_version": "1.2.0",
            "grid_template_areas": null,
            "object_position": null,
            "object_fit": null,
            "grid_auto_columns": null,
            "margin": null,
            "display": null,
            "left": null
          }
        },
        "b017c4b9af9d4c14a4ad07a36e3f3457": {
          "model_module": "@jupyter-widgets/controls",
          "model_name": "DropdownModel",
          "model_module_version": "1.5.0",
          "state": {
            "_options_labels": [
              "unit step",
              "unit impulse",
              "ramp",
              "exponential",
              "sinus",
              "sinus squared",
              "causal arbitrary"
            ],
            "_view_name": "DropdownView",
            "style": "IPY_MODEL_ac58c81f80c64636b2fcb9890c983919",
            "_dom_classes": [],
            "description": "signal type",
            "_model_name": "DropdownModel",
            "index": 6,
            "_view_module": "@jupyter-widgets/controls",
            "_model_module_version": "1.5.0",
            "_view_count": null,
            "disabled": false,
            "_view_module_version": "1.5.0",
            "description_tooltip": null,
            "_model_module": "@jupyter-widgets/controls",
            "layout": "IPY_MODEL_c2b5278e78a047d0906d81f1732990a8"
          }
        },
        "56875003998449559ac7c39eee3ad3f0": {
          "model_module": "@jupyter-widgets/controls",
          "model_name": "IntSliderModel",
          "model_module_version": "1.5.0",
          "state": {
            "_view_name": "IntSliderView",
            "style": "IPY_MODEL_bf064d2d538c4e29bdb1a98e7c5acca3",
            "_dom_classes": [],
            "description": "parameter",
            "step": 1,
            "_model_name": "IntSliderModel",
            "orientation": "horizontal",
            "max": 10,
            "_view_module": "@jupyter-widgets/controls",
            "_model_module_version": "1.5.0",
            "value": 1,
            "_view_count": null,
            "disabled": false,
            "_view_module_version": "1.5.0",
            "min": -10,
            "continuous_update": true,
            "readout_format": "d",
            "description_tooltip": null,
            "readout": true,
            "_model_module": "@jupyter-widgets/controls",
            "layout": "IPY_MODEL_1e036dfe583e44bfbe55e939cebfa600"
          }
        },
        "f607f85de6ce439c968d13c2c8c972ac": {
          "model_module": "@jupyter-widgets/controls",
          "model_name": "TextModel",
          "model_module_version": "1.5.0",
          "state": {
            "_view_name": "TextView",
            "style": "IPY_MODEL_7fc5138a3975427a9b1130e02e124b8e",
            "_dom_classes": [],
            "description": "causal signal",
            "_model_name": "TextModel",
            "placeholder": "​",
            "_view_module": "@jupyter-widgets/controls",
            "_model_module_version": "1.5.0",
            "value": "1 0.5",
            "_view_count": null,
            "disabled": false,
            "_view_module_version": "1.5.0",
            "continuous_update": true,
            "description_tooltip": null,
            "_model_module": "@jupyter-widgets/controls",
            "layout": "IPY_MODEL_26f4020fb6af48a4b41d9f6c262a0b9d"
          }
        },
        "89a7a0275fe3436b8a497b68f3aadf7c": {
          "model_module": "@jupyter-widgets/output",
          "model_name": "OutputModel",
          "model_module_version": "1.0.0",
          "state": {
            "_view_name": "OutputView",
            "msg_id": "",
            "_dom_classes": [],
            "_model_name": "OutputModel",
            "outputs": [],
            "_view_module": "@jupyter-widgets/output",
            "_model_module_version": "1.0.0",
            "_view_count": null,
            "_view_module_version": "1.0.0",
            "layout": "IPY_MODEL_15758027315c47a4b01f9575624dde41",
            "_model_module": "@jupyter-widgets/output"
          }
        },
        "ac58c81f80c64636b2fcb9890c983919": {
          "model_module": "@jupyter-widgets/controls",
          "model_name": "DescriptionStyleModel",
          "model_module_version": "1.5.0",
          "state": {
            "_view_name": "StyleView",
            "_model_name": "DescriptionStyleModel",
            "description_width": "",
            "_view_module": "@jupyter-widgets/base",
            "_model_module_version": "1.5.0",
            "_view_count": null,
            "_view_module_version": "1.2.0",
            "_model_module": "@jupyter-widgets/controls"
          }
        },
        "c2b5278e78a047d0906d81f1732990a8": {
          "model_module": "@jupyter-widgets/base",
          "model_name": "LayoutModel",
          "model_module_version": "1.2.0",
          "state": {
            "_view_name": "LayoutView",
            "grid_template_rows": null,
            "right": null,
            "justify_content": null,
            "_view_module": "@jupyter-widgets/base",
            "overflow": null,
            "_model_module_version": "1.2.0",
            "_view_count": null,
            "flex_flow": null,
            "width": null,
            "min_width": null,
            "border": null,
            "align_items": null,
            "bottom": null,
            "_model_module": "@jupyter-widgets/base",
            "top": null,
            "grid_column": null,
            "overflow_y": null,
            "overflow_x": null,
            "grid_auto_flow": null,
            "grid_area": null,
            "grid_template_columns": null,
            "flex": null,
            "_model_name": "LayoutModel",
            "justify_items": null,
            "grid_row": null,
            "max_height": null,
            "align_content": null,
            "visibility": null,
            "align_self": null,
            "height": null,
            "min_height": null,
            "padding": null,
            "grid_auto_rows": null,
            "grid_gap": null,
            "max_width": null,
            "order": null,
            "_view_module_version": "1.2.0",
            "grid_template_areas": null,
            "object_position": null,
            "object_fit": null,
            "grid_auto_columns": null,
            "margin": null,
            "display": null,
            "left": null
          }
        },
        "bf064d2d538c4e29bdb1a98e7c5acca3": {
          "model_module": "@jupyter-widgets/controls",
          "model_name": "SliderStyleModel",
          "model_module_version": "1.5.0",
          "state": {
            "_view_name": "StyleView",
            "handle_color": null,
            "_model_name": "SliderStyleModel",
            "description_width": "",
            "_view_module": "@jupyter-widgets/base",
            "_model_module_version": "1.5.0",
            "_view_count": null,
            "_view_module_version": "1.2.0",
            "_model_module": "@jupyter-widgets/controls"
          }
        },
        "1e036dfe583e44bfbe55e939cebfa600": {
          "model_module": "@jupyter-widgets/base",
          "model_name": "LayoutModel",
          "model_module_version": "1.2.0",
          "state": {
            "_view_name": "LayoutView",
            "grid_template_rows": null,
            "right": null,
            "justify_content": null,
            "_view_module": "@jupyter-widgets/base",
            "overflow": null,
            "_model_module_version": "1.2.0",
            "_view_count": null,
            "flex_flow": null,
            "width": null,
            "min_width": null,
            "border": null,
            "align_items": null,
            "bottom": null,
            "_model_module": "@jupyter-widgets/base",
            "top": null,
            "grid_column": null,
            "overflow_y": null,
            "overflow_x": null,
            "grid_auto_flow": null,
            "grid_area": null,
            "grid_template_columns": null,
            "flex": null,
            "_model_name": "LayoutModel",
            "justify_items": null,
            "grid_row": null,
            "max_height": null,
            "align_content": null,
            "visibility": null,
            "align_self": null,
            "height": null,
            "min_height": null,
            "padding": null,
            "grid_auto_rows": null,
            "grid_gap": null,
            "max_width": null,
            "order": null,
            "_view_module_version": "1.2.0",
            "grid_template_areas": null,
            "object_position": null,
            "object_fit": null,
            "grid_auto_columns": null,
            "margin": null,
            "display": null,
            "left": null
          }
        },
        "7fc5138a3975427a9b1130e02e124b8e": {
          "model_module": "@jupyter-widgets/controls",
          "model_name": "DescriptionStyleModel",
          "model_module_version": "1.5.0",
          "state": {
            "_view_name": "StyleView",
            "_model_name": "DescriptionStyleModel",
            "description_width": "",
            "_view_module": "@jupyter-widgets/base",
            "_model_module_version": "1.5.0",
            "_view_count": null,
            "_view_module_version": "1.2.0",
            "_model_module": "@jupyter-widgets/controls"
          }
        },
        "26f4020fb6af48a4b41d9f6c262a0b9d": {
          "model_module": "@jupyter-widgets/base",
          "model_name": "LayoutModel",
          "model_module_version": "1.2.0",
          "state": {
            "_view_name": "LayoutView",
            "grid_template_rows": null,
            "right": null,
            "justify_content": null,
            "_view_module": "@jupyter-widgets/base",
            "overflow": null,
            "_model_module_version": "1.2.0",
            "_view_count": null,
            "flex_flow": null,
            "width": null,
            "min_width": null,
            "border": null,
            "align_items": null,
            "bottom": null,
            "_model_module": "@jupyter-widgets/base",
            "top": null,
            "grid_column": null,
            "overflow_y": null,
            "overflow_x": null,
            "grid_auto_flow": null,
            "grid_area": null,
            "grid_template_columns": null,
            "flex": null,
            "_model_name": "LayoutModel",
            "justify_items": null,
            "grid_row": null,
            "max_height": null,
            "align_content": null,
            "visibility": null,
            "align_self": null,
            "height": null,
            "min_height": null,
            "padding": null,
            "grid_auto_rows": null,
            "grid_gap": null,
            "max_width": null,
            "order": null,
            "_view_module_version": "1.2.0",
            "grid_template_areas": null,
            "object_position": null,
            "object_fit": null,
            "grid_auto_columns": null,
            "margin": null,
            "display": null,
            "left": null
          }
        },
        "15758027315c47a4b01f9575624dde41": {
          "model_module": "@jupyter-widgets/base",
          "model_name": "LayoutModel",
          "model_module_version": "1.2.0",
          "state": {
            "_view_name": "LayoutView",
            "grid_template_rows": null,
            "right": null,
            "justify_content": null,
            "_view_module": "@jupyter-widgets/base",
            "overflow": null,
            "_model_module_version": "1.2.0",
            "_view_count": null,
            "flex_flow": null,
            "width": null,
            "min_width": null,
            "border": null,
            "align_items": null,
            "bottom": null,
            "_model_module": "@jupyter-widgets/base",
            "top": null,
            "grid_column": null,
            "overflow_y": null,
            "overflow_x": null,
            "grid_auto_flow": null,
            "grid_area": null,
            "grid_template_columns": null,
            "flex": null,
            "_model_name": "LayoutModel",
            "justify_items": null,
            "grid_row": null,
            "max_height": null,
            "align_content": null,
            "visibility": null,
            "align_self": null,
            "height": null,
            "min_height": null,
            "padding": null,
            "grid_auto_rows": null,
            "grid_gap": null,
            "max_width": null,
            "order": null,
            "_view_module_version": "1.2.0",
            "grid_template_areas": null,
            "object_position": null,
            "object_fit": null,
            "grid_auto_columns": null,
            "margin": null,
            "display": null,
            "left": null
          }
        },
        "2c2e6251a3954248a68f6dfe6ca2c5ac": {
          "model_module": "@jupyter-widgets/controls",
          "model_name": "VBoxModel",
          "model_module_version": "1.5.0",
          "state": {
            "_view_name": "VBoxView",
            "_dom_classes": [
              "widget-interact"
            ],
            "_model_name": "VBoxModel",
            "_view_module": "@jupyter-widgets/controls",
            "_model_module_version": "1.5.0",
            "_view_count": null,
            "_view_module_version": "1.5.0",
            "box_style": "",
            "layout": "IPY_MODEL_723b9545c2df415f86776672b18f7ca3",
            "_model_module": "@jupyter-widgets/controls",
            "children": [
              "IPY_MODEL_c466a7a707534011b85d82f6c81eb995",
              "IPY_MODEL_943343f3d2284757a83c039ba0ef08c9"
            ]
          }
        },
        "723b9545c2df415f86776672b18f7ca3": {
          "model_module": "@jupyter-widgets/base",
          "model_name": "LayoutModel",
          "model_module_version": "1.2.0",
          "state": {
            "_view_name": "LayoutView",
            "grid_template_rows": null,
            "right": null,
            "justify_content": null,
            "_view_module": "@jupyter-widgets/base",
            "overflow": null,
            "_model_module_version": "1.2.0",
            "_view_count": null,
            "flex_flow": null,
            "width": null,
            "min_width": null,
            "border": null,
            "align_items": null,
            "bottom": null,
            "_model_module": "@jupyter-widgets/base",
            "top": null,
            "grid_column": null,
            "overflow_y": null,
            "overflow_x": null,
            "grid_auto_flow": null,
            "grid_area": null,
            "grid_template_columns": null,
            "flex": null,
            "_model_name": "LayoutModel",
            "justify_items": null,
            "grid_row": null,
            "max_height": null,
            "align_content": null,
            "visibility": null,
            "align_self": null,
            "height": null,
            "min_height": null,
            "padding": null,
            "grid_auto_rows": null,
            "grid_gap": null,
            "max_width": null,
            "order": null,
            "_view_module_version": "1.2.0",
            "grid_template_areas": null,
            "object_position": null,
            "object_fit": null,
            "grid_auto_columns": null,
            "margin": null,
            "display": null,
            "left": null
          }
        },
        "c466a7a707534011b85d82f6c81eb995": {
          "model_module": "@jupyter-widgets/controls",
          "model_name": "CheckboxModel",
          "model_module_version": "1.5.0",
          "state": {
            "_view_name": "CheckboxView",
            "style": "IPY_MODEL_366c2cc8c41b44128cc52d7e71f4a534",
            "_dom_classes": [],
            "description": "logarithmic plot",
            "_model_name": "CheckboxModel",
            "_view_module": "@jupyter-widgets/controls",
            "_model_module_version": "1.5.0",
            "value": false,
            "_view_count": null,
            "disabled": false,
            "_view_module_version": "1.5.0",
            "indent": true,
            "description_tooltip": null,
            "_model_module": "@jupyter-widgets/controls",
            "layout": "IPY_MODEL_301dae28c4a34a47a4ce1c1c1450ba72"
          }
        },
        "943343f3d2284757a83c039ba0ef08c9": {
          "model_module": "@jupyter-widgets/output",
          "model_name": "OutputModel",
          "model_module_version": "1.0.0",
          "state": {
            "_view_name": "OutputView",
            "msg_id": "",
            "_dom_classes": [],
            "_model_name": "OutputModel",
            "outputs": [],
            "_view_module": "@jupyter-widgets/output",
            "_model_module_version": "1.0.0",
            "_view_count": null,
            "_view_module_version": "1.0.0",
            "layout": "IPY_MODEL_dfb4292cff5f4931b10ac2fabf3cb38d",
            "_model_module": "@jupyter-widgets/output"
          }
        },
        "366c2cc8c41b44128cc52d7e71f4a534": {
          "model_module": "@jupyter-widgets/controls",
          "model_name": "DescriptionStyleModel",
          "model_module_version": "1.5.0",
          "state": {
            "_view_name": "StyleView",
            "_model_name": "DescriptionStyleModel",
            "description_width": "",
            "_view_module": "@jupyter-widgets/base",
            "_model_module_version": "1.5.0",
            "_view_count": null,
            "_view_module_version": "1.2.0",
            "_model_module": "@jupyter-widgets/controls"
          }
        },
        "301dae28c4a34a47a4ce1c1c1450ba72": {
          "model_module": "@jupyter-widgets/base",
          "model_name": "LayoutModel",
          "model_module_version": "1.2.0",
          "state": {
            "_view_name": "LayoutView",
            "grid_template_rows": null,
            "right": null,
            "justify_content": null,
            "_view_module": "@jupyter-widgets/base",
            "overflow": null,
            "_model_module_version": "1.2.0",
            "_view_count": null,
            "flex_flow": null,
            "width": null,
            "min_width": null,
            "border": null,
            "align_items": null,
            "bottom": null,
            "_model_module": "@jupyter-widgets/base",
            "top": null,
            "grid_column": null,
            "overflow_y": null,
            "overflow_x": null,
            "grid_auto_flow": null,
            "grid_area": null,
            "grid_template_columns": null,
            "flex": null,
            "_model_name": "LayoutModel",
            "justify_items": null,
            "grid_row": null,
            "max_height": null,
            "align_content": null,
            "visibility": null,
            "align_self": null,
            "height": null,
            "min_height": null,
            "padding": null,
            "grid_auto_rows": null,
            "grid_gap": null,
            "max_width": null,
            "order": null,
            "_view_module_version": "1.2.0",
            "grid_template_areas": null,
            "object_position": null,
            "object_fit": null,
            "grid_auto_columns": null,
            "margin": null,
            "display": null,
            "left": null
          }
        },
        "dfb4292cff5f4931b10ac2fabf3cb38d": {
          "model_module": "@jupyter-widgets/base",
          "model_name": "LayoutModel",
          "model_module_version": "1.2.0",
          "state": {
            "_view_name": "LayoutView",
            "grid_template_rows": null,
            "right": null,
            "justify_content": null,
            "_view_module": "@jupyter-widgets/base",
            "overflow": null,
            "_model_module_version": "1.2.0",
            "_view_count": null,
            "flex_flow": null,
            "width": null,
            "min_width": null,
            "border": null,
            "align_items": null,
            "bottom": null,
            "_model_module": "@jupyter-widgets/base",
            "top": null,
            "grid_column": null,
            "overflow_y": null,
            "overflow_x": null,
            "grid_auto_flow": null,
            "grid_area": null,
            "grid_template_columns": null,
            "flex": null,
            "_model_name": "LayoutModel",
            "justify_items": null,
            "grid_row": null,
            "max_height": null,
            "align_content": null,
            "visibility": null,
            "align_self": null,
            "height": null,
            "min_height": null,
            "padding": null,
            "grid_auto_rows": null,
            "grid_gap": null,
            "max_width": null,
            "order": null,
            "_view_module_version": "1.2.0",
            "grid_template_areas": null,
            "object_position": null,
            "object_fit": null,
            "grid_auto_columns": null,
            "margin": null,
            "display": null,
            "left": null
          }
        }
      }
    }
  },
  "cells": [
    {
      "cell_type": "markdown",
      "metadata": {
        "id": "view-in-github",
        "colab_type": "text"
      },
      "source": [
        "<a href=\"https://colab.research.google.com/github/dssp-ethz/DSSP-Illustrations/blob/main/One_Sided_Inversion.ipynb\" target=\"_parent\"><img src=\"https://colab.research.google.com/assets/colab-badge.svg\" alt=\"Open In Colab\"/></a>"
      ]
    },
    {
      "cell_type": "markdown",
      "metadata": {
        "id": "K-F0wIzCftlu"
      },
      "source": [
        "# Right sided and left sided inversion"
      ]
    },
    {
      "cell_type": "markdown",
      "metadata": {
        "id": "KvXPJ7VhgcrG"
      },
      "source": [
        "## Example 1.10 from lecture notes (as of 2020)"
      ]
    },
    {
      "cell_type": "code",
      "metadata": {
        "id": "bYh6Hw4bfJZq"
      },
      "source": [
        "import numpy as np\n",
        "import matplotlib.pyplot as plt\n",
        "%matplotlib inline\n",
        "#-------------------------------------------------------------------------------\n",
        "\n",
        "def h(t):\n",
        "  if t == 1:\n",
        "    return 1\n",
        "  elif t == 2:\n",
        "    return 1/2\n",
        "  return 0\n",
        "\n",
        "def g(t):\n",
        "  if t >= -1:\n",
        "    return (-1/2)**(t+1)\n",
        "  return 0\n",
        "\n",
        "t_values = np.arange(-10,10)\n",
        "\n",
        "def plot_time():\n",
        "  y_values = [h(t) for t in t_values]\n",
        "  y2_values = [g(t) for t in t_values]\n",
        "\n",
        "  fig = plt.figure(figsize=(20, 8))\n",
        "\n",
        "  ax1 = fig.add_subplot(1, 2, 1)\n",
        "  ax1.grid()\n",
        "  ax1.set_title('filter')\n",
        "  ax1.set_xlabel('$k$', fontsize=14)\n",
        "  ax1.set_ylabel('$f[k]$', fontsize=14)\n",
        "  ax1.axis(xmin=t_values[0], xmax=t_values[-1])\n",
        "  ax1.stem(t_values, y_values);\n",
        "\n",
        "  ax2 = fig.add_subplot(1, 2, 2)\n",
        "  ax2.grid()\n",
        "  ax2.set_title('inverted filter')\n",
        "  ax2.set_xlabel('$k$', fontsize=14)\n",
        "  ax2.set_ylabel('$g[k]$', fontsize=14)\n",
        "  ax2.axis(xmin=t_values[0], xmax=t_values[-1])\n",
        "  ax2.stem(t_values, y2_values);"
      ],
      "execution_count": 66,
      "outputs": []
    },
    {
      "cell_type": "code",
      "metadata": {
        "colab": {
          "base_uri": "https://localhost:8080/",
          "height": 382
        },
        "id": "3mmYM38Ti7Cb",
        "outputId": "607a4fe1-f11d-4d8d-87c2-70eeb2465bd1"
      },
      "source": [
        "plot_time()"
      ],
      "execution_count": 67,
      "outputs": [
        {
          "output_type": "stream",
          "name": "stderr",
          "text": [
            "/usr/local/lib/python3.7/dist-packages/ipykernel_launcher.py:32: UserWarning: In Matplotlib 3.3 individual lines on a stem plot will be added as a LineCollection instead of individual lines. This significantly improves the performance of a stem plot. To remove this warning and switch to the new behaviour, set the \"use_line_collection\" keyword argument to True.\n",
            "/usr/local/lib/python3.7/dist-packages/ipykernel_launcher.py:40: UserWarning: In Matplotlib 3.3 individual lines on a stem plot will be added as a LineCollection instead of individual lines. This significantly improves the performance of a stem plot. To remove this warning and switch to the new behaviour, set the \"use_line_collection\" keyword argument to True.\n"
          ]
        },
        {
          "output_type": "display_data",
          "data": {
            "image/png": "[encoded data removed]",
            "text/plain": [
              "<Figure size 1440x576 with 2 Axes>"
            ]
          },
          "metadata": {
            "needs_background": "light"
          }
        }
      ]
    },
    {
      "cell_type": "markdown",
      "metadata": {
        "id": "NXElGekWjdPd"
      },
      "source": [
        "# Example 1.11 (as of 2020)"
      ]
    },
    {
      "cell_type": "code",
      "metadata": {
        "id": "_JNwBkXSjfYT"
      },
      "source": [
        "import numpy as np\n",
        "import matplotlib.pyplot as plt\n",
        "%matplotlib inline\n",
        "#-------------------------------------------------------------------------------\n",
        "\n",
        "def h(k):\n",
        "  if k == 1:\n",
        "    return 1\n",
        "  elif k == 2:\n",
        "    return 2\n",
        "  return 0\n",
        "\n",
        "def g_r(k):\n",
        "  if k >= -1:\n",
        "    return (-1/2)**(-k)\n",
        "  return 0\n",
        "\n",
        "def g_l(k):\n",
        "  if k < 0:\n",
        "    return -(-1/2)**(-k)\n",
        "  return 0\n",
        "\n",
        "def g_l_delay_truncated(k):\n",
        "  if k < 0:\n",
        "    return 0\n",
        "  return g_l(k-4)\n",
        "\n",
        "k_values = np.arange(-10,10)\n",
        "\n",
        "def plot_time2():\n",
        "  y_values = [h(k) for k in k_values]\n",
        "  y2_values = [g_r(k) for k in k_values]\n",
        "  y3_values = [g_l(k) for k in k_values]\n",
        "  y4_values = [g_l_delay_truncated(k) for k in k_values]\n",
        "\n",
        "  fig = plt.figure(figsize=(20, 14))\n",
        "\n",
        "  ax1 = fig.add_subplot(2, 2, 1)\n",
        "  ax1.grid()\n",
        "  ax1.set_title('signal')\n",
        "  ax1.set_xlabel('$k$', fontsize=14)\n",
        "  ax1.set_ylabel('$f[k]$', fontsize=14)\n",
        "  ax1.axis(xmin=k_values[0], xmax=k_values[-1])\n",
        "  ax1.stem(k_values, y_values);\n",
        "\n",
        "  ax2 = fig.add_subplot(2, 2, 2)\n",
        "  ax2.grid()\n",
        "  ax2.set_title('right sided inversion')\n",
        "  ax2.set_xlabel('$k$', fontsize=14)\n",
        "  ax2.set_ylabel('$g_r[k]$', fontsize=14)\n",
        "  ax2.axis(xmin=k_values[0], xmax=k_values[-1])\n",
        "  ax2.stem(k_values, y2_values);\n",
        "\n",
        "  ax3 = fig.add_subplot(2, 2, 3)\n",
        "  ax3.grid()\n",
        "  ax3.set_title('left sided inversion')\n",
        "  ax3.set_xlabel('$k$', fontsize=14)\n",
        "  ax3.set_ylabel('$g_l[k]$', fontsize=14)\n",
        "  ax3.axis(xmin=k_values[0], xmax=k_values[-1])\n",
        "  ax3.stem(k_values, y3_values);\n",
        "\n",
        "  ax3 = fig.add_subplot(2, 2, 4)\n",
        "  ax3.grid()\n",
        "  ax3.set_title('truncated and causal left sided inversion')\n",
        "  ax3.set_xlabel('$k$', fontsize=14)\n",
        "  ax3.set_ylabel('$truncated\\ delayed\\ g_l[k]$', fontsize=14)\n",
        "  ax3.axis(xmin=k_values[0], xmax=k_values[-1])\n",
        "  ax3.stem(k_values, y4_values);"
      ],
      "execution_count": 68,
      "outputs": []
    },
    {
      "cell_type": "code",
      "metadata": {
        "colab": {
          "base_uri": "https://localhost:8080/",
          "height": 614
        },
        "id": "7PsMJzmAjhin",
        "outputId": "2d1d4bb0-4bde-486b-e749-09e65743b389"
      },
      "source": [
        "plot_time2()"
      ],
      "execution_count": 69,
      "outputs": [
        {
          "output_type": "stream",
          "name": "stderr",
          "text": [
            "/usr/local/lib/python3.7/dist-packages/ipykernel_launcher.py:44: UserWarning: In Matplotlib 3.3 individual lines on a stem plot will be added as a LineCollection instead of individual lines. This significantly improves the performance of a stem plot. To remove this warning and switch to the new behaviour, set the \"use_line_collection\" keyword argument to True.\n",
            "/usr/local/lib/python3.7/dist-packages/ipykernel_launcher.py:52: UserWarning: In Matplotlib 3.3 individual lines on a stem plot will be added as a LineCollection instead of individual lines. This significantly improves the performance of a stem plot. To remove this warning and switch to the new behaviour, set the \"use_line_collection\" keyword argument to True.\n",
            "/usr/local/lib/python3.7/dist-packages/ipykernel_launcher.py:60: UserWarning: In Matplotlib 3.3 individual lines on a stem plot will be added as a LineCollection instead of individual lines. This significantly improves the performance of a stem plot. To remove this warning and switch to the new behaviour, set the \"use_line_collection\" keyword argument to True.\n",
            "/usr/local/lib/python3.7/dist-packages/ipykernel_launcher.py:68: UserWarning: In Matplotlib 3.3 individual lines on a stem plot will be added as a LineCollection instead of individual lines. This significantly improves the performance of a stem plot. To remove this warning and switch to the new behaviour, set the \"use_line_collection\" keyword argument to True.\n"
          ]
        },
        {
          "output_type": "display_data",
          "data": {
            "image/png": "[encoded data removed]",
            "text/plain": [
              "<Figure size 1440x1008 with 4 Axes>"
            ]
          },
          "metadata": {
            "needs_background": "light"
          }
        }
      ]
    },
    {
      "cell_type": "markdown",
      "metadata": {
        "id": "qry831t_maym"
      },
      "source": [
        "# Right Sided Inversion Formula"
      ]
    },
    {
      "cell_type": "code",
      "metadata": {
        "colab": {
          "base_uri": "https://localhost:8080/"
        },
        "id": "Oo88bnAFLsTS",
        "outputId": "9508e842-f1d7-4b11-e650-4399b4e23507"
      },
      "source": [
        "pip install pydsm"
      ],
      "execution_count": 70,
      "outputs": [
        {
          "output_type": "stream",
          "name": "stdout",
          "text": [
            "Requirement already satisfied: pydsm in /usr/local/lib/python3.7/dist-packages (0.14.0.0)\n"
          ]
        }
      ]
    },
    {
      "cell_type": "code",
      "metadata": {
        "colab": {
          "base_uri": "https://localhost:8080/"
        },
        "id": "5-2j3gWJLmBX",
        "outputId": "2951a5dd-d412-4af7-e6b3-22c1dfb78178"
      },
      "source": [
        "!gdown https://drive.google.com/uc?id=1-nxgfNaJPeB88X_kE5T2xDqiGI5T2I1u"
      ],
      "execution_count": 71,
      "outputs": [
        {
          "output_type": "stream",
          "name": "stdout",
          "text": [
            "Downloading...\n",
            "From: https://drive.google.com/uc?id=1-nxgfNaJPeB88X_kE5T2xDqiGI5T2I1u\n",
            "To: /content/signals.py\n",
            "\r  0% 0.00/6.53k [00:00<?, ?B/s]\r100% 6.53k/6.53k [00:00<00:00, 24.3MB/s]\n"
          ]
        }
      ]
    },
    {
      "cell_type": "code",
      "metadata": {
        "id": "eEN32DwsLy2f"
      },
      "source": [
        "import signals\n",
        "import numpy as np\n",
        "import ipywidgets as widgets\n",
        "import matplotlib.pyplot as plt"
      ],
      "execution_count": 72,
      "outputs": []
    },
    {
      "cell_type": "markdown",
      "metadata": {
        "id": "MDSxxLeFmheo"
      },
      "source": [
        "Suppose $h[k]$ is a function describing an arbitrary right sided signal. We obtain the right sided inversion with the algorithm on page 14 (as of 2020). To avoid duplicate computation the technique of memoization is used here. The offset corresponds to $m$ in the lecture notes and must first be set before computing the right sided inversion filter."
      ]
    },
    {
      "cell_type": "code",
      "metadata": {
        "id": "MJvEmsWtmc8L"
      },
      "source": [
        "#FILTER INVERSION ALGORITHM\n",
        "#assumes h() is a well-defined function\n",
        "offset = 0\n",
        "mem_r = {}\n",
        "\n",
        "def g_right_sided_set_init():\n",
        "  global offset, mem_r\n",
        "  offset = np.nonzero(list(map(h, signals.nG3)))[0][0] - 60 #with index 60, m = 0 since it is counted from left border and not center\n",
        "  print(\"offset m set to\", offset)\n",
        "  mem_r = {}\n",
        "\n",
        "\n",
        "def g_right_sided_at(idx):\n",
        "  m = offset\n",
        "  n = -offset\n",
        "  k = idx - n\n",
        "\n",
        "  #computes a(l) using h(idx)\n",
        "  def a(l):\n",
        "    return h(l+m)\n",
        "  #computes b(l) using g_right_sided_at(idx)\n",
        "  def b(l):\n",
        "    return g_right_sided_at(l+n)\n",
        "\n",
        "  if idx in mem_r:\n",
        "    return mem_r[k]\n",
        "\n",
        "  if k < 0:\n",
        "    mem_r[k] = 0\n",
        "\n",
        "  elif k == 0:\n",
        "    mem_r[k] = 1/a(0)\n",
        "  \n",
        "  else: # k > 0\n",
        "    sum = 0\n",
        "    for i in range(0, k): #0, ..., k-1\n",
        "      sum += a(k-i) * b(i)\n",
        "    mem_r[k] = -sum/h(offset)\n",
        "\n",
        "  return mem_r[k]"
      ],
      "execution_count": 125,
      "outputs": []
    },
    {
      "cell_type": "markdown",
      "metadata": {
        "id": "KmpTP0D7NVZI"
      },
      "source": [
        "## Applying the inversion formula to a signal"
      ]
    },
    {
      "cell_type": "markdown",
      "metadata": {
        "id": "urvGmOKELHtb"
      },
      "source": [
        "You may select any signal to test the inversion formula. You will see that the inverse signal need not be stable."
      ]
    },
    {
      "cell_type": "code",
      "metadata": {
        "colab": {
          "base_uri": "https://localhost:8080/",
          "height": 146,
          "referenced_widgets": [
            "2ea16aadcca04c02a506f081fdbc74a1",
            "38272a788632461e8077e340c5695049",
            "b017c4b9af9d4c14a4ad07a36e3f3457",
            "56875003998449559ac7c39eee3ad3f0",
            "f607f85de6ce439c968d13c2c8c972ac",
            "89a7a0275fe3436b8a497b68f3aadf7c",
            "ac58c81f80c64636b2fcb9890c983919",
            "c2b5278e78a047d0906d81f1732990a8",
            "bf064d2d538c4e29bdb1a98e7c5acca3",
            "1e036dfe583e44bfbe55e939cebfa600",
            "7fc5138a3975427a9b1130e02e124b8e",
            "26f4020fb6af48a4b41d9f6c262a0b9d",
            "15758027315c47a4b01f9575624dde41",
            "2c2e6251a3954248a68f6dfe6ca2c5ac",
            "723b9545c2df415f86776672b18f7ca3",
            "c466a7a707534011b85d82f6c81eb995",
            "943343f3d2284757a83c039ba0ef08c9",
            "366c2cc8c41b44128cc52d7e71f4a534",
            "301dae28c4a34a47a4ce1c1c1450ba72",
            "dfb4292cff5f4931b10ac2fabf3cb38d"
          ]
        },
        "id": "JrAYRk0ULItT",
        "outputId": "4a1ee247-a632-4a80-bc70-cf2d4278d037"
      },
      "source": [
        "signals.widget()\n",
        "\n",
        "def update_parameters(logPlot):\n",
        "  global logPlotG\n",
        "  logPlotG = logPlot\n",
        "\n",
        "widgets.interact(update_parameters,\n",
        "  logPlot = widgets.Checkbox(\n",
        "    value=False,\n",
        "    description='logarithmic plot')\n",
        ");"
      ],
      "execution_count": 126,
      "outputs": [
        {
          "output_type": "display_data",
          "data": {
            "application/vnd.jupyter.widget-view+json": {
              "model_id": "2ea16aadcca04c02a506f081fdbc74a1",
              "version_minor": 0,
              "version_major": 2
            },
            "text/plain": [
              "interactive(children=(Dropdown(description='signal type', options=('unit step', 'unit impulse', 'ramp', 'expon…"
            ]
          },
          "metadata": {}
        },
        {
          "output_type": "display_data",
          "data": {
            "application/vnd.jupyter.widget-view+json": {
              "model_id": "2c2e6251a3954248a68f6dfe6ca2c5ac",
              "version_minor": 0,
              "version_major": 2
            },
            "text/plain": [
              "interactive(children=(Checkbox(value=False, description='logarithmic plot'), Output()), _dom_classes=('widget-…"
            ]
          },
          "metadata": {}
        }
      ]
    },
    {
      "cell_type": "code",
      "metadata": {
        "colab": {
          "base_uri": "https://localhost:8080/",
          "height": 62
        },
        "id": "uJx0SZyfL9mU",
        "outputId": "e021b59e-a43b-4936-f718-d33ae5c25cdf"
      },
      "source": [
        "signals.display_signal_selection(continuous=False) #do not be confused by u[k], it is actually h[k]"
      ],
      "execution_count": 130,
      "outputs": [
        {
          "output_type": "display_data",
          "data": {
            "image/png": "[encoded data removed]",
            "text/plain": [
              "<Figure size 640x32 with 1 Axes>"
            ]
          },
          "metadata": {
            "needs_background": "light"
          }
        }
      ]
    },
    {
      "cell_type": "markdown",
      "metadata": {
        "id": "IXG7ORkPVn8Q"
      },
      "source": [
        "Make sure each time you update the signal you run the graph plotting code below to read in the new signal."
      ]
    },
    {
      "cell_type": "code",
      "metadata": {
        "colab": {
          "base_uri": "https://localhost:8080/",
          "height": 328
        },
        "id": "r35TQiPKMV3z",
        "outputId": "920a42e7-ae87-4d00-bc5a-c69395574df4"
      },
      "source": [
        "time_values = signals.nG3\n",
        "h_values = signals.time_domain_signal_long()\n",
        "\n",
        "fig = plt.figure(figsize=(20, 8))\n",
        "\n",
        "ax1 = fig.add_subplot(1, 1, 1)\n",
        "ax1.grid()\n",
        "ax1.set_title('original signal')\n",
        "ax1.set_xlabel('$k$', fontsize=14)\n",
        "ax1.set_ylabel('$h[k]$', fontsize=14)\n",
        "ax1.axis(xmin=time_values[0], xmax=time_values[-1])\n",
        "if logPlotG == False:\n",
        "  ax1.axis(ymin=-3, ymax=3)\n",
        "  ax1.plot(time_values, h_values, alpha=0.5, marker='o', markersize=8);\n",
        "else:\n",
        "  ax1.axis(ymin=0.1, ymax=3)\n",
        "  ax1.semilogy(time_values, h_values, alpha=0.5, marker='o', markersize=8);"
      ],
      "execution_count": 131,
      "outputs": [
        {
          "output_type": "display_data",
          "data": {
            "image/png": "[encoded data removed]",
            "text/plain": [
              "<Figure size 1440x576 with 1 Axes>"
            ]
          },
          "metadata": {
            "needs_background": "light"
          }
        }
      ]
    },
    {
      "cell_type": "markdown",
      "metadata": {
        "id": "oCoh1otiriVX"
      },
      "source": [
        "Let us apply the right sided inversion to the filtered signal."
      ]
    },
    {
      "cell_type": "code",
      "metadata": {
        "id": "Z6xzztOgrhxb",
        "colab": {
          "base_uri": "https://localhost:8080/"
        },
        "outputId": "7ef39e8c-9c1d-4bb5-e957-0d4ddadbe5b9"
      },
      "source": [
        "def h(k):#yields original signal indexed by (possibly negative) k\n",
        "  if k in list(time_values):\n",
        "    return h_values[list(time_values).index(k)]\n",
        "  else:\n",
        "    return 0\n",
        "\n",
        "g_right_sided_set_init()\n",
        "g_values = [g_right_sided_at(t) for t in time_values]"
      ],
      "execution_count": 132,
      "outputs": [
        {
          "output_type": "stream",
          "name": "stdout",
          "text": [
            "offset m set to 0\n"
          ]
        }
      ]
    },
    {
      "cell_type": "code",
      "metadata": {
        "colab": {
          "base_uri": "https://localhost:8080/",
          "height": 328
        },
        "id": "aBXtDPs4MP6Q",
        "outputId": "2c2567ed-a7fb-43c2-d068-41bf0761e207"
      },
      "source": [
        "fig = plt.figure(figsize=(20, 8))\n",
        "\n",
        "ax2 = fig.add_subplot(1, 1, 1)\n",
        "ax2.grid()\n",
        "ax2.set_title('inverted signal')\n",
        "ax2.set_xlabel('$k$', fontsize=14)\n",
        "ax2.set_ylabel('$g[k]$', fontsize=14)\n",
        "ax2.axis(xmin=time_values[0], xmax=time_values[-1])\n",
        "if logPlotG == False:\n",
        "  ax2.axis(ymin=-3, ymax=3)\n",
        "  ax2.plot(time_values, g_values, alpha=0.5, marker='o', markersize=8);\n",
        "else:\n",
        "  ax2.axis(ymin=0.1, ymax=3)\n",
        "  ax2.semilogy(time_values, g_values, alpha=0.5, marker='o', markersize=8);"
      ],
      "execution_count": 133,
      "outputs": [
        {
          "output_type": "display_data",
          "data": {
            "image/png": "[encoded data removed]",
            "text/plain": [
              "<Figure size 1440x576 with 1 Axes>"
            ]
          },
          "metadata": {
            "needs_background": "light"
          }
        }
      ]
    }
  ]
}