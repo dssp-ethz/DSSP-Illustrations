{
  "nbformat": 4,
  "nbformat_minor": 0,
  "metadata": {
    "colab": {
      "name": "DSSP From Discrete Time to Continuous Time and Back.ipynb",
      "provenance": [],
      "collapsed_sections": [],
      "authorship_tag": "ABX9TyPlfpYQU5yXUevGjWlU9zoV",
      "include_colab_link": true
    },
    "kernelspec": {
      "name": "python3",
      "display_name": "Python 3"
    },
    "language_info": {
      "name": "python"
    },
    "widgets": {
      "application/vnd.jupyter.widget-state+json": {
        "4f965123157541bdb2e296199f2c58f8": {
          "model_module": "@jupyter-widgets/controls",
          "model_name": "VBoxModel",
          "state": {
            "_view_name": "VBoxView",
            "_dom_classes": [
              "widget-interact"
            ],
            "_model_name": "VBoxModel",
            "_view_module": "@jupyter-widgets/controls",
            "_model_module_version": "1.5.0",
            "_view_count": null,
            "_view_module_version": "1.5.0",
            "box_style": "",
            "layout": "IPY_MODEL_2e69600c4c6f421c8007112cde5cb619",
            "_model_module": "@jupyter-widgets/controls",
            "children": [
              "IPY_MODEL_8dca4f459fbc488896776a0e96ea1e7f",
              "IPY_MODEL_a7a68e79607f462ba439b7cc8dfcc1b0",
              "IPY_MODEL_88581b51607f42e498d7f1cb1983b3d9"
            ]
          }
        },
        "2e69600c4c6f421c8007112cde5cb619": {
          "model_module": "@jupyter-widgets/base",
          "model_name": "LayoutModel",
          "state": {
            "_view_name": "LayoutView",
            "grid_template_rows": null,
            "right": null,
            "justify_content": null,
            "_view_module": "@jupyter-widgets/base",
            "overflow": null,
            "_model_module_version": "1.2.0",
            "_view_count": null,
            "flex_flow": null,
            "width": null,
            "min_width": null,
            "border": null,
            "align_items": null,
            "bottom": null,
            "_model_module": "@jupyter-widgets/base",
            "top": null,
            "grid_column": null,
            "overflow_y": null,
            "overflow_x": null,
            "grid_auto_flow": null,
            "grid_area": null,
            "grid_template_columns": null,
            "flex": null,
            "_model_name": "LayoutModel",
            "justify_items": null,
            "grid_row": null,
            "max_height": null,
            "align_content": null,
            "visibility": null,
            "align_self": null,
            "height": null,
            "min_height": null,
            "padding": null,
            "grid_auto_rows": null,
            "grid_gap": null,
            "max_width": null,
            "order": null,
            "_view_module_version": "1.2.0",
            "grid_template_areas": null,
            "object_position": null,
            "object_fit": null,
            "grid_auto_columns": null,
            "margin": null,
            "display": null,
            "left": null
          }
        },
        "8dca4f459fbc488896776a0e96ea1e7f": {
          "model_module": "@jupyter-widgets/controls",
          "model_name": "IntSliderModel",
          "state": {
            "_view_name": "IntSliderView",
            "style": "IPY_MODEL_0df66549b612478ead46235b9bd7ae5d",
            "_dom_classes": [],
            "description": "f_0",
            "step": 1,
            "_model_name": "IntSliderModel",
            "orientation": "horizontal",
            "max": 20,
            "_view_module": "@jupyter-widgets/controls",
            "_model_module_version": "1.5.0",
            "value": 10,
            "_view_count": null,
            "disabled": false,
            "_view_module_version": "1.5.0",
            "min": 1,
            "continuous_update": true,
            "readout_format": "d",
            "description_tooltip": null,
            "readout": true,
            "_model_module": "@jupyter-widgets/controls",
            "layout": "IPY_MODEL_a8802071e0524fca8fef8fad690de8ee"
          }
        },
        "a7a68e79607f462ba439b7cc8dfcc1b0": {
          "model_module": "@jupyter-widgets/controls",
          "model_name": "FloatSliderModel",
          "state": {
            "_view_name": "FloatSliderView",
            "style": "IPY_MODEL_4c626692f99a4e75be7dd1064eba6018",
            "_dom_classes": [],
            "description": "f_s",
            "step": 0.1,
            "_model_name": "FloatSliderModel",
            "orientation": "horizontal",
            "max": 2.5,
            "_view_module": "@jupyter-widgets/controls",
            "_model_module_version": "1.5.0",
            "value": 1,
            "_view_count": null,
            "disabled": false,
            "_view_module_version": "1.5.0",
            "min": 1,
            "continuous_update": true,
            "readout_format": ".2f",
            "description_tooltip": null,
            "readout": true,
            "_model_module": "@jupyter-widgets/controls",
            "layout": "IPY_MODEL_bbefba9fb3664ac4b9fe9010d61f2866"
          }
        },
        "88581b51607f42e498d7f1cb1983b3d9": {
          "model_module": "@jupyter-widgets/output",
          "model_name": "OutputModel",
          "state": {
            "_view_name": "OutputView",
            "msg_id": "",
            "_dom_classes": [],
            "_model_name": "OutputModel",
            "outputs": [],
            "_view_module": "@jupyter-widgets/output",
            "_model_module_version": "1.0.0",
            "_view_count": null,
            "_view_module_version": "1.0.0",
            "layout": "IPY_MODEL_7215a8b0832a48ad93d096414c0dab6b",
            "_model_module": "@jupyter-widgets/output"
          }
        },
        "0df66549b612478ead46235b9bd7ae5d": {
          "model_module": "@jupyter-widgets/controls",
          "model_name": "SliderStyleModel",
          "state": {
            "_view_name": "StyleView",
            "handle_color": null,
            "_model_name": "SliderStyleModel",
            "description_width": "",
            "_view_module": "@jupyter-widgets/base",
            "_model_module_version": "1.5.0",
            "_view_count": null,
            "_view_module_version": "1.2.0",
            "_model_module": "@jupyter-widgets/controls"
          }
        },
        "a8802071e0524fca8fef8fad690de8ee": {
          "model_module": "@jupyter-widgets/base",
          "model_name": "LayoutModel",
          "state": {
            "_view_name": "LayoutView",
            "grid_template_rows": null,
            "right": null,
            "justify_content": null,
            "_view_module": "@jupyter-widgets/base",
            "overflow": null,
            "_model_module_version": "1.2.0",
            "_view_count": null,
            "flex_flow": null,
            "width": null,
            "min_width": null,
            "border": null,
            "align_items": null,
            "bottom": null,
            "_model_module": "@jupyter-widgets/base",
            "top": null,
            "grid_column": null,
            "overflow_y": null,
            "overflow_x": null,
            "grid_auto_flow": null,
            "grid_area": null,
            "grid_template_columns": null,
            "flex": null,
            "_model_name": "LayoutModel",
            "justify_items": null,
            "grid_row": null,
            "max_height": null,
            "align_content": null,
            "visibility": null,
            "align_self": null,
            "height": null,
            "min_height": null,
            "padding": null,
            "grid_auto_rows": null,
            "grid_gap": null,
            "max_width": null,
            "order": null,
            "_view_module_version": "1.2.0",
            "grid_template_areas": null,
            "object_position": null,
            "object_fit": null,
            "grid_auto_columns": null,
            "margin": null,
            "display": null,
            "left": null
          }
        },
        "4c626692f99a4e75be7dd1064eba6018": {
          "model_module": "@jupyter-widgets/controls",
          "model_name": "SliderStyleModel",
          "state": {
            "_view_name": "StyleView",
            "handle_color": null,
            "_model_name": "SliderStyleModel",
            "description_width": "",
            "_view_module": "@jupyter-widgets/base",
            "_model_module_version": "1.5.0",
            "_view_count": null,
            "_view_module_version": "1.2.0",
            "_model_module": "@jupyter-widgets/controls"
          }
        },
        "bbefba9fb3664ac4b9fe9010d61f2866": {
          "model_module": "@jupyter-widgets/base",
          "model_name": "LayoutModel",
          "state": {
            "_view_name": "LayoutView",
            "grid_template_rows": null,
            "right": null,
            "justify_content": null,
            "_view_module": "@jupyter-widgets/base",
            "overflow": null,
            "_model_module_version": "1.2.0",
            "_view_count": null,
            "flex_flow": null,
            "width": null,
            "min_width": null,
            "border": null,
            "align_items": null,
            "bottom": null,
            "_model_module": "@jupyter-widgets/base",
            "top": null,
            "grid_column": null,
            "overflow_y": null,
            "overflow_x": null,
            "grid_auto_flow": null,
            "grid_area": null,
            "grid_template_columns": null,
            "flex": null,
            "_model_name": "LayoutModel",
            "justify_items": null,
            "grid_row": null,
            "max_height": null,
            "align_content": null,
            "visibility": null,
            "align_self": null,
            "height": null,
            "min_height": null,
            "padding": null,
            "grid_auto_rows": null,
            "grid_gap": null,
            "max_width": null,
            "order": null,
            "_view_module_version": "1.2.0",
            "grid_template_areas": null,
            "object_position": null,
            "object_fit": null,
            "grid_auto_columns": null,
            "margin": null,
            "display": null,
            "left": null
          }
        },
        "7215a8b0832a48ad93d096414c0dab6b": {
          "model_module": "@jupyter-widgets/base",
          "model_name": "LayoutModel",
          "state": {
            "_view_name": "LayoutView",
            "grid_template_rows": null,
            "right": null,
            "justify_content": null,
            "_view_module": "@jupyter-widgets/base",
            "overflow": null,
            "_model_module_version": "1.2.0",
            "_view_count": null,
            "flex_flow": null,
            "width": null,
            "min_width": null,
            "border": null,
            "align_items": null,
            "bottom": null,
            "_model_module": "@jupyter-widgets/base",
            "top": null,
            "grid_column": null,
            "overflow_y": null,
            "overflow_x": null,
            "grid_auto_flow": null,
            "grid_area": null,
            "grid_template_columns": null,
            "flex": null,
            "_model_name": "LayoutModel",
            "justify_items": null,
            "grid_row": null,
            "max_height": null,
            "align_content": null,
            "visibility": null,
            "align_self": null,
            "height": null,
            "min_height": null,
            "padding": null,
            "grid_auto_rows": null,
            "grid_gap": null,
            "max_width": null,
            "order": null,
            "_view_module_version": "1.2.0",
            "grid_template_areas": null,
            "object_position": null,
            "object_fit": null,
            "grid_auto_columns": null,
            "margin": null,
            "display": null,
            "left": null
          }
        },
        "37ae382c019e45b2acc95cfc750ebbf9": {
          "model_module": "@jupyter-widgets/controls",
          "model_name": "VBoxModel",
          "state": {
            "_view_name": "VBoxView",
            "_dom_classes": [
              "widget-interact"
            ],
            "_model_name": "VBoxModel",
            "_view_module": "@jupyter-widgets/controls",
            "_model_module_version": "1.5.0",
            "_view_count": null,
            "_view_module_version": "1.5.0",
            "box_style": "",
            "layout": "IPY_MODEL_18c5fc7c4d3e4ea4bd34c497e31a2d1c",
            "_model_module": "@jupyter-widgets/controls",
            "children": [
              "IPY_MODEL_a31feb431c27495c955c5e4814a59f7a",
              "IPY_MODEL_c74038205cbd4a269889008511af72c8",
              "IPY_MODEL_fc9b7239143b42a29ffc00fa151e360b"
            ]
          }
        },
        "18c5fc7c4d3e4ea4bd34c497e31a2d1c": {
          "model_module": "@jupyter-widgets/base",
          "model_name": "LayoutModel",
          "state": {
            "_view_name": "LayoutView",
            "grid_template_rows": null,
            "right": null,
            "justify_content": null,
            "_view_module": "@jupyter-widgets/base",
            "overflow": null,
            "_model_module_version": "1.2.0",
            "_view_count": null,
            "flex_flow": null,
            "width": null,
            "min_width": null,
            "border": null,
            "align_items": null,
            "bottom": null,
            "_model_module": "@jupyter-widgets/base",
            "top": null,
            "grid_column": null,
            "overflow_y": null,
            "overflow_x": null,
            "grid_auto_flow": null,
            "grid_area": null,
            "grid_template_columns": null,
            "flex": null,
            "_model_name": "LayoutModel",
            "justify_items": null,
            "grid_row": null,
            "max_height": null,
            "align_content": null,
            "visibility": null,
            "align_self": null,
            "height": null,
            "min_height": null,
            "padding": null,
            "grid_auto_rows": null,
            "grid_gap": null,
            "max_width": null,
            "order": null,
            "_view_module_version": "1.2.0",
            "grid_template_areas": null,
            "object_position": null,
            "object_fit": null,
            "grid_auto_columns": null,
            "margin": null,
            "display": null,
            "left": null
          }
        },
        "a31feb431c27495c955c5e4814a59f7a": {
          "model_module": "@jupyter-widgets/controls",
          "model_name": "IntSliderModel",
          "state": {
            "_view_name": "IntSliderView",
            "style": "IPY_MODEL_96be677eceba456f8d430af25ea251b0",
            "_dom_classes": [],
            "description": "N",
            "step": 2,
            "_model_name": "IntSliderModel",
            "orientation": "horizontal",
            "max": 20,
            "_view_module": "@jupyter-widgets/controls",
            "_model_module_version": "1.5.0",
            "value": 16,
            "_view_count": null,
            "disabled": false,
            "_view_module_version": "1.5.0",
            "min": 2,
            "continuous_update": true,
            "readout_format": "d",
            "description_tooltip": null,
            "readout": true,
            "_model_module": "@jupyter-widgets/controls",
            "layout": "IPY_MODEL_8c8b61f1b6174000bb030228c26b87f4"
          }
        },
        "c74038205cbd4a269889008511af72c8": {
          "model_module": "@jupyter-widgets/controls",
          "model_name": "FloatSliderModel",
          "state": {
            "_view_name": "FloatSliderView",
            "style": "IPY_MODEL_a8c8fb54acab497085e3a2692989c2e6",
            "_dom_classes": [],
            "description": "Omega_c",
            "step": 0.1,
            "_model_name": "FloatSliderModel",
            "orientation": "horizontal",
            "max": 3.141592653589793,
            "_view_module": "@jupyter-widgets/controls",
            "_model_module_version": "1.5.0",
            "value": 1.5707963267948966,
            "_view_count": null,
            "disabled": false,
            "_view_module_version": "1.5.0",
            "min": 0,
            "continuous_update": true,
            "readout_format": ".2f",
            "description_tooltip": null,
            "readout": true,
            "_model_module": "@jupyter-widgets/controls",
            "layout": "IPY_MODEL_4e13c6cd5ba14daa89bb4c177cea5fd1"
          }
        },
        "fc9b7239143b42a29ffc00fa151e360b": {
          "model_module": "@jupyter-widgets/output",
          "model_name": "OutputModel",
          "state": {
            "_view_name": "OutputView",
            "msg_id": "",
            "_dom_classes": [],
            "_model_name": "OutputModel",
            "outputs": [],
            "_view_module": "@jupyter-widgets/output",
            "_model_module_version": "1.0.0",
            "_view_count": null,
            "_view_module_version": "1.0.0",
            "layout": "IPY_MODEL_fe9745b7ce7b41ad943c6ca3b25680cb",
            "_model_module": "@jupyter-widgets/output"
          }
        },
        "96be677eceba456f8d430af25ea251b0": {
          "model_module": "@jupyter-widgets/controls",
          "model_name": "SliderStyleModel",
          "state": {
            "_view_name": "StyleView",
            "handle_color": null,
            "_model_name": "SliderStyleModel",
            "description_width": "",
            "_view_module": "@jupyter-widgets/base",
            "_model_module_version": "1.5.0",
            "_view_count": null,
            "_view_module_version": "1.2.0",
            "_model_module": "@jupyter-widgets/controls"
          }
        },
        "8c8b61f1b6174000bb030228c26b87f4": {
          "model_module": "@jupyter-widgets/base",
          "model_name": "LayoutModel",
          "state": {
            "_view_name": "LayoutView",
            "grid_template_rows": null,
            "right": null,
            "justify_content": null,
            "_view_module": "@jupyter-widgets/base",
            "overflow": null,
            "_model_module_version": "1.2.0",
            "_view_count": null,
            "flex_flow": null,
            "width": null,
            "min_width": null,
            "border": null,
            "align_items": null,
            "bottom": null,
            "_model_module": "@jupyter-widgets/base",
            "top": null,
            "grid_column": null,
            "overflow_y": null,
            "overflow_x": null,
            "grid_auto_flow": null,
            "grid_area": null,
            "grid_template_columns": null,
            "flex": null,
            "_model_name": "LayoutModel",
            "justify_items": null,
            "grid_row": null,
            "max_height": null,
            "align_content": null,
            "visibility": null,
            "align_self": null,
            "height": null,
            "min_height": null,
            "padding": null,
            "grid_auto_rows": null,
            "grid_gap": null,
            "max_width": null,
            "order": null,
            "_view_module_version": "1.2.0",
            "grid_template_areas": null,
            "object_position": null,
            "object_fit": null,
            "grid_auto_columns": null,
            "margin": null,
            "display": null,
            "left": null
          }
        },
        "a8c8fb54acab497085e3a2692989c2e6": {
          "model_module": "@jupyter-widgets/controls",
          "model_name": "SliderStyleModel",
          "state": {
            "_view_name": "StyleView",
            "handle_color": null,
            "_model_name": "SliderStyleModel",
            "description_width": "",
            "_view_module": "@jupyter-widgets/base",
            "_model_module_version": "1.5.0",
            "_view_count": null,
            "_view_module_version": "1.2.0",
            "_model_module": "@jupyter-widgets/controls"
          }
        },
        "4e13c6cd5ba14daa89bb4c177cea5fd1": {
          "model_module": "@jupyter-widgets/base",
          "model_name": "LayoutModel",
          "state": {
            "_view_name": "LayoutView",
            "grid_template_rows": null,
            "right": null,
            "justify_content": null,
            "_view_module": "@jupyter-widgets/base",
            "overflow": null,
            "_model_module_version": "1.2.0",
            "_view_count": null,
            "flex_flow": null,
            "width": null,
            "min_width": null,
            "border": null,
            "align_items": null,
            "bottom": null,
            "_model_module": "@jupyter-widgets/base",
            "top": null,
            "grid_column": null,
            "overflow_y": null,
            "overflow_x": null,
            "grid_auto_flow": null,
            "grid_area": null,
            "grid_template_columns": null,
            "flex": null,
            "_model_name": "LayoutModel",
            "justify_items": null,
            "grid_row": null,
            "max_height": null,
            "align_content": null,
            "visibility": null,
            "align_self": null,
            "height": null,
            "min_height": null,
            "padding": null,
            "grid_auto_rows": null,
            "grid_gap": null,
            "max_width": null,
            "order": null,
            "_view_module_version": "1.2.0",
            "grid_template_areas": null,
            "object_position": null,
            "object_fit": null,
            "grid_auto_columns": null,
            "margin": null,
            "display": null,
            "left": null
          }
        },
        "fe9745b7ce7b41ad943c6ca3b25680cb": {
          "model_module": "@jupyter-widgets/base",
          "model_name": "LayoutModel",
          "state": {
            "_view_name": "LayoutView",
            "grid_template_rows": null,
            "right": null,
            "justify_content": null,
            "_view_module": "@jupyter-widgets/base",
            "overflow": null,
            "_model_module_version": "1.2.0",
            "_view_count": null,
            "flex_flow": null,
            "width": null,
            "min_width": null,
            "border": null,
            "align_items": null,
            "bottom": null,
            "_model_module": "@jupyter-widgets/base",
            "top": null,
            "grid_column": null,
            "overflow_y": null,
            "overflow_x": null,
            "grid_auto_flow": null,
            "grid_area": null,
            "grid_template_columns": null,
            "flex": null,
            "_model_name": "LayoutModel",
            "justify_items": null,
            "grid_row": null,
            "max_height": null,
            "align_content": null,
            "visibility": null,
            "align_self": null,
            "height": null,
            "min_height": null,
            "padding": null,
            "grid_auto_rows": null,
            "grid_gap": null,
            "max_width": null,
            "order": null,
            "_view_module_version": "1.2.0",
            "grid_template_areas": null,
            "object_position": null,
            "object_fit": null,
            "grid_auto_columns": null,
            "margin": null,
            "display": null,
            "left": null
          }
        }
      }
    }
  },
  "cells": [
    {
      "cell_type": "markdown",
      "metadata": {
        "id": "view-in-github",
        "colab_type": "text"
      },
      "source": [
        "<a href=\"https://colab.research.google.com/github/dssp-ethz/DSSP-Illustrations/blob/main/DSSP_From_Discrete_Time_to_Continuous_Time_and_Back.ipynb\" target=\"_parent\"><img src=\"https://colab.research.google.com/assets/colab-badge.svg\" alt=\"Open In Colab\"/></a>"
      ]
    },
    {
      "cell_type": "markdown",
      "metadata": {
        "id": "MD_wqMji8hfF"
      },
      "source": [
        "# Sampling Theorem"
      ]
    },
    {
      "cell_type": "markdown",
      "metadata": {
        "id": "RzmZFSFC9pJS"
      },
      "source": [
        "## Problem 2.6 (as of 2020)"
      ]
    },
    {
      "cell_type": "markdown",
      "metadata": {
        "id": "B8c7asjf9wo_"
      },
      "source": [
        "Let $F(i2\\pi f) = \\begin{cases} 1 - |f|/f_0 & |f| < f_0\\\\ 0 & \\text{otherwise}\\end{cases}$\n",
        "\n",
        "Sketch the spectrum $F_s(e^{i \\Omega})$ of the sampled signal $f_s [k] = T f(kT)$ for \n",
        "\n",
        "1.   $T = 1/(2f_0) \\ \\iff f_s = 2 f_0$\n",
        "2.   $T = 1/(\\frac{3}{2}f_0) \\iff f_s = \\frac{3}{2} f_0$\n",
        "3.   $T = 1/(f_0) \\ \\ \\ \\iff f_s = f_0$\n",
        "\n",
        "$Y_s(z) = \\sum\\limits_{s\\in\\mathbb{C} : e^{sT} = z} Y(s) \\qquad$ (2.48 in lecture notes)\n",
        "\n",
        "\n"
      ]
    },
    {
      "cell_type": "code",
      "metadata": {
        "colab": {
          "base_uri": "https://localhost:8080/",
          "height": 81,
          "referenced_widgets": [
            "4f965123157541bdb2e296199f2c58f8",
            "2e69600c4c6f421c8007112cde5cb619",
            "8dca4f459fbc488896776a0e96ea1e7f",
            "a7a68e79607f462ba439b7cc8dfcc1b0",
            "88581b51607f42e498d7f1cb1983b3d9",
            "0df66549b612478ead46235b9bd7ae5d",
            "a8802071e0524fca8fef8fad690de8ee",
            "4c626692f99a4e75be7dd1064eba6018",
            "bbefba9fb3664ac4b9fe9010d61f2866",
            "7215a8b0832a48ad93d096414c0dab6b"
          ]
        },
        "id": "l-nDOrWw8ZOe",
        "outputId": "bac39653-a4fb-4ea2-f4c6-3b33c67760cb"
      },
      "source": [
        "import ipywidgets as widgets\n",
        "import numpy as np\n",
        "import matplotlib.pyplot as plt\n",
        "%matplotlib inline\n",
        "#-------------------------------------------------------------------------------\n",
        "\n",
        "#read in parameters\n",
        "f_0G = 10\n",
        "f_sG = 1.5\n",
        "def update_parameters(f_0, f_s):\n",
        "  global f_0G, f_sG\n",
        "  f_0G, f_sG = f_0, f_s * f_0 #multiples of f_0\n",
        "widgets.interact(update_parameters, f_0 = widgets.IntSlider(min=1, max=20, value=10), f_s = widgets.FloatSlider(min=1, max=2.5, value=1.5))\n",
        "\n",
        "#Important Stuff\n",
        "################################################################################\n",
        "#example spectrum, unless specified f_0 is at 10 Hz\n",
        "def F(f, f_0):\n",
        "  if abs(f) > f_0:\n",
        "    return 0\n",
        "  else:\n",
        "    return 1 - np.abs(f)/f_0\n",
        "\n",
        "def F_s(Omega, f_s, f_0):\n",
        "  f = Omega*f_s/(2*np.pi)\n",
        "  s = 0\n",
        "  #F_s(Omega) = sum_{n\\in Z} F(i*(Omega+n*2pi))\n",
        "  for n in range(-20, 20):#only some of the frequency spectrum will be summed over for computational reasons\n",
        "    s += F(f+n*f_s, f_0)\n",
        "  return s\n",
        "\n",
        "#example signal in time domain\n",
        "def f(t, f_0):\n",
        "  return f_0*np.sinc(f_0*t)**2 #IFT of F\n",
        "\n",
        "#reconstructed signal (with potential aliasing) in time domain\n",
        "def f_r(t, f_0, f_s):\n",
        "  s = 0\n",
        "  for k in range(-20, 20):#only some of the samples will be summed over for computational reasons\n",
        "    s += f(k/f_s, f_0)*np.sinc(t*f_s-k)\n",
        "  return s\n",
        "################################################################################\n",
        "\n",
        "#range to display\n",
        "f_values = np.linspace(-2*f_0G,2*f_0G,100)\n",
        "Omega_values = np.linspace(-3*np.pi, 3*np.pi, 100)\n",
        "t_values = np.linspace(-0.7, 0.7, 150)**3\n",
        "\n",
        "#drawing plots\n",
        "def plot():\n",
        "  y_values = [F(f, f_0G) for f in f_values]\n",
        "  y2_values = [F_s(Omega, f_sG, f_0G) for Omega in Omega_values]\n",
        "\n",
        "  fig = plt.figure(figsize=(20, 8))\n",
        "\n",
        "  ax1 = fig.add_subplot(1, 2, 1)\n",
        "  ax1.grid()\n",
        "  ax1.set_xlabel('$f$', fontsize=14)\n",
        "  ax1.set_ylabel('$F(2\\pi\\ i\\ f)$', fontsize=14)\n",
        "  ax1.axis(xmin=f_values[0], xmax=f_values[-1], ymin=0, ymax=1.5)\n",
        "  ax1.plot(f_values, y_values, alpha=0.5, marker='o', markersize=8);\n",
        "\n",
        "  ax2 = fig.add_subplot(1, 2, 2)\n",
        "  ax2.grid()\n",
        "  ax2.set_xlabel('$\\Omega$', fontsize=14)\n",
        "  ax2.set_ylabel('$F_s(e^{i\\Omega})$', fontsize=14)\n",
        "  ax2.axis(xmin=Omega_values[0], xmax=Omega_values[-1], ymin=0, ymax=1.5)\n",
        "  ax2.plot(Omega_values, y2_values, alpha=0.5, marker='o', markersize=8);\n",
        "\n",
        "def plot_time():\n",
        "  y_values = [f(t, f_0G) for t in t_values]\n",
        "  y2_values = [f_r(t, f_0G, f_sG) for t in t_values]\n",
        "\n",
        "  fig = plt.figure(figsize=(20, 8))\n",
        "\n",
        "  ax1 = fig.add_subplot(1, 2, 1)\n",
        "  ax1.grid()\n",
        "  ax1.set_xlabel('$t$', fontsize=14)\n",
        "  ax1.set_ylabel('$f(t)$', fontsize=14)\n",
        "  ax1.axis(xmin=t_values[0], xmax=t_values[-1])\n",
        "  ax1.plot(t_values, y_values, alpha=0.5, marker='o', markersize=8);\n",
        "\n",
        "  ax2 = fig.add_subplot(1, 2, 2)\n",
        "  ax2.grid()\n",
        "  ax2.set_xlabel('$t$', fontsize=14)\n",
        "  ax2.set_ylabel('$f_s(t)$', fontsize=14)\n",
        "  ax2.axis(xmin=t_values[0], xmax=t_values[-1])\n",
        "  ax2.plot(t_values, y2_values, alpha=0.5, marker='o', markersize=8);"
      ],
      "execution_count": 1,
      "outputs": [
        {
          "output_type": "display_data",
          "data": {
            "application/vnd.jupyter.widget-view+json": {
              "model_id": "4f965123157541bdb2e296199f2c58f8",
              "version_minor": 0,
              "version_major": 2
            },
            "text/plain": [
              "interactive(children=(IntSlider(value=10, description='f_0', max=20, min=1), FloatSlider(value=1.5, descriptio…"
            ]
          },
          "metadata": {
            "tags": []
          }
        }
      ]
    },
    {
      "cell_type": "markdown",
      "metadata": {
        "id": "pO5bMTloKB6e"
      },
      "source": [
        "$f_0$ can be set in Hertz while $f_s$ is a multiple of $f_0$ (also set with slider)."
      ]
    },
    {
      "cell_type": "code",
      "metadata": {
        "colab": {
          "base_uri": "https://localhost:8080/",
          "height": 384
        },
        "id": "ijEoRug4Dzo0",
        "outputId": "38b4db36-5263-49a2-b9da-bc3f911b0e7b"
      },
      "source": [
        "plot()"
      ],
      "execution_count": 8,
      "outputs": [
        {
          "output_type": "display_data",
          "data": {
            "image/png": "[encoded data removed]",
            "text/plain": [
              "<Figure size 1440x576 with 2 Axes>"
            ]
          },
          "metadata": {
            "tags": [],
            "needs_background": "light"
          }
        }
      ]
    },
    {
      "cell_type": "markdown",
      "metadata": {
        "id": "sE_zdvuoLmon"
      },
      "source": [
        "Having seen the effect on the spectrum you may wonder how the time domain changes if aliasing occurs. You might only see subtle changes in this waveform (try the extreme $f_s = 1\\cdot f_0$)."
      ]
    },
    {
      "cell_type": "code",
      "metadata": {
        "colab": {
          "base_uri": "https://localhost:8080/",
          "height": 384
        },
        "id": "qtaF42pxLmDD",
        "outputId": "307551c3-a69e-454e-d165-28983656ee07"
      },
      "source": [
        "plot_time()"
      ],
      "execution_count": 9,
      "outputs": [
        {
          "output_type": "display_data",
          "data": {
            "image/png": "[encoded data removed]",
            "text/plain": [
              "<Figure size 1440x576 with 2 Axes>"
            ]
          },
          "metadata": {
            "tags": [],
            "needs_background": "light"
          }
        }
      ]
    },
    {
      "cell_type": "markdown",
      "metadata": {
        "id": "MAeWvI4w5wOj"
      },
      "source": [
        "# FIR Filters vs IIR Filters"
      ]
    },
    {
      "cell_type": "markdown",
      "metadata": {
        "id": "YGyTayJVVz5P"
      },
      "source": [
        "## FIR Filter design with Han windows"
      ]
    },
    {
      "cell_type": "markdown",
      "metadata": {
        "id": "reENkDkn6Wmw"
      },
      "source": [
        "We follow the example on page 57 in the lecture notes (as of 2020)\n",
        "\n",
        "We wish to design an ideal discrete-time lowpass filter with frequency response $H(e^{i\\Omega}) = \\begin{cases} 1 & |\\Omega | < \\Omega_c\\\\ 0 & otherwise \\end{cases}$. \n",
        "\n",
        "Using the inversion formula we get in the time domain $h[k] = \\frac{\\sin(\\Omega_c k)}{\\pi k}$. You may notice that $h$ is unstable and thus not suitable in real world applications. To the rescue comes the Hann window function (here for even $N$) given by $w[k] = \\begin{cases} \\frac{1}{2}(1+\\cos(\\frac{2\\pi k}{N+2}) & |k| \\leq \\frac{N}{2}\\\\ 0 & |k| > \\frac{N}{2}\\end{cases}$. Multiplication of $h$ by $w$ yields a bounded finite-duration signal, which is stable. Nicely $W(\\Omega)$ is \"almost\" a dirac delta function, thus $H(\\Omega) * W(\\Omega) \\approx H(\\Omega)$, so the low-pass filter is minimally distorted. A subsequent normalization gives a unit amplification in the passband. We get for the final filter $h_w[k] = \\frac{h[k] w[k]}{\\sum\\limits_{n\\in\\mathbb{Z}} h[n] w[n]}$. If we wish to have a causal filter we may delay our result to get $g[k] = h_w[k-N/2]$."
      ]
    },
    {
      "cell_type": "code",
      "metadata": {
        "colab": {
          "base_uri": "https://localhost:8080/"
        },
        "id": "Upt6eRY4C5Mf",
        "outputId": "4a79c0da-a7de-4bfa-ed75-128524c5a203"
      },
      "source": [
        "pip install pydsm"
      ],
      "execution_count": 12,
      "outputs": [
        {
          "output_type": "stream",
          "text": [
            "Collecting pydsm\n",
            "\u001b[?25l  Downloading https://files.pythonhosted.org/packages/6f/96/1881d0ca1fceb9a91a8558510ff55e1e17f832321f9d359e2fc368609a0b/pydsm-0.14.0.0.zip (552kB)\n",
            "\u001b[K     |████████████████████████████████| 552kB 5.7MB/s \n",
            "\u001b[?25hBuilding wheels for collected packages: pydsm\n",
            "  Building wheel for pydsm (setup.py) ... \u001b[?25l\u001b[?25hdone\n",
            "  Created wheel for pydsm: filename=pydsm-0.14.0.0-cp37-cp37m-linux_x86_64.whl size=684622 sha256=c3c6409832e9b800ab70ad8c579aad7e46335dff7337f97959793cf5c3568c16\n",
            "  Stored in directory: /root/.cache/pip/wheels/7d/10/8c/8983ab80da463bab42f455c100dbf62c47fba0b6650f6c22f6\n",
            "Successfully built pydsm\n",
            "Installing collected packages: pydsm\n",
            "Successfully installed pydsm-0.14.0.0\n"
          ],
          "name": "stdout"
        }
      ]
    },
    {
      "cell_type": "code",
      "metadata": {
        "colab": {
          "base_uri": "https://localhost:8080/",
          "height": 81,
          "referenced_widgets": [
            "37ae382c019e45b2acc95cfc750ebbf9",
            "18c5fc7c4d3e4ea4bd34c497e31a2d1c",
            "a31feb431c27495c955c5e4814a59f7a",
            "c74038205cbd4a269889008511af72c8",
            "fc9b7239143b42a29ffc00fa151e360b",
            "96be677eceba456f8d430af25ea251b0",
            "8c8b61f1b6174000bb030228c26b87f4",
            "a8c8fb54acab497085e3a2692989c2e6",
            "4e13c6cd5ba14daa89bb4c177cea5fd1",
            "fe9745b7ce7b41ad943c6ca3b25680cb"
          ]
        },
        "id": "fDITWAq4-8h4",
        "outputId": "01e2dc2b-f272-402c-e1e6-96a1d71b1ed9"
      },
      "source": [
        "import ipywidgets as widgets\n",
        "import numpy as np\n",
        "from pydsm.ft import dtft\n",
        "from functools import reduce\n",
        "import matplotlib.pyplot as plt\n",
        "%matplotlib inline\n",
        "#-------------------------------------------------------------------------------\n",
        "\n",
        "#Important Stuff\n",
        "################################################################################\n",
        "def H(Omega, Omega_c):\n",
        "  if np.abs(Omega) < Omega_c:\n",
        "    return 1\n",
        "  else:\n",
        "    return 0\n",
        "\n",
        "def h(k, Omega_c):\n",
        "  if k == 0:\n",
        "    return Omega_c/np.pi\n",
        "  else:\n",
        "    return np.sin(Omega_c*k)/(np.pi*k)\n",
        "\n",
        "def w(k, N):#returns single value w[k]\n",
        "  assert N % 2 == 0, \"N should be even\"\n",
        "  if np.abs(k) > N/2:\n",
        "    return 0\n",
        "  else:\n",
        "    return (1+np.cos((2*np.pi*k)/(N+2)))/2\n",
        "\n",
        "def W(N):#returns callable function of frequency\n",
        "  assert N % 2 == 0, \"N should be even\"\n",
        "  k_values = np.arange(-N/2, N/2+1)\n",
        "  w_values = [w(k, N) for k in k_values]\n",
        "  return dtft(w_values, fs=2*np.pi, t0=N/2) #sets f_s such that f=Omega, sets k=0 to center of han window\n",
        "\n",
        "def h_w(k, Omega_c, N):\n",
        "  assert N % 2 == 0, \"N should be even\"\n",
        "  normalisation = np.sum([h(k, Omega_c)*w(k, N) for k in np.arange(-N/2,N/2+1)])\n",
        "  return h(k, Omega_c)*w(k, N)/normalisation\n",
        "\n",
        "def H_w(Omega_c, N):\n",
        "  k_values = np.arange(-N/2, N/2+1)\n",
        "  h_w_values = [h_w(k, Omega_c, N) for k in k_values]\n",
        "  return dtft(h_w_values, fs=2*np.pi, t0=N/2) #sets f_s such that f=Omega, sets k=0 to center result\n",
        "\n",
        "################################################################################\n",
        "\n",
        "#read in parameters\n",
        "NG = 10\n",
        "Omega_cG = np.pi/2\n",
        "def update_parameters(N, Omega_c):\n",
        "  global NG, Omega_cG\n",
        "  NG, Omega_cG = N, Omega_c\n",
        "widgets.interact(update_parameters, N = widgets.IntSlider(min=2, max=20, value=10, step=2), Omega_c = widgets.FloatSlider(min=0, max=np.pi, value=np.pi/2))\n",
        "\n",
        "#drawing plots\n",
        "def plot2():\n",
        "  Omega_values = np.linspace(-np.pi, np.pi,100)\n",
        "  k_values = np.arange(-10, 10)\n",
        "\n",
        "  H_values = [H(Omega, Omega_cG) for Omega in Omega_values]\n",
        "  h_values = [h(k, Omega_cG) for k in k_values]\n",
        "  W_values = np.abs([W(NG)(Omega) for Omega in Omega_values])#should be real and positive, however some error in calculations\n",
        "  w_values = [w(k, NG) for k in k_values]\n",
        "\n",
        "  H_w_values = np.abs([H_w(Omega_cG, NG)(Omega) for Omega in Omega_values])#should be real and positive, however some error in calculations\n",
        "  h_w_values = [h_w(k, Omega_cG, NG) for k in k_values]\n",
        "\n",
        "  G_values = H_w_values #same amplitude\n",
        "  g_values = [h_w(k-NG/2, Omega_cG, NG) for k in k_values]\n",
        "\n",
        "  fig = plt.figure(figsize=(20, 8))\n",
        "\n",
        "  ax1 = fig.add_subplot(1, 2, 1)\n",
        "  ax1.grid()\n",
        "  ax1.set_xlabel('$\\Omega$', fontsize=14)\n",
        "  ax1.axis(xmin=Omega_values[0], xmax=Omega_values[-1], ymin=0, ymax=6)\n",
        "  ax1.plot(Omega_values, W_values, 'b', alpha=0.5, markersize=8);\n",
        "  ax1.plot(Omega_values, H_values, 'r', alpha=0.5, markersize=8);\n",
        "  ax1.legend(['$W(\\Omega)$', '$H(\\Omega)$'])\n",
        "\n",
        "  ax2 = fig.add_subplot(1, 2, 2)\n",
        "  ax2.grid()\n",
        "  ax2.set_xlabel('$k$', fontsize=14)\n",
        "  ax2.axis(xmin=-10, xmax=10, ymin=0, ymax=1.5)\n",
        "  ax2.stem(k_values, w_values, linefmt='b:', markerfmt='bo', use_line_collection=True);\n",
        "  ax2.stem(k_values, h_values, linefmt='r:', markerfmt='ro', use_line_collection=True);\n",
        "  ax2.legend(['$w[k]$', '$h[k]$'])\n",
        "\n",
        "  fig2 = plt.figure(figsize=(20, 8))\n",
        "\n",
        "  ax2_1 = fig2.add_subplot(1, 2, 1)\n",
        "  ax2_1.grid()\n",
        "  ax2_1.set_xlabel('$\\Omega$', fontsize=14)\n",
        "  ax2_1.axis(xmin=Omega_values[0], xmax=Omega_values[-1], ymin=0, ymax=6)\n",
        "  ax2_1.plot(Omega_values, H_w_values, 'b', alpha=0.5, markersize=8);\n",
        "  ax2_1.plot(Omega_values, G_values, 'r:', alpha=0.5, markersize=8);\n",
        "  ax2_1.legend(['$H_w(\\Omega)$', '$G(\\Omega)$'])\n",
        "\n",
        "  ax2_2 = fig2.add_subplot(1, 2, 2)\n",
        "  ax2_2.grid()\n",
        "  ax2_2.set_xlabel('$k$', fontsize=14)\n",
        "  ax2_2.axis(xmin=-10, xmax=10, ymin=0, ymax=1.5)\n",
        "  ax2_2.stem(k_values, h_w_values, linefmt='b:', markerfmt='bo', use_line_collection=True);\n",
        "  ax2_2.stem(k_values, g_values, linefmt='r:', markerfmt='ro', use_line_collection=True);\n",
        "  ax2_2.legend(['$h_w[k]$', '$g[k]$'])\n"
      ],
      "execution_count": 172,
      "outputs": [
        {
          "output_type": "display_data",
          "data": {
            "application/vnd.jupyter.widget-view+json": {
              "model_id": "37ae382c019e45b2acc95cfc750ebbf9",
              "version_minor": 0,
              "version_major": 2
            },
            "text/plain": [
              "interactive(children=(IntSlider(value=10, description='N', max=20, min=2, step=2), FloatSlider(value=1.5707963…"
            ]
          },
          "metadata": {
            "tags": []
          }
        }
      ]
    },
    {
      "cell_type": "markdown",
      "metadata": {
        "id": "e3QTCSAwSHr3"
      },
      "source": [
        "You may set the specifications for the lowpass filter with Omega_c $(\\Omega_c)$ and the fidelity of the Han filter with $N$. The higher $N$ the more the frequency response of $w$ approaches a dirac-delta function at the cost of a wider duration (time domain). Additionally you can see the effect on the convolution of the low pass with the Han window, the wider the window the fewer distortions occur in the frequency domain. The shifted filter $g$ shows the same amplitude response, is however causal in the time domain."
      ]
    },
    {
      "cell_type": "code",
      "metadata": {
        "colab": {
          "base_uri": "https://localhost:8080/",
          "height": 1000
        },
        "id": "AK0J83qID4dG",
        "outputId": "8b5d53de-bc38-4fce-a85d-405d75146721"
      },
      "source": [
        "plot2()"
      ],
      "execution_count": 174,
      "outputs": [
        {
          "output_type": "display_data",
          "data": {
            "image/png": "[encoded data removed]",
            "text/plain": [
              "<Figure size 1440x576 with 2 Axes>"
            ]
          },
          "metadata": {
            "tags": [],
            "needs_background": "light"
          }
        },
        {
          "output_type": "display_data",
          "data": {
            "image/png": "[encoded data removed]",
            "text/plain": [
              "<Figure size 1440x576 with 2 Axes>"
            ]
          },
          "metadata": {
            "tags": [],
            "needs_background": "light"
          }
        }
      ]
    },
    {
      "cell_type": "markdown",
      "metadata": {
        "id": "2tyCrrrmY1wO"
      },
      "source": [
        "## IIR Filter design"
      ]
    }
  ]
}