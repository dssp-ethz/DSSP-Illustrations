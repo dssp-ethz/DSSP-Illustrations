{
  "nbformat": 4,
  "nbformat_minor": 0,
  "metadata": {
    "colab": {
      "name": "DSSP From Discrete Time to Continuous Time and Back.ipynb",
      "provenance": [],
      "collapsed_sections": [],
      "authorship_tag": "ABX9TyOrrt33PLEBNyvjy2G1S/SS",
      "include_colab_link": true
    },
    "kernelspec": {
      "name": "python3",
      "display_name": "Python 3"
    },
    "language_info": {
      "name": "python"
    },
    "widgets": {
      "application/vnd.jupyter.widget-state+json": {
        "6a86faac878444d3b189549b9465a94c": {
          "model_module": "@jupyter-widgets/controls",
          "model_name": "VBoxModel",
          "state": {
            "_view_name": "VBoxView",
            "_dom_classes": [
              "widget-interact"
            ],
            "_model_name": "VBoxModel",
            "_view_module": "@jupyter-widgets/controls",
            "_model_module_version": "1.5.0",
            "_view_count": null,
            "_view_module_version": "1.5.0",
            "box_style": "",
            "layout": "IPY_MODEL_7cc54636396b4a8598f65000a0e6fecf",
            "_model_module": "@jupyter-widgets/controls",
            "children": [
              "IPY_MODEL_aecf2047c9a14e5c846f138340ab7f41",
              "IPY_MODEL_fdbdba490328471193ba60a82dabbe9c",
              "IPY_MODEL_3cb6f5afad9f479694315cabe80a68bb"
            ]
          }
        },
        "7cc54636396b4a8598f65000a0e6fecf": {
          "model_module": "@jupyter-widgets/base",
          "model_name": "LayoutModel",
          "state": {
            "_view_name": "LayoutView",
            "grid_template_rows": null,
            "right": null,
            "justify_content": null,
            "_view_module": "@jupyter-widgets/base",
            "overflow": null,
            "_model_module_version": "1.2.0",
            "_view_count": null,
            "flex_flow": null,
            "width": null,
            "min_width": null,
            "border": null,
            "align_items": null,
            "bottom": null,
            "_model_module": "@jupyter-widgets/base",
            "top": null,
            "grid_column": null,
            "overflow_y": null,
            "overflow_x": null,
            "grid_auto_flow": null,
            "grid_area": null,
            "grid_template_columns": null,
            "flex": null,
            "_model_name": "LayoutModel",
            "justify_items": null,
            "grid_row": null,
            "max_height": null,
            "align_content": null,
            "visibility": null,
            "align_self": null,
            "height": null,
            "min_height": null,
            "padding": null,
            "grid_auto_rows": null,
            "grid_gap": null,
            "max_width": null,
            "order": null,
            "_view_module_version": "1.2.0",
            "grid_template_areas": null,
            "object_position": null,
            "object_fit": null,
            "grid_auto_columns": null,
            "margin": null,
            "display": null,
            "left": null
          }
        },
        "aecf2047c9a14e5c846f138340ab7f41": {
          "model_module": "@jupyter-widgets/controls",
          "model_name": "IntSliderModel",
          "state": {
            "_view_name": "IntSliderView",
            "style": "IPY_MODEL_bb1dbefa7c6146d88115d59651f84f45",
            "_dom_classes": [],
            "description": "f_0",
            "step": 1,
            "_model_name": "IntSliderModel",
            "orientation": "horizontal",
            "max": 20,
            "_view_module": "@jupyter-widgets/controls",
            "_model_module_version": "1.5.0",
            "value": 10,
            "_view_count": null,
            "disabled": false,
            "_view_module_version": "1.5.0",
            "min": 1,
            "continuous_update": true,
            "readout_format": "d",
            "description_tooltip": null,
            "readout": true,
            "_model_module": "@jupyter-widgets/controls",
            "layout": "IPY_MODEL_d2ddd63872f4407e9ea36e2086a10777"
          }
        },
        "fdbdba490328471193ba60a82dabbe9c": {
          "model_module": "@jupyter-widgets/controls",
          "model_name": "FloatSliderModel",
          "state": {
            "_view_name": "FloatSliderView",
            "style": "IPY_MODEL_f618a3252a784e03b2fd83fe15726b57",
            "_dom_classes": [],
            "description": "f_s",
            "step": 0.1,
            "_model_name": "FloatSliderModel",
            "orientation": "horizontal",
            "max": 2.5,
            "_view_module": "@jupyter-widgets/controls",
            "_model_module_version": "1.5.0",
            "value": 1.5,
            "_view_count": null,
            "disabled": false,
            "_view_module_version": "1.5.0",
            "min": 0.5,
            "continuous_update": true,
            "readout_format": ".2f",
            "description_tooltip": null,
            "readout": true,
            "_model_module": "@jupyter-widgets/controls",
            "layout": "IPY_MODEL_c7e671b2b3fb4f3ba33261ff23c934b8"
          }
        },
        "3cb6f5afad9f479694315cabe80a68bb": {
          "model_module": "@jupyter-widgets/output",
          "model_name": "OutputModel",
          "state": {
            "_view_name": "OutputView",
            "msg_id": "",
            "_dom_classes": [],
            "_model_name": "OutputModel",
            "outputs": [],
            "_view_module": "@jupyter-widgets/output",
            "_model_module_version": "1.0.0",
            "_view_count": null,
            "_view_module_version": "1.0.0",
            "layout": "IPY_MODEL_f88322467927458a9030ea4c040f3b31",
            "_model_module": "@jupyter-widgets/output"
          }
        },
        "bb1dbefa7c6146d88115d59651f84f45": {
          "model_module": "@jupyter-widgets/controls",
          "model_name": "SliderStyleModel",
          "state": {
            "_view_name": "StyleView",
            "handle_color": null,
            "_model_name": "SliderStyleModel",
            "description_width": "",
            "_view_module": "@jupyter-widgets/base",
            "_model_module_version": "1.5.0",
            "_view_count": null,
            "_view_module_version": "1.2.0",
            "_model_module": "@jupyter-widgets/controls"
          }
        },
        "d2ddd63872f4407e9ea36e2086a10777": {
          "model_module": "@jupyter-widgets/base",
          "model_name": "LayoutModel",
          "state": {
            "_view_name": "LayoutView",
            "grid_template_rows": null,
            "right": null,
            "justify_content": null,
            "_view_module": "@jupyter-widgets/base",
            "overflow": null,
            "_model_module_version": "1.2.0",
            "_view_count": null,
            "flex_flow": null,
            "width": null,
            "min_width": null,
            "border": null,
            "align_items": null,
            "bottom": null,
            "_model_module": "@jupyter-widgets/base",
            "top": null,
            "grid_column": null,
            "overflow_y": null,
            "overflow_x": null,
            "grid_auto_flow": null,
            "grid_area": null,
            "grid_template_columns": null,
            "flex": null,
            "_model_name": "LayoutModel",
            "justify_items": null,
            "grid_row": null,
            "max_height": null,
            "align_content": null,
            "visibility": null,
            "align_self": null,
            "height": null,
            "min_height": null,
            "padding": null,
            "grid_auto_rows": null,
            "grid_gap": null,
            "max_width": null,
            "order": null,
            "_view_module_version": "1.2.0",
            "grid_template_areas": null,
            "object_position": null,
            "object_fit": null,
            "grid_auto_columns": null,
            "margin": null,
            "display": null,
            "left": null
          }
        },
        "f618a3252a784e03b2fd83fe15726b57": {
          "model_module": "@jupyter-widgets/controls",
          "model_name": "SliderStyleModel",
          "state": {
            "_view_name": "StyleView",
            "handle_color": null,
            "_model_name": "SliderStyleModel",
            "description_width": "",
            "_view_module": "@jupyter-widgets/base",
            "_model_module_version": "1.5.0",
            "_view_count": null,
            "_view_module_version": "1.2.0",
            "_model_module": "@jupyter-widgets/controls"
          }
        },
        "c7e671b2b3fb4f3ba33261ff23c934b8": {
          "model_module": "@jupyter-widgets/base",
          "model_name": "LayoutModel",
          "state": {
            "_view_name": "LayoutView",
            "grid_template_rows": null,
            "right": null,
            "justify_content": null,
            "_view_module": "@jupyter-widgets/base",
            "overflow": null,
            "_model_module_version": "1.2.0",
            "_view_count": null,
            "flex_flow": null,
            "width": null,
            "min_width": null,
            "border": null,
            "align_items": null,
            "bottom": null,
            "_model_module": "@jupyter-widgets/base",
            "top": null,
            "grid_column": null,
            "overflow_y": null,
            "overflow_x": null,
            "grid_auto_flow": null,
            "grid_area": null,
            "grid_template_columns": null,
            "flex": null,
            "_model_name": "LayoutModel",
            "justify_items": null,
            "grid_row": null,
            "max_height": null,
            "align_content": null,
            "visibility": null,
            "align_self": null,
            "height": null,
            "min_height": null,
            "padding": null,
            "grid_auto_rows": null,
            "grid_gap": null,
            "max_width": null,
            "order": null,
            "_view_module_version": "1.2.0",
            "grid_template_areas": null,
            "object_position": null,
            "object_fit": null,
            "grid_auto_columns": null,
            "margin": null,
            "display": null,
            "left": null
          }
        },
        "f88322467927458a9030ea4c040f3b31": {
          "model_module": "@jupyter-widgets/base",
          "model_name": "LayoutModel",
          "state": {
            "_view_name": "LayoutView",
            "grid_template_rows": null,
            "right": null,
            "justify_content": null,
            "_view_module": "@jupyter-widgets/base",
            "overflow": null,
            "_model_module_version": "1.2.0",
            "_view_count": null,
            "flex_flow": null,
            "width": null,
            "min_width": null,
            "border": null,
            "align_items": null,
            "bottom": null,
            "_model_module": "@jupyter-widgets/base",
            "top": null,
            "grid_column": null,
            "overflow_y": null,
            "overflow_x": null,
            "grid_auto_flow": null,
            "grid_area": null,
            "grid_template_columns": null,
            "flex": null,
            "_model_name": "LayoutModel",
            "justify_items": null,
            "grid_row": null,
            "max_height": null,
            "align_content": null,
            "visibility": null,
            "align_self": null,
            "height": null,
            "min_height": null,
            "padding": null,
            "grid_auto_rows": null,
            "grid_gap": null,
            "max_width": null,
            "order": null,
            "_view_module_version": "1.2.0",
            "grid_template_areas": null,
            "object_position": null,
            "object_fit": null,
            "grid_auto_columns": null,
            "margin": null,
            "display": null,
            "left": null
          }
        }
      }
    }
  },
  "cells": [
    {
      "cell_type": "markdown",
      "metadata": {
        "id": "view-in-github",
        "colab_type": "text"
      },
      "source": [
        "<a href=\"https://colab.research.google.com/github/dssp-ethz/DSSP-Illustrations/blob/main/DSSP_From_Discrete_Time_to_Continuous_Time_and_Back.ipynb\" target=\"_parent\"><img src=\"https://colab.research.google.com/assets/colab-badge.svg\" alt=\"Open In Colab\"/></a>"
      ]
    },
    {
      "cell_type": "markdown",
      "metadata": {
        "id": "MD_wqMji8hfF"
      },
      "source": [
        "# Sampling Theorem"
      ]
    },
    {
      "cell_type": "markdown",
      "metadata": {
        "id": "RzmZFSFC9pJS"
      },
      "source": [
        "## Problem 2.6 (as of 2020)"
      ]
    },
    {
      "cell_type": "markdown",
      "metadata": {
        "id": "B8c7asjf9wo_"
      },
      "source": [
        "Let $F(i2\\pi f) = \\begin{cases} 1 - |f|/f_0 & |f| < f_0\\\\ 0 & \\text{otherwise}\\end{cases}$\n",
        "\n",
        "Sketch the spectrum $F_s(e^{i \\Omega})$ of the sampled signal $f_s [k] = T f(kT)$ for \n",
        "\n",
        "1.   $T = 1/(2f_0) \\ \\iff f_s = 2 f_0$\n",
        "2.   $T = 1/(\\frac{3}{2}f_0) \\iff f_s = \\frac{3}{2} f_0$\n",
        "3.   $T = 1/(f_0) \\ \\ \\ \\iff f_s = f_0$\n",
        "\n",
        "$Y_s(z) = \\sum\\limits_{s\\in\\mathbb{C} : e^{sT} = z} Y(s) \\qquad$ (2.48 in lecture notes)\n",
        "\n",
        "\n"
      ]
    },
    {
      "cell_type": "code",
      "metadata": {
        "colab": {
          "base_uri": "https://localhost:8080/",
          "height": 81,
          "referenced_widgets": [
            "6a86faac878444d3b189549b9465a94c",
            "7cc54636396b4a8598f65000a0e6fecf",
            "aecf2047c9a14e5c846f138340ab7f41",
            "fdbdba490328471193ba60a82dabbe9c",
            "3cb6f5afad9f479694315cabe80a68bb",
            "bb1dbefa7c6146d88115d59651f84f45",
            "d2ddd63872f4407e9ea36e2086a10777",
            "f618a3252a784e03b2fd83fe15726b57",
            "c7e671b2b3fb4f3ba33261ff23c934b8",
            "f88322467927458a9030ea4c040f3b31"
          ]
        },
        "id": "l-nDOrWw8ZOe",
        "outputId": "22970421-d333-4cf7-ad53-9b4ee97386da"
      },
      "source": [
        "import ipywidgets as widgets\n",
        "import numpy as np\n",
        "import matplotlib.pyplot as plt\n",
        "%matplotlib inline\n",
        "#-------------------------------------------------------------------------------\n",
        "\n",
        "#read in parameters\n",
        "f_0G = 10\n",
        "f_sG = 1.5\n",
        "def update_parameters(f_0, f_s):\n",
        "  global f_0G, f_sG\n",
        "  f_0G, f_sG = f_0, f_s * f_0 #multiples of f_0\n",
        "widgets.interact(update_parameters, f_0 = widgets.IntSlider(min=1, max=20, value=10), f_s = widgets.FloatSlider(min=0.5, max=2.5, value=1.5))\n",
        "\n",
        "#Important Stuff\n",
        "################################################################################\n",
        "#example signal\n",
        "def f(t, f_0):\n",
        "  return np.sin(np.pi*f_0*t)**2/(np.pi^2*f_0*t^2) #IFT of F\n",
        "\n",
        "#example spectrum, unless specified f_0 is at 10 Hz\n",
        "def F(f, f_0):\n",
        "  if abs(f) > f_0:\n",
        "    return 0\n",
        "  else:\n",
        "    return 1 - np.abs(f)/f_0\n",
        "\n",
        "def F_s(Omega, f_s, f_0):\n",
        "  f = Omega*f_s/(2*np.pi)\n",
        "  s = 0\n",
        "  #F_s(Omega) = sum_{n\\in Z} F(i*(Omega+n*2pi))\n",
        "  for n in range(-10,10):#only some of the frequency spectrum will be summed over for computational reasons\n",
        "    s += F(f+n*f_s, f_0)\n",
        "  return s\n",
        "################################################################################\n",
        "\n",
        "#range to display\n",
        "f_values = np.linspace(-2*f_0G,2*f_0G,100)\n",
        "Omega_values = np.linspace(-3*np.pi, 3*np.pi, 100)\n",
        "t_values = np.linspace(-10,10)\n",
        "\n",
        "def plot():\n",
        "  y_values = [F(f, f_0G) for f in f_values]\n",
        "  y2_values = [F_s(Omega, f_sG, f_0G) for Omega in Omega_values]\n",
        "\n",
        "  fig = plt.figure(figsize=(20, 8))\n",
        "\n",
        "  ax1 = fig.add_subplot(1, 2, 1)\n",
        "  ax1.grid()\n",
        "  ax1.set_xlabel('$f$', fontsize=14)\n",
        "  ax1.set_ylabel('$F(2\\pi\\ i\\ f)$', fontsize=14)\n",
        "  ax1.axis(xmin=f_values[0], xmax=f_values[-1], ymin=0, ymax=1.5)\n",
        "  ax1.plot(f_values, y_values, alpha=0.5, marker='o', markersize=8);\n",
        "\n",
        "  ax2 = fig.add_subplot(1, 2, 2)\n",
        "  ax2.grid()\n",
        "  ax2.set_xlabel('$\\Omega$', fontsize=14)\n",
        "  ax2.set_ylabel('$F_s(e^{i\\Omega})$', fontsize=14)\n",
        "  ax2.axis(xmin=Omega_values[0], xmax=Omega_values[-1], ymin=0, ymax=1.5)\n",
        "  ax2.plot(Omega_values, y2_values, alpha=0.5, marker='o', markersize=8);\n",
        "\n",
        "def plot_time():\n",
        "  y_values = [f(t, f_0G) for t in t_values]\n",
        "  y2_values = [F_s(Omega, f_sG, f_0G) for Omega in Omega_values]\n",
        "\n",
        "  fig = plt.figure(figsize=(20, 8))\n",
        "\n",
        "  ax1 = fig.add_subplot(1, 2, 1)\n",
        "  ax1.grid()\n",
        "  ax1.set_xlabel('$t$', fontsize=14)\n",
        "  ax1.set_ylabel('$f(t)$', fontsize=14)\n",
        "  ax1.axis(xmin=t_values[0], xmax=t_values[-1], ymin=0, ymax=1.5)\n",
        "  ax1.plot(t_values, y_values, alpha=0.5, marker='o', markersize=8);\n",
        "\n",
        "  ax2 = fig.add_subplot(1, 2, 2)\n",
        "  ax2.grid()\n",
        "  ax2.set_xlabel('$\\Omega$', fontsize=14)\n",
        "  ax2.set_ylabel('$F_s(e^{i\\Omega})$', fontsize=14)\n",
        "  ax2.axis(xmin=Omega_values[0], xmax=Omega_values[-1], ymin=0, ymax=1.5)\n",
        "  ax2.plot(Omega_values, y2_values, alpha=0.5, marker='o', markersize=8);"
      ],
      "execution_count": 75,
      "outputs": [
        {
          "output_type": "display_data",
          "data": {
            "application/vnd.jupyter.widget-view+json": {
              "model_id": "6a86faac878444d3b189549b9465a94c",
              "version_minor": 0,
              "version_major": 2
            },
            "text/plain": [
              "interactive(children=(IntSlider(value=10, description='f_0', max=20, min=1), FloatSlider(value=1.0, descriptio…"
            ]
          },
          "metadata": {
            "tags": []
          }
        }
      ]
    },
    {
      "cell_type": "markdown",
      "metadata": {
        "id": "pO5bMTloKB6e"
      },
      "source": [
        "$f_0$ can be set in Hertz while $f_s$ is a multiple of $f_0$ (also set with slider)."
      ]
    },
    {
      "cell_type": "code",
      "metadata": {
        "colab": {
          "base_uri": "https://localhost:8080/",
          "height": 419
        },
        "id": "ijEoRug4Dzo0",
        "outputId": "6331ca79-0dea-43df-aa58-81f59d1fc243"
      },
      "source": [
        "plot()"
      ],
      "execution_count": 83,
      "outputs": [
        {
          "output_type": "display_data",
          "data": {
            "image/png": "[encoded data removed]",
            "text/plain": [
              "<Figure size 1440x576 with 2 Axes>"
            ]
          },
          "metadata": {
            "tags": [],
            "needs_background": "light"
          }
        }
      ]
    },
    {
      "cell_type": "markdown",
      "metadata": {
        "id": "sE_zdvuoLmon"
      },
      "source": [
        "Having seen the effect on the spectrum you may wonder how the time domain changes if aliasing occurs."
      ]
    },
    {
      "cell_type": "code",
      "metadata": {
        "id": "qtaF42pxLmDD"
      },
      "source": [
        "plot_time()"
      ],
      "execution_count": null,
      "outputs": []
    }
  ]
}