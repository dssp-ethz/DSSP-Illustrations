{
  "nbformat": 4,
  "nbformat_minor": 0,
  "metadata": {
    "colab": {
      "name": "DSSP From Discrete Time to Continuous Time and Back.ipynb",
      "provenance": [],
      "collapsed_sections": [],
      "authorship_tag": "ABX9TyN8r/l28uNNbqfuEmr4n/C7",
      "include_colab_link": true
    },
    "kernelspec": {
      "name": "python3",
      "display_name": "Python 3"
    },
    "language_info": {
      "name": "python"
    }
  },
  "cells": [
    {
      "cell_type": "markdown",
      "metadata": {
        "id": "view-in-github",
        "colab_type": "text"
      },
      "source": [
        "<a href=\"https://colab.research.google.com/github/dssp-ethz/DSSP-Illustrations/blob/main/DSSP_From_Discrete_Time_to_Continuous_Time_and_Back.ipynb\" target=\"_parent\"><img src=\"https://colab.research.google.com/assets/colab-badge.svg\" alt=\"Open In Colab\"/></a>"
      ]
    },
    {
      "cell_type": "markdown",
      "metadata": {
        "id": "MD_wqMji8hfF"
      },
      "source": [
        "# Sampling Theorem"
      ]
    },
    {
      "cell_type": "markdown",
      "metadata": {
        "id": "RzmZFSFC9pJS"
      },
      "source": [
        "## Problem 2.6 (as of 2020)"
      ]
    },
    {
      "cell_type": "markdown",
      "metadata": {
        "id": "B8c7asjf9wo_"
      },
      "source": [
        "Let $F(i2\\pi f) = \\begin{cases} 1 - |f|/f_0 & |f| < f_0\\\\ 0 & \\text{otherwise}\\end{cases}$\n",
        "\n",
        "Sketch the spectrum $F_s(e^{i \\Omega})$ of the sampled signal $f_s [k] = T f(kT)$ for \n",
        "\n",
        "1.   $T = 1/(2f_0)$\n",
        "2.   $T = 1/(\\frac{3}{2}f_0)$\n",
        "3.   $T = 1/(f_0)$\n",
        "\n",
        "$Y_s(z) = \\sum\\limits_{s\\in\\mathbb{C} : e^{sT} = z} Y(s) \\qquad$ (2.48 in lecture notes)\n",
        "\n",
        "\n"
      ]
    },
    {
      "cell_type": "code",
      "metadata": {
        "id": "l-nDOrWw8ZOe"
      },
      "source": [
        ""
      ],
      "execution_count": null,
      "outputs": []
    }
  ]
}