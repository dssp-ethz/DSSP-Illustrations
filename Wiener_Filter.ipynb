{
  "nbformat": 4,
  "nbformat_minor": 0,
  "metadata": {
    "colab": {
      "name": "Wiener Filter.ipynb",
      "provenance": [],
      "collapsed_sections": [],
      "authorship_tag": "ABX9TyPOJC+PGnAXRrUlNin56ZL3",
      "include_colab_link": true
    },
    "kernelspec": {
      "name": "python3",
      "display_name": "Python 3"
    },
    "language_info": {
      "name": "python"
    },
    "widgets": {
      "application/vnd.jupyter.widget-state+json": {
        "18ebb9edf92e4640982e089317e0a9d3": {
          "model_module": "@jupyter-widgets/controls",
          "model_name": "VBoxModel",
          "state": {
            "_view_name": "VBoxView",
            "_dom_classes": [
              "widget-interact"
            ],
            "_model_name": "VBoxModel",
            "_view_module": "@jupyter-widgets/controls",
            "_model_module_version": "1.5.0",
            "_view_count": null,
            "_view_module_version": "1.5.0",
            "box_style": "",
            "layout": "IPY_MODEL_bb9813637adb4fdc851397471d2f485e",
            "_model_module": "@jupyter-widgets/controls",
            "children": [
              "IPY_MODEL_f056b2632b0442599eb91756e8027d71",
              "IPY_MODEL_b2c257dfab9e47039d81587241634b51",
              "IPY_MODEL_b1aff39fbadc49bd8dd7b1997a649349"
            ]
          }
        },
        "bb9813637adb4fdc851397471d2f485e": {
          "model_module": "@jupyter-widgets/base",
          "model_name": "LayoutModel",
          "state": {
            "_view_name": "LayoutView",
            "grid_template_rows": null,
            "right": null,
            "justify_content": null,
            "_view_module": "@jupyter-widgets/base",
            "overflow": null,
            "_model_module_version": "1.2.0",
            "_view_count": null,
            "flex_flow": null,
            "width": null,
            "min_width": null,
            "border": null,
            "align_items": null,
            "bottom": null,
            "_model_module": "@jupyter-widgets/base",
            "top": null,
            "grid_column": null,
            "overflow_y": null,
            "overflow_x": null,
            "grid_auto_flow": null,
            "grid_area": null,
            "grid_template_columns": null,
            "flex": null,
            "_model_name": "LayoutModel",
            "justify_items": null,
            "grid_row": null,
            "max_height": null,
            "align_content": null,
            "visibility": null,
            "align_self": null,
            "height": null,
            "min_height": null,
            "padding": null,
            "grid_auto_rows": null,
            "grid_gap": null,
            "max_width": null,
            "order": null,
            "_view_module_version": "1.2.0",
            "grid_template_areas": null,
            "object_position": null,
            "object_fit": null,
            "grid_auto_columns": null,
            "margin": null,
            "display": null,
            "left": null
          }
        },
        "f056b2632b0442599eb91756e8027d71": {
          "model_module": "@jupyter-widgets/controls",
          "model_name": "DropdownModel",
          "state": {
            "_options_labels": [
              "unit step",
              "unit impulse",
              "ramp",
              "exponential",
              "sinus",
              "sinus squared"
            ],
            "_view_name": "DropdownView",
            "style": "IPY_MODEL_6c87edf1d9cc4d85b15de98372f1fecd",
            "_dom_classes": [],
            "description": "signal type",
            "_model_name": "DropdownModel",
            "index": 4,
            "_view_module": "@jupyter-widgets/controls",
            "_model_module_version": "1.5.0",
            "_view_count": null,
            "disabled": false,
            "_view_module_version": "1.5.0",
            "description_tooltip": null,
            "_model_module": "@jupyter-widgets/controls",
            "layout": "IPY_MODEL_b875a1e23b6b4ed3b2e5c958c135437b"
          }
        },
        "b2c257dfab9e47039d81587241634b51": {
          "model_module": "@jupyter-widgets/controls",
          "model_name": "IntSliderModel",
          "state": {
            "_view_name": "IntSliderView",
            "style": "IPY_MODEL_1bcd64b581ef48b985f83836c4d27909",
            "_dom_classes": [],
            "description": "parameter",
            "step": 1,
            "_model_name": "IntSliderModel",
            "orientation": "horizontal",
            "max": 10,
            "_view_module": "@jupyter-widgets/controls",
            "_model_module_version": "1.5.0",
            "value": 1,
            "_view_count": null,
            "disabled": false,
            "_view_module_version": "1.5.0",
            "min": -10,
            "continuous_update": true,
            "readout_format": "d",
            "description_tooltip": null,
            "readout": true,
            "_model_module": "@jupyter-widgets/controls",
            "layout": "IPY_MODEL_7ce0b9a40d4e43e8928f4bb589c56aa0"
          }
        },
        "b1aff39fbadc49bd8dd7b1997a649349": {
          "model_module": "@jupyter-widgets/output",
          "model_name": "OutputModel",
          "state": {
            "_view_name": "OutputView",
            "msg_id": "",
            "_dom_classes": [],
            "_model_name": "OutputModel",
            "outputs": [],
            "_view_module": "@jupyter-widgets/output",
            "_model_module_version": "1.0.0",
            "_view_count": null,
            "_view_module_version": "1.0.0",
            "layout": "IPY_MODEL_b9f737f8102a40d8afa2969c66ae281a",
            "_model_module": "@jupyter-widgets/output"
          }
        },
        "6c87edf1d9cc4d85b15de98372f1fecd": {
          "model_module": "@jupyter-widgets/controls",
          "model_name": "DescriptionStyleModel",
          "state": {
            "_view_name": "StyleView",
            "_model_name": "DescriptionStyleModel",
            "description_width": "",
            "_view_module": "@jupyter-widgets/base",
            "_model_module_version": "1.5.0",
            "_view_count": null,
            "_view_module_version": "1.2.0",
            "_model_module": "@jupyter-widgets/controls"
          }
        },
        "b875a1e23b6b4ed3b2e5c958c135437b": {
          "model_module": "@jupyter-widgets/base",
          "model_name": "LayoutModel",
          "state": {
            "_view_name": "LayoutView",
            "grid_template_rows": null,
            "right": null,
            "justify_content": null,
            "_view_module": "@jupyter-widgets/base",
            "overflow": null,
            "_model_module_version": "1.2.0",
            "_view_count": null,
            "flex_flow": null,
            "width": null,
            "min_width": null,
            "border": null,
            "align_items": null,
            "bottom": null,
            "_model_module": "@jupyter-widgets/base",
            "top": null,
            "grid_column": null,
            "overflow_y": null,
            "overflow_x": null,
            "grid_auto_flow": null,
            "grid_area": null,
            "grid_template_columns": null,
            "flex": null,
            "_model_name": "LayoutModel",
            "justify_items": null,
            "grid_row": null,
            "max_height": null,
            "align_content": null,
            "visibility": null,
            "align_self": null,
            "height": null,
            "min_height": null,
            "padding": null,
            "grid_auto_rows": null,
            "grid_gap": null,
            "max_width": null,
            "order": null,
            "_view_module_version": "1.2.0",
            "grid_template_areas": null,
            "object_position": null,
            "object_fit": null,
            "grid_auto_columns": null,
            "margin": null,
            "display": null,
            "left": null
          }
        },
        "1bcd64b581ef48b985f83836c4d27909": {
          "model_module": "@jupyter-widgets/controls",
          "model_name": "SliderStyleModel",
          "state": {
            "_view_name": "StyleView",
            "handle_color": null,
            "_model_name": "SliderStyleModel",
            "description_width": "",
            "_view_module": "@jupyter-widgets/base",
            "_model_module_version": "1.5.0",
            "_view_count": null,
            "_view_module_version": "1.2.0",
            "_model_module": "@jupyter-widgets/controls"
          }
        },
        "7ce0b9a40d4e43e8928f4bb589c56aa0": {
          "model_module": "@jupyter-widgets/base",
          "model_name": "LayoutModel",
          "state": {
            "_view_name": "LayoutView",
            "grid_template_rows": null,
            "right": null,
            "justify_content": null,
            "_view_module": "@jupyter-widgets/base",
            "overflow": null,
            "_model_module_version": "1.2.0",
            "_view_count": null,
            "flex_flow": null,
            "width": null,
            "min_width": null,
            "border": null,
            "align_items": null,
            "bottom": null,
            "_model_module": "@jupyter-widgets/base",
            "top": null,
            "grid_column": null,
            "overflow_y": null,
            "overflow_x": null,
            "grid_auto_flow": null,
            "grid_area": null,
            "grid_template_columns": null,
            "flex": null,
            "_model_name": "LayoutModel",
            "justify_items": null,
            "grid_row": null,
            "max_height": null,
            "align_content": null,
            "visibility": null,
            "align_self": null,
            "height": null,
            "min_height": null,
            "padding": null,
            "grid_auto_rows": null,
            "grid_gap": null,
            "max_width": null,
            "order": null,
            "_view_module_version": "1.2.0",
            "grid_template_areas": null,
            "object_position": null,
            "object_fit": null,
            "grid_auto_columns": null,
            "margin": null,
            "display": null,
            "left": null
          }
        },
        "b9f737f8102a40d8afa2969c66ae281a": {
          "model_module": "@jupyter-widgets/base",
          "model_name": "LayoutModel",
          "state": {
            "_view_name": "LayoutView",
            "grid_template_rows": null,
            "right": null,
            "justify_content": null,
            "_view_module": "@jupyter-widgets/base",
            "overflow": null,
            "_model_module_version": "1.2.0",
            "_view_count": null,
            "flex_flow": null,
            "width": null,
            "min_width": null,
            "border": null,
            "align_items": null,
            "bottom": null,
            "_model_module": "@jupyter-widgets/base",
            "top": null,
            "grid_column": null,
            "overflow_y": null,
            "overflow_x": null,
            "grid_auto_flow": null,
            "grid_area": null,
            "grid_template_columns": null,
            "flex": null,
            "_model_name": "LayoutModel",
            "justify_items": null,
            "grid_row": null,
            "max_height": null,
            "align_content": null,
            "visibility": null,
            "align_self": null,
            "height": null,
            "min_height": null,
            "padding": null,
            "grid_auto_rows": null,
            "grid_gap": null,
            "max_width": null,
            "order": null,
            "_view_module_version": "1.2.0",
            "grid_template_areas": null,
            "object_position": null,
            "object_fit": null,
            "grid_auto_columns": null,
            "margin": null,
            "display": null,
            "left": null
          }
        },
        "bcea3e19d24b4fe182a5aa878b4a634a": {
          "model_module": "@jupyter-widgets/controls",
          "model_name": "VBoxModel",
          "state": {
            "_view_name": "VBoxView",
            "_dom_classes": [
              "widget-interact"
            ],
            "_model_name": "VBoxModel",
            "_view_module": "@jupyter-widgets/controls",
            "_model_module_version": "1.5.0",
            "_view_count": null,
            "_view_module_version": "1.5.0",
            "box_style": "",
            "layout": "IPY_MODEL_6a79b2661638493980a2a3e0f4fe34e0",
            "_model_module": "@jupyter-widgets/controls",
            "children": [
              "IPY_MODEL_4f57bd7b2a714e93808683c4fb2b3328",
              "IPY_MODEL_c7c974b1d6544165ba15c20121360bfd",
              "IPY_MODEL_e3c281a4c00144d7ab2d06935006d195"
            ]
          }
        },
        "6a79b2661638493980a2a3e0f4fe34e0": {
          "model_module": "@jupyter-widgets/base",
          "model_name": "LayoutModel",
          "state": {
            "_view_name": "LayoutView",
            "grid_template_rows": null,
            "right": null,
            "justify_content": null,
            "_view_module": "@jupyter-widgets/base",
            "overflow": null,
            "_model_module_version": "1.2.0",
            "_view_count": null,
            "flex_flow": null,
            "width": null,
            "min_width": null,
            "border": null,
            "align_items": null,
            "bottom": null,
            "_model_module": "@jupyter-widgets/base",
            "top": null,
            "grid_column": null,
            "overflow_y": null,
            "overflow_x": null,
            "grid_auto_flow": null,
            "grid_area": null,
            "grid_template_columns": null,
            "flex": null,
            "_model_name": "LayoutModel",
            "justify_items": null,
            "grid_row": null,
            "max_height": null,
            "align_content": null,
            "visibility": null,
            "align_self": null,
            "height": null,
            "min_height": null,
            "padding": null,
            "grid_auto_rows": null,
            "grid_gap": null,
            "max_width": null,
            "order": null,
            "_view_module_version": "1.2.0",
            "grid_template_areas": null,
            "object_position": null,
            "object_fit": null,
            "grid_auto_columns": null,
            "margin": null,
            "display": null,
            "left": null
          }
        },
        "4f57bd7b2a714e93808683c4fb2b3328": {
          "model_module": "@jupyter-widgets/controls",
          "model_name": "DropdownModel",
          "state": {
            "_options_labels": [
              "low pass",
              "high pass",
              "band pass",
              "all pass",
              "no pass"
            ],
            "_view_name": "DropdownView",
            "style": "IPY_MODEL_4bb8d5fe04ee4735809667172078e3b9",
            "_dom_classes": [],
            "description": "filter type",
            "_model_name": "DropdownModel",
            "index": 0,
            "_view_module": "@jupyter-widgets/controls",
            "_model_module_version": "1.5.0",
            "_view_count": null,
            "disabled": false,
            "_view_module_version": "1.5.0",
            "description_tooltip": null,
            "_model_module": "@jupyter-widgets/controls",
            "layout": "IPY_MODEL_8f828abd6fa7431db4b13337f386b7fd"
          }
        },
        "c7c974b1d6544165ba15c20121360bfd": {
          "model_module": "@jupyter-widgets/controls",
          "model_name": "FloatSliderModel",
          "state": {
            "_view_name": "FloatSliderView",
            "style": "IPY_MODEL_ba1c0ce6d4ba45dc9e7069dda812ec44",
            "_dom_classes": [],
            "description": "cut off",
            "step": 0.1,
            "_model_name": "FloatSliderModel",
            "orientation": "horizontal",
            "max": 3.141592653589793,
            "_view_module": "@jupyter-widgets/controls",
            "_model_module_version": "1.5.0",
            "value": 1.5707963267948966,
            "_view_count": null,
            "disabled": false,
            "_view_module_version": "1.5.0",
            "min": 0,
            "continuous_update": true,
            "readout_format": ".2f",
            "description_tooltip": null,
            "readout": true,
            "_model_module": "@jupyter-widgets/controls",
            "layout": "IPY_MODEL_ca92f59d81ba496d893ee8cef636d468"
          }
        },
        "e3c281a4c00144d7ab2d06935006d195": {
          "model_module": "@jupyter-widgets/output",
          "model_name": "OutputModel",
          "state": {
            "_view_name": "OutputView",
            "msg_id": "",
            "_dom_classes": [],
            "_model_name": "OutputModel",
            "outputs": [],
            "_view_module": "@jupyter-widgets/output",
            "_model_module_version": "1.0.0",
            "_view_count": null,
            "_view_module_version": "1.0.0",
            "layout": "IPY_MODEL_41c7c27a366e4628b44c123f5c2b7d94",
            "_model_module": "@jupyter-widgets/output"
          }
        },
        "4bb8d5fe04ee4735809667172078e3b9": {
          "model_module": "@jupyter-widgets/controls",
          "model_name": "DescriptionStyleModel",
          "state": {
            "_view_name": "StyleView",
            "_model_name": "DescriptionStyleModel",
            "description_width": "",
            "_view_module": "@jupyter-widgets/base",
            "_model_module_version": "1.5.0",
            "_view_count": null,
            "_view_module_version": "1.2.0",
            "_model_module": "@jupyter-widgets/controls"
          }
        },
        "8f828abd6fa7431db4b13337f386b7fd": {
          "model_module": "@jupyter-widgets/base",
          "model_name": "LayoutModel",
          "state": {
            "_view_name": "LayoutView",
            "grid_template_rows": null,
            "right": null,
            "justify_content": null,
            "_view_module": "@jupyter-widgets/base",
            "overflow": null,
            "_model_module_version": "1.2.0",
            "_view_count": null,
            "flex_flow": null,
            "width": null,
            "min_width": null,
            "border": null,
            "align_items": null,
            "bottom": null,
            "_model_module": "@jupyter-widgets/base",
            "top": null,
            "grid_column": null,
            "overflow_y": null,
            "overflow_x": null,
            "grid_auto_flow": null,
            "grid_area": null,
            "grid_template_columns": null,
            "flex": null,
            "_model_name": "LayoutModel",
            "justify_items": null,
            "grid_row": null,
            "max_height": null,
            "align_content": null,
            "visibility": null,
            "align_self": null,
            "height": null,
            "min_height": null,
            "padding": null,
            "grid_auto_rows": null,
            "grid_gap": null,
            "max_width": null,
            "order": null,
            "_view_module_version": "1.2.0",
            "grid_template_areas": null,
            "object_position": null,
            "object_fit": null,
            "grid_auto_columns": null,
            "margin": null,
            "display": null,
            "left": null
          }
        },
        "ba1c0ce6d4ba45dc9e7069dda812ec44": {
          "model_module": "@jupyter-widgets/controls",
          "model_name": "SliderStyleModel",
          "state": {
            "_view_name": "StyleView",
            "handle_color": null,
            "_model_name": "SliderStyleModel",
            "description_width": "",
            "_view_module": "@jupyter-widgets/base",
            "_model_module_version": "1.5.0",
            "_view_count": null,
            "_view_module_version": "1.2.0",
            "_model_module": "@jupyter-widgets/controls"
          }
        },
        "ca92f59d81ba496d893ee8cef636d468": {
          "model_module": "@jupyter-widgets/base",
          "model_name": "LayoutModel",
          "state": {
            "_view_name": "LayoutView",
            "grid_template_rows": null,
            "right": null,
            "justify_content": null,
            "_view_module": "@jupyter-widgets/base",
            "overflow": null,
            "_model_module_version": "1.2.0",
            "_view_count": null,
            "flex_flow": null,
            "width": null,
            "min_width": null,
            "border": null,
            "align_items": null,
            "bottom": null,
            "_model_module": "@jupyter-widgets/base",
            "top": null,
            "grid_column": null,
            "overflow_y": null,
            "overflow_x": null,
            "grid_auto_flow": null,
            "grid_area": null,
            "grid_template_columns": null,
            "flex": null,
            "_model_name": "LayoutModel",
            "justify_items": null,
            "grid_row": null,
            "max_height": null,
            "align_content": null,
            "visibility": null,
            "align_self": null,
            "height": null,
            "min_height": null,
            "padding": null,
            "grid_auto_rows": null,
            "grid_gap": null,
            "max_width": null,
            "order": null,
            "_view_module_version": "1.2.0",
            "grid_template_areas": null,
            "object_position": null,
            "object_fit": null,
            "grid_auto_columns": null,
            "margin": null,
            "display": null,
            "left": null
          }
        },
        "41c7c27a366e4628b44c123f5c2b7d94": {
          "model_module": "@jupyter-widgets/base",
          "model_name": "LayoutModel",
          "state": {
            "_view_name": "LayoutView",
            "grid_template_rows": null,
            "right": null,
            "justify_content": null,
            "_view_module": "@jupyter-widgets/base",
            "overflow": null,
            "_model_module_version": "1.2.0",
            "_view_count": null,
            "flex_flow": null,
            "width": null,
            "min_width": null,
            "border": null,
            "align_items": null,
            "bottom": null,
            "_model_module": "@jupyter-widgets/base",
            "top": null,
            "grid_column": null,
            "overflow_y": null,
            "overflow_x": null,
            "grid_auto_flow": null,
            "grid_area": null,
            "grid_template_columns": null,
            "flex": null,
            "_model_name": "LayoutModel",
            "justify_items": null,
            "grid_row": null,
            "max_height": null,
            "align_content": null,
            "visibility": null,
            "align_self": null,
            "height": null,
            "min_height": null,
            "padding": null,
            "grid_auto_rows": null,
            "grid_gap": null,
            "max_width": null,
            "order": null,
            "_view_module_version": "1.2.0",
            "grid_template_areas": null,
            "object_position": null,
            "object_fit": null,
            "grid_auto_columns": null,
            "margin": null,
            "display": null,
            "left": null
          }
        },
        "542fd56c3e8c49cb96b84dcc112d6486": {
          "model_module": "@jupyter-widgets/controls",
          "model_name": "VBoxModel",
          "state": {
            "_view_name": "VBoxView",
            "_dom_classes": [
              "widget-interact"
            ],
            "_model_name": "VBoxModel",
            "_view_module": "@jupyter-widgets/controls",
            "_model_module_version": "1.5.0",
            "_view_count": null,
            "_view_module_version": "1.5.0",
            "box_style": "",
            "layout": "IPY_MODEL_fd044307f5d14718a852dff5e15f73bc",
            "_model_module": "@jupyter-widgets/controls",
            "children": [
              "IPY_MODEL_078551d1a6c94040ad7b877a91cc8375",
              "IPY_MODEL_c17255c933804b2486773012a6f7f457",
              "IPY_MODEL_aaedc878c3d94baa97e6864c45561efe"
            ]
          }
        },
        "fd044307f5d14718a852dff5e15f73bc": {
          "model_module": "@jupyter-widgets/base",
          "model_name": "LayoutModel",
          "state": {
            "_view_name": "LayoutView",
            "grid_template_rows": null,
            "right": null,
            "justify_content": null,
            "_view_module": "@jupyter-widgets/base",
            "overflow": null,
            "_model_module_version": "1.2.0",
            "_view_count": null,
            "flex_flow": null,
            "width": null,
            "min_width": null,
            "border": null,
            "align_items": null,
            "bottom": null,
            "_model_module": "@jupyter-widgets/base",
            "top": null,
            "grid_column": null,
            "overflow_y": null,
            "overflow_x": null,
            "grid_auto_flow": null,
            "grid_area": null,
            "grid_template_columns": null,
            "flex": null,
            "_model_name": "LayoutModel",
            "justify_items": null,
            "grid_row": null,
            "max_height": null,
            "align_content": null,
            "visibility": null,
            "align_self": null,
            "height": null,
            "min_height": null,
            "padding": null,
            "grid_auto_rows": null,
            "grid_gap": null,
            "max_width": null,
            "order": null,
            "_view_module_version": "1.2.0",
            "grid_template_areas": null,
            "object_position": null,
            "object_fit": null,
            "grid_auto_columns": null,
            "margin": null,
            "display": null,
            "left": null
          }
        },
        "078551d1a6c94040ad7b877a91cc8375": {
          "model_module": "@jupyter-widgets/controls",
          "model_name": "FloatSliderModel",
          "state": {
            "_view_name": "FloatSliderView",
            "style": "IPY_MODEL_6ff67c755f3a47a9b37a6df949776f46",
            "_dom_classes": [],
            "description": "sigma",
            "step": 0.1,
            "_model_name": "FloatSliderModel",
            "orientation": "horizontal",
            "max": 10,
            "_view_module": "@jupyter-widgets/controls",
            "_model_module_version": "1.5.0",
            "value": 1,
            "_view_count": null,
            "disabled": false,
            "_view_module_version": "1.5.0",
            "min": 0.01,
            "continuous_update": true,
            "readout_format": ".2f",
            "description_tooltip": null,
            "readout": true,
            "_model_module": "@jupyter-widgets/controls",
            "layout": "IPY_MODEL_6bbd640f605f4cf4a1a0b8be3765a764"
          }
        },
        "c17255c933804b2486773012a6f7f457": {
          "model_module": "@jupyter-widgets/controls",
          "model_name": "CheckboxModel",
          "state": {
            "_view_name": "CheckboxView",
            "style": "IPY_MODEL_983bc9083ddd40369bb133ffb447b697",
            "_dom_classes": [],
            "description": "logarithmic plot",
            "_model_name": "CheckboxModel",
            "_view_module": "@jupyter-widgets/controls",
            "_model_module_version": "1.5.0",
            "value": false,
            "_view_count": null,
            "disabled": false,
            "_view_module_version": "1.5.0",
            "indent": true,
            "description_tooltip": null,
            "_model_module": "@jupyter-widgets/controls",
            "layout": "IPY_MODEL_d66ba2eacfb0433f8c307e02b750384c"
          }
        },
        "aaedc878c3d94baa97e6864c45561efe": {
          "model_module": "@jupyter-widgets/output",
          "model_name": "OutputModel",
          "state": {
            "_view_name": "OutputView",
            "msg_id": "",
            "_dom_classes": [],
            "_model_name": "OutputModel",
            "outputs": [],
            "_view_module": "@jupyter-widgets/output",
            "_model_module_version": "1.0.0",
            "_view_count": null,
            "_view_module_version": "1.0.0",
            "layout": "IPY_MODEL_df9c0088f0b94f049ae79258dc4baca9",
            "_model_module": "@jupyter-widgets/output"
          }
        },
        "6ff67c755f3a47a9b37a6df949776f46": {
          "model_module": "@jupyter-widgets/controls",
          "model_name": "SliderStyleModel",
          "state": {
            "_view_name": "StyleView",
            "handle_color": null,
            "_model_name": "SliderStyleModel",
            "description_width": "",
            "_view_module": "@jupyter-widgets/base",
            "_model_module_version": "1.5.0",
            "_view_count": null,
            "_view_module_version": "1.2.0",
            "_model_module": "@jupyter-widgets/controls"
          }
        },
        "6bbd640f605f4cf4a1a0b8be3765a764": {
          "model_module": "@jupyter-widgets/base",
          "model_name": "LayoutModel",
          "state": {
            "_view_name": "LayoutView",
            "grid_template_rows": null,
            "right": null,
            "justify_content": null,
            "_view_module": "@jupyter-widgets/base",
            "overflow": null,
            "_model_module_version": "1.2.0",
            "_view_count": null,
            "flex_flow": null,
            "width": null,
            "min_width": null,
            "border": null,
            "align_items": null,
            "bottom": null,
            "_model_module": "@jupyter-widgets/base",
            "top": null,
            "grid_column": null,
            "overflow_y": null,
            "overflow_x": null,
            "grid_auto_flow": null,
            "grid_area": null,
            "grid_template_columns": null,
            "flex": null,
            "_model_name": "LayoutModel",
            "justify_items": null,
            "grid_row": null,
            "max_height": null,
            "align_content": null,
            "visibility": null,
            "align_self": null,
            "height": null,
            "min_height": null,
            "padding": null,
            "grid_auto_rows": null,
            "grid_gap": null,
            "max_width": null,
            "order": null,
            "_view_module_version": "1.2.0",
            "grid_template_areas": null,
            "object_position": null,
            "object_fit": null,
            "grid_auto_columns": null,
            "margin": null,
            "display": null,
            "left": null
          }
        },
        "983bc9083ddd40369bb133ffb447b697": {
          "model_module": "@jupyter-widgets/controls",
          "model_name": "DescriptionStyleModel",
          "state": {
            "_view_name": "StyleView",
            "_model_name": "DescriptionStyleModel",
            "description_width": "",
            "_view_module": "@jupyter-widgets/base",
            "_model_module_version": "1.5.0",
            "_view_count": null,
            "_view_module_version": "1.2.0",
            "_model_module": "@jupyter-widgets/controls"
          }
        },
        "d66ba2eacfb0433f8c307e02b750384c": {
          "model_module": "@jupyter-widgets/base",
          "model_name": "LayoutModel",
          "state": {
            "_view_name": "LayoutView",
            "grid_template_rows": null,
            "right": null,
            "justify_content": null,
            "_view_module": "@jupyter-widgets/base",
            "overflow": null,
            "_model_module_version": "1.2.0",
            "_view_count": null,
            "flex_flow": null,
            "width": null,
            "min_width": null,
            "border": null,
            "align_items": null,
            "bottom": null,
            "_model_module": "@jupyter-widgets/base",
            "top": null,
            "grid_column": null,
            "overflow_y": null,
            "overflow_x": null,
            "grid_auto_flow": null,
            "grid_area": null,
            "grid_template_columns": null,
            "flex": null,
            "_model_name": "LayoutModel",
            "justify_items": null,
            "grid_row": null,
            "max_height": null,
            "align_content": null,
            "visibility": null,
            "align_self": null,
            "height": null,
            "min_height": null,
            "padding": null,
            "grid_auto_rows": null,
            "grid_gap": null,
            "max_width": null,
            "order": null,
            "_view_module_version": "1.2.0",
            "grid_template_areas": null,
            "object_position": null,
            "object_fit": null,
            "grid_auto_columns": null,
            "margin": null,
            "display": null,
            "left": null
          }
        },
        "df9c0088f0b94f049ae79258dc4baca9": {
          "model_module": "@jupyter-widgets/base",
          "model_name": "LayoutModel",
          "state": {
            "_view_name": "LayoutView",
            "grid_template_rows": null,
            "right": null,
            "justify_content": null,
            "_view_module": "@jupyter-widgets/base",
            "overflow": null,
            "_model_module_version": "1.2.0",
            "_view_count": null,
            "flex_flow": null,
            "width": null,
            "min_width": null,
            "border": null,
            "align_items": null,
            "bottom": null,
            "_model_module": "@jupyter-widgets/base",
            "top": null,
            "grid_column": null,
            "overflow_y": null,
            "overflow_x": null,
            "grid_auto_flow": null,
            "grid_area": null,
            "grid_template_columns": null,
            "flex": null,
            "_model_name": "LayoutModel",
            "justify_items": null,
            "grid_row": null,
            "max_height": null,
            "align_content": null,
            "visibility": null,
            "align_self": null,
            "height": null,
            "min_height": null,
            "padding": null,
            "grid_auto_rows": null,
            "grid_gap": null,
            "max_width": null,
            "order": null,
            "_view_module_version": "1.2.0",
            "grid_template_areas": null,
            "object_position": null,
            "object_fit": null,
            "grid_auto_columns": null,
            "margin": null,
            "display": null,
            "left": null
          }
        }
      }
    }
  },
  "cells": [
    {
      "cell_type": "markdown",
      "metadata": {
        "id": "view-in-github",
        "colab_type": "text"
      },
      "source": [
        "<a href=\"https://colab.research.google.com/github/dssp-ethz/DSSP-Illustrations/blob/main/Wiener_Filter.ipynb\" target=\"_parent\"><img src=\"https://colab.research.google.com/assets/colab-badge.svg\" alt=\"Open In Colab\"/></a>"
      ]
    },
    {
      "cell_type": "markdown",
      "metadata": {
        "id": "8wpoYeUYAOJf"
      },
      "source": [
        "The non-causal Wiener filter, which estimates $X$ from $Y$ by $\\hat{X} = h * Y$ is given by \n",
        "\n",
        "$$h * R_Y = R_{XY}$$\n",
        "\n",
        "with $R_Y$ and $R_{XY}$ being the autocorrelation and cross-correlation respectively. Thus $h$ is the stable filter with z-Transform\n",
        "\n",
        "$$H(z) = \\frac{S_{XY} (z)}{S_Y(z)}$$"
      ]
    },
    {
      "cell_type": "markdown",
      "metadata": {
        "id": "3F9hn060Crsu"
      },
      "source": [
        "Examine the situation on page 140 in the lecture notes (as of 2020). $X$ is filtered by $h$ to produce $Z$ which is transmitted over some channel with added noise $W$. We now wish to use a filter $g$ to produce the best LMMSE estimate $\\hat{X}$ of $X$."
      ]
    },
    {
      "cell_type": "markdown",
      "metadata": {
        "id": "eFE0xtbvBN-O"
      },
      "source": [
        "![LN_page141.png](data:image/png;base64,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)"
      ]
    },
    {
      "cell_type": "markdown",
      "metadata": {
        "id": "elncw1HhDaTu"
      },
      "source": [
        "Assuming $X$ and $W$ are independent and centered (zero mean) stochastic processes we obtain\n",
        "$$R_{XY} = R_{XZ} \\qquad S_{XY} = S_{XZ} \\qquad R_Y = R_Z + R_W \\qquad S_Y = S_Z + S_W$$\n",
        "\n",
        "Therefore we get for the noncausal Wiener filter\n",
        "\n",
        "$$G(z) = \\frac{S_{XZ}(z)}{S_Z(z) + S_W(z)} = \\frac{S_X (z) H^c (z)}{S_X(z) H (z) H^c(z) + S_W(z)}$$\n",
        "\n",
        "We notice that $G(z) H(z) = \\frac{S_Z(z)}{S_Z(z) + S_W(z)}$, i.e. in this case the Wiener filter coincides with robust inversion, albeit with $\\sigma$ not freely selectable."
      ]
    },
    {
      "cell_type": "markdown",
      "metadata": {
        "id": "yt2mDfvDH-Pe"
      },
      "source": [
        "In the following example you will get to choose different signals $X$ as input as well as different filters $h$. The channel noise $W$ is assumed to be white noise with power $\\sigma^2$, i.e. $S_W(z) = \\sigma^2$. Since a priori we have no information which signals are transmitted $X$ is also modelled as white noise. For this task we may assume that $X$ has power spectral density $1$ over all frequencies, i.e. $S_X(z) = 1$."
      ]
    },
    {
      "cell_type": "code",
      "metadata": {
        "colab": {
          "base_uri": "https://localhost:8080/"
        },
        "id": "UA5Tk_uvzjG7",
        "outputId": "c8573889-fdab-4f35-9488-341460bb2fe6"
      },
      "source": [
        "pip install pydsm"
      ],
      "execution_count": 41,
      "outputs": [
        {
          "output_type": "stream",
          "text": [
            "Requirement already satisfied: pydsm in /usr/local/lib/python3.7/dist-packages (0.14.0.0)\n"
          ],
          "name": "stdout"
        }
      ]
    },
    {
      "cell_type": "code",
      "metadata": {
        "colab": {
          "base_uri": "https://localhost:8080/"
        },
        "id": "0A7ORxZFGjLq",
        "outputId": "a8f6d9ce-0b15-4e89-8848-b31f882cf4da"
      },
      "source": [
        "!gdown https://drive.google.com/uc?id=1-nxgfNaJPeB88X_kE5T2xDqiGI5T2I1u\n",
        "!gdown https://drive.google.com/uc?id=1937_NrN8dHRPEsAamOn7v6hBSWG1cwzt"
      ],
      "execution_count": 42,
      "outputs": [
        {
          "output_type": "stream",
          "text": [
            "Downloading...\n",
            "From: https://drive.google.com/uc?id=1-nxgfNaJPeB88X_kE5T2xDqiGI5T2I1u\n",
            "To: /content/signals.py\n",
            "100% 5.55k/5.55k [00:00<00:00, 8.52MB/s]\n",
            "Downloading...\n",
            "From: https://drive.google.com/uc?id=1937_NrN8dHRPEsAamOn7v6hBSWG1cwzt\n",
            "To: /content/filters.py\n",
            "100% 1.90k/1.90k [00:00<00:00, 1.47MB/s]\n"
          ],
          "name": "stdout"
        }
      ]
    },
    {
      "cell_type": "code",
      "metadata": {
        "id": "em1OdTqWGltt"
      },
      "source": [
        "import ipywidgets as widgets\n",
        "import numpy as np\n",
        "import matplotlib.pyplot as plt\n",
        "%matplotlib inline\n",
        "from pydsm.ft import idtft\n",
        "import signals\n",
        "import filters\n",
        "#-------------------------------------------------------------------------------\n",
        "\n",
        "sigmaG = 1\n",
        "\n",
        "logPlotG = False\n",
        "\n",
        "#Important Stuff\n",
        "################################################################################\n",
        "\n",
        "#filter h\n",
        "def h(t):\n",
        "  return np.real(idtft(filters.H, t, fs = 2*np.pi)) #sets f_s such that f=Omega\n",
        "\n",
        "#robust inversion filter G\n",
        "def G(Omega):\n",
        "  return np.conjugate(filters.H(Omega))/(np.abs(filters.H(Omega))**2 + sigmaG**2)\n",
        "\n",
        "#filter g\n",
        "def g(t):\n",
        "  return np.real(idtft(G, t, fs = 2*np.pi)) #sets f_s such that f=Omega\n",
        "\n",
        "#noise\n",
        "def w(t):\n",
        "  return np.random.normal(0,0.05,1)[0]\n",
        "\n",
        "#received signal\n",
        "def y():\n",
        "  #convolution in computer is finite. Restrict signals (and filters) to nG to be able to perform computations.\n",
        "  u_ = signals.time_domain_signal_long()\n",
        "  h_ = [h(t) for t in signals.nG]\n",
        "  w_ = [w(t) for t in np.arange(4*signals.nG.size-1)] #result of convolution has dimension (N+M-1) i.e. (nG.size+nG.size-1) = 2*nG.size-1\n",
        "  r_ = np.convolve(u_,h_) + w_\n",
        "  delta = len(r_) - len(u_)\n",
        "  return r_[delta//2: -delta//2]\n",
        "\n",
        "#estimation\n",
        "def u_hat():\n",
        "  #convolution in computer is finite. Restrict signals (and filters) to nG to be able to perform computations.\n",
        "  y_ = y()\n",
        "  g_ = [g(t) for t in signals.nG]\n",
        "  r_ = np.convolve(y_, g_)\n",
        "  delta = len(r_) - len(y_)\n",
        "  return r_[delta//2: -delta//2]\n",
        "################################################################################\n",
        "\n",
        "#drawing plots\n",
        "def plot():\n",
        "  Omega_values = np.linspace(-np.pi, np.pi, 200)\n",
        "  H_values = [filters.H(Omega) for Omega in Omega_values]\n",
        "  G_values = [G(Omega) for Omega in Omega_values]\n",
        "\n",
        "  fig = plt.figure(figsize=(20, 8))\n",
        "\n",
        "  ax1 = fig.add_subplot(1, 2, 1)\n",
        "  ax1.grid()\n",
        "  ax1.set_xlabel('$\\Omega$', fontsize=14)\n",
        "  ax1.set_ylabel('$H(e^{i\\Omega})$', fontsize=14)\n",
        "  if logPlotG == False:\n",
        "    ax1.axis(xmin=Omega_values[0], xmax=Omega_values[-1], ymin=0, ymax=1.5)\n",
        "    ax1.plot(Omega_values, H_values, alpha=0.5);\n",
        "  else:\n",
        "    ax1.axis(xmin=Omega_values[0], xmax=Omega_values[-1], ymin = 0.1, ymax = 1.5)\n",
        "    ax1.semilogy(Omega_values, H_values, alpha=0.5);\n",
        "\n",
        "  ax2 = fig.add_subplot(1, 2, 2)\n",
        "  ax2.grid()\n",
        "  ax2.set_xlabel('$\\Omega$', fontsize=14)\n",
        "  ax2.set_ylabel('$G(e^{i\\Omega})$', fontsize=14)\n",
        "  if logPlotG == False:\n",
        "    ax2.axis(xmin=Omega_values[0], xmax=Omega_values[-1], ymin=0, ymax=1.5)\n",
        "    ax2.plot(Omega_values, G_values, alpha=0.5);\n",
        "  else:\n",
        "    ax2.axis(xmin=Omega_values[0], xmax=Omega_values[-1], ymin = 0.1, ymax = 1.5)\n",
        "    ax2.semilogy(Omega_values, G_values, alpha=0.5);\n",
        "\n",
        "def plot_time():\n",
        "  t1_values = np.arange(3*np.min(signals.nG), 3*np.max(signals.nG)+3)\n",
        "  u_values = signals.time_domain_signal_long()\n",
        "  t2_values = np.arange(3*np.min(signals.nG), 3*np.max(signals.nG)+3)\n",
        "  y_values = y()\n",
        "  t3_values = np.arange(3*np.min(signals.nG), 3*np.max(signals.nG)+3)\n",
        "  u_hat_values = u_hat()\n",
        "\n",
        "\n",
        "  fig = plt.figure(figsize=(20, 8))\n",
        "\n",
        "  ax1 = fig.add_subplot(1, 3, 1)\n",
        "  ax1.grid()\n",
        "  ax1.set_xlabel('$k$', fontsize=14)\n",
        "  ax1.set_ylabel('$u(k)$', fontsize=14)\n",
        "  ax1.axis(xmin=t1_values[0], xmax=t1_values[-1])\n",
        "  if logPlotG == False:\n",
        "    ax1.axis(ymin=-3, ymax=3)\n",
        "    ax1.plot(t1_values, u_values, alpha=0.5, marker='o', markersize=8);\n",
        "  else:\n",
        "    ax1.axis(ymin=0.1, ymax=3)\n",
        "    ax1.semilogy(t1_values, u_values, alpha=0.5, marker='o', markersize=8);\n",
        "\n",
        "  ax2 = fig.add_subplot(1, 3, 2)\n",
        "  ax2.grid()\n",
        "  ax2.set_xlabel('$k$', fontsize=14)\n",
        "  ax2.set_ylabel('$y(k)$', fontsize=14)\n",
        "  ax2.axis(xmin=t2_values[0], xmax=t2_values[-1])\n",
        "  if logPlotG == False:\n",
        "    ax2.axis(ymin=-3, ymax=3)\n",
        "    ax2.plot(t2_values, y_values, alpha=0.5, marker='o', markersize=8);\n",
        "  else:\n",
        "    ax2.axis(ymin=0.1, ymax=3)\n",
        "    ax2.semilogy(t2_values, y_values, alpha=0.5, marker='o', markersize=8);\n",
        "\n",
        "  ax3 = fig.add_subplot(1, 3, 3)\n",
        "  ax3.grid()\n",
        "  ax3.set_xlabel('$k$', fontsize=14)\n",
        "  ax3.set_ylabel('$\\hat{u}(k)$', fontsize=14)\n",
        "  ax3.axis(xmin=t3_values[0], xmax=t3_values[-1])\n",
        "  if logPlotG == False:\n",
        "    ax3.axis(ymin=-3, ymax=3)\n",
        "    ax3.plot(t3_values, u_hat_values, alpha=0.5, marker='o', markersize=8);\n",
        "  else:\n",
        "    ax3.axis(ymin=0.1, ymax=3)\n",
        "    ax3.semilogy(t3_values, u_hat_values, alpha=0.5, marker='o', markersize=8);"
      ],
      "execution_count": 47,
      "outputs": []
    },
    {
      "cell_type": "code",
      "metadata": {
        "colab": {
          "base_uri": "https://localhost:8080/",
          "height": 209,
          "referenced_widgets": [
            "18ebb9edf92e4640982e089317e0a9d3",
            "bb9813637adb4fdc851397471d2f485e",
            "f056b2632b0442599eb91756e8027d71",
            "b2c257dfab9e47039d81587241634b51",
            "b1aff39fbadc49bd8dd7b1997a649349",
            "6c87edf1d9cc4d85b15de98372f1fecd",
            "b875a1e23b6b4ed3b2e5c958c135437b",
            "1bcd64b581ef48b985f83836c4d27909",
            "7ce0b9a40d4e43e8928f4bb589c56aa0",
            "b9f737f8102a40d8afa2969c66ae281a",
            "bcea3e19d24b4fe182a5aa878b4a634a",
            "6a79b2661638493980a2a3e0f4fe34e0",
            "4f57bd7b2a714e93808683c4fb2b3328",
            "c7c974b1d6544165ba15c20121360bfd",
            "e3c281a4c00144d7ab2d06935006d195",
            "4bb8d5fe04ee4735809667172078e3b9",
            "8f828abd6fa7431db4b13337f386b7fd",
            "ba1c0ce6d4ba45dc9e7069dda812ec44",
            "ca92f59d81ba496d893ee8cef636d468",
            "41c7c27a366e4628b44c123f5c2b7d94",
            "542fd56c3e8c49cb96b84dcc112d6486",
            "fd044307f5d14718a852dff5e15f73bc",
            "078551d1a6c94040ad7b877a91cc8375",
            "c17255c933804b2486773012a6f7f457",
            "aaedc878c3d94baa97e6864c45561efe",
            "6ff67c755f3a47a9b37a6df949776f46",
            "6bbd640f605f4cf4a1a0b8be3765a764",
            "983bc9083ddd40369bb133ffb447b697",
            "d66ba2eacfb0433f8c307e02b750384c",
            "df9c0088f0b94f049ae79258dc4baca9"
          ]
        },
        "id": "sAS6Hys5GsKW",
        "outputId": "9d4a6b1a-712d-48a5-87dd-b9fdab55b05d"
      },
      "source": [
        "signals.widget()\n",
        "filters.widget()\n",
        "\n",
        "def update_parameters(sigma, logPlot):\n",
        "  global sigmaG, logPlotG\n",
        "  sigmaG, logPlotG = sigma, logPlot\n",
        "\n",
        "widgets.interact(update_parameters,\n",
        "  sigma = widgets.FloatSlider(\n",
        "    value=1,\n",
        "    min=0.01,\n",
        "    max=10,\n",
        "    description='sigma'),\n",
        "  logPlot = widgets.Checkbox(\n",
        "    value=False,\n",
        "    description='logarithmic plot')\n",
        ");"
      ],
      "execution_count": 44,
      "outputs": [
        {
          "output_type": "display_data",
          "data": {
            "application/vnd.jupyter.widget-view+json": {
              "model_id": "18ebb9edf92e4640982e089317e0a9d3",
              "version_minor": 0,
              "version_major": 2
            },
            "text/plain": [
              "interactive(children=(Dropdown(description='signal type', options=('unit step', 'unit impulse', 'ramp', 'expon…"
            ]
          },
          "metadata": {
            "tags": []
          }
        },
        {
          "output_type": "display_data",
          "data": {
            "application/vnd.jupyter.widget-view+json": {
              "model_id": "bcea3e19d24b4fe182a5aa878b4a634a",
              "version_minor": 0,
              "version_major": 2
            },
            "text/plain": [
              "interactive(children=(Dropdown(description='filter type', options=('low pass', 'high pass', 'band pass', 'all …"
            ]
          },
          "metadata": {
            "tags": []
          }
        },
        {
          "output_type": "display_data",
          "data": {
            "application/vnd.jupyter.widget-view+json": {
              "model_id": "542fd56c3e8c49cb96b84dcc112d6486",
              "version_minor": 0,
              "version_major": 2
            },
            "text/plain": [
              "interactive(children=(FloatSlider(value=1.0, description='sigma', max=10.0, min=0.01), Checkbox(value=False, d…"
            ]
          },
          "metadata": {
            "tags": []
          }
        }
      ]
    },
    {
      "cell_type": "code",
      "metadata": {
        "colab": {
          "base_uri": "https://localhost:8080/",
          "height": 114
        },
        "id": "r-9TgxYwgUAR",
        "outputId": "2c6221fa-d917-45f6-ac69-72e919fafd6f"
      },
      "source": [
        "signals.display_signal_selection(continuous=False)\n",
        "filters.display_filter_selection(continuous=False)"
      ],
      "execution_count": 50,
      "outputs": [
        {
          "output_type": "display_data",
          "data": {
            "image/png": "[encoded data removed]",
            "text/plain": [
              "<Figure size 640x32 with 1 Axes>"
            ]
          },
          "metadata": {
            "tags": [],
            "needs_background": "light"
          }
        },
        {
          "output_type": "display_data",
          "data": {
            "image/png": "[encoded data removed]",
            "text/plain": [
              "<Figure size 640x32 with 1 Axes>"
            ]
          },
          "metadata": {
            "tags": [],
            "needs_background": "light"
          }
        }
      ]
    },
    {
      "cell_type": "code",
      "metadata": {
        "colab": {
          "base_uri": "https://localhost:8080/",
          "height": 990
        },
        "id": "yw4nc_SHGu8v",
        "outputId": "8a5316c1-4ed9-46f8-9c1e-a02e2b55d942"
      },
      "source": [
        "plot()\n",
        "plot_time()"
      ],
      "execution_count": 49,
      "outputs": [
        {
          "output_type": "display_data",
          "data": {
            "image/png": "[encoded data removed]",
            "text/plain": [
              "<Figure size 1440x576 with 2 Axes>"
            ]
          },
          "metadata": {
            "tags": [],
            "needs_background": "light"
          }
        },
        {
          "output_type": "display_data",
          "data": {
            "image/png": "[encoded data removed]",
            "text/plain": [
              "<Figure size 1440x576 with 3 Axes>"
            ]
          },
          "metadata": {
            "tags": [],
            "needs_background": "light"
          }
        }
      ]
    }
  ]
}