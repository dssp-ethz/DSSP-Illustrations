{
  "nbformat": 4,
  "nbformat_minor": 0,
  "metadata": {
    "colab": {
      "name": "LMS.ipynb",
      "provenance": [],
      "collapsed_sections": [],
      "toc_visible": true,
      "authorship_tag": "ABX9TyPL3yat2AWHXhq+lXzcvJ3r",
      "include_colab_link": true
    },
    "kernelspec": {
      "name": "python3",
      "display_name": "Python 3"
    },
    "language_info": {
      "name": "python"
    },
    "widgets": {
      "application/vnd.jupyter.widget-state+json": {
        "24ec9c8e8379483c8d961a6aba18068d": {
          "model_module": "@jupyter-widgets/controls",
          "model_name": "VBoxModel",
          "state": {
            "_view_name": "VBoxView",
            "_dom_classes": [
              "widget-interact"
            ],
            "_model_name": "VBoxModel",
            "_view_module": "@jupyter-widgets/controls",
            "_model_module_version": "1.5.0",
            "_view_count": null,
            "_view_module_version": "1.5.0",
            "box_style": "",
            "layout": "IPY_MODEL_5ca07a2a39494fbe81e28eec8686164d",
            "_model_module": "@jupyter-widgets/controls",
            "children": [
              "IPY_MODEL_ff39cf75a2f44dbcbd495ca24f4e14a3",
              "IPY_MODEL_985cdde8a4da4cd1af99c74695b6717d",
              "IPY_MODEL_69e5033bb3b9422d8ac647fd817908fe"
            ]
          }
        },
        "5ca07a2a39494fbe81e28eec8686164d": {
          "model_module": "@jupyter-widgets/base",
          "model_name": "LayoutModel",
          "state": {
            "_view_name": "LayoutView",
            "grid_template_rows": null,
            "right": null,
            "justify_content": null,
            "_view_module": "@jupyter-widgets/base",
            "overflow": null,
            "_model_module_version": "1.2.0",
            "_view_count": null,
            "flex_flow": null,
            "width": null,
            "min_width": null,
            "border": null,
            "align_items": null,
            "bottom": null,
            "_model_module": "@jupyter-widgets/base",
            "top": null,
            "grid_column": null,
            "overflow_y": null,
            "overflow_x": null,
            "grid_auto_flow": null,
            "grid_area": null,
            "grid_template_columns": null,
            "flex": null,
            "_model_name": "LayoutModel",
            "justify_items": null,
            "grid_row": null,
            "max_height": null,
            "align_content": null,
            "visibility": null,
            "align_self": null,
            "height": null,
            "min_height": null,
            "padding": null,
            "grid_auto_rows": null,
            "grid_gap": null,
            "max_width": null,
            "order": null,
            "_view_module_version": "1.2.0",
            "grid_template_areas": null,
            "object_position": null,
            "object_fit": null,
            "grid_auto_columns": null,
            "margin": null,
            "display": null,
            "left": null
          }
        },
        "ff39cf75a2f44dbcbd495ca24f4e14a3": {
          "model_module": "@jupyter-widgets/controls",
          "model_name": "DropdownModel",
          "state": {
            "_options_labels": [
              "unit step",
              "unit impulse",
              "ramp",
              "exponential",
              "sinus",
              "sinus squared"
            ],
            "_view_name": "DropdownView",
            "style": "IPY_MODEL_118c1583e2f44a7b906d9d8d3d634959",
            "_dom_classes": [],
            "description": "signal type",
            "_model_name": "DropdownModel",
            "index": 1,
            "_view_module": "@jupyter-widgets/controls",
            "_model_module_version": "1.5.0",
            "_view_count": null,
            "disabled": false,
            "_view_module_version": "1.5.0",
            "description_tooltip": null,
            "_model_module": "@jupyter-widgets/controls",
            "layout": "IPY_MODEL_1ee9c273d95a4082a1377c76e53f1510"
          }
        },
        "985cdde8a4da4cd1af99c74695b6717d": {
          "model_module": "@jupyter-widgets/controls",
          "model_name": "IntSliderModel",
          "state": {
            "_view_name": "IntSliderView",
            "style": "IPY_MODEL_cc7f9e31619241669f1e0c325b578bf6",
            "_dom_classes": [],
            "description": "parameter",
            "step": 1,
            "_model_name": "IntSliderModel",
            "orientation": "horizontal",
            "max": 10,
            "_view_module": "@jupyter-widgets/controls",
            "_model_module_version": "1.5.0",
            "value": 1,
            "_view_count": null,
            "disabled": false,
            "_view_module_version": "1.5.0",
            "min": -10,
            "continuous_update": true,
            "readout_format": "d",
            "description_tooltip": null,
            "readout": true,
            "_model_module": "@jupyter-widgets/controls",
            "layout": "IPY_MODEL_5e40e89756ce40f5868779b56c8f8c17"
          }
        },
        "69e5033bb3b9422d8ac647fd817908fe": {
          "model_module": "@jupyter-widgets/output",
          "model_name": "OutputModel",
          "state": {
            "_view_name": "OutputView",
            "msg_id": "",
            "_dom_classes": [],
            "_model_name": "OutputModel",
            "outputs": [],
            "_view_module": "@jupyter-widgets/output",
            "_model_module_version": "1.0.0",
            "_view_count": null,
            "_view_module_version": "1.0.0",
            "layout": "IPY_MODEL_3b1bb28d631447568205477fcb406c2c",
            "_model_module": "@jupyter-widgets/output"
          }
        },
        "118c1583e2f44a7b906d9d8d3d634959": {
          "model_module": "@jupyter-widgets/controls",
          "model_name": "DescriptionStyleModel",
          "state": {
            "_view_name": "StyleView",
            "_model_name": "DescriptionStyleModel",
            "description_width": "",
            "_view_module": "@jupyter-widgets/base",
            "_model_module_version": "1.5.0",
            "_view_count": null,
            "_view_module_version": "1.2.0",
            "_model_module": "@jupyter-widgets/controls"
          }
        },
        "1ee9c273d95a4082a1377c76e53f1510": {
          "model_module": "@jupyter-widgets/base",
          "model_name": "LayoutModel",
          "state": {
            "_view_name": "LayoutView",
            "grid_template_rows": null,
            "right": null,
            "justify_content": null,
            "_view_module": "@jupyter-widgets/base",
            "overflow": null,
            "_model_module_version": "1.2.0",
            "_view_count": null,
            "flex_flow": null,
            "width": null,
            "min_width": null,
            "border": null,
            "align_items": null,
            "bottom": null,
            "_model_module": "@jupyter-widgets/base",
            "top": null,
            "grid_column": null,
            "overflow_y": null,
            "overflow_x": null,
            "grid_auto_flow": null,
            "grid_area": null,
            "grid_template_columns": null,
            "flex": null,
            "_model_name": "LayoutModel",
            "justify_items": null,
            "grid_row": null,
            "max_height": null,
            "align_content": null,
            "visibility": null,
            "align_self": null,
            "height": null,
            "min_height": null,
            "padding": null,
            "grid_auto_rows": null,
            "grid_gap": null,
            "max_width": null,
            "order": null,
            "_view_module_version": "1.2.0",
            "grid_template_areas": null,
            "object_position": null,
            "object_fit": null,
            "grid_auto_columns": null,
            "margin": null,
            "display": null,
            "left": null
          }
        },
        "cc7f9e31619241669f1e0c325b578bf6": {
          "model_module": "@jupyter-widgets/controls",
          "model_name": "SliderStyleModel",
          "state": {
            "_view_name": "StyleView",
            "handle_color": null,
            "_model_name": "SliderStyleModel",
            "description_width": "",
            "_view_module": "@jupyter-widgets/base",
            "_model_module_version": "1.5.0",
            "_view_count": null,
            "_view_module_version": "1.2.0",
            "_model_module": "@jupyter-widgets/controls"
          }
        },
        "5e40e89756ce40f5868779b56c8f8c17": {
          "model_module": "@jupyter-widgets/base",
          "model_name": "LayoutModel",
          "state": {
            "_view_name": "LayoutView",
            "grid_template_rows": null,
            "right": null,
            "justify_content": null,
            "_view_module": "@jupyter-widgets/base",
            "overflow": null,
            "_model_module_version": "1.2.0",
            "_view_count": null,
            "flex_flow": null,
            "width": null,
            "min_width": null,
            "border": null,
            "align_items": null,
            "bottom": null,
            "_model_module": "@jupyter-widgets/base",
            "top": null,
            "grid_column": null,
            "overflow_y": null,
            "overflow_x": null,
            "grid_auto_flow": null,
            "grid_area": null,
            "grid_template_columns": null,
            "flex": null,
            "_model_name": "LayoutModel",
            "justify_items": null,
            "grid_row": null,
            "max_height": null,
            "align_content": null,
            "visibility": null,
            "align_self": null,
            "height": null,
            "min_height": null,
            "padding": null,
            "grid_auto_rows": null,
            "grid_gap": null,
            "max_width": null,
            "order": null,
            "_view_module_version": "1.2.0",
            "grid_template_areas": null,
            "object_position": null,
            "object_fit": null,
            "grid_auto_columns": null,
            "margin": null,
            "display": null,
            "left": null
          }
        },
        "3b1bb28d631447568205477fcb406c2c": {
          "model_module": "@jupyter-widgets/base",
          "model_name": "LayoutModel",
          "state": {
            "_view_name": "LayoutView",
            "grid_template_rows": null,
            "right": null,
            "justify_content": null,
            "_view_module": "@jupyter-widgets/base",
            "overflow": null,
            "_model_module_version": "1.2.0",
            "_view_count": null,
            "flex_flow": null,
            "width": null,
            "min_width": null,
            "border": null,
            "align_items": null,
            "bottom": null,
            "_model_module": "@jupyter-widgets/base",
            "top": null,
            "grid_column": null,
            "overflow_y": null,
            "overflow_x": null,
            "grid_auto_flow": null,
            "grid_area": null,
            "grid_template_columns": null,
            "flex": null,
            "_model_name": "LayoutModel",
            "justify_items": null,
            "grid_row": null,
            "max_height": null,
            "align_content": null,
            "visibility": null,
            "align_self": null,
            "height": null,
            "min_height": null,
            "padding": null,
            "grid_auto_rows": null,
            "grid_gap": null,
            "max_width": null,
            "order": null,
            "_view_module_version": "1.2.0",
            "grid_template_areas": null,
            "object_position": null,
            "object_fit": null,
            "grid_auto_columns": null,
            "margin": null,
            "display": null,
            "left": null
          }
        },
        "733203a8b18844fbb0bbc0a0f0eafa55": {
          "model_module": "@jupyter-widgets/controls",
          "model_name": "VBoxModel",
          "state": {
            "_view_name": "VBoxView",
            "_dom_classes": [
              "widget-interact"
            ],
            "_model_name": "VBoxModel",
            "_view_module": "@jupyter-widgets/controls",
            "_model_module_version": "1.5.0",
            "_view_count": null,
            "_view_module_version": "1.5.0",
            "box_style": "",
            "layout": "IPY_MODEL_da28cb47780244d880fa5e5fd13a53c7",
            "_model_module": "@jupyter-widgets/controls",
            "children": [
              "IPY_MODEL_ad433e0377fd41fc9aae99b774cccfe9",
              "IPY_MODEL_a984f347a8c04b2cb9b17469c127d7a3",
              "IPY_MODEL_371c1119873043558b5297331ef2edfa"
            ]
          }
        },
        "da28cb47780244d880fa5e5fd13a53c7": {
          "model_module": "@jupyter-widgets/base",
          "model_name": "LayoutModel",
          "state": {
            "_view_name": "LayoutView",
            "grid_template_rows": null,
            "right": null,
            "justify_content": null,
            "_view_module": "@jupyter-widgets/base",
            "overflow": null,
            "_model_module_version": "1.2.0",
            "_view_count": null,
            "flex_flow": null,
            "width": null,
            "min_width": null,
            "border": null,
            "align_items": null,
            "bottom": null,
            "_model_module": "@jupyter-widgets/base",
            "top": null,
            "grid_column": null,
            "overflow_y": null,
            "overflow_x": null,
            "grid_auto_flow": null,
            "grid_area": null,
            "grid_template_columns": null,
            "flex": null,
            "_model_name": "LayoutModel",
            "justify_items": null,
            "grid_row": null,
            "max_height": null,
            "align_content": null,
            "visibility": null,
            "align_self": null,
            "height": null,
            "min_height": null,
            "padding": null,
            "grid_auto_rows": null,
            "grid_gap": null,
            "max_width": null,
            "order": null,
            "_view_module_version": "1.2.0",
            "grid_template_areas": null,
            "object_position": null,
            "object_fit": null,
            "grid_auto_columns": null,
            "margin": null,
            "display": null,
            "left": null
          }
        },
        "ad433e0377fd41fc9aae99b774cccfe9": {
          "model_module": "@jupyter-widgets/controls",
          "model_name": "DropdownModel",
          "state": {
            "_options_labels": [
              "low pass",
              "high pass",
              "band pass",
              "all pass",
              "no pass"
            ],
            "_view_name": "DropdownView",
            "style": "IPY_MODEL_ce25d1fab00749e8a2bf5266c79616d9",
            "_dom_classes": [],
            "description": "filter type",
            "_model_name": "DropdownModel",
            "index": 0,
            "_view_module": "@jupyter-widgets/controls",
            "_model_module_version": "1.5.0",
            "_view_count": null,
            "disabled": false,
            "_view_module_version": "1.5.0",
            "description_tooltip": null,
            "_model_module": "@jupyter-widgets/controls",
            "layout": "IPY_MODEL_74e3da522b02427c9b1879511a0bc4d8"
          }
        },
        "a984f347a8c04b2cb9b17469c127d7a3": {
          "model_module": "@jupyter-widgets/controls",
          "model_name": "FloatSliderModel",
          "state": {
            "_view_name": "FloatSliderView",
            "style": "IPY_MODEL_058f277e078a4917a1a053fe5b3124be",
            "_dom_classes": [],
            "description": "cut off",
            "step": 0.1,
            "_model_name": "FloatSliderModel",
            "orientation": "horizontal",
            "max": 3.141592653589793,
            "_view_module": "@jupyter-widgets/controls",
            "_model_module_version": "1.5.0",
            "value": 1.5707963267948966,
            "_view_count": null,
            "disabled": false,
            "_view_module_version": "1.5.0",
            "min": 0,
            "continuous_update": true,
            "readout_format": ".2f",
            "description_tooltip": null,
            "readout": true,
            "_model_module": "@jupyter-widgets/controls",
            "layout": "IPY_MODEL_6d812689624847b79f285d03735717cb"
          }
        },
        "371c1119873043558b5297331ef2edfa": {
          "model_module": "@jupyter-widgets/output",
          "model_name": "OutputModel",
          "state": {
            "_view_name": "OutputView",
            "msg_id": "",
            "_dom_classes": [],
            "_model_name": "OutputModel",
            "outputs": [],
            "_view_module": "@jupyter-widgets/output",
            "_model_module_version": "1.0.0",
            "_view_count": null,
            "_view_module_version": "1.0.0",
            "layout": "IPY_MODEL_4ace309bbc214067a94ccecec2d3d857",
            "_model_module": "@jupyter-widgets/output"
          }
        },
        "ce25d1fab00749e8a2bf5266c79616d9": {
          "model_module": "@jupyter-widgets/controls",
          "model_name": "DescriptionStyleModel",
          "state": {
            "_view_name": "StyleView",
            "_model_name": "DescriptionStyleModel",
            "description_width": "",
            "_view_module": "@jupyter-widgets/base",
            "_model_module_version": "1.5.0",
            "_view_count": null,
            "_view_module_version": "1.2.0",
            "_model_module": "@jupyter-widgets/controls"
          }
        },
        "74e3da522b02427c9b1879511a0bc4d8": {
          "model_module": "@jupyter-widgets/base",
          "model_name": "LayoutModel",
          "state": {
            "_view_name": "LayoutView",
            "grid_template_rows": null,
            "right": null,
            "justify_content": null,
            "_view_module": "@jupyter-widgets/base",
            "overflow": null,
            "_model_module_version": "1.2.0",
            "_view_count": null,
            "flex_flow": null,
            "width": null,
            "min_width": null,
            "border": null,
            "align_items": null,
            "bottom": null,
            "_model_module": "@jupyter-widgets/base",
            "top": null,
            "grid_column": null,
            "overflow_y": null,
            "overflow_x": null,
            "grid_auto_flow": null,
            "grid_area": null,
            "grid_template_columns": null,
            "flex": null,
            "_model_name": "LayoutModel",
            "justify_items": null,
            "grid_row": null,
            "max_height": null,
            "align_content": null,
            "visibility": null,
            "align_self": null,
            "height": null,
            "min_height": null,
            "padding": null,
            "grid_auto_rows": null,
            "grid_gap": null,
            "max_width": null,
            "order": null,
            "_view_module_version": "1.2.0",
            "grid_template_areas": null,
            "object_position": null,
            "object_fit": null,
            "grid_auto_columns": null,
            "margin": null,
            "display": null,
            "left": null
          }
        },
        "058f277e078a4917a1a053fe5b3124be": {
          "model_module": "@jupyter-widgets/controls",
          "model_name": "SliderStyleModel",
          "state": {
            "_view_name": "StyleView",
            "handle_color": null,
            "_model_name": "SliderStyleModel",
            "description_width": "",
            "_view_module": "@jupyter-widgets/base",
            "_model_module_version": "1.5.0",
            "_view_count": null,
            "_view_module_version": "1.2.0",
            "_model_module": "@jupyter-widgets/controls"
          }
        },
        "6d812689624847b79f285d03735717cb": {
          "model_module": "@jupyter-widgets/base",
          "model_name": "LayoutModel",
          "state": {
            "_view_name": "LayoutView",
            "grid_template_rows": null,
            "right": null,
            "justify_content": null,
            "_view_module": "@jupyter-widgets/base",
            "overflow": null,
            "_model_module_version": "1.2.0",
            "_view_count": null,
            "flex_flow": null,
            "width": null,
            "min_width": null,
            "border": null,
            "align_items": null,
            "bottom": null,
            "_model_module": "@jupyter-widgets/base",
            "top": null,
            "grid_column": null,
            "overflow_y": null,
            "overflow_x": null,
            "grid_auto_flow": null,
            "grid_area": null,
            "grid_template_columns": null,
            "flex": null,
            "_model_name": "LayoutModel",
            "justify_items": null,
            "grid_row": null,
            "max_height": null,
            "align_content": null,
            "visibility": null,
            "align_self": null,
            "height": null,
            "min_height": null,
            "padding": null,
            "grid_auto_rows": null,
            "grid_gap": null,
            "max_width": null,
            "order": null,
            "_view_module_version": "1.2.0",
            "grid_template_areas": null,
            "object_position": null,
            "object_fit": null,
            "grid_auto_columns": null,
            "margin": null,
            "display": null,
            "left": null
          }
        },
        "4ace309bbc214067a94ccecec2d3d857": {
          "model_module": "@jupyter-widgets/base",
          "model_name": "LayoutModel",
          "state": {
            "_view_name": "LayoutView",
            "grid_template_rows": null,
            "right": null,
            "justify_content": null,
            "_view_module": "@jupyter-widgets/base",
            "overflow": null,
            "_model_module_version": "1.2.0",
            "_view_count": null,
            "flex_flow": null,
            "width": null,
            "min_width": null,
            "border": null,
            "align_items": null,
            "bottom": null,
            "_model_module": "@jupyter-widgets/base",
            "top": null,
            "grid_column": null,
            "overflow_y": null,
            "overflow_x": null,
            "grid_auto_flow": null,
            "grid_area": null,
            "grid_template_columns": null,
            "flex": null,
            "_model_name": "LayoutModel",
            "justify_items": null,
            "grid_row": null,
            "max_height": null,
            "align_content": null,
            "visibility": null,
            "align_self": null,
            "height": null,
            "min_height": null,
            "padding": null,
            "grid_auto_rows": null,
            "grid_gap": null,
            "max_width": null,
            "order": null,
            "_view_module_version": "1.2.0",
            "grid_template_areas": null,
            "object_position": null,
            "object_fit": null,
            "grid_auto_columns": null,
            "margin": null,
            "display": null,
            "left": null
          }
        },
        "d62af4f2e4ea4bed99169feee6f85148": {
          "model_module": "@jupyter-widgets/controls",
          "model_name": "VBoxModel",
          "state": {
            "_view_name": "VBoxView",
            "_dom_classes": [
              "widget-interact"
            ],
            "_model_name": "VBoxModel",
            "_view_module": "@jupyter-widgets/controls",
            "_model_module_version": "1.5.0",
            "_view_count": null,
            "_view_module_version": "1.5.0",
            "box_style": "",
            "layout": "IPY_MODEL_c32573037fb74a6e9fdb9b7510049d30",
            "_model_module": "@jupyter-widgets/controls",
            "children": [
              "IPY_MODEL_0b5177d3a27e4df09beccfe9456cfc36",
              "IPY_MODEL_7de018b18739471eba36ad2f260f0ac1"
            ]
          }
        },
        "c32573037fb74a6e9fdb9b7510049d30": {
          "model_module": "@jupyter-widgets/base",
          "model_name": "LayoutModel",
          "state": {
            "_view_name": "LayoutView",
            "grid_template_rows": null,
            "right": null,
            "justify_content": null,
            "_view_module": "@jupyter-widgets/base",
            "overflow": null,
            "_model_module_version": "1.2.0",
            "_view_count": null,
            "flex_flow": null,
            "width": null,
            "min_width": null,
            "border": null,
            "align_items": null,
            "bottom": null,
            "_model_module": "@jupyter-widgets/base",
            "top": null,
            "grid_column": null,
            "overflow_y": null,
            "overflow_x": null,
            "grid_auto_flow": null,
            "grid_area": null,
            "grid_template_columns": null,
            "flex": null,
            "_model_name": "LayoutModel",
            "justify_items": null,
            "grid_row": null,
            "max_height": null,
            "align_content": null,
            "visibility": null,
            "align_self": null,
            "height": null,
            "min_height": null,
            "padding": null,
            "grid_auto_rows": null,
            "grid_gap": null,
            "max_width": null,
            "order": null,
            "_view_module_version": "1.2.0",
            "grid_template_areas": null,
            "object_position": null,
            "object_fit": null,
            "grid_auto_columns": null,
            "margin": null,
            "display": null,
            "left": null
          }
        },
        "0b5177d3a27e4df09beccfe9456cfc36": {
          "model_module": "@jupyter-widgets/controls",
          "model_name": "FloatSliderModel",
          "state": {
            "_view_name": "FloatSliderView",
            "style": "IPY_MODEL_43684351ea884b2ab13da1e88cde7cd1",
            "_dom_classes": [],
            "description": "sigma (noise)",
            "step": 0.01,
            "_model_name": "FloatSliderModel",
            "orientation": "horizontal",
            "max": 0.1,
            "_view_module": "@jupyter-widgets/controls",
            "_model_module_version": "1.5.0",
            "value": 0.1,
            "_view_count": null,
            "disabled": false,
            "_view_module_version": "1.5.0",
            "min": 0,
            "continuous_update": true,
            "readout_format": ".2f",
            "description_tooltip": null,
            "readout": true,
            "_model_module": "@jupyter-widgets/controls",
            "layout": "IPY_MODEL_ef434e844e404480a62ef0413469762b"
          }
        },
        "7de018b18739471eba36ad2f260f0ac1": {
          "model_module": "@jupyter-widgets/output",
          "model_name": "OutputModel",
          "state": {
            "_view_name": "OutputView",
            "msg_id": "",
            "_dom_classes": [],
            "_model_name": "OutputModel",
            "outputs": [],
            "_view_module": "@jupyter-widgets/output",
            "_model_module_version": "1.0.0",
            "_view_count": null,
            "_view_module_version": "1.0.0",
            "layout": "IPY_MODEL_f8aea298cee64013bdc9601b6ad19007",
            "_model_module": "@jupyter-widgets/output"
          }
        },
        "43684351ea884b2ab13da1e88cde7cd1": {
          "model_module": "@jupyter-widgets/controls",
          "model_name": "SliderStyleModel",
          "state": {
            "_view_name": "StyleView",
            "handle_color": null,
            "_model_name": "SliderStyleModel",
            "description_width": "",
            "_view_module": "@jupyter-widgets/base",
            "_model_module_version": "1.5.0",
            "_view_count": null,
            "_view_module_version": "1.2.0",
            "_model_module": "@jupyter-widgets/controls"
          }
        },
        "ef434e844e404480a62ef0413469762b": {
          "model_module": "@jupyter-widgets/base",
          "model_name": "LayoutModel",
          "state": {
            "_view_name": "LayoutView",
            "grid_template_rows": null,
            "right": null,
            "justify_content": null,
            "_view_module": "@jupyter-widgets/base",
            "overflow": null,
            "_model_module_version": "1.2.0",
            "_view_count": null,
            "flex_flow": null,
            "width": null,
            "min_width": null,
            "border": null,
            "align_items": null,
            "bottom": null,
            "_model_module": "@jupyter-widgets/base",
            "top": null,
            "grid_column": null,
            "overflow_y": null,
            "overflow_x": null,
            "grid_auto_flow": null,
            "grid_area": null,
            "grid_template_columns": null,
            "flex": null,
            "_model_name": "LayoutModel",
            "justify_items": null,
            "grid_row": null,
            "max_height": null,
            "align_content": null,
            "visibility": null,
            "align_self": null,
            "height": null,
            "min_height": null,
            "padding": null,
            "grid_auto_rows": null,
            "grid_gap": null,
            "max_width": null,
            "order": null,
            "_view_module_version": "1.2.0",
            "grid_template_areas": null,
            "object_position": null,
            "object_fit": null,
            "grid_auto_columns": null,
            "margin": null,
            "display": null,
            "left": null
          }
        },
        "f8aea298cee64013bdc9601b6ad19007": {
          "model_module": "@jupyter-widgets/base",
          "model_name": "LayoutModel",
          "state": {
            "_view_name": "LayoutView",
            "grid_template_rows": null,
            "right": null,
            "justify_content": null,
            "_view_module": "@jupyter-widgets/base",
            "overflow": null,
            "_model_module_version": "1.2.0",
            "_view_count": null,
            "flex_flow": null,
            "width": null,
            "min_width": null,
            "border": null,
            "align_items": null,
            "bottom": null,
            "_model_module": "@jupyter-widgets/base",
            "top": null,
            "grid_column": null,
            "overflow_y": null,
            "overflow_x": null,
            "grid_auto_flow": null,
            "grid_area": null,
            "grid_template_columns": null,
            "flex": null,
            "_model_name": "LayoutModel",
            "justify_items": null,
            "grid_row": null,
            "max_height": null,
            "align_content": null,
            "visibility": null,
            "align_self": null,
            "height": null,
            "min_height": null,
            "padding": null,
            "grid_auto_rows": null,
            "grid_gap": null,
            "max_width": null,
            "order": null,
            "_view_module_version": "1.2.0",
            "grid_template_areas": null,
            "object_position": null,
            "object_fit": null,
            "grid_auto_columns": null,
            "margin": null,
            "display": null,
            "left": null
          }
        },
        "2355d8186b2d4402bc31e73e992b45b5": {
          "model_module": "@jupyter-widgets/controls",
          "model_name": "VBoxModel",
          "state": {
            "_view_name": "VBoxView",
            "_dom_classes": [
              "widget-interact"
            ],
            "_model_name": "VBoxModel",
            "_view_module": "@jupyter-widgets/controls",
            "_model_module_version": "1.5.0",
            "_view_count": null,
            "_view_module_version": "1.5.0",
            "box_style": "",
            "layout": "IPY_MODEL_f6be0d24b529477f9993cf68740e8dfd",
            "_model_module": "@jupyter-widgets/controls",
            "children": [
              "IPY_MODEL_d2dfbc4a01944556b5a688310da1181c",
              "IPY_MODEL_7fad6350bb004e7ba830a142d38e6847",
              "IPY_MODEL_454bdfb274b546cb883bfd0643e5f349",
              "IPY_MODEL_eb84935e78f24d9db0885da6f26e211d"
            ]
          }
        },
        "f6be0d24b529477f9993cf68740e8dfd": {
          "model_module": "@jupyter-widgets/base",
          "model_name": "LayoutModel",
          "state": {
            "_view_name": "LayoutView",
            "grid_template_rows": null,
            "right": null,
            "justify_content": null,
            "_view_module": "@jupyter-widgets/base",
            "overflow": null,
            "_model_module_version": "1.2.0",
            "_view_count": null,
            "flex_flow": null,
            "width": null,
            "min_width": null,
            "border": null,
            "align_items": null,
            "bottom": null,
            "_model_module": "@jupyter-widgets/base",
            "top": null,
            "grid_column": null,
            "overflow_y": null,
            "overflow_x": null,
            "grid_auto_flow": null,
            "grid_area": null,
            "grid_template_columns": null,
            "flex": null,
            "_model_name": "LayoutModel",
            "justify_items": null,
            "grid_row": null,
            "max_height": null,
            "align_content": null,
            "visibility": null,
            "align_self": null,
            "height": null,
            "min_height": null,
            "padding": null,
            "grid_auto_rows": null,
            "grid_gap": null,
            "max_width": null,
            "order": null,
            "_view_module_version": "1.2.0",
            "grid_template_areas": null,
            "object_position": null,
            "object_fit": null,
            "grid_auto_columns": null,
            "margin": null,
            "display": null,
            "left": null
          }
        },
        "d2dfbc4a01944556b5a688310da1181c": {
          "model_module": "@jupyter-widgets/controls",
          "model_name": "IntSliderModel",
          "state": {
            "_view_name": "IntSliderView",
            "style": "IPY_MODEL_48ab0667049647d2b2d7d7aa91097203",
            "_dom_classes": [],
            "description": "N",
            "step": 1,
            "_model_name": "IntSliderModel",
            "orientation": "horizontal",
            "max": 40,
            "_view_module": "@jupyter-widgets/controls",
            "_model_module_version": "1.5.0",
            "value": 20,
            "_view_count": null,
            "disabled": false,
            "_view_module_version": "1.5.0",
            "min": 1,
            "continuous_update": true,
            "readout_format": "d",
            "description_tooltip": null,
            "readout": true,
            "_model_module": "@jupyter-widgets/controls",
            "layout": "IPY_MODEL_877b15afe55b49a6b44d3d5e5b72c826"
          }
        },
        "7fad6350bb004e7ba830a142d38e6847": {
          "model_module": "@jupyter-widgets/controls",
          "model_name": "FloatSliderModel",
          "state": {
            "_view_name": "FloatSliderView",
            "style": "IPY_MODEL_7b436a37df50448ba13280d7d2989924",
            "_dom_classes": [],
            "description": "beta",
            "step": 0.001,
            "_model_name": "FloatSliderModel",
            "orientation": "horizontal",
            "max": 0.05,
            "_view_module": "@jupyter-widgets/controls",
            "_model_module_version": "1.5.0",
            "value": 0,
            "_view_count": null,
            "disabled": false,
            "_view_module_version": "1.5.0",
            "min": 0,
            "continuous_update": true,
            "readout_format": ".3f",
            "description_tooltip": null,
            "readout": true,
            "_model_module": "@jupyter-widgets/controls",
            "layout": "IPY_MODEL_d07e674ffac54d1f995b6042fb9ad6f3"
          }
        },
        "454bdfb274b546cb883bfd0643e5f349": {
          "model_module": "@jupyter-widgets/controls",
          "model_name": "CheckboxModel",
          "state": {
            "_view_name": "CheckboxView",
            "style": "IPY_MODEL_8629ca3b4b9748fb911d463a958f8a2d",
            "_dom_classes": [],
            "description": "logarithmic plot",
            "_model_name": "CheckboxModel",
            "_view_module": "@jupyter-widgets/controls",
            "_model_module_version": "1.5.0",
            "value": false,
            "_view_count": null,
            "disabled": false,
            "_view_module_version": "1.5.0",
            "indent": true,
            "description_tooltip": null,
            "_model_module": "@jupyter-widgets/controls",
            "layout": "IPY_MODEL_7c2e95f597c649bf9a1ae2b24e3a4067"
          }
        },
        "eb84935e78f24d9db0885da6f26e211d": {
          "model_module": "@jupyter-widgets/output",
          "model_name": "OutputModel",
          "state": {
            "_view_name": "OutputView",
            "msg_id": "",
            "_dom_classes": [],
            "_model_name": "OutputModel",
            "outputs": [],
            "_view_module": "@jupyter-widgets/output",
            "_model_module_version": "1.0.0",
            "_view_count": null,
            "_view_module_version": "1.0.0",
            "layout": "IPY_MODEL_ea3ec0091ee74eff975005469567b0fd",
            "_model_module": "@jupyter-widgets/output"
          }
        },
        "48ab0667049647d2b2d7d7aa91097203": {
          "model_module": "@jupyter-widgets/controls",
          "model_name": "SliderStyleModel",
          "state": {
            "_view_name": "StyleView",
            "handle_color": null,
            "_model_name": "SliderStyleModel",
            "description_width": "",
            "_view_module": "@jupyter-widgets/base",
            "_model_module_version": "1.5.0",
            "_view_count": null,
            "_view_module_version": "1.2.0",
            "_model_module": "@jupyter-widgets/controls"
          }
        },
        "877b15afe55b49a6b44d3d5e5b72c826": {
          "model_module": "@jupyter-widgets/base",
          "model_name": "LayoutModel",
          "state": {
            "_view_name": "LayoutView",
            "grid_template_rows": null,
            "right": null,
            "justify_content": null,
            "_view_module": "@jupyter-widgets/base",
            "overflow": null,
            "_model_module_version": "1.2.0",
            "_view_count": null,
            "flex_flow": null,
            "width": null,
            "min_width": null,
            "border": null,
            "align_items": null,
            "bottom": null,
            "_model_module": "@jupyter-widgets/base",
            "top": null,
            "grid_column": null,
            "overflow_y": null,
            "overflow_x": null,
            "grid_auto_flow": null,
            "grid_area": null,
            "grid_template_columns": null,
            "flex": null,
            "_model_name": "LayoutModel",
            "justify_items": null,
            "grid_row": null,
            "max_height": null,
            "align_content": null,
            "visibility": null,
            "align_self": null,
            "height": null,
            "min_height": null,
            "padding": null,
            "grid_auto_rows": null,
            "grid_gap": null,
            "max_width": null,
            "order": null,
            "_view_module_version": "1.2.0",
            "grid_template_areas": null,
            "object_position": null,
            "object_fit": null,
            "grid_auto_columns": null,
            "margin": null,
            "display": null,
            "left": null
          }
        },
        "7b436a37df50448ba13280d7d2989924": {
          "model_module": "@jupyter-widgets/controls",
          "model_name": "SliderStyleModel",
          "state": {
            "_view_name": "StyleView",
            "handle_color": null,
            "_model_name": "SliderStyleModel",
            "description_width": "",
            "_view_module": "@jupyter-widgets/base",
            "_model_module_version": "1.5.0",
            "_view_count": null,
            "_view_module_version": "1.2.0",
            "_model_module": "@jupyter-widgets/controls"
          }
        },
        "d07e674ffac54d1f995b6042fb9ad6f3": {
          "model_module": "@jupyter-widgets/base",
          "model_name": "LayoutModel",
          "state": {
            "_view_name": "LayoutView",
            "grid_template_rows": null,
            "right": null,
            "justify_content": null,
            "_view_module": "@jupyter-widgets/base",
            "overflow": null,
            "_model_module_version": "1.2.0",
            "_view_count": null,
            "flex_flow": null,
            "width": null,
            "min_width": null,
            "border": null,
            "align_items": null,
            "bottom": null,
            "_model_module": "@jupyter-widgets/base",
            "top": null,
            "grid_column": null,
            "overflow_y": null,
            "overflow_x": null,
            "grid_auto_flow": null,
            "grid_area": null,
            "grid_template_columns": null,
            "flex": null,
            "_model_name": "LayoutModel",
            "justify_items": null,
            "grid_row": null,
            "max_height": null,
            "align_content": null,
            "visibility": null,
            "align_self": null,
            "height": null,
            "min_height": null,
            "padding": null,
            "grid_auto_rows": null,
            "grid_gap": null,
            "max_width": null,
            "order": null,
            "_view_module_version": "1.2.0",
            "grid_template_areas": null,
            "object_position": null,
            "object_fit": null,
            "grid_auto_columns": null,
            "margin": null,
            "display": null,
            "left": null
          }
        },
        "8629ca3b4b9748fb911d463a958f8a2d": {
          "model_module": "@jupyter-widgets/controls",
          "model_name": "DescriptionStyleModel",
          "state": {
            "_view_name": "StyleView",
            "_model_name": "DescriptionStyleModel",
            "description_width": "",
            "_view_module": "@jupyter-widgets/base",
            "_model_module_version": "1.5.0",
            "_view_count": null,
            "_view_module_version": "1.2.0",
            "_model_module": "@jupyter-widgets/controls"
          }
        },
        "7c2e95f597c649bf9a1ae2b24e3a4067": {
          "model_module": "@jupyter-widgets/base",
          "model_name": "LayoutModel",
          "state": {
            "_view_name": "LayoutView",
            "grid_template_rows": null,
            "right": null,
            "justify_content": null,
            "_view_module": "@jupyter-widgets/base",
            "overflow": null,
            "_model_module_version": "1.2.0",
            "_view_count": null,
            "flex_flow": null,
            "width": null,
            "min_width": null,
            "border": null,
            "align_items": null,
            "bottom": null,
            "_model_module": "@jupyter-widgets/base",
            "top": null,
            "grid_column": null,
            "overflow_y": null,
            "overflow_x": null,
            "grid_auto_flow": null,
            "grid_area": null,
            "grid_template_columns": null,
            "flex": null,
            "_model_name": "LayoutModel",
            "justify_items": null,
            "grid_row": null,
            "max_height": null,
            "align_content": null,
            "visibility": null,
            "align_self": null,
            "height": null,
            "min_height": null,
            "padding": null,
            "grid_auto_rows": null,
            "grid_gap": null,
            "max_width": null,
            "order": null,
            "_view_module_version": "1.2.0",
            "grid_template_areas": null,
            "object_position": null,
            "object_fit": null,
            "grid_auto_columns": null,
            "margin": null,
            "display": null,
            "left": null
          }
        },
        "ea3ec0091ee74eff975005469567b0fd": {
          "model_module": "@jupyter-widgets/base",
          "model_name": "LayoutModel",
          "state": {
            "_view_name": "LayoutView",
            "grid_template_rows": null,
            "right": null,
            "justify_content": null,
            "_view_module": "@jupyter-widgets/base",
            "overflow": null,
            "_model_module_version": "1.2.0",
            "_view_count": null,
            "flex_flow": null,
            "width": null,
            "min_width": null,
            "border": null,
            "align_items": null,
            "bottom": null,
            "_model_module": "@jupyter-widgets/base",
            "top": null,
            "grid_column": null,
            "overflow_y": null,
            "overflow_x": null,
            "grid_auto_flow": null,
            "grid_area": null,
            "grid_template_columns": null,
            "flex": null,
            "_model_name": "LayoutModel",
            "justify_items": null,
            "grid_row": null,
            "max_height": null,
            "align_content": null,
            "visibility": null,
            "align_self": null,
            "height": null,
            "min_height": null,
            "padding": null,
            "grid_auto_rows": null,
            "grid_gap": null,
            "max_width": null,
            "order": null,
            "_view_module_version": "1.2.0",
            "grid_template_areas": null,
            "object_position": null,
            "object_fit": null,
            "grid_auto_columns": null,
            "margin": null,
            "display": null,
            "left": null
          }
        }
      }
    }
  },
  "cells": [
    {
      "cell_type": "markdown",
      "metadata": {
        "id": "view-in-github",
        "colab_type": "text"
      },
      "source": [
        "<a href=\"https://colab.research.google.com/github/dssp-ethz/DSSP-Illustrations/blob/main/LMS.ipynb\" target=\"_parent\"><img src=\"https://colab.research.google.com/assets/colab-badge.svg\" alt=\"Open In Colab\"/></a>"
      ]
    },
    {
      "cell_type": "markdown",
      "metadata": {
        "id": "KSJ-08B1RZ4T"
      },
      "source": [
        "# LMS Algorithm\n",
        "We wish to estimate $X$ from some signal $Y$ using a (causal) Wiener filter, i.e.\n",
        "$$\\hat{X}[k] = \\sum\\limits_{n=0}^N h_k [n] Y [k-n]$$\n",
        "\n",
        "We calibrate the filter in the adaptive mode, where we actually know $X$. We use the update formula:\n",
        "\n",
        "$$\\begin{pmatrix} h_{k+1}[0]\\\\h_{k+1}[1]\\\\ \\vdots\\\\h_{k+1}[N] \\end{pmatrix} = \\begin{pmatrix} h_{k}[0]\\\\h_{k}[1]\\\\ \\vdots\\\\h_{k}[N] \\end{pmatrix} + \\beta \\left( X[k] - \\hat{X}[k] \\right) \\begin{pmatrix} Y[k-0]\\\\Y[k-1]\\\\ \\vdots\\\\Y[k-N] \\end{pmatrix}$$\n",
        "\n",
        "where $\\beta$ is an adjustable learning parameter."
      ]
    },
    {
      "cell_type": "code",
      "metadata": {
        "colab": {
          "base_uri": "https://localhost:8080/"
        },
        "id": "gPtTDbmLaAdu",
        "outputId": "a47a8f74-3324-4e5a-e1f6-37e3a3356be9"
      },
      "source": [
        "pip install pydsm"
      ],
      "execution_count": 1,
      "outputs": [
        {
          "output_type": "stream",
          "text": [
            "Collecting pydsm\n",
            "\u001b[?25l  Downloading https://files.pythonhosted.org/packages/6f/96/1881d0ca1fceb9a91a8558510ff55e1e17f832321f9d359e2fc368609a0b/pydsm-0.14.0.0.zip (552kB)\n",
            "\r\u001b[K     |▋                               | 10kB 16.0MB/s eta 0:00:01\r\u001b[K     |█▏                              | 20kB 20.8MB/s eta 0:00:01\r\u001b[K     |█▉                              | 30kB 22.7MB/s eta 0:00:01\r\u001b[K     |██▍                             | 40kB 25.5MB/s eta 0:00:01\r\u001b[K     |███                             | 51kB 28.0MB/s eta 0:00:01\r\u001b[K     |███▋                            | 61kB 29.0MB/s eta 0:00:01\r\u001b[K     |████▏                           | 71kB 29.4MB/s eta 0:00:01\r\u001b[K     |████▊                           | 81kB 30.4MB/s eta 0:00:01\r\u001b[K     |█████▍                          | 92kB 30.8MB/s eta 0:00:01\r\u001b[K     |██████                          | 102kB 29.9MB/s eta 0:00:01\r\u001b[K     |██████▌                         | 112kB 29.9MB/s eta 0:00:01\r\u001b[K     |███████▏                        | 122kB 29.9MB/s eta 0:00:01\r\u001b[K     |███████▊                        | 133kB 29.9MB/s eta 0:00:01\r\u001b[K     |████████▎                       | 143kB 29.9MB/s eta 0:00:01\r\u001b[K     |█████████                       | 153kB 29.9MB/s eta 0:00:01\r\u001b[K     |█████████▌                      | 163kB 29.9MB/s eta 0:00:01\r\u001b[K     |██████████                      | 174kB 29.9MB/s eta 0:00:01\r\u001b[K     |██████████▊                     | 184kB 29.9MB/s eta 0:00:01\r\u001b[K     |███████████▎                    | 194kB 29.9MB/s eta 0:00:01\r\u001b[K     |███████████▉                    | 204kB 29.9MB/s eta 0:00:01\r\u001b[K     |████████████▌                   | 215kB 29.9MB/s eta 0:00:01\r\u001b[K     |█████████████                   | 225kB 29.9MB/s eta 0:00:01\r\u001b[K     |█████████████▋                  | 235kB 29.9MB/s eta 0:00:01\r\u001b[K     |██████████████▎                 | 245kB 29.9MB/s eta 0:00:01\r\u001b[K     |██████████████▉                 | 256kB 29.9MB/s eta 0:00:01\r\u001b[K     |███████████████▍                | 266kB 29.9MB/s eta 0:00:01\r\u001b[K     |████████████████                | 276kB 29.9MB/s eta 0:00:01\r\u001b[K     |████████████████▋               | 286kB 29.9MB/s eta 0:00:01\r\u001b[K     |█████████████████▏              | 296kB 29.9MB/s eta 0:00:01\r\u001b[K     |█████████████████▉              | 307kB 29.9MB/s eta 0:00:01\r\u001b[K     |██████████████████▍             | 317kB 29.9MB/s eta 0:00:01\r\u001b[K     |███████████████████             | 327kB 29.9MB/s eta 0:00:01\r\u001b[K     |███████████████████▋            | 337kB 29.9MB/s eta 0:00:01\r\u001b[K     |████████████████████▏           | 348kB 29.9MB/s eta 0:00:01\r\u001b[K     |████████████████████▊           | 358kB 29.9MB/s eta 0:00:01\r\u001b[K     |█████████████████████▍          | 368kB 29.9MB/s eta 0:00:01\r\u001b[K     |██████████████████████          | 378kB 29.9MB/s eta 0:00:01\r\u001b[K     |██████████████████████▌         | 389kB 29.9MB/s eta 0:00:01\r\u001b[K     |███████████████████████▏        | 399kB 29.9MB/s eta 0:00:01\r\u001b[K     |███████████████████████▊        | 409kB 29.9MB/s eta 0:00:01\r\u001b[K     |████████████████████████▎       | 419kB 29.9MB/s eta 0:00:01\r\u001b[K     |█████████████████████████       | 430kB 29.9MB/s eta 0:00:01\r\u001b[K     |█████████████████████████▌      | 440kB 29.9MB/s eta 0:00:01\r\u001b[K     |██████████████████████████      | 450kB 29.9MB/s eta 0:00:01\r\u001b[K     |██████████████████████████▊     | 460kB 29.9MB/s eta 0:00:01\r\u001b[K     |███████████████████████████▎    | 471kB 29.9MB/s eta 0:00:01\r\u001b[K     |███████████████████████████▉    | 481kB 29.9MB/s eta 0:00:01\r\u001b[K     |████████████████████████████▌   | 491kB 29.9MB/s eta 0:00:01\r\u001b[K     |█████████████████████████████   | 501kB 29.9MB/s eta 0:00:01\r\u001b[K     |█████████████████████████████▋  | 512kB 29.9MB/s eta 0:00:01\r\u001b[K     |██████████████████████████████▎ | 522kB 29.9MB/s eta 0:00:01\r\u001b[K     |██████████████████████████████▉ | 532kB 29.9MB/s eta 0:00:01\r\u001b[K     |███████████████████████████████▍| 542kB 29.9MB/s eta 0:00:01\r\u001b[K     |████████████████████████████████| 552kB 29.9MB/s \n",
            "\u001b[?25hBuilding wheels for collected packages: pydsm\n",
            "  Building wheel for pydsm (setup.py) ... \u001b[?25l\u001b[?25hdone\n",
            "  Created wheel for pydsm: filename=pydsm-0.14.0.0-cp37-cp37m-linux_x86_64.whl size=684638 sha256=48c4ed275b1c0caf017f6d4b4f50567430422d96a32737096b92fbf67d39eb47\n",
            "  Stored in directory: /root/.cache/pip/wheels/7d/10/8c/8983ab80da463bab42f455c100dbf62c47fba0b6650f6c22f6\n",
            "Successfully built pydsm\n",
            "Installing collected packages: pydsm\n",
            "Successfully installed pydsm-0.14.0.0\n"
          ],
          "name": "stdout"
        }
      ]
    },
    {
      "cell_type": "code",
      "metadata": {
        "colab": {
          "base_uri": "https://localhost:8080/"
        },
        "id": "hd2KvGtcaAAU",
        "outputId": "480bc360-d05b-45ac-a132-b7e0bf631f58"
      },
      "source": [
        "!gdown https://drive.google.com/uc?id=1-nxgfNaJPeB88X_kE5T2xDqiGI5T2I1u\n",
        "!gdown https://drive.google.com/uc?id=1937_NrN8dHRPEsAamOn7v6hBSWG1cwzt"
      ],
      "execution_count": 2,
      "outputs": [
        {
          "output_type": "stream",
          "text": [
            "Downloading...\n",
            "From: https://drive.google.com/uc?id=1-nxgfNaJPeB88X_kE5T2xDqiGI5T2I1u\n",
            "To: /content/signals.py\n",
            "100% 3.99k/3.99k [00:00<00:00, 7.25MB/s]\n",
            "Downloading...\n",
            "From: https://drive.google.com/uc?id=1937_NrN8dHRPEsAamOn7v6hBSWG1cwzt\n",
            "To: /content/filters.py\n",
            "100% 1.08k/1.08k [00:00<00:00, 780kB/s]\n"
          ],
          "name": "stdout"
        }
      ]
    },
    {
      "cell_type": "code",
      "metadata": {
        "id": "ZgKqTN_ecMKM",
        "colab": {
          "base_uri": "https://localhost:8080/",
          "height": 177,
          "referenced_widgets": [
            "24ec9c8e8379483c8d961a6aba18068d",
            "5ca07a2a39494fbe81e28eec8686164d",
            "ff39cf75a2f44dbcbd495ca24f4e14a3",
            "985cdde8a4da4cd1af99c74695b6717d",
            "69e5033bb3b9422d8ac647fd817908fe",
            "118c1583e2f44a7b906d9d8d3d634959",
            "1ee9c273d95a4082a1377c76e53f1510",
            "cc7f9e31619241669f1e0c325b578bf6",
            "5e40e89756ce40f5868779b56c8f8c17",
            "3b1bb28d631447568205477fcb406c2c",
            "733203a8b18844fbb0bbc0a0f0eafa55",
            "da28cb47780244d880fa5e5fd13a53c7",
            "ad433e0377fd41fc9aae99b774cccfe9",
            "a984f347a8c04b2cb9b17469c127d7a3",
            "371c1119873043558b5297331ef2edfa",
            "ce25d1fab00749e8a2bf5266c79616d9",
            "74e3da522b02427c9b1879511a0bc4d8",
            "058f277e078a4917a1a053fe5b3124be",
            "6d812689624847b79f285d03735717cb",
            "4ace309bbc214067a94ccecec2d3d857",
            "d62af4f2e4ea4bed99169feee6f85148",
            "c32573037fb74a6e9fdb9b7510049d30",
            "0b5177d3a27e4df09beccfe9456cfc36",
            "7de018b18739471eba36ad2f260f0ac1",
            "43684351ea884b2ab13da1e88cde7cd1",
            "ef434e844e404480a62ef0413469762b",
            "f8aea298cee64013bdc9601b6ad19007"
          ]
        },
        "outputId": "e47f7b59-d067-4899-c608-d7c23dffab6b"
      },
      "source": [
        "from pydsm.ft import idtft\n",
        "import ipywidgets as widgets\n",
        "import numpy as np\n",
        "import matplotlib.pyplot as plt\n",
        "from scipy import signal\n",
        "%matplotlib inline\n",
        "import signals\n",
        "import filters\n",
        "#-------------------------------------------------------------------------------\n",
        "\n",
        "betaG = 0.05\n",
        "NG = signals.nG.size//2 #Filter size\n",
        "sigmaG = 1 #gaussian noise standard deviation\n",
        "logPlotG = False\n",
        "\n",
        "signals.widget()\n",
        "filters.widget()\n",
        "\n",
        "def update_sigma(sigma):\n",
        "  global sigmaG\n",
        "  sigmaG = sigma\n",
        "\n",
        "widgets.interact(update_sigma,\n",
        "    sigma = widgets.FloatSlider(\n",
        "    value=0.05,\n",
        "    min=0,\n",
        "    max=0.1,\n",
        "    step=0.01,\n",
        "    description='sigma (noise)'))\n",
        "\n",
        "#filter h\n",
        "def h(t):\n",
        "  return np.real(idtft(filters.H, t, fs = 2*np.pi)) #sets f_s such that f=Omega\n",
        "\n",
        "#noise\n",
        "def w(t):\n",
        "  return np.random.normal(0, sigmaG, 1)[0]\n",
        "\n",
        "#transmitted signal\n",
        "def xx():\n",
        "  return signals.time_domain_signal_long()\n",
        "\n",
        "#received signal\n",
        "def yy():\n",
        "  #convolution in computer is finite. Restrict signals (and filters) to nG to be able to perform computations.\n",
        "  u_ = xx()\n",
        "  h_ = [h(t) for t in signals.nG]\n",
        "  w_ = [w(t) for t in np.arange(4*signals.nG.size-1)] #result of convolution has dimension (N+M-1) i.e. (nG.size+nG.size-1) = 2*nG.size-1\n",
        "  r_ = (np.convolve(u_,h_) + w_)\n",
        "  delta = len(r_) - len(u_)\n",
        "  return r_[delta//2: -delta//2]\n",
        "\n",
        "#estimated signal during training process\n",
        "def ee(h):\n",
        "  e = [np.convolve(h[k], yy())[k] for k in range(len(h))]\n",
        "  delta = len(yy()) - len(e)\n",
        "  return [0]*delta + e #crops result to right size\n",
        "\n",
        "#estimated signal after training process\n",
        "def eef(h):\n",
        "  e = [np.convolve(h[-1], yy())[k] for k in range(len(h))]\n",
        "  delta = len(yy()) - len(e)\n",
        "  return [0]*delta + e #crops result to right size"
      ],
      "execution_count": 38,
      "outputs": [
        {
          "output_type": "display_data",
          "data": {
            "application/vnd.jupyter.widget-view+json": {
              "model_id": "24ec9c8e8379483c8d961a6aba18068d",
              "version_minor": 0,
              "version_major": 2
            },
            "text/plain": [
              "interactive(children=(Dropdown(description='signal type', options=('unit step', 'unit impulse', 'ramp', 'expon…"
            ]
          },
          "metadata": {
            "tags": []
          }
        },
        {
          "output_type": "display_data",
          "data": {
            "application/vnd.jupyter.widget-view+json": {
              "model_id": "733203a8b18844fbb0bbc0a0f0eafa55",
              "version_minor": 0,
              "version_major": 2
            },
            "text/plain": [
              "interactive(children=(Dropdown(description='filter type', options=('low pass', 'high pass', 'band pass', 'all …"
            ]
          },
          "metadata": {
            "tags": []
          }
        },
        {
          "output_type": "display_data",
          "data": {
            "application/vnd.jupyter.widget-view+json": {
              "model_id": "d62af4f2e4ea4bed99169feee6f85148",
              "version_minor": 0,
              "version_major": 2
            },
            "text/plain": [
              "interactive(children=(FloatSlider(value=0.05, description='sigma (noise)', max=0.1, step=0.01), Output()), _do…"
            ]
          },
          "metadata": {
            "tags": []
          }
        }
      ]
    },
    {
      "cell_type": "markdown",
      "metadata": {
        "id": "sWrY0x8C2raH"
      },
      "source": [
        "You may select a signal, which is then filtered for transmission over a channel. The channel introduces some noise which you can adjust here as well. Will we be able to deduce the original signal?"
      ]
    },
    {
      "cell_type": "code",
      "metadata": {
        "id": "TARj7FZyV6-z"
      },
      "source": [
        "def plot_time():\n",
        "  t1_values = np.arange(3*np.min(signals.nG), 3*np.max(signals.nG)+3)\n",
        "  t2_values = np.arange(3*np.min(signals.nG), 3*np.max(signals.nG)+3)\n",
        "\n",
        "  fig = plt.figure(figsize=(30, 8))\n",
        "\n",
        "  ax1 = fig.add_subplot(1, 2, 1)\n",
        "  ax1.grid()\n",
        "  ax1.set_xlabel('$k$', fontsize=14)\n",
        "  ax1.set_ylabel('$x[k]$', fontsize=14)\n",
        "  ax1.axis(xmin=t1_values[0], xmax=t1_values[-1])\n",
        "  if logPlotG == False:\n",
        "    ax1.axis(ymin=-3, ymax=3)\n",
        "  else:\n",
        "    ax1.axis(ymin=0.1, ymax=3)\n",
        "    ax1.set_yscale(\"log\") \n",
        "  ax1.stem(t1_values, xx());\n",
        "\n",
        "  ax2 = fig.add_subplot(1, 2, 2)\n",
        "  ax2.grid()\n",
        "  ax2.set_xlabel('$k$', fontsize=14)\n",
        "  ax2.set_ylabel('$y[k]$', fontsize=14)\n",
        "  ax2.axis(xmin=t2_values[0], xmax=t2_values[-1])\n",
        "  if logPlotG == False:\n",
        "    ax2.axis(ymin=-3, ymax=3)\n",
        "  else:\n",
        "    ax2.axis(ymin=0.1, ymax=3)\n",
        "    ax2.set_yscale(\"log\") \n",
        "\n",
        "  ax2.stem(t2_values, yy());"
      ],
      "execution_count": 43,
      "outputs": []
    },
    {
      "cell_type": "code",
      "metadata": {
        "colab": {
          "base_uri": "https://localhost:8080/",
          "height": 426
        },
        "id": "TF_FZCQ9cIXa",
        "outputId": "e3ed2b8d-8026-4acf-eb91-9a358c6dee8e"
      },
      "source": [
        "plot_time()"
      ],
      "execution_count": 51,
      "outputs": [
        {
          "output_type": "stream",
          "text": [
            "/usr/local/lib/python3.7/dist-packages/ipykernel_launcher.py:17: UserWarning: In Matplotlib 3.3 individual lines on a stem plot will be added as a LineCollection instead of individual lines. This significantly improves the performance of a stem plot. To remove this warning and switch to the new behaviour, set the \"use_line_collection\" keyword argument to True.\n",
            "/usr/local/lib/python3.7/dist-packages/ipykernel_launcher.py:30: UserWarning: In Matplotlib 3.3 individual lines on a stem plot will be added as a LineCollection instead of individual lines. This significantly improves the performance of a stem plot. To remove this warning and switch to the new behaviour, set the \"use_line_collection\" keyword argument to True.\n"
          ],
          "name": "stderr"
        },
        {
          "output_type": "display_data",
          "data": {
            "image/png": "[encoded data removed]",
            "text/plain": [
              "<Figure size 2160x576 with 2 Axes>"
            ]
          },
          "metadata": {
            "tags": [],
            "needs_background": "light"
          }
        }
      ]
    },
    {
      "cell_type": "markdown",
      "metadata": {
        "id": "3ChzGO2o4eN3"
      },
      "source": [
        "You should see the effects of the filter and noise on the original signal."
      ]
    },
    {
      "cell_type": "code",
      "metadata": {
        "id": "3bh6jOz57O2d"
      },
      "source": [
        "# input are numpy 1darrays: y, x, h_0 (initial weights); and a scalar: beta (learning rate)\n",
        "# returns H (weight history) and E (Error history) (2darrays)\n",
        "def LMS_adapt(y, x, h_0, beta):\n",
        "  assert len(y) == len(x)\n",
        "  assert len(h_0) >= 1\n",
        "  assert len(y) >= len(h_0)\n",
        "\n",
        "  H = np.array([h_0])\n",
        "  E = np.array([])\n",
        "\n",
        "  h = h_0\n",
        "\n",
        "  for l in range(0, len(y) - len(h_0) + 1):\n",
        "    yl = np.array([y[l + len(h_0)-1 - t] for t in range(0, len(h_0))]) #most recent values for y interval [l, l+len(h_0)-1] inverted\n",
        "    el = x[l + len(h_0)-1] - np.dot(yl, h) #x[l + len(h_0)-1] - \\hat{x}[l + len(h_0)-1]\n",
        "\n",
        "    h = h + beta * el * yl\n",
        "    \n",
        "    H = np.append(H, [h], axis=0)\n",
        "    E = np.append(E, [el], axis=0)\n",
        "\n",
        "  return (H, E)"
      ],
      "execution_count": 6,
      "outputs": []
    },
    {
      "cell_type": "code",
      "metadata": {
        "id": "nlG1u8HdhsJG"
      },
      "source": [
        "from mpl_toolkits.mplot3d import Axes3D\n",
        "\n",
        "def plot_LMS():\n",
        "  t1_values = np.arange(3*np.min(signals.nG), 3*np.max(signals.nG)+3)\n",
        "  t2_values = np.arange(3*np.min(signals.nG), 3*np.max(signals.nG)+3)\n",
        "\n",
        "  (H, E) = LMS_adapt(yy(), xx(), np.ones(NG), betaG)\n",
        "\n",
        "  fig = plt.figure(figsize=(30, 8))\n",
        "\n",
        "  ax1 = fig.add_subplot(1, 3, 1)\n",
        "  ax1.grid()\n",
        "  ax1.set_xlabel('$t$', fontsize=14)\n",
        "  ax1.set_ylabel('$error[t]$', fontsize=14)\n",
        "  ax1.axis(xmin=0, xmax=len(E))\n",
        "  if logPlotG == False:\n",
        "    ax1.axis(ymin=-10, ymax=10)\n",
        "  else:\n",
        "    ax1.axis(ymin=0.1, ymax=10)\n",
        "    ax1.set_yscale(\"log\") \n",
        "  ax1.stem(E);\n",
        "\n",
        "  ax2 = fig.add_subplot(1, 3, 2)\n",
        "  ax2.grid()\n",
        "  ax2.set_xlabel('$t$', fontsize=14)\n",
        "  ax2.set_ylabel('$squared\\ error[t]$', fontsize=14)\n",
        "  ax2.axis(xmin=0, xmax=len(E))\n",
        "  if logPlotG == False:\n",
        "    ax2.axis(ymin=-10, ymax=50)\n",
        "  else:\n",
        "    ax2.axis(ymin=0.1, ymax=50)\n",
        "    ax2.set_yscale(\"log\") \n",
        "  ax2.stem(E**2);\n",
        "\n",
        "  ax3 = fig.add_subplot(1, 3, 3, projection='3d')\n",
        "  ax3.grid()\n",
        "  if logPlotG == True:\n",
        "    ax3.set_yscale(\"log\") \n",
        "\n",
        "  T, K = np.meshgrid(range(len(H[0])), range(len(H[:,1])))\n",
        "\n",
        "  Xi = K.flatten()\n",
        "  Yi = T.flatten()\n",
        "  Zi = np.zeros(H.size)\n",
        "\n",
        "  dx = 0.5 * np.ones(H.size)\n",
        "  dy = 0.5 * np.ones(H.size)\n",
        "  dz = H.flatten()\n",
        "\n",
        "  ax3.set_xlabel('time t')\n",
        "  ax3.set_ylabel('index k')\n",
        "  ax3.set_zlabel('$h_t[k]$')\n",
        "\n",
        "  ax3.bar3d(Xi, Yi, Zi, dx, dy, dz)"
      ],
      "execution_count": 7,
      "outputs": []
    },
    {
      "cell_type": "code",
      "metadata": {
        "colab": {
          "base_uri": "https://localhost:8080/",
          "height": 113,
          "referenced_widgets": [
            "2355d8186b2d4402bc31e73e992b45b5",
            "f6be0d24b529477f9993cf68740e8dfd",
            "d2dfbc4a01944556b5a688310da1181c",
            "7fad6350bb004e7ba830a142d38e6847",
            "454bdfb274b546cb883bfd0643e5f349",
            "eb84935e78f24d9db0885da6f26e211d",
            "48ab0667049647d2b2d7d7aa91097203",
            "877b15afe55b49a6b44d3d5e5b72c826",
            "7b436a37df50448ba13280d7d2989924",
            "d07e674ffac54d1f995b6042fb9ad6f3",
            "8629ca3b4b9748fb911d463a958f8a2d",
            "7c2e95f597c649bf9a1ae2b24e3a4067",
            "ea3ec0091ee74eff975005469567b0fd"
          ]
        },
        "id": "1i7NZ_Gv44lp",
        "outputId": "201eb537-384b-4014-e8a3-2c123375ff42"
      },
      "source": [
        "def update_parameters(N, beta, logPlot):\n",
        "  global NG, betaG, logPlotG\n",
        "  NG,  betaG, logPlotG = N, beta, logPlot\n",
        "\n",
        "widgets.interact(update_parameters,\n",
        "  N = widgets.IntSlider(\n",
        "    value=signals.nG.size//2,\n",
        "    min=1,\n",
        "    max=signals.nG.size,\n",
        "    description='N'),\n",
        "  beta = widgets.FloatSlider(\n",
        "    value=0.025,\n",
        "    min=0,\n",
        "    max=0.05,\n",
        "    step=0.001,\n",
        "    description='beta',\n",
        "    readout_format ='.3f'),\n",
        "  logPlot = widgets.Checkbox(\n",
        "    value=False,\n",
        "    description='logarithmic plot')\n",
        ");\n"
      ],
      "execution_count": 8,
      "outputs": [
        {
          "output_type": "display_data",
          "data": {
            "application/vnd.jupyter.widget-view+json": {
              "model_id": "2355d8186b2d4402bc31e73e992b45b5",
              "version_minor": 0,
              "version_major": 2
            },
            "text/plain": [
              "interactive(children=(IntSlider(value=20, description='N', max=40, min=1), FloatSlider(value=0.025, descriptio…"
            ]
          },
          "metadata": {
            "tags": []
          }
        }
      ]
    },
    {
      "cell_type": "markdown",
      "metadata": {
        "id": "bgHongab3cNm"
      },
      "source": [
        "These are the filter parameter. $N$ selects the length of the equalization filter and thus its sophistication. $\\beta$ is the learning rate of the LMS algorithm. Too little a learning rate and we never reach the optimum. Too large a learning rate and we diverge away from the optimum."
      ]
    },
    {
      "cell_type": "code",
      "metadata": {
        "colab": {
          "base_uri": "https://localhost:8080/",
          "height": 422
        },
        "id": "_IzgTGakhvSS",
        "outputId": "4fbad576-0728-483a-c6f2-ea10bc559b99"
      },
      "source": [
        "plot_LMS()"
      ],
      "execution_count": 54,
      "outputs": [
        {
          "output_type": "stream",
          "text": [
            "/usr/local/lib/python3.7/dist-packages/ipykernel_launcher.py:21: UserWarning: In Matplotlib 3.3 individual lines on a stem plot will be added as a LineCollection instead of individual lines. This significantly improves the performance of a stem plot. To remove this warning and switch to the new behaviour, set the \"use_line_collection\" keyword argument to True.\n",
            "/usr/local/lib/python3.7/dist-packages/ipykernel_launcher.py:33: UserWarning: In Matplotlib 3.3 individual lines on a stem plot will be added as a LineCollection instead of individual lines. This significantly improves the performance of a stem plot. To remove this warning and switch to the new behaviour, set the \"use_line_collection\" keyword argument to True.\n"
          ],
          "name": "stderr"
        },
        {
          "output_type": "display_data",
          "data": {
            "image/png": "[encoded data removed]",
            "text/plain": [
              "<Figure size 2160x576 with 3 Axes>"
            ]
          },
          "metadata": {
            "tags": [],
            "needs_background": "light"
          }
        }
      ]
    },
    {
      "cell_type": "markdown",
      "metadata": {
        "id": "09A5Nwkt4men"
      },
      "source": [
        "Hopefully the selected parameters gave you convergence. Note that LMS optimizes the squared error, however the absolute error is a useful tool to identify divergence if present. All the way to the right you can see the evolution of the filter coefficients."
      ]
    },
    {
      "cell_type": "code",
      "metadata": {
        "id": "tePx5jpXAYsp"
      },
      "source": [
        "def plot_estimated():\n",
        "  t1_values = np.arange(3*np.min(signals.nG), 3*np.max(signals.nG)+3)\n",
        "  t2_values = np.arange(3*np.min(signals.nG), 3*np.max(signals.nG)+3)\n",
        "\n",
        "  fig = plt.figure(figsize=(30, 8))\n",
        "\n",
        "  ax1 = fig.add_subplot(2, 2, 1)\n",
        "  ax1.grid()\n",
        "  ax1.set_xlabel('$k$', fontsize=14)\n",
        "  ax1.set_ylabel('$x[k]$', fontsize=14)\n",
        "  ax1.axis(xmin=t1_values[0], xmax=t1_values[-1])\n",
        "  if logPlotG == False:\n",
        "    ax1.axis(ymin=-3, ymax=3)\n",
        "  else:\n",
        "    ax1.axis(ymin=0.1, ymax=3)\n",
        "    ax1.set_yscale(\"log\") \n",
        "  ax1.stem(t1_values, xx());\n",
        "\n",
        "  ax2 = fig.add_subplot(2, 2, 2)\n",
        "  ax2.grid()\n",
        "  ax2.set_xlabel('$k$', fontsize=14)\n",
        "  ax2.set_ylabel('$y[k]$', fontsize=14)\n",
        "  ax2.axis(xmin=t2_values[0], xmax=t2_values[-1])\n",
        "  if logPlotG == False:\n",
        "    ax2.axis(ymin=-3, ymax=3)\n",
        "  else:\n",
        "    ax2.axis(ymin=0.1, ymax=3)\n",
        "    ax2.set_yscale(\"log\") \n",
        "\n",
        "  ax2.stem(t2_values, yy());\n",
        "\n",
        "  (H, E) = LMS_adapt(yy(), xx(), np.ones(NG), betaG)\n",
        "  estimates = ee(H)\n",
        "  t3_values = np.arange(3*np.min(signals.nG), 3*np.max(signals.nG)+3)\n",
        "\n",
        "  ax3 = fig.add_subplot(2, 2, 3)\n",
        "  ax3.grid()\n",
        "  ax3.set_xlabel('$k$', fontsize=14)\n",
        "  ax3.set_ylabel('$\\hat{x}[k]$', fontsize=14)\n",
        "  ax3.axis(xmin=t3_values[0], xmax=t3_values[-1])\n",
        "  if logPlotG == False:\n",
        "    ax3.axis(ymin=-3, ymax=3)\n",
        "  else:\n",
        "    ax3.axis(ymin=0.1, ymax=3)\n",
        "    ax3.set_yscale(\"log\") \n",
        "\n",
        "  ax3.stem(t3_values, estimates);\n",
        "\n",
        "  estimates = eef(H)\n",
        "  t4_values = np.arange(3*np.min(signals.nG), 3*np.max(signals.nG)+3)\n",
        "\n",
        "  ax4 = fig.add_subplot(2, 2, 4)\n",
        "  ax4.grid()\n",
        "  ax4.set_xlabel('$k$', fontsize=14)\n",
        "  ax4.set_ylabel('$\\hat{x}[k]$', fontsize=14)\n",
        "  ax4.axis(xmin=t3_values[0], xmax=t3_values[-1])\n",
        "  if logPlotG == False:\n",
        "    ax4.axis(ymin=-3, ymax=3)\n",
        "  else:\n",
        "    ax4.axis(ymin=0.1, ymax=3)\n",
        "    ax4.set_yscale(\"log\") \n",
        "\n",
        "  ax4.stem(t4_values, estimates);\n"
      ],
      "execution_count": 41,
      "outputs": []
    },
    {
      "cell_type": "code",
      "metadata": {
        "id": "KzAPwSBCAINF",
        "colab": {
          "base_uri": "https://localhost:8080/",
          "height": 459
        },
        "outputId": "abf840f2-f4c7-4381-f5e3-e32b042c2436"
      },
      "source": [
        "plot_estimated()"
      ],
      "execution_count": 55,
      "outputs": [
        {
          "output_type": "stream",
          "text": [
            "/usr/local/lib/python3.7/dist-packages/ipykernel_launcher.py:17: UserWarning: In Matplotlib 3.3 individual lines on a stem plot will be added as a LineCollection instead of individual lines. This significantly improves the performance of a stem plot. To remove this warning and switch to the new behaviour, set the \"use_line_collection\" keyword argument to True.\n",
            "/usr/local/lib/python3.7/dist-packages/ipykernel_launcher.py:30: UserWarning: In Matplotlib 3.3 individual lines on a stem plot will be added as a LineCollection instead of individual lines. This significantly improves the performance of a stem plot. To remove this warning and switch to the new behaviour, set the \"use_line_collection\" keyword argument to True.\n",
            "/usr/local/lib/python3.7/dist-packages/ipykernel_launcher.py:47: UserWarning: In Matplotlib 3.3 individual lines on a stem plot will be added as a LineCollection instead of individual lines. This significantly improves the performance of a stem plot. To remove this warning and switch to the new behaviour, set the \"use_line_collection\" keyword argument to True.\n",
            "/usr/local/lib/python3.7/dist-packages/ipykernel_launcher.py:63: UserWarning: In Matplotlib 3.3 individual lines on a stem plot will be added as a LineCollection instead of individual lines. This significantly improves the performance of a stem plot. To remove this warning and switch to the new behaviour, set the \"use_line_collection\" keyword argument to True.\n"
          ],
          "name": "stderr"
        },
        {
          "output_type": "display_data",
          "data": {
            "image/png": "[encoded data removed]",
            "text/plain": [
              "<Figure size 2160x576 with 4 Axes>"
            ]
          },
          "metadata": {
            "tags": [],
            "needs_background": "light"
          }
        }
      ]
    },
    {
      "cell_type": "markdown",
      "metadata": {
        "id": "-Th7sRod52h3"
      },
      "source": [
        "Here you can see the final results. On top the signal transmitted and received signal and below the estimate during training and the estimate if the filter was run over the data again after training is complete (with fixed coefficients). "
      ]
    }
  ]
}