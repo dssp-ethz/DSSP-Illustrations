{
  "nbformat": 4,
  "nbformat_minor": 0,
  "metadata": {
    "colab": {
      "name": "LMS.ipynb",
      "provenance": [],
      "collapsed_sections": [],
      "authorship_tag": "ABX9TyNuKPer9R4fMQafq6/G0sWj",
      "include_colab_link": true
    },
    "kernelspec": {
      "display_name": "Python 3",
      "name": "python3"
    },
    "language_info": {
      "name": "python"
    },
    "widgets": {
      "application/vnd.jupyter.widget-state+json": {
        "64193937b3314e57a9cdef7e4ea65e7e": {
          "model_module": "@jupyter-widgets/controls",
          "model_name": "VBoxModel",
          "model_module_version": "1.5.0",
          "state": {
            "_view_name": "VBoxView",
            "_dom_classes": [
              "widget-interact"
            ],
            "_model_name": "VBoxModel",
            "_view_module": "@jupyter-widgets/controls",
            "_model_module_version": "1.5.0",
            "_view_count": null,
            "_view_module_version": "1.5.0",
            "box_style": "",
            "layout": "IPY_MODEL_4f725e9882bb4fddac8268142fa5ea72",
            "_model_module": "@jupyter-widgets/controls",
            "children": [
              "IPY_MODEL_b05a31cfaa684da1b5457b038d8a24bd",
              "IPY_MODEL_5bd9284cc8d447059dcd6a21bb2c1603",
              "IPY_MODEL_65d52ec8a3504f0595ded58e2e9e3562",
              "IPY_MODEL_f7ffe3e6d05b46b082a4b76d8b966049"
            ]
          }
        },
        "4f725e9882bb4fddac8268142fa5ea72": {
          "model_module": "@jupyter-widgets/base",
          "model_name": "LayoutModel",
          "model_module_version": "1.2.0",
          "state": {
            "_view_name": "LayoutView",
            "grid_template_rows": null,
            "right": null,
            "justify_content": null,
            "_view_module": "@jupyter-widgets/base",
            "overflow": null,
            "_model_module_version": "1.2.0",
            "_view_count": null,
            "flex_flow": null,
            "width": null,
            "min_width": null,
            "border": null,
            "align_items": null,
            "bottom": null,
            "_model_module": "@jupyter-widgets/base",
            "top": null,
            "grid_column": null,
            "overflow_y": null,
            "overflow_x": null,
            "grid_auto_flow": null,
            "grid_area": null,
            "grid_template_columns": null,
            "flex": null,
            "_model_name": "LayoutModel",
            "justify_items": null,
            "grid_row": null,
            "max_height": null,
            "align_content": null,
            "visibility": null,
            "align_self": null,
            "height": null,
            "min_height": null,
            "padding": null,
            "grid_auto_rows": null,
            "grid_gap": null,
            "max_width": null,
            "order": null,
            "_view_module_version": "1.2.0",
            "grid_template_areas": null,
            "object_position": null,
            "object_fit": null,
            "grid_auto_columns": null,
            "margin": null,
            "display": null,
            "left": null
          }
        },
        "b05a31cfaa684da1b5457b038d8a24bd": {
          "model_module": "@jupyter-widgets/controls",
          "model_name": "DropdownModel",
          "model_module_version": "1.5.0",
          "state": {
            "_options_labels": [
              "unit step",
              "unit impulse",
              "ramp",
              "exponential",
              "sinus",
              "sinus squared",
              "causal arbitrary"
            ],
            "_view_name": "DropdownView",
            "style": "IPY_MODEL_8906b70ae8e3424eb0bfc0234dc9228d",
            "_dom_classes": [],
            "description": "signal type",
            "_model_name": "DropdownModel",
            "index": 0,
            "_view_module": "@jupyter-widgets/controls",
            "_model_module_version": "1.5.0",
            "_view_count": null,
            "disabled": false,
            "_view_module_version": "1.5.0",
            "description_tooltip": null,
            "_model_module": "@jupyter-widgets/controls",
            "layout": "IPY_MODEL_33b0be3439c24524b63cd28cfff4086a"
          }
        },
        "5bd9284cc8d447059dcd6a21bb2c1603": {
          "model_module": "@jupyter-widgets/controls",
          "model_name": "IntSliderModel",
          "model_module_version": "1.5.0",
          "state": {
            "_view_name": "IntSliderView",
            "style": "IPY_MODEL_3afbdd7cfd3b4964ab3f2d1d39fb21e1",
            "_dom_classes": [],
            "description": "parameter",
            "step": 1,
            "_model_name": "IntSliderModel",
            "orientation": "horizontal",
            "max": 10,
            "_view_module": "@jupyter-widgets/controls",
            "_model_module_version": "1.5.0",
            "value": 1,
            "_view_count": null,
            "disabled": false,
            "_view_module_version": "1.5.0",
            "min": -10,
            "continuous_update": true,
            "readout_format": "d",
            "description_tooltip": null,
            "readout": true,
            "_model_module": "@jupyter-widgets/controls",
            "layout": "IPY_MODEL_2408169b34e34e9ab5e4d836449b8b6e"
          }
        },
        "65d52ec8a3504f0595ded58e2e9e3562": {
          "model_module": "@jupyter-widgets/controls",
          "model_name": "TextModel",
          "model_module_version": "1.5.0",
          "state": {
            "_view_name": "TextView",
            "style": "IPY_MODEL_fbb1db96750c4691828b32becccebe20",
            "_dom_classes": [],
            "description": "causal signal",
            "_model_name": "TextModel",
            "placeholder": "​",
            "_view_module": "@jupyter-widgets/controls",
            "_model_module_version": "1.5.0",
            "value": "1 2 1 -2 2",
            "_view_count": null,
            "disabled": false,
            "_view_module_version": "1.5.0",
            "continuous_update": true,
            "description_tooltip": null,
            "_model_module": "@jupyter-widgets/controls",
            "layout": "IPY_MODEL_199f2321be454263834dcb748073b572"
          }
        },
        "f7ffe3e6d05b46b082a4b76d8b966049": {
          "model_module": "@jupyter-widgets/output",
          "model_name": "OutputModel",
          "model_module_version": "1.0.0",
          "state": {
            "_view_name": "OutputView",
            "msg_id": "",
            "_dom_classes": [],
            "_model_name": "OutputModel",
            "outputs": [],
            "_view_module": "@jupyter-widgets/output",
            "_model_module_version": "1.0.0",
            "_view_count": null,
            "_view_module_version": "1.0.0",
            "layout": "IPY_MODEL_7b75a2b705104046b2fbc57b3acf7138",
            "_model_module": "@jupyter-widgets/output"
          }
        },
        "8906b70ae8e3424eb0bfc0234dc9228d": {
          "model_module": "@jupyter-widgets/controls",
          "model_name": "DescriptionStyleModel",
          "model_module_version": "1.5.0",
          "state": {
            "_view_name": "StyleView",
            "_model_name": "DescriptionStyleModel",
            "description_width": "",
            "_view_module": "@jupyter-widgets/base",
            "_model_module_version": "1.5.0",
            "_view_count": null,
            "_view_module_version": "1.2.0",
            "_model_module": "@jupyter-widgets/controls"
          }
        },
        "33b0be3439c24524b63cd28cfff4086a": {
          "model_module": "@jupyter-widgets/base",
          "model_name": "LayoutModel",
          "model_module_version": "1.2.0",
          "state": {
            "_view_name": "LayoutView",
            "grid_template_rows": null,
            "right": null,
            "justify_content": null,
            "_view_module": "@jupyter-widgets/base",
            "overflow": null,
            "_model_module_version": "1.2.0",
            "_view_count": null,
            "flex_flow": null,
            "width": null,
            "min_width": null,
            "border": null,
            "align_items": null,
            "bottom": null,
            "_model_module": "@jupyter-widgets/base",
            "top": null,
            "grid_column": null,
            "overflow_y": null,
            "overflow_x": null,
            "grid_auto_flow": null,
            "grid_area": null,
            "grid_template_columns": null,
            "flex": null,
            "_model_name": "LayoutModel",
            "justify_items": null,
            "grid_row": null,
            "max_height": null,
            "align_content": null,
            "visibility": null,
            "align_self": null,
            "height": null,
            "min_height": null,
            "padding": null,
            "grid_auto_rows": null,
            "grid_gap": null,
            "max_width": null,
            "order": null,
            "_view_module_version": "1.2.0",
            "grid_template_areas": null,
            "object_position": null,
            "object_fit": null,
            "grid_auto_columns": null,
            "margin": null,
            "display": null,
            "left": null
          }
        },
        "3afbdd7cfd3b4964ab3f2d1d39fb21e1": {
          "model_module": "@jupyter-widgets/controls",
          "model_name": "SliderStyleModel",
          "model_module_version": "1.5.0",
          "state": {
            "_view_name": "StyleView",
            "handle_color": null,
            "_model_name": "SliderStyleModel",
            "description_width": "",
            "_view_module": "@jupyter-widgets/base",
            "_model_module_version": "1.5.0",
            "_view_count": null,
            "_view_module_version": "1.2.0",
            "_model_module": "@jupyter-widgets/controls"
          }
        },
        "2408169b34e34e9ab5e4d836449b8b6e": {
          "model_module": "@jupyter-widgets/base",
          "model_name": "LayoutModel",
          "model_module_version": "1.2.0",
          "state": {
            "_view_name": "LayoutView",
            "grid_template_rows": null,
            "right": null,
            "justify_content": null,
            "_view_module": "@jupyter-widgets/base",
            "overflow": null,
            "_model_module_version": "1.2.0",
            "_view_count": null,
            "flex_flow": null,
            "width": null,
            "min_width": null,
            "border": null,
            "align_items": null,
            "bottom": null,
            "_model_module": "@jupyter-widgets/base",
            "top": null,
            "grid_column": null,
            "overflow_y": null,
            "overflow_x": null,
            "grid_auto_flow": null,
            "grid_area": null,
            "grid_template_columns": null,
            "flex": null,
            "_model_name": "LayoutModel",
            "justify_items": null,
            "grid_row": null,
            "max_height": null,
            "align_content": null,
            "visibility": null,
            "align_self": null,
            "height": null,
            "min_height": null,
            "padding": null,
            "grid_auto_rows": null,
            "grid_gap": null,
            "max_width": null,
            "order": null,
            "_view_module_version": "1.2.0",
            "grid_template_areas": null,
            "object_position": null,
            "object_fit": null,
            "grid_auto_columns": null,
            "margin": null,
            "display": null,
            "left": null
          }
        },
        "fbb1db96750c4691828b32becccebe20": {
          "model_module": "@jupyter-widgets/controls",
          "model_name": "DescriptionStyleModel",
          "model_module_version": "1.5.0",
          "state": {
            "_view_name": "StyleView",
            "_model_name": "DescriptionStyleModel",
            "description_width": "",
            "_view_module": "@jupyter-widgets/base",
            "_model_module_version": "1.5.0",
            "_view_count": null,
            "_view_module_version": "1.2.0",
            "_model_module": "@jupyter-widgets/controls"
          }
        },
        "199f2321be454263834dcb748073b572": {
          "model_module": "@jupyter-widgets/base",
          "model_name": "LayoutModel",
          "model_module_version": "1.2.0",
          "state": {
            "_view_name": "LayoutView",
            "grid_template_rows": null,
            "right": null,
            "justify_content": null,
            "_view_module": "@jupyter-widgets/base",
            "overflow": null,
            "_model_module_version": "1.2.0",
            "_view_count": null,
            "flex_flow": null,
            "width": null,
            "min_width": null,
            "border": null,
            "align_items": null,
            "bottom": null,
            "_model_module": "@jupyter-widgets/base",
            "top": null,
            "grid_column": null,
            "overflow_y": null,
            "overflow_x": null,
            "grid_auto_flow": null,
            "grid_area": null,
            "grid_template_columns": null,
            "flex": null,
            "_model_name": "LayoutModel",
            "justify_items": null,
            "grid_row": null,
            "max_height": null,
            "align_content": null,
            "visibility": null,
            "align_self": null,
            "height": null,
            "min_height": null,
            "padding": null,
            "grid_auto_rows": null,
            "grid_gap": null,
            "max_width": null,
            "order": null,
            "_view_module_version": "1.2.0",
            "grid_template_areas": null,
            "object_position": null,
            "object_fit": null,
            "grid_auto_columns": null,
            "margin": null,
            "display": null,
            "left": null
          }
        },
        "7b75a2b705104046b2fbc57b3acf7138": {
          "model_module": "@jupyter-widgets/base",
          "model_name": "LayoutModel",
          "model_module_version": "1.2.0",
          "state": {
            "_view_name": "LayoutView",
            "grid_template_rows": null,
            "right": null,
            "justify_content": null,
            "_view_module": "@jupyter-widgets/base",
            "overflow": null,
            "_model_module_version": "1.2.0",
            "_view_count": null,
            "flex_flow": null,
            "width": null,
            "min_width": null,
            "border": null,
            "align_items": null,
            "bottom": null,
            "_model_module": "@jupyter-widgets/base",
            "top": null,
            "grid_column": null,
            "overflow_y": null,
            "overflow_x": null,
            "grid_auto_flow": null,
            "grid_area": null,
            "grid_template_columns": null,
            "flex": null,
            "_model_name": "LayoutModel",
            "justify_items": null,
            "grid_row": null,
            "max_height": null,
            "align_content": null,
            "visibility": null,
            "align_self": null,
            "height": null,
            "min_height": null,
            "padding": null,
            "grid_auto_rows": null,
            "grid_gap": null,
            "max_width": null,
            "order": null,
            "_view_module_version": "1.2.0",
            "grid_template_areas": null,
            "object_position": null,
            "object_fit": null,
            "grid_auto_columns": null,
            "margin": null,
            "display": null,
            "left": null
          }
        },
        "76af11cec05840a3a2d57e6a8747baae": {
          "model_module": "@jupyter-widgets/controls",
          "model_name": "VBoxModel",
          "model_module_version": "1.5.0",
          "state": {
            "_view_name": "VBoxView",
            "_dom_classes": [
              "widget-interact"
            ],
            "_model_name": "VBoxModel",
            "_view_module": "@jupyter-widgets/controls",
            "_model_module_version": "1.5.0",
            "_view_count": null,
            "_view_module_version": "1.5.0",
            "box_style": "",
            "layout": "IPY_MODEL_fcac66080ebf417abf0bf72adc65c175",
            "_model_module": "@jupyter-widgets/controls",
            "children": [
              "IPY_MODEL_d1542f3d38824006b559c6d420d4b077",
              "IPY_MODEL_e66bcada20a141fc84715576a4c0c8b3",
              "IPY_MODEL_b56630dd4b61435db550a176e8d84dfc",
              "IPY_MODEL_5b946b713cc54b12b09dea550426292e",
              "IPY_MODEL_96403f21933e43dea53f4870894e16ba"
            ]
          }
        },
        "fcac66080ebf417abf0bf72adc65c175": {
          "model_module": "@jupyter-widgets/base",
          "model_name": "LayoutModel",
          "model_module_version": "1.2.0",
          "state": {
            "_view_name": "LayoutView",
            "grid_template_rows": null,
            "right": null,
            "justify_content": null,
            "_view_module": "@jupyter-widgets/base",
            "overflow": null,
            "_model_module_version": "1.2.0",
            "_view_count": null,
            "flex_flow": null,
            "width": null,
            "min_width": null,
            "border": null,
            "align_items": null,
            "bottom": null,
            "_model_module": "@jupyter-widgets/base",
            "top": null,
            "grid_column": null,
            "overflow_y": null,
            "overflow_x": null,
            "grid_auto_flow": null,
            "grid_area": null,
            "grid_template_columns": null,
            "flex": null,
            "_model_name": "LayoutModel",
            "justify_items": null,
            "grid_row": null,
            "max_height": null,
            "align_content": null,
            "visibility": null,
            "align_self": null,
            "height": null,
            "min_height": null,
            "padding": null,
            "grid_auto_rows": null,
            "grid_gap": null,
            "max_width": null,
            "order": null,
            "_view_module_version": "1.2.0",
            "grid_template_areas": null,
            "object_position": null,
            "object_fit": null,
            "grid_auto_columns": null,
            "margin": null,
            "display": null,
            "left": null
          }
        },
        "d1542f3d38824006b559c6d420d4b077": {
          "model_module": "@jupyter-widgets/controls",
          "model_name": "DropdownModel",
          "model_module_version": "1.5.0",
          "state": {
            "_options_labels": [
              "low pass",
              "high pass",
              "band pass",
              "all pass",
              "no pass",
              "causal FIR",
              "transfer function"
            ],
            "_view_name": "DropdownView",
            "style": "IPY_MODEL_1e5a66a0e1d64f55b90127f8c69aac50",
            "_dom_classes": [],
            "description": "filter type",
            "_model_name": "DropdownModel",
            "index": 0,
            "_view_module": "@jupyter-widgets/controls",
            "_model_module_version": "1.5.0",
            "_view_count": null,
            "disabled": false,
            "_view_module_version": "1.5.0",
            "description_tooltip": null,
            "_model_module": "@jupyter-widgets/controls",
            "layout": "IPY_MODEL_343373fac5ea4afeb12adfd490e7caf5"
          }
        },
        "e66bcada20a141fc84715576a4c0c8b3": {
          "model_module": "@jupyter-widgets/controls",
          "model_name": "FloatSliderModel",
          "model_module_version": "1.5.0",
          "state": {
            "_view_name": "FloatSliderView",
            "style": "IPY_MODEL_409f89e7f68e4637b706f75b4282a45b",
            "_dom_classes": [],
            "description": "cut off",
            "step": 0.1,
            "_model_name": "FloatSliderModel",
            "orientation": "horizontal",
            "max": 3.141592653589793,
            "_view_module": "@jupyter-widgets/controls",
            "_model_module_version": "1.5.0",
            "value": 1.5707963267948966,
            "_view_count": null,
            "disabled": false,
            "_view_module_version": "1.5.0",
            "min": 0,
            "continuous_update": true,
            "readout_format": ".2f",
            "description_tooltip": null,
            "readout": true,
            "_model_module": "@jupyter-widgets/controls",
            "layout": "IPY_MODEL_5c0acce96f0541a4ae9f5398d3f151f0"
          }
        },
        "b56630dd4b61435db550a176e8d84dfc": {
          "model_module": "@jupyter-widgets/controls",
          "model_name": "TextModel",
          "model_module_version": "1.5.0",
          "state": {
            "_view_name": "TextView",
            "style": "IPY_MODEL_49df5b751539443ba237eb9df13b1e11",
            "_dom_classes": [],
            "description": "causal FIR",
            "_model_name": "TextModel",
            "placeholder": "​",
            "_view_module": "@jupyter-widgets/controls",
            "_model_module_version": "1.5.0",
            "value": "5 0 0 0 2",
            "_view_count": null,
            "disabled": false,
            "_view_module_version": "1.5.0",
            "continuous_update": true,
            "description_tooltip": null,
            "_model_module": "@jupyter-widgets/controls",
            "layout": "IPY_MODEL_515a041c4aa44d4a9bbccd9dc090548a"
          }
        },
        "5b946b713cc54b12b09dea550426292e": {
          "model_module": "@jupyter-widgets/controls",
          "model_name": "TextModel",
          "model_module_version": "1.5.0",
          "state": {
            "_view_name": "TextView",
            "style": "IPY_MODEL_b8e38e230ed34874bd35c84e41f9ff75",
            "_dom_classes": [],
            "description": "transfer function H(z) = ",
            "_model_name": "TextModel",
            "placeholder": "​",
            "_view_module": "@jupyter-widgets/controls",
            "_model_module_version": "1.5.0",
            "value": "(z-1j)/(z**2 + z)",
            "_view_count": null,
            "disabled": false,
            "_view_module_version": "1.5.0",
            "continuous_update": true,
            "description_tooltip": null,
            "_model_module": "@jupyter-widgets/controls",
            "layout": "IPY_MODEL_552ab2ee53a14c6e8201eb6e67d3f77c"
          }
        },
        "96403f21933e43dea53f4870894e16ba": {
          "model_module": "@jupyter-widgets/output",
          "model_name": "OutputModel",
          "model_module_version": "1.0.0",
          "state": {
            "_view_name": "OutputView",
            "msg_id": "",
            "_dom_classes": [],
            "_model_name": "OutputModel",
            "outputs": [],
            "_view_module": "@jupyter-widgets/output",
            "_model_module_version": "1.0.0",
            "_view_count": null,
            "_view_module_version": "1.0.0",
            "layout": "IPY_MODEL_1aabfb1cf0774b8f97a898705164feda",
            "_model_module": "@jupyter-widgets/output"
          }
        },
        "1e5a66a0e1d64f55b90127f8c69aac50": {
          "model_module": "@jupyter-widgets/controls",
          "model_name": "DescriptionStyleModel",
          "model_module_version": "1.5.0",
          "state": {
            "_view_name": "StyleView",
            "_model_name": "DescriptionStyleModel",
            "description_width": "",
            "_view_module": "@jupyter-widgets/base",
            "_model_module_version": "1.5.0",
            "_view_count": null,
            "_view_module_version": "1.2.0",
            "_model_module": "@jupyter-widgets/controls"
          }
        },
        "343373fac5ea4afeb12adfd490e7caf5": {
          "model_module": "@jupyter-widgets/base",
          "model_name": "LayoutModel",
          "model_module_version": "1.2.0",
          "state": {
            "_view_name": "LayoutView",
            "grid_template_rows": null,
            "right": null,
            "justify_content": null,
            "_view_module": "@jupyter-widgets/base",
            "overflow": null,
            "_model_module_version": "1.2.0",
            "_view_count": null,
            "flex_flow": null,
            "width": null,
            "min_width": null,
            "border": null,
            "align_items": null,
            "bottom": null,
            "_model_module": "@jupyter-widgets/base",
            "top": null,
            "grid_column": null,
            "overflow_y": null,
            "overflow_x": null,
            "grid_auto_flow": null,
            "grid_area": null,
            "grid_template_columns": null,
            "flex": null,
            "_model_name": "LayoutModel",
            "justify_items": null,
            "grid_row": null,
            "max_height": null,
            "align_content": null,
            "visibility": null,
            "align_self": null,
            "height": null,
            "min_height": null,
            "padding": null,
            "grid_auto_rows": null,
            "grid_gap": null,
            "max_width": null,
            "order": null,
            "_view_module_version": "1.2.0",
            "grid_template_areas": null,
            "object_position": null,
            "object_fit": null,
            "grid_auto_columns": null,
            "margin": null,
            "display": null,
            "left": null
          }
        },
        "409f89e7f68e4637b706f75b4282a45b": {
          "model_module": "@jupyter-widgets/controls",
          "model_name": "SliderStyleModel",
          "model_module_version": "1.5.0",
          "state": {
            "_view_name": "StyleView",
            "handle_color": null,
            "_model_name": "SliderStyleModel",
            "description_width": "",
            "_view_module": "@jupyter-widgets/base",
            "_model_module_version": "1.5.0",
            "_view_count": null,
            "_view_module_version": "1.2.0",
            "_model_module": "@jupyter-widgets/controls"
          }
        },
        "5c0acce96f0541a4ae9f5398d3f151f0": {
          "model_module": "@jupyter-widgets/base",
          "model_name": "LayoutModel",
          "model_module_version": "1.2.0",
          "state": {
            "_view_name": "LayoutView",
            "grid_template_rows": null,
            "right": null,
            "justify_content": null,
            "_view_module": "@jupyter-widgets/base",
            "overflow": null,
            "_model_module_version": "1.2.0",
            "_view_count": null,
            "flex_flow": null,
            "width": null,
            "min_width": null,
            "border": null,
            "align_items": null,
            "bottom": null,
            "_model_module": "@jupyter-widgets/base",
            "top": null,
            "grid_column": null,
            "overflow_y": null,
            "overflow_x": null,
            "grid_auto_flow": null,
            "grid_area": null,
            "grid_template_columns": null,
            "flex": null,
            "_model_name": "LayoutModel",
            "justify_items": null,
            "grid_row": null,
            "max_height": null,
            "align_content": null,
            "visibility": null,
            "align_self": null,
            "height": null,
            "min_height": null,
            "padding": null,
            "grid_auto_rows": null,
            "grid_gap": null,
            "max_width": null,
            "order": null,
            "_view_module_version": "1.2.0",
            "grid_template_areas": null,
            "object_position": null,
            "object_fit": null,
            "grid_auto_columns": null,
            "margin": null,
            "display": null,
            "left": null
          }
        },
        "49df5b751539443ba237eb9df13b1e11": {
          "model_module": "@jupyter-widgets/controls",
          "model_name": "DescriptionStyleModel",
          "model_module_version": "1.5.0",
          "state": {
            "_view_name": "StyleView",
            "_model_name": "DescriptionStyleModel",
            "description_width": "",
            "_view_module": "@jupyter-widgets/base",
            "_model_module_version": "1.5.0",
            "_view_count": null,
            "_view_module_version": "1.2.0",
            "_model_module": "@jupyter-widgets/controls"
          }
        },
        "515a041c4aa44d4a9bbccd9dc090548a": {
          "model_module": "@jupyter-widgets/base",
          "model_name": "LayoutModel",
          "model_module_version": "1.2.0",
          "state": {
            "_view_name": "LayoutView",
            "grid_template_rows": null,
            "right": null,
            "justify_content": null,
            "_view_module": "@jupyter-widgets/base",
            "overflow": null,
            "_model_module_version": "1.2.0",
            "_view_count": null,
            "flex_flow": null,
            "width": null,
            "min_width": null,
            "border": null,
            "align_items": null,
            "bottom": null,
            "_model_module": "@jupyter-widgets/base",
            "top": null,
            "grid_column": null,
            "overflow_y": null,
            "overflow_x": null,
            "grid_auto_flow": null,
            "grid_area": null,
            "grid_template_columns": null,
            "flex": null,
            "_model_name": "LayoutModel",
            "justify_items": null,
            "grid_row": null,
            "max_height": null,
            "align_content": null,
            "visibility": null,
            "align_self": null,
            "height": null,
            "min_height": null,
            "padding": null,
            "grid_auto_rows": null,
            "grid_gap": null,
            "max_width": null,
            "order": null,
            "_view_module_version": "1.2.0",
            "grid_template_areas": null,
            "object_position": null,
            "object_fit": null,
            "grid_auto_columns": null,
            "margin": null,
            "display": null,
            "left": null
          }
        },
        "b8e38e230ed34874bd35c84e41f9ff75": {
          "model_module": "@jupyter-widgets/controls",
          "model_name": "DescriptionStyleModel",
          "model_module_version": "1.5.0",
          "state": {
            "_view_name": "StyleView",
            "_model_name": "DescriptionStyleModel",
            "description_width": "",
            "_view_module": "@jupyter-widgets/base",
            "_model_module_version": "1.5.0",
            "_view_count": null,
            "_view_module_version": "1.2.0",
            "_model_module": "@jupyter-widgets/controls"
          }
        },
        "552ab2ee53a14c6e8201eb6e67d3f77c": {
          "model_module": "@jupyter-widgets/base",
          "model_name": "LayoutModel",
          "model_module_version": "1.2.0",
          "state": {
            "_view_name": "LayoutView",
            "grid_template_rows": null,
            "right": null,
            "justify_content": null,
            "_view_module": "@jupyter-widgets/base",
            "overflow": null,
            "_model_module_version": "1.2.0",
            "_view_count": null,
            "flex_flow": null,
            "width": null,
            "min_width": null,
            "border": null,
            "align_items": null,
            "bottom": null,
            "_model_module": "@jupyter-widgets/base",
            "top": null,
            "grid_column": null,
            "overflow_y": null,
            "overflow_x": null,
            "grid_auto_flow": null,
            "grid_area": null,
            "grid_template_columns": null,
            "flex": null,
            "_model_name": "LayoutModel",
            "justify_items": null,
            "grid_row": null,
            "max_height": null,
            "align_content": null,
            "visibility": null,
            "align_self": null,
            "height": null,
            "min_height": null,
            "padding": null,
            "grid_auto_rows": null,
            "grid_gap": null,
            "max_width": null,
            "order": null,
            "_view_module_version": "1.2.0",
            "grid_template_areas": null,
            "object_position": null,
            "object_fit": null,
            "grid_auto_columns": null,
            "margin": null,
            "display": null,
            "left": null
          }
        },
        "1aabfb1cf0774b8f97a898705164feda": {
          "model_module": "@jupyter-widgets/base",
          "model_name": "LayoutModel",
          "model_module_version": "1.2.0",
          "state": {
            "_view_name": "LayoutView",
            "grid_template_rows": null,
            "right": null,
            "justify_content": null,
            "_view_module": "@jupyter-widgets/base",
            "overflow": null,
            "_model_module_version": "1.2.0",
            "_view_count": null,
            "flex_flow": null,
            "width": null,
            "min_width": null,
            "border": null,
            "align_items": null,
            "bottom": null,
            "_model_module": "@jupyter-widgets/base",
            "top": null,
            "grid_column": null,
            "overflow_y": null,
            "overflow_x": null,
            "grid_auto_flow": null,
            "grid_area": null,
            "grid_template_columns": null,
            "flex": null,
            "_model_name": "LayoutModel",
            "justify_items": null,
            "grid_row": null,
            "max_height": null,
            "align_content": null,
            "visibility": null,
            "align_self": null,
            "height": null,
            "min_height": null,
            "padding": null,
            "grid_auto_rows": null,
            "grid_gap": null,
            "max_width": null,
            "order": null,
            "_view_module_version": "1.2.0",
            "grid_template_areas": null,
            "object_position": null,
            "object_fit": null,
            "grid_auto_columns": null,
            "margin": null,
            "display": null,
            "left": null
          }
        },
        "114e255bdcf54df0b008849d3924da04": {
          "model_module": "@jupyter-widgets/controls",
          "model_name": "VBoxModel",
          "model_module_version": "1.5.0",
          "state": {
            "_view_name": "VBoxView",
            "_dom_classes": [
              "widget-interact"
            ],
            "_model_name": "VBoxModel",
            "_view_module": "@jupyter-widgets/controls",
            "_model_module_version": "1.5.0",
            "_view_count": null,
            "_view_module_version": "1.5.0",
            "box_style": "",
            "layout": "IPY_MODEL_4f01f12f34e64fbdb39fbaa0363eb689",
            "_model_module": "@jupyter-widgets/controls",
            "children": [
              "IPY_MODEL_e43f86608ed34b89859797f2dd677b15",
              "IPY_MODEL_fb4d4aeaa3fa4657b6e73c003992c2fa"
            ]
          }
        },
        "4f01f12f34e64fbdb39fbaa0363eb689": {
          "model_module": "@jupyter-widgets/base",
          "model_name": "LayoutModel",
          "model_module_version": "1.2.0",
          "state": {
            "_view_name": "LayoutView",
            "grid_template_rows": null,
            "right": null,
            "justify_content": null,
            "_view_module": "@jupyter-widgets/base",
            "overflow": null,
            "_model_module_version": "1.2.0",
            "_view_count": null,
            "flex_flow": null,
            "width": null,
            "min_width": null,
            "border": null,
            "align_items": null,
            "bottom": null,
            "_model_module": "@jupyter-widgets/base",
            "top": null,
            "grid_column": null,
            "overflow_y": null,
            "overflow_x": null,
            "grid_auto_flow": null,
            "grid_area": null,
            "grid_template_columns": null,
            "flex": null,
            "_model_name": "LayoutModel",
            "justify_items": null,
            "grid_row": null,
            "max_height": null,
            "align_content": null,
            "visibility": null,
            "align_self": null,
            "height": null,
            "min_height": null,
            "padding": null,
            "grid_auto_rows": null,
            "grid_gap": null,
            "max_width": null,
            "order": null,
            "_view_module_version": "1.2.0",
            "grid_template_areas": null,
            "object_position": null,
            "object_fit": null,
            "grid_auto_columns": null,
            "margin": null,
            "display": null,
            "left": null
          }
        },
        "e43f86608ed34b89859797f2dd677b15": {
          "model_module": "@jupyter-widgets/controls",
          "model_name": "FloatSliderModel",
          "model_module_version": "1.5.0",
          "state": {
            "_view_name": "FloatSliderView",
            "style": "IPY_MODEL_416f55c8b2cc49f4a221b2bc0469ebb4",
            "_dom_classes": [],
            "description": "sigma (noise)",
            "step": 0.01,
            "_model_name": "FloatSliderModel",
            "orientation": "horizontal",
            "max": 0.1,
            "_view_module": "@jupyter-widgets/controls",
            "_model_module_version": "1.5.0",
            "value": 0.05,
            "_view_count": null,
            "disabled": false,
            "_view_module_version": "1.5.0",
            "min": 0,
            "continuous_update": true,
            "readout_format": ".2f",
            "description_tooltip": null,
            "readout": true,
            "_model_module": "@jupyter-widgets/controls",
            "layout": "IPY_MODEL_c23b0a17e7284a918ede5c0efc486711"
          }
        },
        "fb4d4aeaa3fa4657b6e73c003992c2fa": {
          "model_module": "@jupyter-widgets/output",
          "model_name": "OutputModel",
          "model_module_version": "1.0.0",
          "state": {
            "_view_name": "OutputView",
            "msg_id": "",
            "_dom_classes": [],
            "_model_name": "OutputModel",
            "outputs": [],
            "_view_module": "@jupyter-widgets/output",
            "_model_module_version": "1.0.0",
            "_view_count": null,
            "_view_module_version": "1.0.0",
            "layout": "IPY_MODEL_1a16aec301da40e195cdc8d7989c2584",
            "_model_module": "@jupyter-widgets/output"
          }
        },
        "416f55c8b2cc49f4a221b2bc0469ebb4": {
          "model_module": "@jupyter-widgets/controls",
          "model_name": "SliderStyleModel",
          "model_module_version": "1.5.0",
          "state": {
            "_view_name": "StyleView",
            "handle_color": null,
            "_model_name": "SliderStyleModel",
            "description_width": "",
            "_view_module": "@jupyter-widgets/base",
            "_model_module_version": "1.5.0",
            "_view_count": null,
            "_view_module_version": "1.2.0",
            "_model_module": "@jupyter-widgets/controls"
          }
        },
        "c23b0a17e7284a918ede5c0efc486711": {
          "model_module": "@jupyter-widgets/base",
          "model_name": "LayoutModel",
          "model_module_version": "1.2.0",
          "state": {
            "_view_name": "LayoutView",
            "grid_template_rows": null,
            "right": null,
            "justify_content": null,
            "_view_module": "@jupyter-widgets/base",
            "overflow": null,
            "_model_module_version": "1.2.0",
            "_view_count": null,
            "flex_flow": null,
            "width": null,
            "min_width": null,
            "border": null,
            "align_items": null,
            "bottom": null,
            "_model_module": "@jupyter-widgets/base",
            "top": null,
            "grid_column": null,
            "overflow_y": null,
            "overflow_x": null,
            "grid_auto_flow": null,
            "grid_area": null,
            "grid_template_columns": null,
            "flex": null,
            "_model_name": "LayoutModel",
            "justify_items": null,
            "grid_row": null,
            "max_height": null,
            "align_content": null,
            "visibility": null,
            "align_self": null,
            "height": null,
            "min_height": null,
            "padding": null,
            "grid_auto_rows": null,
            "grid_gap": null,
            "max_width": null,
            "order": null,
            "_view_module_version": "1.2.0",
            "grid_template_areas": null,
            "object_position": null,
            "object_fit": null,
            "grid_auto_columns": null,
            "margin": null,
            "display": null,
            "left": null
          }
        },
        "1a16aec301da40e195cdc8d7989c2584": {
          "model_module": "@jupyter-widgets/base",
          "model_name": "LayoutModel",
          "model_module_version": "1.2.0",
          "state": {
            "_view_name": "LayoutView",
            "grid_template_rows": null,
            "right": null,
            "justify_content": null,
            "_view_module": "@jupyter-widgets/base",
            "overflow": null,
            "_model_module_version": "1.2.0",
            "_view_count": null,
            "flex_flow": null,
            "width": null,
            "min_width": null,
            "border": null,
            "align_items": null,
            "bottom": null,
            "_model_module": "@jupyter-widgets/base",
            "top": null,
            "grid_column": null,
            "overflow_y": null,
            "overflow_x": null,
            "grid_auto_flow": null,
            "grid_area": null,
            "grid_template_columns": null,
            "flex": null,
            "_model_name": "LayoutModel",
            "justify_items": null,
            "grid_row": null,
            "max_height": null,
            "align_content": null,
            "visibility": null,
            "align_self": null,
            "height": null,
            "min_height": null,
            "padding": null,
            "grid_auto_rows": null,
            "grid_gap": null,
            "max_width": null,
            "order": null,
            "_view_module_version": "1.2.0",
            "grid_template_areas": null,
            "object_position": null,
            "object_fit": null,
            "grid_auto_columns": null,
            "margin": null,
            "display": null,
            "left": null
          }
        },
        "6859fbeea49b4db2b4ed7e6aec564f7a": {
          "model_module": "@jupyter-widgets/controls",
          "model_name": "VBoxModel",
          "model_module_version": "1.5.0",
          "state": {
            "_view_name": "VBoxView",
            "_dom_classes": [
              "widget-interact"
            ],
            "_model_name": "VBoxModel",
            "_view_module": "@jupyter-widgets/controls",
            "_model_module_version": "1.5.0",
            "_view_count": null,
            "_view_module_version": "1.5.0",
            "box_style": "",
            "layout": "IPY_MODEL_bb9815d1170b4666b2c1aff42429c12c",
            "_model_module": "@jupyter-widgets/controls",
            "children": [
              "IPY_MODEL_36f7487fa490434bbcdec203d66759a4",
              "IPY_MODEL_09e88034ffde4b80af4410e2be0a57a2",
              "IPY_MODEL_561ab767ad904ccd8892d887ccacb37f",
              "IPY_MODEL_1f4b9b27641e4387b2b354fb21a24aa3"
            ]
          }
        },
        "bb9815d1170b4666b2c1aff42429c12c": {
          "model_module": "@jupyter-widgets/base",
          "model_name": "LayoutModel",
          "model_module_version": "1.2.0",
          "state": {
            "_view_name": "LayoutView",
            "grid_template_rows": null,
            "right": null,
            "justify_content": null,
            "_view_module": "@jupyter-widgets/base",
            "overflow": null,
            "_model_module_version": "1.2.0",
            "_view_count": null,
            "flex_flow": null,
            "width": null,
            "min_width": null,
            "border": null,
            "align_items": null,
            "bottom": null,
            "_model_module": "@jupyter-widgets/base",
            "top": null,
            "grid_column": null,
            "overflow_y": null,
            "overflow_x": null,
            "grid_auto_flow": null,
            "grid_area": null,
            "grid_template_columns": null,
            "flex": null,
            "_model_name": "LayoutModel",
            "justify_items": null,
            "grid_row": null,
            "max_height": null,
            "align_content": null,
            "visibility": null,
            "align_self": null,
            "height": null,
            "min_height": null,
            "padding": null,
            "grid_auto_rows": null,
            "grid_gap": null,
            "max_width": null,
            "order": null,
            "_view_module_version": "1.2.0",
            "grid_template_areas": null,
            "object_position": null,
            "object_fit": null,
            "grid_auto_columns": null,
            "margin": null,
            "display": null,
            "left": null
          }
        },
        "36f7487fa490434bbcdec203d66759a4": {
          "model_module": "@jupyter-widgets/controls",
          "model_name": "IntSliderModel",
          "model_module_version": "1.5.0",
          "state": {
            "_view_name": "IntSliderView",
            "style": "IPY_MODEL_fec2df833f33412290bd078cc14d1568",
            "_dom_classes": [],
            "description": "N",
            "step": 1,
            "_model_name": "IntSliderModel",
            "orientation": "horizontal",
            "max": 40,
            "_view_module": "@jupyter-widgets/controls",
            "_model_module_version": "1.5.0",
            "value": 20,
            "_view_count": null,
            "disabled": false,
            "_view_module_version": "1.5.0",
            "min": 1,
            "continuous_update": true,
            "readout_format": "d",
            "description_tooltip": null,
            "readout": true,
            "_model_module": "@jupyter-widgets/controls",
            "layout": "IPY_MODEL_d0e268e6810445c68ac06ee92b7697f0"
          }
        },
        "09e88034ffde4b80af4410e2be0a57a2": {
          "model_module": "@jupyter-widgets/controls",
          "model_name": "FloatSliderModel",
          "model_module_version": "1.5.0",
          "state": {
            "_view_name": "FloatSliderView",
            "style": "IPY_MODEL_383604111ba3424ca42a6e3d774396f2",
            "_dom_classes": [],
            "description": "beta",
            "step": 0.001,
            "_model_name": "FloatSliderModel",
            "orientation": "horizontal",
            "max": 0.05,
            "_view_module": "@jupyter-widgets/controls",
            "_model_module_version": "1.5.0",
            "value": 0.025,
            "_view_count": null,
            "disabled": false,
            "_view_module_version": "1.5.0",
            "min": 0,
            "continuous_update": true,
            "readout_format": ".3f",
            "description_tooltip": null,
            "readout": true,
            "_model_module": "@jupyter-widgets/controls",
            "layout": "IPY_MODEL_04b193c857db4470b917d4d075afb226"
          }
        },
        "561ab767ad904ccd8892d887ccacb37f": {
          "model_module": "@jupyter-widgets/controls",
          "model_name": "CheckboxModel",
          "model_module_version": "1.5.0",
          "state": {
            "_view_name": "CheckboxView",
            "style": "IPY_MODEL_7902d0a0e4eb4cb5afef6a4ab5774edd",
            "_dom_classes": [],
            "description": "logarithmic plot",
            "_model_name": "CheckboxModel",
            "_view_module": "@jupyter-widgets/controls",
            "_model_module_version": "1.5.0",
            "value": false,
            "_view_count": null,
            "disabled": false,
            "_view_module_version": "1.5.0",
            "indent": true,
            "description_tooltip": null,
            "_model_module": "@jupyter-widgets/controls",
            "layout": "IPY_MODEL_6d8782ace9f146218cd90fbfc980d51e"
          }
        },
        "1f4b9b27641e4387b2b354fb21a24aa3": {
          "model_module": "@jupyter-widgets/output",
          "model_name": "OutputModel",
          "model_module_version": "1.0.0",
          "state": {
            "_view_name": "OutputView",
            "msg_id": "",
            "_dom_classes": [],
            "_model_name": "OutputModel",
            "outputs": [],
            "_view_module": "@jupyter-widgets/output",
            "_model_module_version": "1.0.0",
            "_view_count": null,
            "_view_module_version": "1.0.0",
            "layout": "IPY_MODEL_e2e256f3862c4299ab52afa7fa7d0b2a",
            "_model_module": "@jupyter-widgets/output"
          }
        },
        "fec2df833f33412290bd078cc14d1568": {
          "model_module": "@jupyter-widgets/controls",
          "model_name": "SliderStyleModel",
          "model_module_version": "1.5.0",
          "state": {
            "_view_name": "StyleView",
            "handle_color": null,
            "_model_name": "SliderStyleModel",
            "description_width": "",
            "_view_module": "@jupyter-widgets/base",
            "_model_module_version": "1.5.0",
            "_view_count": null,
            "_view_module_version": "1.2.0",
            "_model_module": "@jupyter-widgets/controls"
          }
        },
        "d0e268e6810445c68ac06ee92b7697f0": {
          "model_module": "@jupyter-widgets/base",
          "model_name": "LayoutModel",
          "model_module_version": "1.2.0",
          "state": {
            "_view_name": "LayoutView",
            "grid_template_rows": null,
            "right": null,
            "justify_content": null,
            "_view_module": "@jupyter-widgets/base",
            "overflow": null,
            "_model_module_version": "1.2.0",
            "_view_count": null,
            "flex_flow": null,
            "width": null,
            "min_width": null,
            "border": null,
            "align_items": null,
            "bottom": null,
            "_model_module": "@jupyter-widgets/base",
            "top": null,
            "grid_column": null,
            "overflow_y": null,
            "overflow_x": null,
            "grid_auto_flow": null,
            "grid_area": null,
            "grid_template_columns": null,
            "flex": null,
            "_model_name": "LayoutModel",
            "justify_items": null,
            "grid_row": null,
            "max_height": null,
            "align_content": null,
            "visibility": null,
            "align_self": null,
            "height": null,
            "min_height": null,
            "padding": null,
            "grid_auto_rows": null,
            "grid_gap": null,
            "max_width": null,
            "order": null,
            "_view_module_version": "1.2.0",
            "grid_template_areas": null,
            "object_position": null,
            "object_fit": null,
            "grid_auto_columns": null,
            "margin": null,
            "display": null,
            "left": null
          }
        },
        "383604111ba3424ca42a6e3d774396f2": {
          "model_module": "@jupyter-widgets/controls",
          "model_name": "SliderStyleModel",
          "model_module_version": "1.5.0",
          "state": {
            "_view_name": "StyleView",
            "handle_color": null,
            "_model_name": "SliderStyleModel",
            "description_width": "",
            "_view_module": "@jupyter-widgets/base",
            "_model_module_version": "1.5.0",
            "_view_count": null,
            "_view_module_version": "1.2.0",
            "_model_module": "@jupyter-widgets/controls"
          }
        },
        "04b193c857db4470b917d4d075afb226": {
          "model_module": "@jupyter-widgets/base",
          "model_name": "LayoutModel",
          "model_module_version": "1.2.0",
          "state": {
            "_view_name": "LayoutView",
            "grid_template_rows": null,
            "right": null,
            "justify_content": null,
            "_view_module": "@jupyter-widgets/base",
            "overflow": null,
            "_model_module_version": "1.2.0",
            "_view_count": null,
            "flex_flow": null,
            "width": null,
            "min_width": null,
            "border": null,
            "align_items": null,
            "bottom": null,
            "_model_module": "@jupyter-widgets/base",
            "top": null,
            "grid_column": null,
            "overflow_y": null,
            "overflow_x": null,
            "grid_auto_flow": null,
            "grid_area": null,
            "grid_template_columns": null,
            "flex": null,
            "_model_name": "LayoutModel",
            "justify_items": null,
            "grid_row": null,
            "max_height": null,
            "align_content": null,
            "visibility": null,
            "align_self": null,
            "height": null,
            "min_height": null,
            "padding": null,
            "grid_auto_rows": null,
            "grid_gap": null,
            "max_width": null,
            "order": null,
            "_view_module_version": "1.2.0",
            "grid_template_areas": null,
            "object_position": null,
            "object_fit": null,
            "grid_auto_columns": null,
            "margin": null,
            "display": null,
            "left": null
          }
        },
        "7902d0a0e4eb4cb5afef6a4ab5774edd": {
          "model_module": "@jupyter-widgets/controls",
          "model_name": "DescriptionStyleModel",
          "model_module_version": "1.5.0",
          "state": {
            "_view_name": "StyleView",
            "_model_name": "DescriptionStyleModel",
            "description_width": "",
            "_view_module": "@jupyter-widgets/base",
            "_model_module_version": "1.5.0",
            "_view_count": null,
            "_view_module_version": "1.2.0",
            "_model_module": "@jupyter-widgets/controls"
          }
        },
        "6d8782ace9f146218cd90fbfc980d51e": {
          "model_module": "@jupyter-widgets/base",
          "model_name": "LayoutModel",
          "model_module_version": "1.2.0",
          "state": {
            "_view_name": "LayoutView",
            "grid_template_rows": null,
            "right": null,
            "justify_content": null,
            "_view_module": "@jupyter-widgets/base",
            "overflow": null,
            "_model_module_version": "1.2.0",
            "_view_count": null,
            "flex_flow": null,
            "width": null,
            "min_width": null,
            "border": null,
            "align_items": null,
            "bottom": null,
            "_model_module": "@jupyter-widgets/base",
            "top": null,
            "grid_column": null,
            "overflow_y": null,
            "overflow_x": null,
            "grid_auto_flow": null,
            "grid_area": null,
            "grid_template_columns": null,
            "flex": null,
            "_model_name": "LayoutModel",
            "justify_items": null,
            "grid_row": null,
            "max_height": null,
            "align_content": null,
            "visibility": null,
            "align_self": null,
            "height": null,
            "min_height": null,
            "padding": null,
            "grid_auto_rows": null,
            "grid_gap": null,
            "max_width": null,
            "order": null,
            "_view_module_version": "1.2.0",
            "grid_template_areas": null,
            "object_position": null,
            "object_fit": null,
            "grid_auto_columns": null,
            "margin": null,
            "display": null,
            "left": null
          }
        },
        "e2e256f3862c4299ab52afa7fa7d0b2a": {
          "model_module": "@jupyter-widgets/base",
          "model_name": "LayoutModel",
          "model_module_version": "1.2.0",
          "state": {
            "_view_name": "LayoutView",
            "grid_template_rows": null,
            "right": null,
            "justify_content": null,
            "_view_module": "@jupyter-widgets/base",
            "overflow": null,
            "_model_module_version": "1.2.0",
            "_view_count": null,
            "flex_flow": null,
            "width": null,
            "min_width": null,
            "border": null,
            "align_items": null,
            "bottom": null,
            "_model_module": "@jupyter-widgets/base",
            "top": null,
            "grid_column": null,
            "overflow_y": null,
            "overflow_x": null,
            "grid_auto_flow": null,
            "grid_area": null,
            "grid_template_columns": null,
            "flex": null,
            "_model_name": "LayoutModel",
            "justify_items": null,
            "grid_row": null,
            "max_height": null,
            "align_content": null,
            "visibility": null,
            "align_self": null,
            "height": null,
            "min_height": null,
            "padding": null,
            "grid_auto_rows": null,
            "grid_gap": null,
            "max_width": null,
            "order": null,
            "_view_module_version": "1.2.0",
            "grid_template_areas": null,
            "object_position": null,
            "object_fit": null,
            "grid_auto_columns": null,
            "margin": null,
            "display": null,
            "left": null
          }
        }
      }
    }
  },
  "cells": [
    {
      "cell_type": "markdown",
      "metadata": {
        "id": "view-in-github",
        "colab_type": "text"
      },
      "source": [
        "<a href=\"https://colab.research.google.com/github/dssp-ethz/DSSP-Illustrations/blob/main/LMS.ipynb\" target=\"_parent\"><img src=\"https://colab.research.google.com/assets/colab-badge.svg\" alt=\"Open In Colab\"/></a>"
      ]
    },
    {
      "cell_type": "markdown",
      "metadata": {
        "id": "KSJ-08B1RZ4T"
      },
      "source": [
        "# LMS Algorithm\n",
        "We wish to estimate $X$ from some signal $Y$ using a (causal) Wiener filter, i.e.\n",
        "$$\\hat{X}[k] = \\sum\\limits_{n=0}^N h_k [n] Y [k-n]$$\n",
        "\n",
        "We calibrate the filter in the adaptive mode, where we actually know $X$. We use the update formula:\n",
        "\n",
        "$$\\begin{pmatrix} h_{k+1}[0]\\\\h_{k+1}[1]\\\\ \\vdots\\\\h_{k+1}[N] \\end{pmatrix} = \\begin{pmatrix} h_{k}[0]\\\\h_{k}[1]\\\\ \\vdots\\\\h_{k}[N] \\end{pmatrix} + \\beta \\left( X[k] - \\hat{X}[k] \\right) \\begin{pmatrix} Y[k-0]\\\\Y[k-1]\\\\ \\vdots\\\\Y[k-N] \\end{pmatrix}$$\n",
        "\n",
        "where $\\beta$ is an adjustable learning parameter."
      ]
    },
    {
      "cell_type": "code",
      "metadata": {
        "colab": {
          "base_uri": "https://localhost:8080/"
        },
        "id": "gPtTDbmLaAdu",
        "outputId": "ccc17812-249c-422b-f3db-9b247dddf14c"
      },
      "source": [
        "pip install pydsm"
      ],
      "execution_count": null,
      "outputs": [
        {
          "output_type": "stream",
          "text": [
            "Collecting pydsm\n",
            "\u001b[?25l  Downloading https://files.pythonhosted.org/packages/6f/96/1881d0ca1fceb9a91a8558510ff55e1e17f832321f9d359e2fc368609a0b/pydsm-0.14.0.0.zip (552kB)\n",
            "\r\u001b[K     |▋                               | 10kB 14.4MB/s eta 0:00:01\r\u001b[K     |█▏                              | 20kB 15.0MB/s eta 0:00:01\r\u001b[K     |█▉                              | 30kB 10.2MB/s eta 0:00:01\r\u001b[K     |██▍                             | 40kB 8.6MB/s eta 0:00:01\r\u001b[K     |███                             | 51kB 4.3MB/s eta 0:00:01\r\u001b[K     |███▋                            | 61kB 4.9MB/s eta 0:00:01\r\u001b[K     |████▏                           | 71kB 5.2MB/s eta 0:00:01\r\u001b[K     |████▊                           | 81kB 5.5MB/s eta 0:00:01\r\u001b[K     |█████▍                          | 92kB 5.7MB/s eta 0:00:01\r\u001b[K     |██████                          | 102kB 4.2MB/s eta 0:00:01\r\u001b[K     |██████▌                         | 112kB 4.2MB/s eta 0:00:01\r\u001b[K     |███████▏                        | 122kB 4.2MB/s eta 0:00:01\r\u001b[K     |███████▊                        | 133kB 4.2MB/s eta 0:00:01\r\u001b[K     |████████▎                       | 143kB 4.2MB/s eta 0:00:01\r\u001b[K     |█████████                       | 153kB 4.2MB/s eta 0:00:01\r\u001b[K     |█████████▌                      | 163kB 4.2MB/s eta 0:00:01\r\u001b[K     |██████████                      | 174kB 4.2MB/s eta 0:00:01\r\u001b[K     |██████████▊                     | 184kB 4.2MB/s eta 0:00:01\r\u001b[K     |███████████▎                    | 194kB 4.2MB/s eta 0:00:01\r\u001b[K     |███████████▉                    | 204kB 4.2MB/s eta 0:00:01\r\u001b[K     |████████████▌                   | 215kB 4.2MB/s eta 0:00:01\r\u001b[K     |█████████████                   | 225kB 4.2MB/s eta 0:00:01\r\u001b[K     |█████████████▋                  | 235kB 4.2MB/s eta 0:00:01\r\u001b[K     |██████████████▎                 | 245kB 4.2MB/s eta 0:00:01\r\u001b[K     |██████████████▉                 | 256kB 4.2MB/s eta 0:00:01\r\u001b[K     |███████████████▍                | 266kB 4.2MB/s eta 0:00:01\r\u001b[K     |████████████████                | 276kB 4.2MB/s eta 0:00:01\r\u001b[K     |████████████████▋               | 286kB 4.2MB/s eta 0:00:01\r\u001b[K     |█████████████████▏              | 296kB 4.2MB/s eta 0:00:01\r\u001b[K     |█████████████████▉              | 307kB 4.2MB/s eta 0:00:01\r\u001b[K     |██████████████████▍             | 317kB 4.2MB/s eta 0:00:01\r\u001b[K     |███████████████████             | 327kB 4.2MB/s eta 0:00:01\r\u001b[K     |███████████████████▋            | 337kB 4.2MB/s eta 0:00:01\r\u001b[K     |████████████████████▏           | 348kB 4.2MB/s eta 0:00:01\r\u001b[K     |████████████████████▊           | 358kB 4.2MB/s eta 0:00:01\r\u001b[K     |█████████████████████▍          | 368kB 4.2MB/s eta 0:00:01\r\u001b[K     |██████████████████████          | 378kB 4.2MB/s eta 0:00:01\r\u001b[K     |██████████████████████▌         | 389kB 4.2MB/s eta 0:00:01\r\u001b[K     |███████████████████████▏        | 399kB 4.2MB/s eta 0:00:01\r\u001b[K     |███████████████████████▊        | 409kB 4.2MB/s eta 0:00:01\r\u001b[K     |████████████████████████▎       | 419kB 4.2MB/s eta 0:00:01\r\u001b[K     |█████████████████████████       | 430kB 4.2MB/s eta 0:00:01\r\u001b[K     |█████████████████████████▌      | 440kB 4.2MB/s eta 0:00:01\r\u001b[K     |██████████████████████████      | 450kB 4.2MB/s eta 0:00:01\r\u001b[K     |██████████████████████████▊     | 460kB 4.2MB/s eta 0:00:01\r\u001b[K     |███████████████████████████▎    | 471kB 4.2MB/s eta 0:00:01\r\u001b[K     |███████████████████████████▉    | 481kB 4.2MB/s eta 0:00:01\r\u001b[K     |████████████████████████████▌   | 491kB 4.2MB/s eta 0:00:01\r\u001b[K     |█████████████████████████████   | 501kB 4.2MB/s eta 0:00:01\r\u001b[K     |█████████████████████████████▋  | 512kB 4.2MB/s eta 0:00:01\r\u001b[K     |██████████████████████████████▎ | 522kB 4.2MB/s eta 0:00:01\r\u001b[K     |██████████████████████████████▉ | 532kB 4.2MB/s eta 0:00:01\r\u001b[K     |███████████████████████████████▍| 542kB 4.2MB/s eta 0:00:01\r\u001b[K     |████████████████████████████████| 552kB 4.2MB/s \n",
            "\u001b[?25hBuilding wheels for collected packages: pydsm\n",
            "  Building wheel for pydsm (setup.py) ... \u001b[?25l\u001b[?25hdone\n",
            "  Created wheel for pydsm: filename=pydsm-0.14.0.0-cp37-cp37m-linux_x86_64.whl size=684652 sha256=c351da1ee0f7ca0a96f4d92891915e8b95015b5e79c311523648b589559d47ff\n",
            "  Stored in directory: /root/.cache/pip/wheels/7d/10/8c/8983ab80da463bab42f455c100dbf62c47fba0b6650f6c22f6\n",
            "Successfully built pydsm\n",
            "Installing collected packages: pydsm\n",
            "Successfully installed pydsm-0.14.0.0\n"
          ],
          "name": "stdout"
        }
      ]
    },
    {
      "cell_type": "code",
      "metadata": {
        "colab": {
          "base_uri": "https://localhost:8080/"
        },
        "id": "hd2KvGtcaAAU",
        "outputId": "99a1f392-f717-4ef9-df7d-1507c0af3e46"
      },
      "source": [
        "!gdown https://drive.google.com/uc?id=1-nxgfNaJPeB88X_kE5T2xDqiGI5T2I1u\n",
        "!gdown https://drive.google.com/uc?id=1937_NrN8dHRPEsAamOn7v6hBSWG1cwzt"
      ],
      "execution_count": null,
      "outputs": [
        {
          "output_type": "stream",
          "text": [
            "Downloading...\n",
            "From: https://drive.google.com/uc?id=1-nxgfNaJPeB88X_kE5T2xDqiGI5T2I1u\n",
            "To: /content/signals.py\n",
            "100% 6.48k/6.48k [00:00<00:00, 11.9MB/s]\n",
            "Downloading...\n",
            "From: https://drive.google.com/uc?id=1937_NrN8dHRPEsAamOn7v6hBSWG1cwzt\n",
            "To: /content/filters.py\n",
            "100% 3.35k/3.35k [00:00<00:00, 2.53MB/s]\n"
          ],
          "name": "stdout"
        }
      ]
    },
    {
      "cell_type": "code",
      "metadata": {
        "colab": {
          "base_uri": "https://localhost:8080/",
          "height": 276,
          "referenced_widgets": [
            "64193937b3314e57a9cdef7e4ea65e7e",
            "4f725e9882bb4fddac8268142fa5ea72",
            "b05a31cfaa684da1b5457b038d8a24bd",
            "5bd9284cc8d447059dcd6a21bb2c1603",
            "65d52ec8a3504f0595ded58e2e9e3562",
            "f7ffe3e6d05b46b082a4b76d8b966049",
            "8906b70ae8e3424eb0bfc0234dc9228d",
            "33b0be3439c24524b63cd28cfff4086a",
            "3afbdd7cfd3b4964ab3f2d1d39fb21e1",
            "2408169b34e34e9ab5e4d836449b8b6e",
            "fbb1db96750c4691828b32becccebe20",
            "199f2321be454263834dcb748073b572",
            "7b75a2b705104046b2fbc57b3acf7138",
            "76af11cec05840a3a2d57e6a8747baae",
            "fcac66080ebf417abf0bf72adc65c175",
            "d1542f3d38824006b559c6d420d4b077",
            "e66bcada20a141fc84715576a4c0c8b3",
            "b56630dd4b61435db550a176e8d84dfc",
            "5b946b713cc54b12b09dea550426292e",
            "96403f21933e43dea53f4870894e16ba",
            "1e5a66a0e1d64f55b90127f8c69aac50",
            "343373fac5ea4afeb12adfd490e7caf5",
            "409f89e7f68e4637b706f75b4282a45b",
            "5c0acce96f0541a4ae9f5398d3f151f0",
            "49df5b751539443ba237eb9df13b1e11",
            "515a041c4aa44d4a9bbccd9dc090548a",
            "b8e38e230ed34874bd35c84e41f9ff75",
            "552ab2ee53a14c6e8201eb6e67d3f77c",
            "1aabfb1cf0774b8f97a898705164feda",
            "114e255bdcf54df0b008849d3924da04",
            "4f01f12f34e64fbdb39fbaa0363eb689",
            "e43f86608ed34b89859797f2dd677b15",
            "fb4d4aeaa3fa4657b6e73c003992c2fa",
            "416f55c8b2cc49f4a221b2bc0469ebb4",
            "c23b0a17e7284a918ede5c0efc486711",
            "1a16aec301da40e195cdc8d7989c2584"
          ]
        },
        "id": "ZgKqTN_ecMKM",
        "outputId": "4b1431af-328d-401b-d6e6-44f2188a1c72"
      },
      "source": [
        "from pydsm.ft import idtft\n",
        "import ipywidgets as widgets\n",
        "import numpy as np\n",
        "import matplotlib.pyplot as plt\n",
        "from scipy import signal\n",
        "%matplotlib inline\n",
        "import signals\n",
        "import filters\n",
        "#-------------------------------------------------------------------------------\n",
        "\n",
        "betaG = 0.05\n",
        "NG = signals.nG.size//2 #Filter size\n",
        "sigmaG = 1 #gaussian noise standard deviation\n",
        "logPlotG = False\n",
        "\n",
        "signals.widget()\n",
        "filters.widget()\n",
        "\n",
        "def update_sigma(sigma):\n",
        "  global sigmaG\n",
        "  sigmaG = sigma\n",
        "\n",
        "widgets.interact(update_sigma,\n",
        "    sigma = widgets.FloatSlider(\n",
        "    value=0.05,\n",
        "    min=0,\n",
        "    max=0.1,\n",
        "    step=0.01,\n",
        "    description='sigma (noise)'))\n",
        "\n",
        "#filter h\n",
        "def h(t):\n",
        "  return np.real(idtft(filters.H, t, fs = 2*np.pi)) #sets f_s such that f=Omega\n",
        "\n",
        "#noise\n",
        "def w(t):\n",
        "  return np.random.normal(0, sigmaG, 1)[0]\n",
        "\n",
        "#transmitted signal\n",
        "def xx():\n",
        "  return signals.time_domain_signal_long()\n",
        "\n",
        "#received signal\n",
        "def yy():\n",
        "  #convolution in computer is finite. Restrict signals (and filters) to nG to be able to perform computations.\n",
        "  u_ = xx()\n",
        "  h_ = [h(t) for t in signals.nG]\n",
        "  w_ = [w(t) for t in np.arange(4*signals.nG.size-1)] #result of convolution has dimension (N+M-1) i.e. (nG.size+nG.size-1) = 2*nG.size-1\n",
        "  r_ = (np.convolve(u_,h_) + w_)\n",
        "  delta = len(r_) - len(u_)\n",
        "  return r_[delta//2: -delta//2]\n",
        "\n",
        "#estimated signal during training process\n",
        "def ee(h):\n",
        "  y_ = yy()\n",
        "  e = [np.convolve(h[k], y_)[k] for k in range(len(h))]\n",
        "  delta = len(y_) - len(e)\n",
        "  return [0]*delta + e #crops result to right size\n",
        "\n",
        "#estimated signal after training process\n",
        "def eef(h):\n",
        "  y_ = yy()\n",
        "  e = [np.convolve(h[-1], y_)[k] for k in range(len(h))]\n",
        "  delta = len(y_) - len(e)\n",
        "  return [0]*delta + e #crops result to right size"
      ],
      "execution_count": null,
      "outputs": [
        {
          "output_type": "display_data",
          "data": {
            "application/vnd.jupyter.widget-view+json": {
              "model_id": "64193937b3314e57a9cdef7e4ea65e7e",
              "version_minor": 0,
              "version_major": 2
            },
            "text/plain": [
              "interactive(children=(Dropdown(description='signal type', options=('unit step', 'unit impulse', 'ramp', 'expon…"
            ]
          },
          "metadata": {
            "tags": []
          }
        },
        {
          "output_type": "display_data",
          "data": {
            "application/vnd.jupyter.widget-view+json": {
              "model_id": "76af11cec05840a3a2d57e6a8747baae",
              "version_minor": 0,
              "version_major": 2
            },
            "text/plain": [
              "interactive(children=(Dropdown(description='filter type', options=('low pass', 'high pass', 'band pass', 'all …"
            ]
          },
          "metadata": {
            "tags": []
          }
        },
        {
          "output_type": "display_data",
          "data": {
            "application/vnd.jupyter.widget-view+json": {
              "model_id": "114e255bdcf54df0b008849d3924da04",
              "version_minor": 0,
              "version_major": 2
            },
            "text/plain": [
              "interactive(children=(FloatSlider(value=0.05, description='sigma (noise)', max=0.1, step=0.01), Output()), _do…"
            ]
          },
          "metadata": {
            "tags": []
          }
        }
      ]
    },
    {
      "cell_type": "code",
      "metadata": {
        "colab": {
          "base_uri": "https://localhost:8080/",
          "height": 114
        },
        "id": "FhzOv5Xs_4w1",
        "outputId": "fd41fabd-3391-47c5-e3b9-d76c78bb1f15"
      },
      "source": [
        "signals.display_signal_selection(continuous=False)\n",
        "filters.display_filter_selection(continuous=False)"
      ],
      "execution_count": null,
      "outputs": [
        {
          "output_type": "display_data",
          "data": {
            "image/png": "[encoded data removed]",
            "text/plain": [
              "<Figure size 640x32 with 1 Axes>"
            ]
          },
          "metadata": {
            "tags": [],
            "needs_background": "light"
          }
        },
        {
          "output_type": "display_data",
          "data": {
            "image/png": "[encoded data removed]",
            "text/plain": [
              "<Figure size 640x32 with 1 Axes>"
            ]
          },
          "metadata": {
            "tags": [],
            "needs_background": "light"
          }
        }
      ]
    },
    {
      "cell_type": "markdown",
      "metadata": {
        "id": "w2s74v0DeXG9"
      },
      "source": [
        "$u$ describes one possible realization of $X$ to which $h$ is applied prior to the addition of white noise."
      ]
    },
    {
      "cell_type": "markdown",
      "metadata": {
        "id": "sWrY0x8C2raH"
      },
      "source": [
        "You may select a signal ($X$), which is then filtered for transmission over a channel (as $Y$). The channel introduces some noise which you can adjust here as well. Will we be able to deduce the original signal?"
      ]
    },
    {
      "cell_type": "code",
      "metadata": {
        "id": "TARj7FZyV6-z"
      },
      "source": [
        "def plot_time():\n",
        "  t1_values = np.arange(3*np.min(signals.nG), 3*np.max(signals.nG)+3)\n",
        "  t2_values = np.arange(3*np.min(signals.nG), 3*np.max(signals.nG)+3)\n",
        "\n",
        "  fig = plt.figure(figsize=(30, 8))\n",
        "\n",
        "  ax1 = fig.add_subplot(1, 2, 1)\n",
        "  ax1.grid()\n",
        "  ax1.set_title('original signal')\n",
        "  ax1.set_xlabel('$k$', fontsize=14)\n",
        "  ax1.set_ylabel('$x[k]$', fontsize=14)\n",
        "  ax1.axis(xmin=t1_values[0], xmax=t1_values[-1])\n",
        "  if logPlotG == False:\n",
        "    ax1.axis(ymin=-3, ymax=3)\n",
        "  else:\n",
        "    ax1.axis(ymin=0.1, ymax=3)\n",
        "    ax1.set_yscale(\"log\") \n",
        "  ax1.stem(t1_values, xx());\n",
        "\n",
        "  ax2 = fig.add_subplot(1, 2, 2)\n",
        "  ax2.grid()\n",
        "  ax2.set_title('received signal')\n",
        "  ax2.set_xlabel('$k$', fontsize=14)\n",
        "  ax2.set_ylabel('$y[k]$', fontsize=14)\n",
        "  ax2.axis(xmin=t2_values[0], xmax=t2_values[-1])\n",
        "  if logPlotG == False:\n",
        "    ax2.axis(ymin=-3, ymax=3)\n",
        "  else:\n",
        "    ax2.axis(ymin=0.1, ymax=3)\n",
        "    ax2.set_yscale(\"log\") \n",
        "\n",
        "  ax2.stem(t2_values, yy());"
      ],
      "execution_count": null,
      "outputs": []
    },
    {
      "cell_type": "code",
      "metadata": {
        "colab": {
          "base_uri": "https://localhost:8080/",
          "height": 472
        },
        "id": "TF_FZCQ9cIXa",
        "outputId": "6da34d89-6cf1-49d1-ebc7-cd002c7efeaa"
      },
      "source": [
        "plot_time()"
      ],
      "execution_count": null,
      "outputs": [
        {
          "output_type": "stream",
          "text": [
            "/usr/local/lib/python3.7/dist-packages/ipykernel_launcher.py:18: UserWarning: In Matplotlib 3.3 individual lines on a stem plot will be added as a LineCollection instead of individual lines. This significantly improves the performance of a stem plot. To remove this warning and switch to the new behaviour, set the \"use_line_collection\" keyword argument to True.\n",
            "/usr/local/lib/python3.7/dist-packages/ipykernel_launcher.py:32: UserWarning: In Matplotlib 3.3 individual lines on a stem plot will be added as a LineCollection instead of individual lines. This significantly improves the performance of a stem plot. To remove this warning and switch to the new behaviour, set the \"use_line_collection\" keyword argument to True.\n"
          ],
          "name": "stderr"
        },
        {
          "output_type": "display_data",
          "data": {
            "image/png": "[encoded data removed]",
            "text/plain": [
              "<Figure size 2160x576 with 2 Axes>"
            ]
          },
          "metadata": {
            "tags": [],
            "needs_background": "light"
          }
        }
      ]
    },
    {
      "cell_type": "markdown",
      "metadata": {
        "id": "3ChzGO2o4eN3"
      },
      "source": [
        "You should see the effects of the filter and noise on the original signal."
      ]
    },
    {
      "cell_type": "code",
      "metadata": {
        "id": "3bh6jOz57O2d"
      },
      "source": [
        "# input are numpy 1darrays: y, x, h_0 (initial weights); and a scalar: beta (learning rate)\n",
        "# returns H (weight history) and E (Error history) (2darrays)\n",
        "def LMS_adapt(y, x, h_0, beta):\n",
        "  assert len(y) == len(x)\n",
        "  assert len(h_0) >= 1\n",
        "  assert len(y) >= len(h_0)\n",
        "\n",
        "  H = np.array([h_0])\n",
        "  E = np.array([])\n",
        "\n",
        "  h = h_0\n",
        "\n",
        "  for l in range(0, len(y) - len(h_0) + 1):\n",
        "    yl = np.array([y[l + len(h_0)-1 - t] for t in range(0, len(h_0))]) #most recent values for y interval [l, l+len(h_0)-1] inverted\n",
        "    el = x[l + len(h_0)-1] - np.dot(yl, h) #x[l + len(h_0)-1] - \\hat{x}[l + len(h_0)-1]\n",
        "\n",
        "    h = h + beta * el * yl\n",
        "    \n",
        "    H = np.append(H, [h], axis=0)\n",
        "    E = np.append(E, [el], axis=0)\n",
        "\n",
        "  return (H, E)"
      ],
      "execution_count": null,
      "outputs": []
    },
    {
      "cell_type": "code",
      "metadata": {
        "id": "nlG1u8HdhsJG"
      },
      "source": [
        "from mpl_toolkits.mplot3d import Axes3D\n",
        "\n",
        "HG = None\n",
        "EG = None\n",
        "def run_LMS():\n",
        "  global HG, EG\n",
        "  (HG, EG) = LMS_adapt(yy(), xx(), np.ones(NG), betaG)\n",
        "  \n",
        "\n",
        "def plot_LMS():\n",
        "  t1_values = np.arange(3*np.min(signals.nG), 3*np.max(signals.nG)+3)\n",
        "  t2_values = np.arange(3*np.min(signals.nG), 3*np.max(signals.nG)+3)\n",
        "\n",
        "  fig = plt.figure(figsize=(30, 8))\n",
        "\n",
        "  ax1 = fig.add_subplot(1, 3, 1)\n",
        "  ax1.grid()\n",
        "  ax1.set_title('error of LMS during training')\n",
        "  ax1.set_xlabel('$t$', fontsize=14)\n",
        "  ax1.set_ylabel('$error[t]$', fontsize=14)\n",
        "  ax1.axis(xmin=0, xmax=len(EG))\n",
        "  if logPlotG == False:\n",
        "    ax1.axis(ymin=-10, ymax=10)\n",
        "  else:\n",
        "    ax1.axis(ymin=0.1, ymax=10)\n",
        "    ax1.set_yscale(\"log\") \n",
        "  ax1.stem(EG);\n",
        "\n",
        "  ax2 = fig.add_subplot(1, 3, 2)\n",
        "  ax2.grid()\n",
        "  ax2.set_title('squared error of LMS during training')\n",
        "  ax2.set_xlabel('$t$', fontsize=14)\n",
        "  ax2.set_ylabel('$squared\\ error[t]$', fontsize=14)\n",
        "  ax2.axis(xmin=0, xmax=len(EG))\n",
        "  if logPlotG == False:\n",
        "    ax2.axis(ymin=-10, ymax=50)\n",
        "  else:\n",
        "    ax2.axis(ymin=0.1, ymax=50)\n",
        "    ax2.set_yscale(\"log\") \n",
        "  ax2.stem(EG**2);\n",
        "\n",
        "  ax3 = fig.add_subplot(1, 3, 3, projection='3d')\n",
        "  ax3.grid()\n",
        "  if logPlotG == True:\n",
        "    ax3.set_yscale(\"log\") \n",
        "\n",
        "  T, K = np.meshgrid(range(len(HG[0])), range(len(HG[:,1])))\n",
        "\n",
        "  Xi = K.flatten()\n",
        "  Yi = T.flatten()\n",
        "  Zi = np.zeros(HG.size)\n",
        "\n",
        "  dx = 0.5 * np.ones(HG.size)\n",
        "  dy = 0.5 * np.ones(HG.size)\n",
        "  dz = HG.flatten()\n",
        "\n",
        "  ax3.set_title('filter coefficients evolution as time progresses')\n",
        "  ax3.set_xlabel('time t')\n",
        "  ax3.set_ylabel('index k')\n",
        "  ax3.set_zlabel('$h_t[k]$')\n",
        "\n",
        "  ax3.bar3d(Xi, Yi, Zi, dx, dy, dz)"
      ],
      "execution_count": null,
      "outputs": []
    },
    {
      "cell_type": "code",
      "metadata": {
        "colab": {
          "base_uri": "https://localhost:8080/",
          "height": 113,
          "referenced_widgets": [
            "6859fbeea49b4db2b4ed7e6aec564f7a",
            "bb9815d1170b4666b2c1aff42429c12c",
            "36f7487fa490434bbcdec203d66759a4",
            "09e88034ffde4b80af4410e2be0a57a2",
            "561ab767ad904ccd8892d887ccacb37f",
            "1f4b9b27641e4387b2b354fb21a24aa3",
            "fec2df833f33412290bd078cc14d1568",
            "d0e268e6810445c68ac06ee92b7697f0",
            "383604111ba3424ca42a6e3d774396f2",
            "04b193c857db4470b917d4d075afb226",
            "7902d0a0e4eb4cb5afef6a4ab5774edd",
            "6d8782ace9f146218cd90fbfc980d51e",
            "e2e256f3862c4299ab52afa7fa7d0b2a"
          ]
        },
        "id": "1i7NZ_Gv44lp",
        "outputId": "189edeeb-4a9b-4782-844b-b45b2af342af"
      },
      "source": [
        "def update_parameters(N, beta, logPlot):\n",
        "  global NG, betaG, logPlotG\n",
        "  NG,  betaG, logPlotG = N, beta, logPlot\n",
        "\n",
        "widgets.interact(update_parameters,\n",
        "  N = widgets.IntSlider(\n",
        "    value=signals.nG.size//2,\n",
        "    min=1,\n",
        "    max=signals.nG.size,\n",
        "    description='N'),\n",
        "  beta = widgets.FloatSlider(\n",
        "    value=0.025,\n",
        "    min=0,\n",
        "    max=0.05,\n",
        "    step=0.001,\n",
        "    description='beta',\n",
        "    readout_format ='.3f'),\n",
        "  logPlot = widgets.Checkbox(\n",
        "    value=False,\n",
        "    description='logarithmic plot')\n",
        ");\n"
      ],
      "execution_count": null,
      "outputs": [
        {
          "output_type": "display_data",
          "data": {
            "application/vnd.jupyter.widget-view+json": {
              "model_id": "6859fbeea49b4db2b4ed7e6aec564f7a",
              "version_minor": 0,
              "version_major": 2
            },
            "text/plain": [
              "interactive(children=(IntSlider(value=20, description='N', max=40, min=1), FloatSlider(value=0.025, descriptio…"
            ]
          },
          "metadata": {
            "tags": []
          }
        }
      ]
    },
    {
      "cell_type": "markdown",
      "metadata": {
        "id": "bgHongab3cNm"
      },
      "source": [
        "These are the filter parameter. $N$ selects the length of the equalization filter and thus its sophistication. $\\beta$ is the learning rate of the LMS algorithm. Too little a learning rate and we never reach the optimum. Too large a learning rate and we diverge away from the optimum."
      ]
    },
    {
      "cell_type": "code",
      "metadata": {
        "colab": {
          "base_uri": "https://localhost:8080/",
          "height": 467
        },
        "id": "_IzgTGakhvSS",
        "outputId": "2a312a0d-59ca-40ac-979b-4c6153c367ef"
      },
      "source": [
        "run_LMS()\n",
        "plot_LMS()"
      ],
      "execution_count": null,
      "outputs": [
        {
          "output_type": "stream",
          "text": [
            "/usr/local/lib/python3.7/dist-packages/ipykernel_launcher.py:27: UserWarning: In Matplotlib 3.3 individual lines on a stem plot will be added as a LineCollection instead of individual lines. This significantly improves the performance of a stem plot. To remove this warning and switch to the new behaviour, set the \"use_line_collection\" keyword argument to True.\n",
            "/usr/local/lib/python3.7/dist-packages/ipykernel_launcher.py:40: UserWarning: In Matplotlib 3.3 individual lines on a stem plot will be added as a LineCollection instead of individual lines. This significantly improves the performance of a stem plot. To remove this warning and switch to the new behaviour, set the \"use_line_collection\" keyword argument to True.\n"
          ],
          "name": "stderr"
        },
        {
          "output_type": "display_data",
          "data": {
            "image/png": "[encoded data removed]",
            "text/plain": [
              "<Figure size 2160x576 with 3 Axes>"
            ]
          },
          "metadata": {
            "tags": [],
            "needs_background": "light"
          }
        }
      ]
    },
    {
      "cell_type": "markdown",
      "metadata": {
        "id": "09A5Nwkt4men"
      },
      "source": [
        "Hopefully the selected parameters gave you convergence. Note that LMS optimizes the squared error, however the absolute error is a useful tool to identify divergence if present. All the way to the right you can see the evolution of the filter coefficients."
      ]
    },
    {
      "cell_type": "code",
      "metadata": {
        "id": "tePx5jpXAYsp"
      },
      "source": [
        "def plot_estimated():\n",
        "  t1_values = np.arange(3*np.min(signals.nG), 3*np.max(signals.nG)+3)\n",
        "  t2_values = np.arange(3*np.min(signals.nG), 3*np.max(signals.nG)+3)\n",
        "\n",
        "  fig = plt.figure(figsize=(30, 12))\n",
        "\n",
        "  ax1 = fig.add_subplot(2, 2, 1)\n",
        "  ax1.grid()\n",
        "  ax1.set_title('original signal')\n",
        "  ax1.set_xlabel('$k$', fontsize=14)\n",
        "  ax1.set_ylabel('$x[k]$', fontsize=14)\n",
        "  ax1.axis(xmin=t1_values[0], xmax=t1_values[-1])\n",
        "  if logPlotG == False:\n",
        "    ax1.axis(ymin=-3, ymax=3)\n",
        "  else:\n",
        "    ax1.axis(ymin=0.1, ymax=3)\n",
        "    ax1.set_yscale(\"log\") \n",
        "  ax1.stem(t1_values, xx());\n",
        "\n",
        "  ax2 = fig.add_subplot(2, 2, 2)\n",
        "  ax2.grid()\n",
        "  ax2.set_title('received signal')\n",
        "  ax2.set_xlabel('$k$', fontsize=14)\n",
        "  ax2.set_ylabel('$y[k]$', fontsize=14)\n",
        "  ax2.axis(xmin=t2_values[0], xmax=t2_values[-1])\n",
        "  if logPlotG == False:\n",
        "    ax2.axis(ymin=-3, ymax=3)\n",
        "  else:\n",
        "    ax2.axis(ymin=0.1, ymax=3)\n",
        "    ax2.set_yscale(\"log\") \n",
        "\n",
        "  ax2.stem(t2_values, yy());\n",
        "\n",
        "  estimates = ee(HG)\n",
        "  t3_values = np.arange(3*np.min(signals.nG), 3*np.max(signals.nG)+3)\n",
        "\n",
        "  ax3 = fig.add_subplot(2, 2, 3)\n",
        "  ax3.grid()\n",
        "  ax3.set_title('estimated signal during training')\n",
        "  ax3.set_xlabel('$k$', fontsize=14)\n",
        "  ax3.set_ylabel('$\\hat{x}[k]$', fontsize=14)\n",
        "  ax3.axis(xmin=t3_values[0], xmax=t3_values[-1])\n",
        "  if logPlotG == False:\n",
        "    ax3.axis(ymin=-3, ymax=3)\n",
        "  else:\n",
        "    ax3.axis(ymin=0.1, ymax=3)\n",
        "    ax3.set_yscale(\"log\") \n",
        "\n",
        "  ax3.stem(t3_values, estimates);\n",
        "\n",
        "  estimates = eef(HG)\n",
        "  t4_values = np.arange(3*np.min(signals.nG), 3*np.max(signals.nG)+3)\n",
        "\n",
        "  ax4 = fig.add_subplot(2, 2, 4)\n",
        "  ax4.grid()\n",
        "  ax4.set_title('estimated signal after training completed')\n",
        "  ax4.set_xlabel('$k$', fontsize=14)\n",
        "  ax4.set_ylabel('$\\hat{x}[k]$', fontsize=14)\n",
        "  ax4.axis(xmin=t3_values[0], xmax=t3_values[-1])\n",
        "  if logPlotG == False:\n",
        "    ax4.axis(ymin=-3, ymax=3)\n",
        "  else:\n",
        "    ax4.axis(ymin=0.1, ymax=3)\n",
        "    ax4.set_yscale(\"log\") \n",
        "\n",
        "  ax4.stem(t4_values, estimates);\n"
      ],
      "execution_count": null,
      "outputs": []
    },
    {
      "cell_type": "code",
      "metadata": {
        "colab": {
          "base_uri": "https://localhost:8080/",
          "height": 679
        },
        "id": "KzAPwSBCAINF",
        "outputId": "adb74c71-ef19-478f-f846-0211147a973d"
      },
      "source": [
        "plot_estimated()"
      ],
      "execution_count": null,
      "outputs": [
        {
          "output_type": "stream",
          "text": [
            "/usr/local/lib/python3.7/dist-packages/ipykernel_launcher.py:18: UserWarning: In Matplotlib 3.3 individual lines on a stem plot will be added as a LineCollection instead of individual lines. This significantly improves the performance of a stem plot. To remove this warning and switch to the new behaviour, set the \"use_line_collection\" keyword argument to True.\n",
            "/usr/local/lib/python3.7/dist-packages/ipykernel_launcher.py:32: UserWarning: In Matplotlib 3.3 individual lines on a stem plot will be added as a LineCollection instead of individual lines. This significantly improves the performance of a stem plot. To remove this warning and switch to the new behaviour, set the \"use_line_collection\" keyword argument to True.\n",
            "/usr/local/lib/python3.7/dist-packages/ipykernel_launcher.py:49: UserWarning: In Matplotlib 3.3 individual lines on a stem plot will be added as a LineCollection instead of individual lines. This significantly improves the performance of a stem plot. To remove this warning and switch to the new behaviour, set the \"use_line_collection\" keyword argument to True.\n",
            "/usr/local/lib/python3.7/dist-packages/ipykernel_launcher.py:66: UserWarning: In Matplotlib 3.3 individual lines on a stem plot will be added as a LineCollection instead of individual lines. This significantly improves the performance of a stem plot. To remove this warning and switch to the new behaviour, set the \"use_line_collection\" keyword argument to True.\n"
          ],
          "name": "stderr"
        },
        {
          "output_type": "display_data",
          "data": {
            "image/png": "[encoded data removed]",
            "text/plain": [
              "<Figure size 2160x864 with 4 Axes>"
            ]
          },
          "metadata": {
            "tags": [],
            "needs_background": "light"
          }
        }
      ]
    },
    {
      "cell_type": "markdown",
      "metadata": {
        "id": "-Th7sRod52h3"
      },
      "source": [
        "Here you can see the final results. On top the signal transmitted and received signal and below the estimate during training and the estimate if the filter was run over the data again after training is complete (with fixed coefficients). "
      ]
    },
    {
      "cell_type": "markdown",
      "metadata": {
        "id": "zePcYpUjAOrc"
      },
      "source": [
        "# Practical Example of Ringing"
      ]
    },
    {
      "cell_type": "markdown",
      "metadata": {
        "id": "zQvUVZl8AcSU"
      },
      "source": [
        "As a practical example let us consider a channel which introduces ringing along with some noise, i.e. it repeats the signal with some delay. \n",
        "Reset the notebook to factory settings (header runtime). Now select as a signal \"sinus squared\" and as a filter the causal FIR filter with the impulse response taps \"1 0 0 0 0 -0.25\". We choose sinus squared such that the effects of ringing are most easily observable. Select a reasonable learning rate $\\beta$. Also select a shorter equalization filter (N = 10). Make sure the algorithm converges. You should see that the algorithm learns to filter out the ringing."
      ]
    }
  ]
}