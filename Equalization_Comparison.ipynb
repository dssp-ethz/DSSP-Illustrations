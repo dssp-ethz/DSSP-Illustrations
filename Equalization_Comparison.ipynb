{
  "nbformat": 4,
  "nbformat_minor": 0,
  "metadata": {
    "colab": {
      "name": "Equalization Comparison.ipynb",
      "provenance": [],
      "collapsed_sections": [],
      "toc_visible": true,
      "authorship_tag": "ABX9TyMMUc6NLJ9QW2fTcHReFJSy",
      "include_colab_link": true
    },
    "kernelspec": {
      "name": "python3",
      "display_name": "Python 3"
    },
    "language_info": {
      "name": "python"
    },
    "widgets": {
      "application/vnd.jupyter.widget-state+json": {
        "4e4ec7bd3f0b4878819080146a12f107": {
          "model_module": "@jupyter-widgets/controls",
          "model_name": "VBoxModel",
          "state": {
            "_view_name": "VBoxView",
            "_dom_classes": [
              "widget-interact"
            ],
            "_model_name": "VBoxModel",
            "_view_module": "@jupyter-widgets/controls",
            "_model_module_version": "1.5.0",
            "_view_count": null,
            "_view_module_version": "1.5.0",
            "box_style": "",
            "layout": "IPY_MODEL_d82863c314254408a0f328572f7b548f",
            "_model_module": "@jupyter-widgets/controls",
            "children": [
              "IPY_MODEL_41448aeee67b464a87f3a87f0248468b",
              "IPY_MODEL_28b322e251244ae0a2ba1f1c3865071f",
              "IPY_MODEL_4e26b194e53d421b97d703719e30c4fe",
              "IPY_MODEL_2cd2d7a0294a4da297d854d1b4882685",
              "IPY_MODEL_cee1da08bc9c48498a031da5e184cab0"
            ]
          }
        },
        "d82863c314254408a0f328572f7b548f": {
          "model_module": "@jupyter-widgets/base",
          "model_name": "LayoutModel",
          "state": {
            "_view_name": "LayoutView",
            "grid_template_rows": null,
            "right": null,
            "justify_content": null,
            "_view_module": "@jupyter-widgets/base",
            "overflow": null,
            "_model_module_version": "1.2.0",
            "_view_count": null,
            "flex_flow": null,
            "width": null,
            "min_width": null,
            "border": null,
            "align_items": null,
            "bottom": null,
            "_model_module": "@jupyter-widgets/base",
            "top": null,
            "grid_column": null,
            "overflow_y": null,
            "overflow_x": null,
            "grid_auto_flow": null,
            "grid_area": null,
            "grid_template_columns": null,
            "flex": null,
            "_model_name": "LayoutModel",
            "justify_items": null,
            "grid_row": null,
            "max_height": null,
            "align_content": null,
            "visibility": null,
            "align_self": null,
            "height": null,
            "min_height": null,
            "padding": null,
            "grid_auto_rows": null,
            "grid_gap": null,
            "max_width": null,
            "order": null,
            "_view_module_version": "1.2.0",
            "grid_template_areas": null,
            "object_position": null,
            "object_fit": null,
            "grid_auto_columns": null,
            "margin": null,
            "display": null,
            "left": null
          }
        },
        "41448aeee67b464a87f3a87f0248468b": {
          "model_module": "@jupyter-widgets/controls",
          "model_name": "TextModel",
          "state": {
            "_view_name": "TextView",
            "style": "IPY_MODEL_40f1dcb5c42e4f398731c70ecb31b861",
            "_dom_classes": [],
            "description": "M",
            "_model_name": "TextModel",
            "placeholder": "​",
            "_view_module": "@jupyter-widgets/controls",
            "_model_module_version": "1.5.0",
            "value": "1 -1",
            "_view_count": null,
            "disabled": false,
            "_view_module_version": "1.5.0",
            "continuous_update": true,
            "description_tooltip": null,
            "_model_module": "@jupyter-widgets/controls",
            "layout": "IPY_MODEL_e8ed3903632b479a8cc3ddd8c7ab79a8"
          }
        },
        "28b322e251244ae0a2ba1f1c3865071f": {
          "model_module": "@jupyter-widgets/controls",
          "model_name": "TextModel",
          "state": {
            "_view_name": "TextView",
            "style": "IPY_MODEL_0c249f7692ab4431895081714ecb00b1",
            "_dom_classes": [],
            "description": "h",
            "_model_name": "TextModel",
            "placeholder": "​",
            "_view_module": "@jupyter-widgets/controls",
            "_model_module_version": "1.5.0",
            "value": "0.5 1",
            "_view_count": null,
            "disabled": false,
            "_view_module_version": "1.5.0",
            "continuous_update": true,
            "description_tooltip": null,
            "_model_module": "@jupyter-widgets/controls",
            "layout": "IPY_MODEL_306feedfc9fb4847be6abfdba86df24e"
          }
        },
        "4e26b194e53d421b97d703719e30c4fe": {
          "model_module": "@jupyter-widgets/controls",
          "model_name": "TextareaModel",
          "state": {
            "_view_name": "TextareaView",
            "style": "IPY_MODEL_d2702be72fe948d99331b783d71d8d27",
            "rows": null,
            "_dom_classes": [],
            "description": "x",
            "_model_name": "TextareaModel",
            "placeholder": "​",
            "_view_module": "@jupyter-widgets/controls",
            "_model_module_version": "1.5.0",
            "value": "1 1 -1 -1 1 1 1 1 -1 -1 -1 -1 -1 1 1 1 1 -1 -1 -1 -1 -1 1 1 1 -1 1 1 1 -1 1 -1 1 -1",
            "_view_count": null,
            "disabled": false,
            "_view_module_version": "1.5.0",
            "continuous_update": true,
            "description_tooltip": null,
            "_model_module": "@jupyter-widgets/controls",
            "layout": "IPY_MODEL_e8fd80e9e5d6402ca5cb0c2c591a4b70"
          }
        },
        "2cd2d7a0294a4da297d854d1b4882685": {
          "model_module": "@jupyter-widgets/controls",
          "model_name": "FloatSliderModel",
          "state": {
            "_view_name": "FloatSliderView",
            "style": "IPY_MODEL_b48120b1e98d41d9b8605856c4b0b4ee",
            "_dom_classes": [],
            "description": "sigma",
            "step": 0.1,
            "_model_name": "FloatSliderModel",
            "orientation": "horizontal",
            "max": 2,
            "_view_module": "@jupyter-widgets/controls",
            "_model_module_version": "1.5.0",
            "value": 0.5,
            "_view_count": null,
            "disabled": false,
            "_view_module_version": "1.5.0",
            "min": 0,
            "continuous_update": true,
            "readout_format": ".2f",
            "description_tooltip": null,
            "readout": true,
            "_model_module": "@jupyter-widgets/controls",
            "layout": "IPY_MODEL_cef500b9426a4c3dbf14646050966d71"
          }
        },
        "cee1da08bc9c48498a031da5e184cab0": {
          "model_module": "@jupyter-widgets/output",
          "model_name": "OutputModel",
          "state": {
            "_view_name": "OutputView",
            "msg_id": "",
            "_dom_classes": [],
            "_model_name": "OutputModel",
            "outputs": [
              {
                "output_type": "stream",
                "metadata": {
                  "tags": []
                },
                "text": "\n",
                "stream": "stdout"
              }
            ],
            "_view_module": "@jupyter-widgets/output",
            "_model_module_version": "1.0.0",
            "_view_count": null,
            "_view_module_version": "1.0.0",
            "layout": "IPY_MODEL_1c34e0cabfc2496ca14ba211030453d8",
            "_model_module": "@jupyter-widgets/output"
          }
        },
        "40f1dcb5c42e4f398731c70ecb31b861": {
          "model_module": "@jupyter-widgets/controls",
          "model_name": "DescriptionStyleModel",
          "state": {
            "_view_name": "StyleView",
            "_model_name": "DescriptionStyleModel",
            "description_width": "",
            "_view_module": "@jupyter-widgets/base",
            "_model_module_version": "1.5.0",
            "_view_count": null,
            "_view_module_version": "1.2.0",
            "_model_module": "@jupyter-widgets/controls"
          }
        },
        "e8ed3903632b479a8cc3ddd8c7ab79a8": {
          "model_module": "@jupyter-widgets/base",
          "model_name": "LayoutModel",
          "state": {
            "_view_name": "LayoutView",
            "grid_template_rows": null,
            "right": null,
            "justify_content": null,
            "_view_module": "@jupyter-widgets/base",
            "overflow": null,
            "_model_module_version": "1.2.0",
            "_view_count": null,
            "flex_flow": null,
            "width": null,
            "min_width": null,
            "border": null,
            "align_items": null,
            "bottom": null,
            "_model_module": "@jupyter-widgets/base",
            "top": null,
            "grid_column": null,
            "overflow_y": null,
            "overflow_x": null,
            "grid_auto_flow": null,
            "grid_area": null,
            "grid_template_columns": null,
            "flex": null,
            "_model_name": "LayoutModel",
            "justify_items": null,
            "grid_row": null,
            "max_height": null,
            "align_content": null,
            "visibility": null,
            "align_self": null,
            "height": null,
            "min_height": null,
            "padding": null,
            "grid_auto_rows": null,
            "grid_gap": null,
            "max_width": null,
            "order": null,
            "_view_module_version": "1.2.0",
            "grid_template_areas": null,
            "object_position": null,
            "object_fit": null,
            "grid_auto_columns": null,
            "margin": null,
            "display": null,
            "left": null
          }
        },
        "0c249f7692ab4431895081714ecb00b1": {
          "model_module": "@jupyter-widgets/controls",
          "model_name": "DescriptionStyleModel",
          "state": {
            "_view_name": "StyleView",
            "_model_name": "DescriptionStyleModel",
            "description_width": "",
            "_view_module": "@jupyter-widgets/base",
            "_model_module_version": "1.5.0",
            "_view_count": null,
            "_view_module_version": "1.2.0",
            "_model_module": "@jupyter-widgets/controls"
          }
        },
        "306feedfc9fb4847be6abfdba86df24e": {
          "model_module": "@jupyter-widgets/base",
          "model_name": "LayoutModel",
          "state": {
            "_view_name": "LayoutView",
            "grid_template_rows": null,
            "right": null,
            "justify_content": null,
            "_view_module": "@jupyter-widgets/base",
            "overflow": null,
            "_model_module_version": "1.2.0",
            "_view_count": null,
            "flex_flow": null,
            "width": null,
            "min_width": null,
            "border": null,
            "align_items": null,
            "bottom": null,
            "_model_module": "@jupyter-widgets/base",
            "top": null,
            "grid_column": null,
            "overflow_y": null,
            "overflow_x": null,
            "grid_auto_flow": null,
            "grid_area": null,
            "grid_template_columns": null,
            "flex": null,
            "_model_name": "LayoutModel",
            "justify_items": null,
            "grid_row": null,
            "max_height": null,
            "align_content": null,
            "visibility": null,
            "align_self": null,
            "height": null,
            "min_height": null,
            "padding": null,
            "grid_auto_rows": null,
            "grid_gap": null,
            "max_width": null,
            "order": null,
            "_view_module_version": "1.2.0",
            "grid_template_areas": null,
            "object_position": null,
            "object_fit": null,
            "grid_auto_columns": null,
            "margin": null,
            "display": null,
            "left": null
          }
        },
        "d2702be72fe948d99331b783d71d8d27": {
          "model_module": "@jupyter-widgets/controls",
          "model_name": "DescriptionStyleModel",
          "state": {
            "_view_name": "StyleView",
            "_model_name": "DescriptionStyleModel",
            "description_width": "",
            "_view_module": "@jupyter-widgets/base",
            "_model_module_version": "1.5.0",
            "_view_count": null,
            "_view_module_version": "1.2.0",
            "_model_module": "@jupyter-widgets/controls"
          }
        },
        "e8fd80e9e5d6402ca5cb0c2c591a4b70": {
          "model_module": "@jupyter-widgets/base",
          "model_name": "LayoutModel",
          "state": {
            "_view_name": "LayoutView",
            "grid_template_rows": null,
            "right": null,
            "justify_content": null,
            "_view_module": "@jupyter-widgets/base",
            "overflow": null,
            "_model_module_version": "1.2.0",
            "_view_count": null,
            "flex_flow": null,
            "width": null,
            "min_width": null,
            "border": null,
            "align_items": null,
            "bottom": null,
            "_model_module": "@jupyter-widgets/base",
            "top": null,
            "grid_column": null,
            "overflow_y": null,
            "overflow_x": null,
            "grid_auto_flow": null,
            "grid_area": null,
            "grid_template_columns": null,
            "flex": null,
            "_model_name": "LayoutModel",
            "justify_items": null,
            "grid_row": null,
            "max_height": null,
            "align_content": null,
            "visibility": null,
            "align_self": null,
            "height": null,
            "min_height": null,
            "padding": null,
            "grid_auto_rows": null,
            "grid_gap": null,
            "max_width": null,
            "order": null,
            "_view_module_version": "1.2.0",
            "grid_template_areas": null,
            "object_position": null,
            "object_fit": null,
            "grid_auto_columns": null,
            "margin": null,
            "display": null,
            "left": null
          }
        },
        "b48120b1e98d41d9b8605856c4b0b4ee": {
          "model_module": "@jupyter-widgets/controls",
          "model_name": "SliderStyleModel",
          "state": {
            "_view_name": "StyleView",
            "handle_color": null,
            "_model_name": "SliderStyleModel",
            "description_width": "",
            "_view_module": "@jupyter-widgets/base",
            "_model_module_version": "1.5.0",
            "_view_count": null,
            "_view_module_version": "1.2.0",
            "_model_module": "@jupyter-widgets/controls"
          }
        },
        "cef500b9426a4c3dbf14646050966d71": {
          "model_module": "@jupyter-widgets/base",
          "model_name": "LayoutModel",
          "state": {
            "_view_name": "LayoutView",
            "grid_template_rows": null,
            "right": null,
            "justify_content": null,
            "_view_module": "@jupyter-widgets/base",
            "overflow": null,
            "_model_module_version": "1.2.0",
            "_view_count": null,
            "flex_flow": null,
            "width": null,
            "min_width": null,
            "border": null,
            "align_items": null,
            "bottom": null,
            "_model_module": "@jupyter-widgets/base",
            "top": null,
            "grid_column": null,
            "overflow_y": null,
            "overflow_x": null,
            "grid_auto_flow": null,
            "grid_area": null,
            "grid_template_columns": null,
            "flex": null,
            "_model_name": "LayoutModel",
            "justify_items": null,
            "grid_row": null,
            "max_height": null,
            "align_content": null,
            "visibility": null,
            "align_self": null,
            "height": null,
            "min_height": null,
            "padding": null,
            "grid_auto_rows": null,
            "grid_gap": null,
            "max_width": null,
            "order": null,
            "_view_module_version": "1.2.0",
            "grid_template_areas": null,
            "object_position": null,
            "object_fit": null,
            "grid_auto_columns": null,
            "margin": null,
            "display": null,
            "left": null
          }
        },
        "1c34e0cabfc2496ca14ba211030453d8": {
          "model_module": "@jupyter-widgets/base",
          "model_name": "LayoutModel",
          "state": {
            "_view_name": "LayoutView",
            "grid_template_rows": null,
            "right": null,
            "justify_content": null,
            "_view_module": "@jupyter-widgets/base",
            "overflow": null,
            "_model_module_version": "1.2.0",
            "_view_count": null,
            "flex_flow": null,
            "width": null,
            "min_width": null,
            "border": null,
            "align_items": null,
            "bottom": null,
            "_model_module": "@jupyter-widgets/base",
            "top": null,
            "grid_column": null,
            "overflow_y": null,
            "overflow_x": null,
            "grid_auto_flow": null,
            "grid_area": null,
            "grid_template_columns": null,
            "flex": null,
            "_model_name": "LayoutModel",
            "justify_items": null,
            "grid_row": null,
            "max_height": null,
            "align_content": null,
            "visibility": null,
            "align_self": null,
            "height": null,
            "min_height": null,
            "padding": null,
            "grid_auto_rows": null,
            "grid_gap": null,
            "max_width": null,
            "order": null,
            "_view_module_version": "1.2.0",
            "grid_template_areas": null,
            "object_position": null,
            "object_fit": null,
            "grid_auto_columns": null,
            "margin": null,
            "display": null,
            "left": null
          }
        }
      }
    }
  },
  "cells": [
    {
      "cell_type": "markdown",
      "metadata": {
        "id": "view-in-github",
        "colab_type": "text"
      },
      "source": [
        "<a href=\"https://colab.research.google.com/github/dssp-ethz/DSSP-Illustrations/blob/main/Equalization_Comparison.ipynb\" target=\"_parent\"><img src=\"https://colab.research.google.com/assets/colab-badge.svg\" alt=\"Open In Colab\"/></a>"
      ]
    },
    {
      "cell_type": "markdown",
      "metadata": {
        "id": "ULEu70Bfb3Qs"
      },
      "source": [
        "#Comparison of Equalization Techniques"
      ]
    },
    {
      "cell_type": "markdown",
      "metadata": {
        "id": "_8e4dnxibwfD"
      },
      "source": [
        "Let us assume a signal $X[\\cdot]$ of interest is filtered by a causal finite duration filter with impulse response $h$. To that we add i.i.d. gaussian noise $W[\\cdot]$ with standard deviation $\\sigma$. We thus observe $Y[\\cdot] = \\underbrace{(X * h)[\\cdot]}_{Z[\\cdot]} + W[\\cdot]$ and wish to estimate $X$."
      ]
    },
    {
      "cell_type": "markdown",
      "metadata": {
        "id": "0B8gNFUkcBb9"
      },
      "source": [
        "![viterbi_equalization.png](data:image/png;base64,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)"
      ]
    },
    {
      "cell_type": "markdown",
      "metadata": {
        "id": "ybUUkhWecMLB"
      },
      "source": [
        "In order to be able to use all types of equalization techniques from the course we restrict ourselves to a digital signal, i.e. the signal is not only discrete time, but also only takes on values in a finite set called constellation."
      ]
    },
    {
      "cell_type": "code",
      "metadata": {
        "colab": {
          "base_uri": "https://localhost:8080/",
          "height": 182,
          "referenced_widgets": [
            "4e4ec7bd3f0b4878819080146a12f107",
            "d82863c314254408a0f328572f7b548f",
            "41448aeee67b464a87f3a87f0248468b",
            "28b322e251244ae0a2ba1f1c3865071f",
            "4e26b194e53d421b97d703719e30c4fe",
            "2cd2d7a0294a4da297d854d1b4882685",
            "cee1da08bc9c48498a031da5e184cab0",
            "40f1dcb5c42e4f398731c70ecb31b861",
            "e8ed3903632b479a8cc3ddd8c7ab79a8",
            "0c249f7692ab4431895081714ecb00b1",
            "306feedfc9fb4847be6abfdba86df24e",
            "d2702be72fe948d99331b783d71d8d27",
            "e8fd80e9e5d6402ca5cb0c2c591a4b70",
            "b48120b1e98d41d9b8605856c4b0b4ee",
            "cef500b9426a4c3dbf14646050966d71",
            "1c34e0cabfc2496ca14ba211030453d8"
          ]
        },
        "id": "-OLdXqcbboH8",
        "outputId": "450c9671-4d77-4c64-aaa5-b9521540dfad"
      },
      "source": [
        "import ipywidgets as widgets\n",
        "#read in parameters\n",
        "#-------------------------------------------------------------------------------\n",
        "NG = 4\n",
        "MG = [1, -1] #message is binary as standard\n",
        "xG = None\n",
        "hG = [0.5, 1]\n",
        "sigmaG = 0.5\n",
        "\n",
        "def update_parameters(M, h, x, sigma):\n",
        "  global NG, MG, xG, hG, sigmaG\n",
        "  try:\n",
        "    MG = [float(v) for v in M.split()]\n",
        "    hG = [float(v) for v in h.split()]\n",
        "    xG = [float(v) for v in x.split()]\n",
        "    for v in xG:\n",
        "      if v not in MG:\n",
        "        raise\n",
        "    NG = len(xG)\n",
        "    sigmaG = sigma\n",
        "    print(\"\")\n",
        "  except:\n",
        "    print(\"make sure the entered values are valid (e.g. x takes values in M)\")\n",
        "widgets.interact(update_parameters, M = '1 -1', h = '0.5 1', x  = widgets.Textarea(\n",
        "    value='1 1 -1 -1 1 1 1 1 -1 -1 -1 -1 -1 1 1 1 1 -1 -1 -1 -1 -1 1 1 1 -1 1 1 1 -1 1 -1 1 -1',\n",
        "    description='x'), sigma = widgets.FloatSlider(value=0.5, min=0, max=2));"
      ],
      "execution_count": 5,
      "outputs": [
        {
          "output_type": "display_data",
          "data": {
            "application/vnd.jupyter.widget-view+json": {
              "model_id": "4e4ec7bd3f0b4878819080146a12f107",
              "version_minor": 0,
              "version_major": 2
            },
            "text/plain": [
              "interactive(children=(Text(value='1 -1', description='M'), Text(value='0.5 1', description='h'), Textarea(valu…"
            ]
          },
          "metadata": {
            "tags": []
          }
        }
      ]
    },
    {
      "cell_type": "markdown",
      "metadata": {
        "id": "b9AyJAjydLI0"
      },
      "source": [
        "Above you can set the parameters of the equalization. $h$ is the impulse response of the causal FIR filter, $M$ describes the constellation and $x$ is the original signal (supposing at $t < 0$ we pad with $0$ and after the indicated values we no longer care about $x$). Let us generate the received values $y$ by filtering with $h$ and adding gaussian noise afterwards.\n",
        "\n"
      ]
    },
    {
      "cell_type": "code",
      "metadata": {
        "colab": {
          "base_uri": "https://localhost:8080/",
          "height": 320
        },
        "id": "VDkxY2jX2X2j",
        "outputId": "f60805bf-4b7b-4474-f08f-49d5a141e8a2"
      },
      "source": [
        "import numpy as np\n",
        "import matplotlib.pyplot as plt\n",
        "#generate the signals\n",
        "#-------------------------------------------------------------------------------\n",
        "zG = np.convolve(xG, hG)\n",
        "zG = zG[:len(xG)] #gets rid of values at end of signal about which we do not care\n",
        "yG = zG + np.random.normal(0, sigmaG, zG.shape)\n",
        "\n",
        "#plot the signals\n",
        "#-------------------------------------------------------------------------------\n",
        "fig = plt.figure(figsize=(30, 8))\n",
        "\n",
        "ax1 = fig.add_subplot(1, 2, 1)\n",
        "ax1.grid()\n",
        "ax1.set_title('original signal')\n",
        "ax1.set_xlabel('$k$', fontsize=14)\n",
        "ax1.set_ylabel('$x[k]$', fontsize=14)\n",
        "ax1.axis(xmin=-1, xmax=len(xG))\n",
        "ax1.stem(xG);\n",
        "\n",
        "ax2 = fig.add_subplot(1, 2, 2)\n",
        "ax2.grid()\n",
        "ax2.set_title('received signal')\n",
        "ax2.set_xlabel('$k$', fontsize=14)\n",
        "ax2.set_ylabel('$y[k]$', fontsize=14)\n",
        "ax2.axis(xmin=-1, xmax=len(yG))\n",
        "ax2.stem(yG);"
      ],
      "execution_count": 6,
      "outputs": [
        {
          "output_type": "stream",
          "text": [
            "/usr/local/lib/python3.7/dist-packages/ipykernel_launcher.py:19: UserWarning: In Matplotlib 3.3 individual lines on a stem plot will be added as a LineCollection instead of individual lines. This significantly improves the performance of a stem plot. To remove this warning and switch to the new behaviour, set the \"use_line_collection\" keyword argument to True.\n",
            "/usr/local/lib/python3.7/dist-packages/ipykernel_launcher.py:27: UserWarning: In Matplotlib 3.3 individual lines on a stem plot will be added as a LineCollection instead of individual lines. This significantly improves the performance of a stem plot. To remove this warning and switch to the new behaviour, set the \"use_line_collection\" keyword argument to True.\n"
          ],
          "name": "stderr"
        },
        {
          "output_type": "display_data",
          "data": {
            "image/png": "[encoded data removed]",
            "text/plain": [
              "<Figure size 2160x576 with 2 Axes>"
            ]
          },
          "metadata": {
            "tags": [],
            "needs_background": "light"
          }
        }
      ]
    },
    {
      "cell_type": "markdown",
      "metadata": {
        "id": "-lROFEhD5gwe"
      },
      "source": [
        "Now that the problem has been set up, let us go on and try to perform different kinds of equalization techniques that we have learnt in this course so far."
      ]
    },
    {
      "cell_type": "markdown",
      "metadata": {
        "id": "BC2X9xaqjHnM"
      },
      "source": [
        "## LMS Equalization"
      ]
    },
    {
      "cell_type": "code",
      "metadata": {
        "colab": {
          "base_uri": "https://localhost:8080/"
        },
        "id": "VsqBwhONpRS8",
        "outputId": "b1ae0670-15e1-4c89-c247-248b06e69886"
      },
      "source": [
        "!gdown https://drive.google.com/uc?id=1yLrvj5InnE66yTFiBrKaEbQEGA0HU7Eg"
      ],
      "execution_count": 4,
      "outputs": [
        {
          "output_type": "stream",
          "text": [
            "Downloading...\n",
            "From: https://drive.google.com/uc?id=1yLrvj5InnE66yTFiBrKaEbQEGA0HU7Eg\n",
            "To: /content/LMS_equalizer.py\n",
            "\r  0% 0.00/2.38k [00:00<?, ?B/s]\r100% 2.38k/2.38k [00:00<00:00, 2.01MB/s]\n"
          ],
          "name": "stdout"
        }
      ]
    },
    {
      "cell_type": "code",
      "metadata": {
        "id": "3cLPBaqejJS0"
      },
      "source": [
        "pip install pydsm"
      ],
      "execution_count": null,
      "outputs": []
    },
    {
      "cell_type": "markdown",
      "metadata": {
        "id": "ZtjWosY4k2wH"
      },
      "source": [
        "To use LMS equalization we first have to run the filter in adaptive mode. To that end we simulate the transmission (as outlined above) numerically to then be able to feed both $y$ and $x$ to the filter. You may set a custom standard deviation for the simulated data (how does this affect the performance of the LMS algorithm?)."
      ]
    },
    {
      "cell_type": "code",
      "metadata": {
        "id": "Yuvnygpm7rpy"
      },
      "source": [
        "sigmaG_LMS = 0.5\n",
        "def set_sigmaG_lms(sigma):\n",
        "  global sigmaG_LMS\n",
        "  sigmaG_LMS = sigmaG\n",
        "\n",
        "widgets.interact(set_sigmaG_lms, \n",
        "  sigma = widgets.FloatSlider(\n",
        "    value=0.5,\n",
        "    min=0,\n",
        "    max=2,\n",
        "    step=0.01,\n",
        "    description='sigma_lms',\n",
        "    readout_format ='.2f'),\n",
        "  leng = widgets.IntSlider(\n",
        "    value=len(hG),\n",
        "    min=len(hG),\n",
        "    max=10*len(hG),\n",
        "    description='len(g)'));"
      ],
      "execution_count": null,
      "outputs": []
    },
    {
      "cell_type": "code",
      "metadata": {
        "id": "DzoAp7PejJ0C"
      },
      "source": [
        "import numpy as np\n",
        "\n",
        "x_sim = np.random.choice(MG, size = (NG*100)) #10 times the length of original signal may be used for training\n",
        "z_sim = np.convolve(x_sim, hG)\n",
        "z_sim = z_sim[:len(x_sim)] #gets rid of values at end of signal\n",
        "y_sim = z_sim + np.random.normal(0, sigmaG_LMS, z_sim.shape)\n",
        "\n",
        "print(\"x: \", x_sim[:10] , \"...\")\n",
        "print(\"\\nz: \",z_sim[:10], \"...\")\n",
        "print(\"\\ny: \",y_sim[:10], \"...\")"
      ],
      "execution_count": null,
      "outputs": []
    },
    {
      "cell_type": "markdown",
      "metadata": {
        "id": "P4wAqCWboJAd"
      },
      "source": [
        "Having generated fake $X$ and $Y$ values, let us run LMS. To use LMS, we need to set initial coefficients for the equalization filter and a learning rate. To make matters simpler the coefficients will be initialized to 0, only the learning rate $\\beta$ and the length of the inverse filter $len(g)$ may be adjusted."
      ]
    },
    {
      "cell_type": "code",
      "metadata": {
        "id": "45tfrZJNoTn_"
      },
      "source": [
        "betaG = 0.025\n",
        "lengG = len(hG)\n",
        "def set_learning_rate(beta, leng):\n",
        "  global betaG, lengG\n",
        "  betaG, lengG = beta, leng\n",
        "\n",
        "widgets.interact(set_learning_rate, \n",
        "  beta = widgets.FloatSlider(\n",
        "    value=0.025,\n",
        "    min=0,\n",
        "    max=0.05,\n",
        "    step=0.001,\n",
        "    description='beta',\n",
        "    readout_format ='.3f'),\n",
        "  leng = widgets.IntSlider(\n",
        "    value=len(hG),\n",
        "    min=len(hG),\n",
        "    max=10*len(hG),\n",
        "    description='len(g)'));"
      ],
      "execution_count": null,
      "outputs": []
    },
    {
      "cell_type": "markdown",
      "metadata": {
        "id": "05DjNByazZx0"
      },
      "source": [
        "Let us finally run the LMS algorithm. Hopefully a good learning rate and length of inversion filter was chosen."
      ]
    },
    {
      "cell_type": "code",
      "metadata": {
        "id": "-nowVTl_qq1w"
      },
      "source": [
        "import LMS_equalizer\n",
        "\n",
        "G, E = LMS_equalizer.LMS_adapt(y_sim, x_sim, np.zeros(lengG), betaG);\n",
        "LMS_equalizer.plot_LMS(G, E)\n",
        "\n",
        "g_final = G[-1]"
      ],
      "execution_count": null,
      "outputs": []
    },
    {
      "cell_type": "markdown",
      "metadata": {
        "id": "n3ZpHjx_0e9X"
      },
      "source": [
        "Now that we trained the coefficients using LMS let us perform the estimation on the actual received signal $Y$."
      ]
    },
    {
      "cell_type": "code",
      "metadata": {
        "id": "yI8oCvYdzKkK"
      },
      "source": [
        "x_lms = np.convolve(yG, g_final)\n",
        "x_lms = x_lms[:len(yG)]\n",
        "print(x_lms)"
      ],
      "execution_count": null,
      "outputs": []
    },
    {
      "cell_type": "markdown",
      "metadata": {
        "id": "fqCpXGz5dmSg"
      },
      "source": [
        "## Viterbi Equalization"
      ]
    },
    {
      "cell_type": "code",
      "metadata": {
        "colab": {
          "base_uri": "https://localhost:8080/"
        },
        "id": "18hAhGKOdxGI",
        "outputId": "3a05be17-0c24-4575-ab4c-abf8deab67a0"
      },
      "source": [
        "!gdown https://drive.google.com/uc?id=13hHW9STc3wfArt1gw0hynjSV74pwX3M6"
      ],
      "execution_count": 7,
      "outputs": [
        {
          "output_type": "stream",
          "text": [
            "Downloading...\n",
            "From: https://drive.google.com/uc?id=13hHW9STc3wfArt1gw0hynjSV74pwX3M6\n",
            "To: /content/viterbi_equalizer.py\n",
            "\r  0% 0.00/6.51k [00:00<?, ?B/s]\r100% 6.51k/6.51k [00:00<00:00, 12.2MB/s]\n"
          ],
          "name": "stdout"
        }
      ]
    },
    {
      "cell_type": "markdown",
      "metadata": {
        "id": "DLb-9lRa-D81"
      },
      "source": [
        ""
      ]
    },
    {
      "cell_type": "code",
      "metadata": {
        "colab": {
          "base_uri": "https://localhost:8080/"
        },
        "id": "qgSmmNXidoWs",
        "outputId": "c1010220-87bd-4a38-ce5c-f45bb3fa2caa"
      },
      "source": [
        "import viterbi_equalizer\n",
        "\n",
        "viterbi_equalizer.set_parameters(NG, MG, yG, hG)\n",
        "with viterbi_equalizer.HiddenPrints():\n",
        "  state_descriptions, branch_metrics = viterbi_equalizer.construct_trellis();\n",
        "  x_viterbi = viterbi_equalizer.invoke_viterbi(state_descriptions, branch_metrics);\n",
        "\n",
        "print(x_viterbi)"
      ],
      "execution_count": 9,
      "outputs": [
        {
          "output_type": "stream",
          "text": [
            "[1.0, 1.0, -1.0, -1.0, 1.0, 1.0, 1.0, 1.0, -1.0, -1.0, -1.0, -1.0, -1.0, 1.0, 1.0, 1.0, 1.0, -1.0, -1.0, -1.0, -1.0, -1.0, 1.0, 1.0, 1.0, -1.0, 1.0, 1.0, 1.0, -1.0, 1.0, -1.0, 1.0, -1.0]\n"
          ],
          "name": "stdout"
        }
      ]
    }
  ]
}