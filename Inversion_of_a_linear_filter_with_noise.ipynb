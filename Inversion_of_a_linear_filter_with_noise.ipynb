{
  "nbformat": 4,
  "nbformat_minor": 0,
  "metadata": {
    "colab": {
      "name": "Inversion of a linear filter with noise.ipynb",
      "provenance": [],
      "collapsed_sections": [],
      "authorship_tag": "ABX9TyM5DS8qtnxzp1pZch1Vu3Ge",
      "include_colab_link": true
    },
    "kernelspec": {
      "name": "python3",
      "display_name": "Python 3"
    },
    "language_info": {
      "name": "python"
    },
    "widgets": {
      "application/vnd.jupyter.widget-state+json": {
        "677f38eca37146c6925e8bb37b49a6c7": {
          "model_module": "@jupyter-widgets/controls",
          "model_name": "VBoxModel",
          "state": {
            "_view_name": "VBoxView",
            "_dom_classes": [
              "widget-interact"
            ],
            "_model_name": "VBoxModel",
            "_view_module": "@jupyter-widgets/controls",
            "_model_module_version": "1.5.0",
            "_view_count": null,
            "_view_module_version": "1.5.0",
            "box_style": "",
            "layout": "IPY_MODEL_a4e4fd25e3ac414baf44423d5884a470",
            "_model_module": "@jupyter-widgets/controls",
            "children": [
              "IPY_MODEL_5f2570e2a633475eae4c95231dd5db3a",
              "IPY_MODEL_6940dde276ff4a36b7565bca2c6fa162",
              "IPY_MODEL_e97be840972b4bf38062b0f6c04a35f5"
            ]
          }
        },
        "a4e4fd25e3ac414baf44423d5884a470": {
          "model_module": "@jupyter-widgets/base",
          "model_name": "LayoutModel",
          "state": {
            "_view_name": "LayoutView",
            "grid_template_rows": null,
            "right": null,
            "justify_content": null,
            "_view_module": "@jupyter-widgets/base",
            "overflow": null,
            "_model_module_version": "1.2.0",
            "_view_count": null,
            "flex_flow": null,
            "width": null,
            "min_width": null,
            "border": null,
            "align_items": null,
            "bottom": null,
            "_model_module": "@jupyter-widgets/base",
            "top": null,
            "grid_column": null,
            "overflow_y": null,
            "overflow_x": null,
            "grid_auto_flow": null,
            "grid_area": null,
            "grid_template_columns": null,
            "flex": null,
            "_model_name": "LayoutModel",
            "justify_items": null,
            "grid_row": null,
            "max_height": null,
            "align_content": null,
            "visibility": null,
            "align_self": null,
            "height": null,
            "min_height": null,
            "padding": null,
            "grid_auto_rows": null,
            "grid_gap": null,
            "max_width": null,
            "order": null,
            "_view_module_version": "1.2.0",
            "grid_template_areas": null,
            "object_position": null,
            "object_fit": null,
            "grid_auto_columns": null,
            "margin": null,
            "display": null,
            "left": null
          }
        },
        "5f2570e2a633475eae4c95231dd5db3a": {
          "model_module": "@jupyter-widgets/controls",
          "model_name": "DropdownModel",
          "state": {
            "_options_labels": [
              "unit step",
              "unit impulse",
              "ramp",
              "exponential",
              "sinus",
              "sinus squared"
            ],
            "_view_name": "DropdownView",
            "style": "IPY_MODEL_4c1eaed9bc9b42be8895510eab61994b",
            "_dom_classes": [],
            "description": "signal type",
            "_model_name": "DropdownModel",
            "index": 4,
            "_view_module": "@jupyter-widgets/controls",
            "_model_module_version": "1.5.0",
            "_view_count": null,
            "disabled": false,
            "_view_module_version": "1.5.0",
            "description_tooltip": null,
            "_model_module": "@jupyter-widgets/controls",
            "layout": "IPY_MODEL_25c8d9b850334a5dbdc741b79a5ab86d"
          }
        },
        "6940dde276ff4a36b7565bca2c6fa162": {
          "model_module": "@jupyter-widgets/controls",
          "model_name": "IntSliderModel",
          "state": {
            "_view_name": "IntSliderView",
            "style": "IPY_MODEL_0d33e925ac4a49b580db46e5daeb864c",
            "_dom_classes": [],
            "description": "parameter",
            "step": 1,
            "_model_name": "IntSliderModel",
            "orientation": "horizontal",
            "max": 10,
            "_view_module": "@jupyter-widgets/controls",
            "_model_module_version": "1.5.0",
            "value": 1,
            "_view_count": null,
            "disabled": false,
            "_view_module_version": "1.5.0",
            "min": -10,
            "continuous_update": true,
            "readout_format": "d",
            "description_tooltip": null,
            "readout": true,
            "_model_module": "@jupyter-widgets/controls",
            "layout": "IPY_MODEL_8e60fc1811d84a7a8e9e5827d5a927ff"
          }
        },
        "e97be840972b4bf38062b0f6c04a35f5": {
          "model_module": "@jupyter-widgets/output",
          "model_name": "OutputModel",
          "state": {
            "_view_name": "OutputView",
            "msg_id": "",
            "_dom_classes": [],
            "_model_name": "OutputModel",
            "outputs": [],
            "_view_module": "@jupyter-widgets/output",
            "_model_module_version": "1.0.0",
            "_view_count": null,
            "_view_module_version": "1.0.0",
            "layout": "IPY_MODEL_aa7e338e6291485397467826725ad9c4",
            "_model_module": "@jupyter-widgets/output"
          }
        },
        "4c1eaed9bc9b42be8895510eab61994b": {
          "model_module": "@jupyter-widgets/controls",
          "model_name": "DescriptionStyleModel",
          "state": {
            "_view_name": "StyleView",
            "_model_name": "DescriptionStyleModel",
            "description_width": "",
            "_view_module": "@jupyter-widgets/base",
            "_model_module_version": "1.5.0",
            "_view_count": null,
            "_view_module_version": "1.2.0",
            "_model_module": "@jupyter-widgets/controls"
          }
        },
        "25c8d9b850334a5dbdc741b79a5ab86d": {
          "model_module": "@jupyter-widgets/base",
          "model_name": "LayoutModel",
          "state": {
            "_view_name": "LayoutView",
            "grid_template_rows": null,
            "right": null,
            "justify_content": null,
            "_view_module": "@jupyter-widgets/base",
            "overflow": null,
            "_model_module_version": "1.2.0",
            "_view_count": null,
            "flex_flow": null,
            "width": null,
            "min_width": null,
            "border": null,
            "align_items": null,
            "bottom": null,
            "_model_module": "@jupyter-widgets/base",
            "top": null,
            "grid_column": null,
            "overflow_y": null,
            "overflow_x": null,
            "grid_auto_flow": null,
            "grid_area": null,
            "grid_template_columns": null,
            "flex": null,
            "_model_name": "LayoutModel",
            "justify_items": null,
            "grid_row": null,
            "max_height": null,
            "align_content": null,
            "visibility": null,
            "align_self": null,
            "height": null,
            "min_height": null,
            "padding": null,
            "grid_auto_rows": null,
            "grid_gap": null,
            "max_width": null,
            "order": null,
            "_view_module_version": "1.2.0",
            "grid_template_areas": null,
            "object_position": null,
            "object_fit": null,
            "grid_auto_columns": null,
            "margin": null,
            "display": null,
            "left": null
          }
        },
        "0d33e925ac4a49b580db46e5daeb864c": {
          "model_module": "@jupyter-widgets/controls",
          "model_name": "SliderStyleModel",
          "state": {
            "_view_name": "StyleView",
            "handle_color": null,
            "_model_name": "SliderStyleModel",
            "description_width": "",
            "_view_module": "@jupyter-widgets/base",
            "_model_module_version": "1.5.0",
            "_view_count": null,
            "_view_module_version": "1.2.0",
            "_model_module": "@jupyter-widgets/controls"
          }
        },
        "8e60fc1811d84a7a8e9e5827d5a927ff": {
          "model_module": "@jupyter-widgets/base",
          "model_name": "LayoutModel",
          "state": {
            "_view_name": "LayoutView",
            "grid_template_rows": null,
            "right": null,
            "justify_content": null,
            "_view_module": "@jupyter-widgets/base",
            "overflow": null,
            "_model_module_version": "1.2.0",
            "_view_count": null,
            "flex_flow": null,
            "width": null,
            "min_width": null,
            "border": null,
            "align_items": null,
            "bottom": null,
            "_model_module": "@jupyter-widgets/base",
            "top": null,
            "grid_column": null,
            "overflow_y": null,
            "overflow_x": null,
            "grid_auto_flow": null,
            "grid_area": null,
            "grid_template_columns": null,
            "flex": null,
            "_model_name": "LayoutModel",
            "justify_items": null,
            "grid_row": null,
            "max_height": null,
            "align_content": null,
            "visibility": null,
            "align_self": null,
            "height": null,
            "min_height": null,
            "padding": null,
            "grid_auto_rows": null,
            "grid_gap": null,
            "max_width": null,
            "order": null,
            "_view_module_version": "1.2.0",
            "grid_template_areas": null,
            "object_position": null,
            "object_fit": null,
            "grid_auto_columns": null,
            "margin": null,
            "display": null,
            "left": null
          }
        },
        "aa7e338e6291485397467826725ad9c4": {
          "model_module": "@jupyter-widgets/base",
          "model_name": "LayoutModel",
          "state": {
            "_view_name": "LayoutView",
            "grid_template_rows": null,
            "right": null,
            "justify_content": null,
            "_view_module": "@jupyter-widgets/base",
            "overflow": null,
            "_model_module_version": "1.2.0",
            "_view_count": null,
            "flex_flow": null,
            "width": null,
            "min_width": null,
            "border": null,
            "align_items": null,
            "bottom": null,
            "_model_module": "@jupyter-widgets/base",
            "top": null,
            "grid_column": null,
            "overflow_y": null,
            "overflow_x": null,
            "grid_auto_flow": null,
            "grid_area": null,
            "grid_template_columns": null,
            "flex": null,
            "_model_name": "LayoutModel",
            "justify_items": null,
            "grid_row": null,
            "max_height": null,
            "align_content": null,
            "visibility": null,
            "align_self": null,
            "height": null,
            "min_height": null,
            "padding": null,
            "grid_auto_rows": null,
            "grid_gap": null,
            "max_width": null,
            "order": null,
            "_view_module_version": "1.2.0",
            "grid_template_areas": null,
            "object_position": null,
            "object_fit": null,
            "grid_auto_columns": null,
            "margin": null,
            "display": null,
            "left": null
          }
        },
        "e4480d7ceb6a42e99808b35088d255a1": {
          "model_module": "@jupyter-widgets/controls",
          "model_name": "VBoxModel",
          "state": {
            "_view_name": "VBoxView",
            "_dom_classes": [
              "widget-interact"
            ],
            "_model_name": "VBoxModel",
            "_view_module": "@jupyter-widgets/controls",
            "_model_module_version": "1.5.0",
            "_view_count": null,
            "_view_module_version": "1.5.0",
            "box_style": "",
            "layout": "IPY_MODEL_1c73884f6150411994b36f81abd1d031",
            "_model_module": "@jupyter-widgets/controls",
            "children": [
              "IPY_MODEL_413e2a4065434def830b2c886896289e",
              "IPY_MODEL_3f65dafb4487475e9ce3fffbda475fe9",
              "IPY_MODEL_bbbd0a03a51a42f5862f0c6224f073cd"
            ]
          }
        },
        "1c73884f6150411994b36f81abd1d031": {
          "model_module": "@jupyter-widgets/base",
          "model_name": "LayoutModel",
          "state": {
            "_view_name": "LayoutView",
            "grid_template_rows": null,
            "right": null,
            "justify_content": null,
            "_view_module": "@jupyter-widgets/base",
            "overflow": null,
            "_model_module_version": "1.2.0",
            "_view_count": null,
            "flex_flow": null,
            "width": null,
            "min_width": null,
            "border": null,
            "align_items": null,
            "bottom": null,
            "_model_module": "@jupyter-widgets/base",
            "top": null,
            "grid_column": null,
            "overflow_y": null,
            "overflow_x": null,
            "grid_auto_flow": null,
            "grid_area": null,
            "grid_template_columns": null,
            "flex": null,
            "_model_name": "LayoutModel",
            "justify_items": null,
            "grid_row": null,
            "max_height": null,
            "align_content": null,
            "visibility": null,
            "align_self": null,
            "height": null,
            "min_height": null,
            "padding": null,
            "grid_auto_rows": null,
            "grid_gap": null,
            "max_width": null,
            "order": null,
            "_view_module_version": "1.2.0",
            "grid_template_areas": null,
            "object_position": null,
            "object_fit": null,
            "grid_auto_columns": null,
            "margin": null,
            "display": null,
            "left": null
          }
        },
        "413e2a4065434def830b2c886896289e": {
          "model_module": "@jupyter-widgets/controls",
          "model_name": "DropdownModel",
          "state": {
            "_options_labels": [
              "low pass",
              "high pass",
              "band pass",
              "all pass",
              "no pass"
            ],
            "_view_name": "DropdownView",
            "style": "IPY_MODEL_5cbce14a12dc4e1d9947a3ca8dbb7c86",
            "_dom_classes": [],
            "description": "filter type",
            "_model_name": "DropdownModel",
            "index": 0,
            "_view_module": "@jupyter-widgets/controls",
            "_model_module_version": "1.5.0",
            "_view_count": null,
            "disabled": false,
            "_view_module_version": "1.5.0",
            "description_tooltip": null,
            "_model_module": "@jupyter-widgets/controls",
            "layout": "IPY_MODEL_088dd6d1e35c472e92b070689cb1a922"
          }
        },
        "3f65dafb4487475e9ce3fffbda475fe9": {
          "model_module": "@jupyter-widgets/controls",
          "model_name": "FloatSliderModel",
          "state": {
            "_view_name": "FloatSliderView",
            "style": "IPY_MODEL_d40609c074ef4e38bd335ccf27a81f7c",
            "_dom_classes": [],
            "description": "cut off",
            "step": 0.1,
            "_model_name": "FloatSliderModel",
            "orientation": "horizontal",
            "max": 3.141592653589793,
            "_view_module": "@jupyter-widgets/controls",
            "_model_module_version": "1.5.0",
            "value": 1.5707963267948966,
            "_view_count": null,
            "disabled": false,
            "_view_module_version": "1.5.0",
            "min": 0,
            "continuous_update": true,
            "readout_format": ".2f",
            "description_tooltip": null,
            "readout": true,
            "_model_module": "@jupyter-widgets/controls",
            "layout": "IPY_MODEL_37464e7894a544168246e3479944d2f8"
          }
        },
        "bbbd0a03a51a42f5862f0c6224f073cd": {
          "model_module": "@jupyter-widgets/output",
          "model_name": "OutputModel",
          "state": {
            "_view_name": "OutputView",
            "msg_id": "",
            "_dom_classes": [],
            "_model_name": "OutputModel",
            "outputs": [],
            "_view_module": "@jupyter-widgets/output",
            "_model_module_version": "1.0.0",
            "_view_count": null,
            "_view_module_version": "1.0.0",
            "layout": "IPY_MODEL_ea4a35f198a149f8bff3c7441d329525",
            "_model_module": "@jupyter-widgets/output"
          }
        },
        "5cbce14a12dc4e1d9947a3ca8dbb7c86": {
          "model_module": "@jupyter-widgets/controls",
          "model_name": "DescriptionStyleModel",
          "state": {
            "_view_name": "StyleView",
            "_model_name": "DescriptionStyleModel",
            "description_width": "",
            "_view_module": "@jupyter-widgets/base",
            "_model_module_version": "1.5.0",
            "_view_count": null,
            "_view_module_version": "1.2.0",
            "_model_module": "@jupyter-widgets/controls"
          }
        },
        "088dd6d1e35c472e92b070689cb1a922": {
          "model_module": "@jupyter-widgets/base",
          "model_name": "LayoutModel",
          "state": {
            "_view_name": "LayoutView",
            "grid_template_rows": null,
            "right": null,
            "justify_content": null,
            "_view_module": "@jupyter-widgets/base",
            "overflow": null,
            "_model_module_version": "1.2.0",
            "_view_count": null,
            "flex_flow": null,
            "width": null,
            "min_width": null,
            "border": null,
            "align_items": null,
            "bottom": null,
            "_model_module": "@jupyter-widgets/base",
            "top": null,
            "grid_column": null,
            "overflow_y": null,
            "overflow_x": null,
            "grid_auto_flow": null,
            "grid_area": null,
            "grid_template_columns": null,
            "flex": null,
            "_model_name": "LayoutModel",
            "justify_items": null,
            "grid_row": null,
            "max_height": null,
            "align_content": null,
            "visibility": null,
            "align_self": null,
            "height": null,
            "min_height": null,
            "padding": null,
            "grid_auto_rows": null,
            "grid_gap": null,
            "max_width": null,
            "order": null,
            "_view_module_version": "1.2.0",
            "grid_template_areas": null,
            "object_position": null,
            "object_fit": null,
            "grid_auto_columns": null,
            "margin": null,
            "display": null,
            "left": null
          }
        },
        "d40609c074ef4e38bd335ccf27a81f7c": {
          "model_module": "@jupyter-widgets/controls",
          "model_name": "SliderStyleModel",
          "state": {
            "_view_name": "StyleView",
            "handle_color": null,
            "_model_name": "SliderStyleModel",
            "description_width": "",
            "_view_module": "@jupyter-widgets/base",
            "_model_module_version": "1.5.0",
            "_view_count": null,
            "_view_module_version": "1.2.0",
            "_model_module": "@jupyter-widgets/controls"
          }
        },
        "37464e7894a544168246e3479944d2f8": {
          "model_module": "@jupyter-widgets/base",
          "model_name": "LayoutModel",
          "state": {
            "_view_name": "LayoutView",
            "grid_template_rows": null,
            "right": null,
            "justify_content": null,
            "_view_module": "@jupyter-widgets/base",
            "overflow": null,
            "_model_module_version": "1.2.0",
            "_view_count": null,
            "flex_flow": null,
            "width": null,
            "min_width": null,
            "border": null,
            "align_items": null,
            "bottom": null,
            "_model_module": "@jupyter-widgets/base",
            "top": null,
            "grid_column": null,
            "overflow_y": null,
            "overflow_x": null,
            "grid_auto_flow": null,
            "grid_area": null,
            "grid_template_columns": null,
            "flex": null,
            "_model_name": "LayoutModel",
            "justify_items": null,
            "grid_row": null,
            "max_height": null,
            "align_content": null,
            "visibility": null,
            "align_self": null,
            "height": null,
            "min_height": null,
            "padding": null,
            "grid_auto_rows": null,
            "grid_gap": null,
            "max_width": null,
            "order": null,
            "_view_module_version": "1.2.0",
            "grid_template_areas": null,
            "object_position": null,
            "object_fit": null,
            "grid_auto_columns": null,
            "margin": null,
            "display": null,
            "left": null
          }
        },
        "ea4a35f198a149f8bff3c7441d329525": {
          "model_module": "@jupyter-widgets/base",
          "model_name": "LayoutModel",
          "state": {
            "_view_name": "LayoutView",
            "grid_template_rows": null,
            "right": null,
            "justify_content": null,
            "_view_module": "@jupyter-widgets/base",
            "overflow": null,
            "_model_module_version": "1.2.0",
            "_view_count": null,
            "flex_flow": null,
            "width": null,
            "min_width": null,
            "border": null,
            "align_items": null,
            "bottom": null,
            "_model_module": "@jupyter-widgets/base",
            "top": null,
            "grid_column": null,
            "overflow_y": null,
            "overflow_x": null,
            "grid_auto_flow": null,
            "grid_area": null,
            "grid_template_columns": null,
            "flex": null,
            "_model_name": "LayoutModel",
            "justify_items": null,
            "grid_row": null,
            "max_height": null,
            "align_content": null,
            "visibility": null,
            "align_self": null,
            "height": null,
            "min_height": null,
            "padding": null,
            "grid_auto_rows": null,
            "grid_gap": null,
            "max_width": null,
            "order": null,
            "_view_module_version": "1.2.0",
            "grid_template_areas": null,
            "object_position": null,
            "object_fit": null,
            "grid_auto_columns": null,
            "margin": null,
            "display": null,
            "left": null
          }
        },
        "915df629079d4822ad942cd6722a0a73": {
          "model_module": "@jupyter-widgets/controls",
          "model_name": "VBoxModel",
          "state": {
            "_view_name": "VBoxView",
            "_dom_classes": [
              "widget-interact"
            ],
            "_model_name": "VBoxModel",
            "_view_module": "@jupyter-widgets/controls",
            "_model_module_version": "1.5.0",
            "_view_count": null,
            "_view_module_version": "1.5.0",
            "box_style": "",
            "layout": "IPY_MODEL_b12c1dd1064b427cbbb801f035b92253",
            "_model_module": "@jupyter-widgets/controls",
            "children": [
              "IPY_MODEL_9817485a6b184bbf89ed70292b4cae04",
              "IPY_MODEL_a13ca96c76424e63859a0d82c5bc2614",
              "IPY_MODEL_57a717ffc61b4f51a27049645d1078bc"
            ]
          }
        },
        "b12c1dd1064b427cbbb801f035b92253": {
          "model_module": "@jupyter-widgets/base",
          "model_name": "LayoutModel",
          "state": {
            "_view_name": "LayoutView",
            "grid_template_rows": null,
            "right": null,
            "justify_content": null,
            "_view_module": "@jupyter-widgets/base",
            "overflow": null,
            "_model_module_version": "1.2.0",
            "_view_count": null,
            "flex_flow": null,
            "width": null,
            "min_width": null,
            "border": null,
            "align_items": null,
            "bottom": null,
            "_model_module": "@jupyter-widgets/base",
            "top": null,
            "grid_column": null,
            "overflow_y": null,
            "overflow_x": null,
            "grid_auto_flow": null,
            "grid_area": null,
            "grid_template_columns": null,
            "flex": null,
            "_model_name": "LayoutModel",
            "justify_items": null,
            "grid_row": null,
            "max_height": null,
            "align_content": null,
            "visibility": null,
            "align_self": null,
            "height": null,
            "min_height": null,
            "padding": null,
            "grid_auto_rows": null,
            "grid_gap": null,
            "max_width": null,
            "order": null,
            "_view_module_version": "1.2.0",
            "grid_template_areas": null,
            "object_position": null,
            "object_fit": null,
            "grid_auto_columns": null,
            "margin": null,
            "display": null,
            "left": null
          }
        },
        "9817485a6b184bbf89ed70292b4cae04": {
          "model_module": "@jupyter-widgets/controls",
          "model_name": "FloatSliderModel",
          "state": {
            "_view_name": "FloatSliderView",
            "style": "IPY_MODEL_fadcd9ca8f3f4d81adf8fbc96ca782fa",
            "_dom_classes": [],
            "description": "sigma",
            "step": 0.1,
            "_model_name": "FloatSliderModel",
            "orientation": "horizontal",
            "max": 10,
            "_view_module": "@jupyter-widgets/controls",
            "_model_module_version": "1.5.0",
            "value": 1,
            "_view_count": null,
            "disabled": false,
            "_view_module_version": "1.5.0",
            "min": 0.01,
            "continuous_update": true,
            "readout_format": ".2f",
            "description_tooltip": null,
            "readout": true,
            "_model_module": "@jupyter-widgets/controls",
            "layout": "IPY_MODEL_5452b56c5ca74b76bc465e1567ea4c3c"
          }
        },
        "a13ca96c76424e63859a0d82c5bc2614": {
          "model_module": "@jupyter-widgets/controls",
          "model_name": "CheckboxModel",
          "state": {
            "_view_name": "CheckboxView",
            "style": "IPY_MODEL_16b37fdf33cc43468fb330fe50f45fc8",
            "_dom_classes": [],
            "description": "logarithmic plot",
            "_model_name": "CheckboxModel",
            "_view_module": "@jupyter-widgets/controls",
            "_model_module_version": "1.5.0",
            "value": false,
            "_view_count": null,
            "disabled": false,
            "_view_module_version": "1.5.0",
            "indent": true,
            "description_tooltip": null,
            "_model_module": "@jupyter-widgets/controls",
            "layout": "IPY_MODEL_47c501b0eb594317827e56e311bed4a7"
          }
        },
        "57a717ffc61b4f51a27049645d1078bc": {
          "model_module": "@jupyter-widgets/output",
          "model_name": "OutputModel",
          "state": {
            "_view_name": "OutputView",
            "msg_id": "",
            "_dom_classes": [],
            "_model_name": "OutputModel",
            "outputs": [],
            "_view_module": "@jupyter-widgets/output",
            "_model_module_version": "1.0.0",
            "_view_count": null,
            "_view_module_version": "1.0.0",
            "layout": "IPY_MODEL_a3e8dec699e44b5cb5489f924534f84a",
            "_model_module": "@jupyter-widgets/output"
          }
        },
        "fadcd9ca8f3f4d81adf8fbc96ca782fa": {
          "model_module": "@jupyter-widgets/controls",
          "model_name": "SliderStyleModel",
          "state": {
            "_view_name": "StyleView",
            "handle_color": null,
            "_model_name": "SliderStyleModel",
            "description_width": "",
            "_view_module": "@jupyter-widgets/base",
            "_model_module_version": "1.5.0",
            "_view_count": null,
            "_view_module_version": "1.2.0",
            "_model_module": "@jupyter-widgets/controls"
          }
        },
        "5452b56c5ca74b76bc465e1567ea4c3c": {
          "model_module": "@jupyter-widgets/base",
          "model_name": "LayoutModel",
          "state": {
            "_view_name": "LayoutView",
            "grid_template_rows": null,
            "right": null,
            "justify_content": null,
            "_view_module": "@jupyter-widgets/base",
            "overflow": null,
            "_model_module_version": "1.2.0",
            "_view_count": null,
            "flex_flow": null,
            "width": null,
            "min_width": null,
            "border": null,
            "align_items": null,
            "bottom": null,
            "_model_module": "@jupyter-widgets/base",
            "top": null,
            "grid_column": null,
            "overflow_y": null,
            "overflow_x": null,
            "grid_auto_flow": null,
            "grid_area": null,
            "grid_template_columns": null,
            "flex": null,
            "_model_name": "LayoutModel",
            "justify_items": null,
            "grid_row": null,
            "max_height": null,
            "align_content": null,
            "visibility": null,
            "align_self": null,
            "height": null,
            "min_height": null,
            "padding": null,
            "grid_auto_rows": null,
            "grid_gap": null,
            "max_width": null,
            "order": null,
            "_view_module_version": "1.2.0",
            "grid_template_areas": null,
            "object_position": null,
            "object_fit": null,
            "grid_auto_columns": null,
            "margin": null,
            "display": null,
            "left": null
          }
        },
        "16b37fdf33cc43468fb330fe50f45fc8": {
          "model_module": "@jupyter-widgets/controls",
          "model_name": "DescriptionStyleModel",
          "state": {
            "_view_name": "StyleView",
            "_model_name": "DescriptionStyleModel",
            "description_width": "",
            "_view_module": "@jupyter-widgets/base",
            "_model_module_version": "1.5.0",
            "_view_count": null,
            "_view_module_version": "1.2.0",
            "_model_module": "@jupyter-widgets/controls"
          }
        },
        "47c501b0eb594317827e56e311bed4a7": {
          "model_module": "@jupyter-widgets/base",
          "model_name": "LayoutModel",
          "state": {
            "_view_name": "LayoutView",
            "grid_template_rows": null,
            "right": null,
            "justify_content": null,
            "_view_module": "@jupyter-widgets/base",
            "overflow": null,
            "_model_module_version": "1.2.0",
            "_view_count": null,
            "flex_flow": null,
            "width": null,
            "min_width": null,
            "border": null,
            "align_items": null,
            "bottom": null,
            "_model_module": "@jupyter-widgets/base",
            "top": null,
            "grid_column": null,
            "overflow_y": null,
            "overflow_x": null,
            "grid_auto_flow": null,
            "grid_area": null,
            "grid_template_columns": null,
            "flex": null,
            "_model_name": "LayoutModel",
            "justify_items": null,
            "grid_row": null,
            "max_height": null,
            "align_content": null,
            "visibility": null,
            "align_self": null,
            "height": null,
            "min_height": null,
            "padding": null,
            "grid_auto_rows": null,
            "grid_gap": null,
            "max_width": null,
            "order": null,
            "_view_module_version": "1.2.0",
            "grid_template_areas": null,
            "object_position": null,
            "object_fit": null,
            "grid_auto_columns": null,
            "margin": null,
            "display": null,
            "left": null
          }
        },
        "a3e8dec699e44b5cb5489f924534f84a": {
          "model_module": "@jupyter-widgets/base",
          "model_name": "LayoutModel",
          "state": {
            "_view_name": "LayoutView",
            "grid_template_rows": null,
            "right": null,
            "justify_content": null,
            "_view_module": "@jupyter-widgets/base",
            "overflow": null,
            "_model_module_version": "1.2.0",
            "_view_count": null,
            "flex_flow": null,
            "width": null,
            "min_width": null,
            "border": null,
            "align_items": null,
            "bottom": null,
            "_model_module": "@jupyter-widgets/base",
            "top": null,
            "grid_column": null,
            "overflow_y": null,
            "overflow_x": null,
            "grid_auto_flow": null,
            "grid_area": null,
            "grid_template_columns": null,
            "flex": null,
            "_model_name": "LayoutModel",
            "justify_items": null,
            "grid_row": null,
            "max_height": null,
            "align_content": null,
            "visibility": null,
            "align_self": null,
            "height": null,
            "min_height": null,
            "padding": null,
            "grid_auto_rows": null,
            "grid_gap": null,
            "max_width": null,
            "order": null,
            "_view_module_version": "1.2.0",
            "grid_template_areas": null,
            "object_position": null,
            "object_fit": null,
            "grid_auto_columns": null,
            "margin": null,
            "display": null,
            "left": null
          }
        }
      }
    }
  },
  "cells": [
    {
      "cell_type": "markdown",
      "metadata": {
        "id": "view-in-github",
        "colab_type": "text"
      },
      "source": [
        "<a href=\"https://colab.research.google.com/github/dssp-ethz/DSSP-Illustrations/blob/main/Inversion_of_a_linear_filter_with_noise.ipynb\" target=\"_parent\"><img src=\"https://colab.research.google.com/assets/colab-badge.svg\" alt=\"Open In Colab\"/></a>"
      ]
    },
    {
      "cell_type": "markdown",
      "metadata": {
        "id": "Hhi3_Cfh82o_"
      },
      "source": [
        "# Robust Inversion"
      ]
    },
    {
      "cell_type": "markdown",
      "metadata": {
        "id": "FUvzfmDe-z6c"
      },
      "source": [
        "Let $y[\\cdot] = (u * h)[\\cdot] + w [\\cdot]$ where $h[\\cdot]$ is the impulse response of a stable filter and $w[\\cdot]$ some disturbance. We wish to reconstruct $u[\\cdot]$ with a linear filter, i.e. $\\hat{u}[\\cdot] = (y * g)[\\cdot] = ((u * h) * g)[\\cdot] + (w * g) [\\cdot]$. Now $g$ should be constructed such that it inverts $h$, but does not amplify the noise $w$. We propose in the frequency domain\n",
        "$$G(z) = \\frac{H^c(z)}{H(z)H^c(z) + \\sigma^2}$$\n",
        "with $\\sigma > 0$ a parameter surpressing noise. Frequencies where $H(e^{i\\Omega})$ is large are almost ideally reversed ($\\sigma \\ll |H(e^{i\\Omega})|^2$) whereas for frequencies that are removed by the filter $h$ the inversion does not try to reconstruct their content since it likely stems from noise."
      ]
    },
    {
      "cell_type": "code",
      "metadata": {
        "colab": {
          "base_uri": "https://localhost:8080/"
        },
        "id": "kLtgiOtiYbHC",
        "outputId": "d9b604c1-2ddf-4cda-84cd-192a002757cc"
      },
      "source": [
        "pip install pydsm"
      ],
      "execution_count": 19,
      "outputs": [
        {
          "output_type": "stream",
          "text": [
            "Requirement already satisfied: pydsm in /usr/local/lib/python3.7/dist-packages (0.14.0.0)\n"
          ],
          "name": "stdout"
        }
      ]
    },
    {
      "cell_type": "code",
      "metadata": {
        "colab": {
          "base_uri": "https://localhost:8080/"
        },
        "id": "wIra2N3JU_GR",
        "outputId": "79dd0001-3a90-44fb-98a7-9a298947ed19"
      },
      "source": [
        "!gdown https://drive.google.com/uc?id=1-nxgfNaJPeB88X_kE5T2xDqiGI5T2I1u\n",
        "!gdown https://drive.google.com/uc?id=1937_NrN8dHRPEsAamOn7v6hBSWG1cwzt"
      ],
      "execution_count": 20,
      "outputs": [
        {
          "output_type": "stream",
          "text": [
            "Downloading...\n",
            "From: https://drive.google.com/uc?id=1-nxgfNaJPeB88X_kE5T2xDqiGI5T2I1u\n",
            "To: /content/signals.py\n",
            "100% 5.55k/5.55k [00:00<00:00, 9.05MB/s]\n",
            "Downloading...\n",
            "From: https://drive.google.com/uc?id=1937_NrN8dHRPEsAamOn7v6hBSWG1cwzt\n",
            "To: /content/filters.py\n",
            "100% 1.90k/1.90k [00:00<00:00, 3.46MB/s]\n"
          ],
          "name": "stdout"
        }
      ]
    },
    {
      "cell_type": "code",
      "metadata": {
        "id": "-ppEAxkD80RF"
      },
      "source": [
        "import ipywidgets as widgets\n",
        "import numpy as np\n",
        "import matplotlib.pyplot as plt\n",
        "%matplotlib inline\n",
        "from pydsm.ft import idtft\n",
        "import signals\n",
        "import filters\n",
        "#-------------------------------------------------------------------------------\n",
        "\n",
        "sigmaG = 1\n",
        "\n",
        "logPlotG = False\n",
        "\n",
        "#Important Stuff\n",
        "################################################################################\n",
        "\n",
        "#filter h\n",
        "def h(t):\n",
        "  return np.real(idtft(filters.H, t, fs = 2*np.pi)) #sets f_s such that f=Omega\n",
        "\n",
        "#robust inversion filter G\n",
        "def G(Omega):\n",
        "  return np.conjugate(filters.H(Omega))/(np.abs(filters.H(Omega))**2 + sigmaG**2)\n",
        "\n",
        "#filter g\n",
        "def g(t):\n",
        "  return np.real(idtft(G, t, fs = 2*np.pi)) #sets f_s such that f=Omega\n",
        "\n",
        "#noise\n",
        "def w(t):\n",
        "  return np.random.normal(0,0.05,1)[0]\n",
        "\n",
        "#received signal\n",
        "def y():\n",
        "  #convolution in computer is finite. Restrict signals (and filters) to nG to be able to perform computations.\n",
        "  u_ = signals.time_domain_signal_long()\n",
        "  h_ = [h(t) for t in signals.nG]\n",
        "  w_ = [w(t) for t in np.arange(4*signals.nG.size-1)] #result of convolution has dimension (N+M-1) i.e. (nG.size+nG.size-1) = 2*nG.size-1\n",
        "  r_ = np.convolve(u_,h_) + w_\n",
        "  delta = len(r_) - len(u_)\n",
        "  return r_[delta//2: -delta//2]\n",
        "\n",
        "#estimation\n",
        "def u_hat():\n",
        "  #convolution in computer is finite. Restrict signals (and filters) to nG to be able to perform computations.\n",
        "  y_ = y()\n",
        "  g_ = [g(t) for t in signals.nG]\n",
        "  r_ =  np.convolve(y_, g_)\n",
        "  delta = len(r_) - len(y_)\n",
        "  return r_[delta//2: -delta//2]\n",
        "################################################################################\n",
        "\n",
        "#drawing plots\n",
        "def plot():\n",
        "  Omega_values = np.linspace(-np.pi, np.pi, 200)\n",
        "  H_values = [filters.H(Omega) for Omega in Omega_values]\n",
        "  G_values = [G(Omega) for Omega in Omega_values]\n",
        "\n",
        "  fig = plt.figure(figsize=(20, 8))\n",
        "\n",
        "  ax1 = fig.add_subplot(1, 2, 1)\n",
        "  ax1.grid()\n",
        "  ax1.set_xlabel('$\\Omega$', fontsize=14)\n",
        "  ax1.set_ylabel('$H(e^{i\\Omega})$', fontsize=14)\n",
        "  if logPlotG == False:\n",
        "    ax1.axis(xmin=Omega_values[0], xmax=Omega_values[-1], ymin=0, ymax=1.5)\n",
        "    ax1.plot(Omega_values, H_values, alpha=0.5);\n",
        "  else:\n",
        "    ax1.axis(xmin=Omega_values[0], xmax=Omega_values[-1], ymin = 0.1, ymax = 1.5)\n",
        "    ax1.semilogy(Omega_values, H_values, alpha=0.5);\n",
        "\n",
        "  ax2 = fig.add_subplot(1, 2, 2)\n",
        "  ax2.grid()\n",
        "  ax2.set_xlabel('$\\Omega$', fontsize=14)\n",
        "  ax2.set_ylabel('$G(e^{i\\Omega})$', fontsize=14)\n",
        "  if logPlotG == False:\n",
        "    ax2.axis(xmin=Omega_values[0], xmax=Omega_values[-1], ymin=0, ymax=1.5)\n",
        "    ax2.plot(Omega_values, G_values, alpha=0.5);\n",
        "  else:\n",
        "    ax2.axis(xmin=Omega_values[0], xmax=Omega_values[-1], ymin = 0.1, ymax = 1.5)\n",
        "    ax2.semilogy(Omega_values, G_values, alpha=0.5);\n",
        "\n",
        "def plot_time():\n",
        "  t1_values = np.arange(3*np.min(signals.nG), 3*np.max(signals.nG)+3)\n",
        "  u_values = signals.time_domain_signal_long()\n",
        "  t2_values = np.arange(3*np.min(signals.nG), 3*np.max(signals.nG)+3)\n",
        "  y_values = y()\n",
        "  t3_values = np.arange(3*np.min(signals.nG), 3*np.max(signals.nG)+3)\n",
        "  u_hat_values = u_hat()\n",
        "\n",
        "\n",
        "  fig = plt.figure(figsize=(20, 8))\n",
        "\n",
        "  ax1 = fig.add_subplot(1, 3, 1)\n",
        "  ax1.grid()\n",
        "  ax1.set_xlabel('$k$', fontsize=14)\n",
        "  ax1.set_ylabel('$u[k]$', fontsize=14)\n",
        "  ax1.axis(xmin=t1_values[0], xmax=t1_values[-1])\n",
        "  if logPlotG == False:\n",
        "    ax1.axis(ymin=-3, ymax=3)\n",
        "    ax1.plot(t1_values, u_values, alpha=0.5, marker='o', markersize=8);\n",
        "  else:\n",
        "    ax1.axis(ymin=0.1, ymax=3)\n",
        "    ax1.semilogy(t1_values, u_values, alpha=0.5, marker='o', markersize=8);\n",
        "\n",
        "  ax2 = fig.add_subplot(1, 3, 2)\n",
        "  ax2.grid()\n",
        "  ax2.set_xlabel('$k$', fontsize=14)\n",
        "  ax2.set_ylabel('$y[k]$', fontsize=14)\n",
        "  ax2.axis(xmin=t2_values[0], xmax=t2_values[-1])\n",
        "  if logPlotG == False:\n",
        "    ax2.axis(ymin=-3, ymax=3)\n",
        "    ax2.plot(t2_values, y_values, alpha=0.5, marker='o', markersize=8);\n",
        "  else:\n",
        "    ax2.axis(ymin=0.1, ymax=3)\n",
        "    ax2.semilogy(t2_values, y_values, alpha=0.5, marker='o', markersize=8);\n",
        "\n",
        "  ax3 = fig.add_subplot(1, 3, 3)\n",
        "  ax3.grid()\n",
        "  ax3.set_xlabel('$k$', fontsize=14)\n",
        "  ax3.set_ylabel('$\\hat{u}[k]$', fontsize=14)\n",
        "  ax3.axis(xmin=t3_values[0], xmax=t3_values[-1])\n",
        "  if logPlotG == False:\n",
        "    ax3.axis(ymin=-3, ymax=3)\n",
        "    ax3.plot(t3_values, u_hat_values, alpha=0.5, marker='o', markersize=8);\n",
        "  else:\n",
        "    ax3.axis(ymin=0.1, ymax=3)\n",
        "    ax3.semilogy(t3_values, u_hat_values, alpha=0.5, marker='o', markersize=8);"
      ],
      "execution_count": 21,
      "outputs": []
    },
    {
      "cell_type": "code",
      "metadata": {
        "colab": {
          "base_uri": "https://localhost:8080/",
          "height": 209,
          "referenced_widgets": [
            "677f38eca37146c6925e8bb37b49a6c7",
            "a4e4fd25e3ac414baf44423d5884a470",
            "5f2570e2a633475eae4c95231dd5db3a",
            "6940dde276ff4a36b7565bca2c6fa162",
            "e97be840972b4bf38062b0f6c04a35f5",
            "4c1eaed9bc9b42be8895510eab61994b",
            "25c8d9b850334a5dbdc741b79a5ab86d",
            "0d33e925ac4a49b580db46e5daeb864c",
            "8e60fc1811d84a7a8e9e5827d5a927ff",
            "aa7e338e6291485397467826725ad9c4",
            "e4480d7ceb6a42e99808b35088d255a1",
            "1c73884f6150411994b36f81abd1d031",
            "413e2a4065434def830b2c886896289e",
            "3f65dafb4487475e9ce3fffbda475fe9",
            "bbbd0a03a51a42f5862f0c6224f073cd",
            "5cbce14a12dc4e1d9947a3ca8dbb7c86",
            "088dd6d1e35c472e92b070689cb1a922",
            "d40609c074ef4e38bd335ccf27a81f7c",
            "37464e7894a544168246e3479944d2f8",
            "ea4a35f198a149f8bff3c7441d329525",
            "915df629079d4822ad942cd6722a0a73",
            "b12c1dd1064b427cbbb801f035b92253",
            "9817485a6b184bbf89ed70292b4cae04",
            "a13ca96c76424e63859a0d82c5bc2614",
            "57a717ffc61b4f51a27049645d1078bc",
            "fadcd9ca8f3f4d81adf8fbc96ca782fa",
            "5452b56c5ca74b76bc465e1567ea4c3c",
            "16b37fdf33cc43468fb330fe50f45fc8",
            "47c501b0eb594317827e56e311bed4a7",
            "a3e8dec699e44b5cb5489f924534f84a"
          ]
        },
        "id": "wpVlJeNKX-mQ",
        "outputId": "1150bfaa-462f-40d2-d6bb-eeb752612bea"
      },
      "source": [
        "signals.widget()\n",
        "filters.widget()\n",
        "\n",
        "def update_parameters(sigma, logPlot):\n",
        "  global sigmaG, logPlotG\n",
        "  sigmaG, logPlotG = sigma, logPlot\n",
        "\n",
        "widgets.interact(update_parameters,\n",
        "  sigma = widgets.FloatSlider(\n",
        "    value=1,\n",
        "    min=0.01,\n",
        "    max=10,\n",
        "    description='sigma'),\n",
        "  logPlot = widgets.Checkbox(\n",
        "    value=False,\n",
        "    description='logarithmic plot')\n",
        ");"
      ],
      "execution_count": 22,
      "outputs": [
        {
          "output_type": "display_data",
          "data": {
            "application/vnd.jupyter.widget-view+json": {
              "model_id": "677f38eca37146c6925e8bb37b49a6c7",
              "version_minor": 0,
              "version_major": 2
            },
            "text/plain": [
              "interactive(children=(Dropdown(description='signal type', options=('unit step', 'unit impulse', 'ramp', 'expon…"
            ]
          },
          "metadata": {
            "tags": []
          }
        },
        {
          "output_type": "display_data",
          "data": {
            "application/vnd.jupyter.widget-view+json": {
              "model_id": "e4480d7ceb6a42e99808b35088d255a1",
              "version_minor": 0,
              "version_major": 2
            },
            "text/plain": [
              "interactive(children=(Dropdown(description='filter type', options=('low pass', 'high pass', 'band pass', 'all …"
            ]
          },
          "metadata": {
            "tags": []
          }
        },
        {
          "output_type": "display_data",
          "data": {
            "application/vnd.jupyter.widget-view+json": {
              "model_id": "915df629079d4822ad942cd6722a0a73",
              "version_minor": 0,
              "version_major": 2
            },
            "text/plain": [
              "interactive(children=(FloatSlider(value=1.0, description='sigma', max=10.0, min=0.01), Checkbox(value=False, d…"
            ]
          },
          "metadata": {
            "tags": []
          }
        }
      ]
    },
    {
      "cell_type": "code",
      "metadata": {
        "id": "XqJRBqQ4Y6EX"
      },
      "source": [
        "widgets.interact(\n",
        "      filter = widgets.Dropdown(\n",
        "        options=['low pass', 'high pass', 'band pass', 'all pass', 'no pass'],\n",
        "        value='low pass',\n",
        "        description='filter type'),\n",
        "      cutoffFrequency = widgets.FloatSlider(\n",
        "        value=np.pi/2,\n",
        "        min=0,\n",
        "        max=np.pi,\n",
        "        description='cut off')\n",
        "    );"
      ],
      "execution_count": 23,
      "outputs": []
    },
    {
      "cell_type": "markdown",
      "metadata": {
        "id": "lTxSjmxHil8_"
      },
      "source": [
        "You may select different signals (adjustable by a parameter) and filter types (along with cut off frequency) for $h$. Sigma allows you to change the robustness of the inversion filter $g$. You should note that the signals are distorted more heavily if the low frequencies are removed in which case it is more important to have a robust inversion filter."
      ]
    },
    {
      "cell_type": "code",
      "metadata": {
        "id": "Ut9fc32SO8_1",
        "colab": {
          "base_uri": "https://localhost:8080/",
          "height": 990
        },
        "outputId": "d806a462-b814-437a-9dd4-18b0e5b3e829"
      },
      "source": [
        "plot()\n",
        "plot_time()"
      ],
      "execution_count": 26,
      "outputs": [
        {
          "output_type": "display_data",
          "data": {
            "image/png": "[encoded data removed]",
            "text/plain": [
              "<Figure size 1440x576 with 2 Axes>"
            ]
          },
          "metadata": {
            "tags": [],
            "needs_background": "light"
          }
        },
        {
          "output_type": "display_data",
          "data": {
            "image/png": "[encoded data removed]",
            "text/plain": [
              "<Figure size 1440x576 with 3 Axes>"
            ]
          },
          "metadata": {
            "tags": [],
            "needs_background": "light"
          }
        }
      ]
    }
  ]
}