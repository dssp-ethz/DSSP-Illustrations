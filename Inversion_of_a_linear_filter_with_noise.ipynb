{
  "nbformat": 4,
  "nbformat_minor": 0,
  "metadata": {
    "colab": {
      "name": "Inversion of a linear filter with noise.ipynb",
      "provenance": [],
      "collapsed_sections": [],
      "authorship_tag": "ABX9TyP6ykT+ttn0k3jW7tCTQ8YS",
      "include_colab_link": true
    },
    "kernelspec": {
      "name": "python3",
      "display_name": "Python 3"
    },
    "language_info": {
      "name": "python"
    },
    "widgets": {
      "application/vnd.jupyter.widget-state+json": {
        "b42994c7c27a4330896fdee1dd56d0f0": {
          "model_module": "@jupyter-widgets/controls",
          "model_name": "VBoxModel",
          "state": {
            "_view_name": "VBoxView",
            "_dom_classes": [
              "widget-interact"
            ],
            "_model_name": "VBoxModel",
            "_view_module": "@jupyter-widgets/controls",
            "_model_module_version": "1.5.0",
            "_view_count": null,
            "_view_module_version": "1.5.0",
            "box_style": "",
            "layout": "IPY_MODEL_dfa25d0f68414f4e9fa9e6d5a9787a06",
            "_model_module": "@jupyter-widgets/controls",
            "children": [
              "IPY_MODEL_3740bdbe5b9c460684b5fc521470a5ba",
              "IPY_MODEL_aa0e73e9bed24adf931b55494efb0fd8",
              "IPY_MODEL_2f60f4dd24ba42db9810990874ed5184"
            ]
          }
        },
        "dfa25d0f68414f4e9fa9e6d5a9787a06": {
          "model_module": "@jupyter-widgets/base",
          "model_name": "LayoutModel",
          "state": {
            "_view_name": "LayoutView",
            "grid_template_rows": null,
            "right": null,
            "justify_content": null,
            "_view_module": "@jupyter-widgets/base",
            "overflow": null,
            "_model_module_version": "1.2.0",
            "_view_count": null,
            "flex_flow": null,
            "width": null,
            "min_width": null,
            "border": null,
            "align_items": null,
            "bottom": null,
            "_model_module": "@jupyter-widgets/base",
            "top": null,
            "grid_column": null,
            "overflow_y": null,
            "overflow_x": null,
            "grid_auto_flow": null,
            "grid_area": null,
            "grid_template_columns": null,
            "flex": null,
            "_model_name": "LayoutModel",
            "justify_items": null,
            "grid_row": null,
            "max_height": null,
            "align_content": null,
            "visibility": null,
            "align_self": null,
            "height": null,
            "min_height": null,
            "padding": null,
            "grid_auto_rows": null,
            "grid_gap": null,
            "max_width": null,
            "order": null,
            "_view_module_version": "1.2.0",
            "grid_template_areas": null,
            "object_position": null,
            "object_fit": null,
            "grid_auto_columns": null,
            "margin": null,
            "display": null,
            "left": null
          }
        },
        "3740bdbe5b9c460684b5fc521470a5ba": {
          "model_module": "@jupyter-widgets/controls",
          "model_name": "DropdownModel",
          "state": {
            "_options_labels": [
              "unit step",
              "unit impulse",
              "ramp",
              "exponential",
              "sinus",
              "sinus squared"
            ],
            "_view_name": "DropdownView",
            "style": "IPY_MODEL_80ca9c1292944eab89617a78738ad6b0",
            "_dom_classes": [],
            "description": "signal type",
            "_model_name": "DropdownModel",
            "index": 0,
            "_view_module": "@jupyter-widgets/controls",
            "_model_module_version": "1.5.0",
            "_view_count": null,
            "disabled": false,
            "_view_module_version": "1.5.0",
            "description_tooltip": null,
            "_model_module": "@jupyter-widgets/controls",
            "layout": "IPY_MODEL_b03f664e78ec4e14952bdf394bc15af2"
          }
        },
        "aa0e73e9bed24adf931b55494efb0fd8": {
          "model_module": "@jupyter-widgets/controls",
          "model_name": "IntSliderModel",
          "state": {
            "_view_name": "IntSliderView",
            "style": "IPY_MODEL_6671437ec2694867a26aca1973170faf",
            "_dom_classes": [],
            "description": "parameter",
            "step": 1,
            "_model_name": "IntSliderModel",
            "orientation": "horizontal",
            "max": 10,
            "_view_module": "@jupyter-widgets/controls",
            "_model_module_version": "1.5.0",
            "value": 1,
            "_view_count": null,
            "disabled": false,
            "_view_module_version": "1.5.0",
            "min": -10,
            "continuous_update": true,
            "readout_format": "d",
            "description_tooltip": null,
            "readout": true,
            "_model_module": "@jupyter-widgets/controls",
            "layout": "IPY_MODEL_6b1cae6a79804ddf9091c93e326b75d2"
          }
        },
        "2f60f4dd24ba42db9810990874ed5184": {
          "model_module": "@jupyter-widgets/output",
          "model_name": "OutputModel",
          "state": {
            "_view_name": "OutputView",
            "msg_id": "",
            "_dom_classes": [],
            "_model_name": "OutputModel",
            "outputs": [],
            "_view_module": "@jupyter-widgets/output",
            "_model_module_version": "1.0.0",
            "_view_count": null,
            "_view_module_version": "1.0.0",
            "layout": "IPY_MODEL_bb93c09d7071479189e6f83ccc82908f",
            "_model_module": "@jupyter-widgets/output"
          }
        },
        "80ca9c1292944eab89617a78738ad6b0": {
          "model_module": "@jupyter-widgets/controls",
          "model_name": "DescriptionStyleModel",
          "state": {
            "_view_name": "StyleView",
            "_model_name": "DescriptionStyleModel",
            "description_width": "",
            "_view_module": "@jupyter-widgets/base",
            "_model_module_version": "1.5.0",
            "_view_count": null,
            "_view_module_version": "1.2.0",
            "_model_module": "@jupyter-widgets/controls"
          }
        },
        "b03f664e78ec4e14952bdf394bc15af2": {
          "model_module": "@jupyter-widgets/base",
          "model_name": "LayoutModel",
          "state": {
            "_view_name": "LayoutView",
            "grid_template_rows": null,
            "right": null,
            "justify_content": null,
            "_view_module": "@jupyter-widgets/base",
            "overflow": null,
            "_model_module_version": "1.2.0",
            "_view_count": null,
            "flex_flow": null,
            "width": null,
            "min_width": null,
            "border": null,
            "align_items": null,
            "bottom": null,
            "_model_module": "@jupyter-widgets/base",
            "top": null,
            "grid_column": null,
            "overflow_y": null,
            "overflow_x": null,
            "grid_auto_flow": null,
            "grid_area": null,
            "grid_template_columns": null,
            "flex": null,
            "_model_name": "LayoutModel",
            "justify_items": null,
            "grid_row": null,
            "max_height": null,
            "align_content": null,
            "visibility": null,
            "align_self": null,
            "height": null,
            "min_height": null,
            "padding": null,
            "grid_auto_rows": null,
            "grid_gap": null,
            "max_width": null,
            "order": null,
            "_view_module_version": "1.2.0",
            "grid_template_areas": null,
            "object_position": null,
            "object_fit": null,
            "grid_auto_columns": null,
            "margin": null,
            "display": null,
            "left": null
          }
        },
        "6671437ec2694867a26aca1973170faf": {
          "model_module": "@jupyter-widgets/controls",
          "model_name": "SliderStyleModel",
          "state": {
            "_view_name": "StyleView",
            "handle_color": null,
            "_model_name": "SliderStyleModel",
            "description_width": "",
            "_view_module": "@jupyter-widgets/base",
            "_model_module_version": "1.5.0",
            "_view_count": null,
            "_view_module_version": "1.2.0",
            "_model_module": "@jupyter-widgets/controls"
          }
        },
        "6b1cae6a79804ddf9091c93e326b75d2": {
          "model_module": "@jupyter-widgets/base",
          "model_name": "LayoutModel",
          "state": {
            "_view_name": "LayoutView",
            "grid_template_rows": null,
            "right": null,
            "justify_content": null,
            "_view_module": "@jupyter-widgets/base",
            "overflow": null,
            "_model_module_version": "1.2.0",
            "_view_count": null,
            "flex_flow": null,
            "width": null,
            "min_width": null,
            "border": null,
            "align_items": null,
            "bottom": null,
            "_model_module": "@jupyter-widgets/base",
            "top": null,
            "grid_column": null,
            "overflow_y": null,
            "overflow_x": null,
            "grid_auto_flow": null,
            "grid_area": null,
            "grid_template_columns": null,
            "flex": null,
            "_model_name": "LayoutModel",
            "justify_items": null,
            "grid_row": null,
            "max_height": null,
            "align_content": null,
            "visibility": null,
            "align_self": null,
            "height": null,
            "min_height": null,
            "padding": null,
            "grid_auto_rows": null,
            "grid_gap": null,
            "max_width": null,
            "order": null,
            "_view_module_version": "1.2.0",
            "grid_template_areas": null,
            "object_position": null,
            "object_fit": null,
            "grid_auto_columns": null,
            "margin": null,
            "display": null,
            "left": null
          }
        },
        "bb93c09d7071479189e6f83ccc82908f": {
          "model_module": "@jupyter-widgets/base",
          "model_name": "LayoutModel",
          "state": {
            "_view_name": "LayoutView",
            "grid_template_rows": null,
            "right": null,
            "justify_content": null,
            "_view_module": "@jupyter-widgets/base",
            "overflow": null,
            "_model_module_version": "1.2.0",
            "_view_count": null,
            "flex_flow": null,
            "width": null,
            "min_width": null,
            "border": null,
            "align_items": null,
            "bottom": null,
            "_model_module": "@jupyter-widgets/base",
            "top": null,
            "grid_column": null,
            "overflow_y": null,
            "overflow_x": null,
            "grid_auto_flow": null,
            "grid_area": null,
            "grid_template_columns": null,
            "flex": null,
            "_model_name": "LayoutModel",
            "justify_items": null,
            "grid_row": null,
            "max_height": null,
            "align_content": null,
            "visibility": null,
            "align_self": null,
            "height": null,
            "min_height": null,
            "padding": null,
            "grid_auto_rows": null,
            "grid_gap": null,
            "max_width": null,
            "order": null,
            "_view_module_version": "1.2.0",
            "grid_template_areas": null,
            "object_position": null,
            "object_fit": null,
            "grid_auto_columns": null,
            "margin": null,
            "display": null,
            "left": null
          }
        },
        "82ee785fb2aa43c79ab6abbdfabd5d92": {
          "model_module": "@jupyter-widgets/controls",
          "model_name": "VBoxModel",
          "state": {
            "_view_name": "VBoxView",
            "_dom_classes": [
              "widget-interact"
            ],
            "_model_name": "VBoxModel",
            "_view_module": "@jupyter-widgets/controls",
            "_model_module_version": "1.5.0",
            "_view_count": null,
            "_view_module_version": "1.5.0",
            "box_style": "",
            "layout": "IPY_MODEL_4dc51698ce52414bbd264659da73663b",
            "_model_module": "@jupyter-widgets/controls",
            "children": [
              "IPY_MODEL_72f459050b684387aa027e1b341dea10",
              "IPY_MODEL_ebe2e4bf238345b78a4001dcc59f8f4f",
              "IPY_MODEL_0b22977c1bd046b9821f5f08887b12ab"
            ]
          }
        },
        "4dc51698ce52414bbd264659da73663b": {
          "model_module": "@jupyter-widgets/base",
          "model_name": "LayoutModel",
          "state": {
            "_view_name": "LayoutView",
            "grid_template_rows": null,
            "right": null,
            "justify_content": null,
            "_view_module": "@jupyter-widgets/base",
            "overflow": null,
            "_model_module_version": "1.2.0",
            "_view_count": null,
            "flex_flow": null,
            "width": null,
            "min_width": null,
            "border": null,
            "align_items": null,
            "bottom": null,
            "_model_module": "@jupyter-widgets/base",
            "top": null,
            "grid_column": null,
            "overflow_y": null,
            "overflow_x": null,
            "grid_auto_flow": null,
            "grid_area": null,
            "grid_template_columns": null,
            "flex": null,
            "_model_name": "LayoutModel",
            "justify_items": null,
            "grid_row": null,
            "max_height": null,
            "align_content": null,
            "visibility": null,
            "align_self": null,
            "height": null,
            "min_height": null,
            "padding": null,
            "grid_auto_rows": null,
            "grid_gap": null,
            "max_width": null,
            "order": null,
            "_view_module_version": "1.2.0",
            "grid_template_areas": null,
            "object_position": null,
            "object_fit": null,
            "grid_auto_columns": null,
            "margin": null,
            "display": null,
            "left": null
          }
        },
        "72f459050b684387aa027e1b341dea10": {
          "model_module": "@jupyter-widgets/controls",
          "model_name": "FloatSliderModel",
          "state": {
            "_view_name": "FloatSliderView",
            "style": "IPY_MODEL_b82a498c48624cbea70eadccb5bc58e0",
            "_dom_classes": [],
            "description": "sigma",
            "step": 0.1,
            "_model_name": "FloatSliderModel",
            "orientation": "horizontal",
            "max": 10,
            "_view_module": "@jupyter-widgets/controls",
            "_model_module_version": "1.5.0",
            "value": 1,
            "_view_count": null,
            "disabled": false,
            "_view_module_version": "1.5.0",
            "min": 0.01,
            "continuous_update": true,
            "readout_format": ".2f",
            "description_tooltip": null,
            "readout": true,
            "_model_module": "@jupyter-widgets/controls",
            "layout": "IPY_MODEL_70e8bb5c7ed546cfacf100cbf2657efe"
          }
        },
        "ebe2e4bf238345b78a4001dcc59f8f4f": {
          "model_module": "@jupyter-widgets/controls",
          "model_name": "CheckboxModel",
          "state": {
            "_view_name": "CheckboxView",
            "style": "IPY_MODEL_20bd9dd49945430da9b95e30f53350aa",
            "_dom_classes": [],
            "description": "logarithmic plot",
            "_model_name": "CheckboxModel",
            "_view_module": "@jupyter-widgets/controls",
            "_model_module_version": "1.5.0",
            "value": false,
            "_view_count": null,
            "disabled": false,
            "_view_module_version": "1.5.0",
            "indent": true,
            "description_tooltip": null,
            "_model_module": "@jupyter-widgets/controls",
            "layout": "IPY_MODEL_fa98dbd78e904adaa9859261c00a5765"
          }
        },
        "0b22977c1bd046b9821f5f08887b12ab": {
          "model_module": "@jupyter-widgets/output",
          "model_name": "OutputModel",
          "state": {
            "_view_name": "OutputView",
            "msg_id": "",
            "_dom_classes": [],
            "_model_name": "OutputModel",
            "outputs": [],
            "_view_module": "@jupyter-widgets/output",
            "_model_module_version": "1.0.0",
            "_view_count": null,
            "_view_module_version": "1.0.0",
            "layout": "IPY_MODEL_c4985497c2ea4590acf29030523e154e",
            "_model_module": "@jupyter-widgets/output"
          }
        },
        "b82a498c48624cbea70eadccb5bc58e0": {
          "model_module": "@jupyter-widgets/controls",
          "model_name": "SliderStyleModel",
          "state": {
            "_view_name": "StyleView",
            "handle_color": null,
            "_model_name": "SliderStyleModel",
            "description_width": "",
            "_view_module": "@jupyter-widgets/base",
            "_model_module_version": "1.5.0",
            "_view_count": null,
            "_view_module_version": "1.2.0",
            "_model_module": "@jupyter-widgets/controls"
          }
        },
        "70e8bb5c7ed546cfacf100cbf2657efe": {
          "model_module": "@jupyter-widgets/base",
          "model_name": "LayoutModel",
          "state": {
            "_view_name": "LayoutView",
            "grid_template_rows": null,
            "right": null,
            "justify_content": null,
            "_view_module": "@jupyter-widgets/base",
            "overflow": null,
            "_model_module_version": "1.2.0",
            "_view_count": null,
            "flex_flow": null,
            "width": null,
            "min_width": null,
            "border": null,
            "align_items": null,
            "bottom": null,
            "_model_module": "@jupyter-widgets/base",
            "top": null,
            "grid_column": null,
            "overflow_y": null,
            "overflow_x": null,
            "grid_auto_flow": null,
            "grid_area": null,
            "grid_template_columns": null,
            "flex": null,
            "_model_name": "LayoutModel",
            "justify_items": null,
            "grid_row": null,
            "max_height": null,
            "align_content": null,
            "visibility": null,
            "align_self": null,
            "height": null,
            "min_height": null,
            "padding": null,
            "grid_auto_rows": null,
            "grid_gap": null,
            "max_width": null,
            "order": null,
            "_view_module_version": "1.2.0",
            "grid_template_areas": null,
            "object_position": null,
            "object_fit": null,
            "grid_auto_columns": null,
            "margin": null,
            "display": null,
            "left": null
          }
        },
        "20bd9dd49945430da9b95e30f53350aa": {
          "model_module": "@jupyter-widgets/controls",
          "model_name": "DescriptionStyleModel",
          "state": {
            "_view_name": "StyleView",
            "_model_name": "DescriptionStyleModel",
            "description_width": "",
            "_view_module": "@jupyter-widgets/base",
            "_model_module_version": "1.5.0",
            "_view_count": null,
            "_view_module_version": "1.2.0",
            "_model_module": "@jupyter-widgets/controls"
          }
        },
        "fa98dbd78e904adaa9859261c00a5765": {
          "model_module": "@jupyter-widgets/base",
          "model_name": "LayoutModel",
          "state": {
            "_view_name": "LayoutView",
            "grid_template_rows": null,
            "right": null,
            "justify_content": null,
            "_view_module": "@jupyter-widgets/base",
            "overflow": null,
            "_model_module_version": "1.2.0",
            "_view_count": null,
            "flex_flow": null,
            "width": null,
            "min_width": null,
            "border": null,
            "align_items": null,
            "bottom": null,
            "_model_module": "@jupyter-widgets/base",
            "top": null,
            "grid_column": null,
            "overflow_y": null,
            "overflow_x": null,
            "grid_auto_flow": null,
            "grid_area": null,
            "grid_template_columns": null,
            "flex": null,
            "_model_name": "LayoutModel",
            "justify_items": null,
            "grid_row": null,
            "max_height": null,
            "align_content": null,
            "visibility": null,
            "align_self": null,
            "height": null,
            "min_height": null,
            "padding": null,
            "grid_auto_rows": null,
            "grid_gap": null,
            "max_width": null,
            "order": null,
            "_view_module_version": "1.2.0",
            "grid_template_areas": null,
            "object_position": null,
            "object_fit": null,
            "grid_auto_columns": null,
            "margin": null,
            "display": null,
            "left": null
          }
        },
        "c4985497c2ea4590acf29030523e154e": {
          "model_module": "@jupyter-widgets/base",
          "model_name": "LayoutModel",
          "state": {
            "_view_name": "LayoutView",
            "grid_template_rows": null,
            "right": null,
            "justify_content": null,
            "_view_module": "@jupyter-widgets/base",
            "overflow": null,
            "_model_module_version": "1.2.0",
            "_view_count": null,
            "flex_flow": null,
            "width": null,
            "min_width": null,
            "border": null,
            "align_items": null,
            "bottom": null,
            "_model_module": "@jupyter-widgets/base",
            "top": null,
            "grid_column": null,
            "overflow_y": null,
            "overflow_x": null,
            "grid_auto_flow": null,
            "grid_area": null,
            "grid_template_columns": null,
            "flex": null,
            "_model_name": "LayoutModel",
            "justify_items": null,
            "grid_row": null,
            "max_height": null,
            "align_content": null,
            "visibility": null,
            "align_self": null,
            "height": null,
            "min_height": null,
            "padding": null,
            "grid_auto_rows": null,
            "grid_gap": null,
            "max_width": null,
            "order": null,
            "_view_module_version": "1.2.0",
            "grid_template_areas": null,
            "object_position": null,
            "object_fit": null,
            "grid_auto_columns": null,
            "margin": null,
            "display": null,
            "left": null
          }
        }
      }
    }
  },
  "cells": [
    {
      "cell_type": "markdown",
      "metadata": {
        "id": "view-in-github",
        "colab_type": "text"
      },
      "source": [
        "<a href=\"https://colab.research.google.com/github/dssp-ethz/DSSP-Illustrations/blob/main/Inversion_of_a_linear_filter_with_noise.ipynb\" target=\"_parent\"><img src=\"https://colab.research.google.com/assets/colab-badge.svg\" alt=\"Open In Colab\"/></a>"
      ]
    },
    {
      "cell_type": "markdown",
      "metadata": {
        "id": "Hhi3_Cfh82o_"
      },
      "source": [
        "# Robust Inversion"
      ]
    },
    {
      "cell_type": "markdown",
      "metadata": {
        "id": "FUvzfmDe-z6c"
      },
      "source": [
        "Let $y[\\cdot] = (u * h)[\\cdot] + w [\\cdot]$ where $h[\\cdot]$ is the impulse response of a stable filter and $w[\\cdot]$ some disturbance. We wish to reconstruct $u[\\cdot]$ with a linear filter, i.e. $\\hat{u}[\\cdot] = (y * g)[\\cdot] = ((u * h) * g)[\\cdot] + (w * g) [\\cdot]$. Now $g$ should be constructed such that it inverts $h$, but does not amplify the noise $w$. We propose in the frequency domain\n",
        "$$G(z) = \\frac{H^c(z)}{H(z)H^c(z) + \\sigma^2}$$\n",
        "with $\\sigma > 0$ a parameter surpressing noise. Frequencies where $H(e^{i\\Omega})$ is large are almost ideally reversed ($\\sigma \\ll |H(e^{i\\Omega})|^2$) whereas for frequencies that are removed by the filter $h$ the inversion does not try to reconstruct their content since it likely stems from noise."
      ]
    },
    {
      "cell_type": "code",
      "metadata": {
        "colab": {
          "base_uri": "https://localhost:8080/"
        },
        "id": "kLtgiOtiYbHC",
        "outputId": "3bedb299-7a31-4bd3-d737-1a3dc9ab3fe2"
      },
      "source": [
        "pip install pydsm"
      ],
      "execution_count": null,
      "outputs": [
        {
          "output_type": "stream",
          "text": [
            "Collecting pydsm\n",
            "\u001b[?25l  Downloading https://files.pythonhosted.org/packages/6f/96/1881d0ca1fceb9a91a8558510ff55e1e17f832321f9d359e2fc368609a0b/pydsm-0.14.0.0.zip (552kB)\n",
            "\r\u001b[K     |▋                               | 10kB 14.5MB/s eta 0:00:01\r\u001b[K     |█▏                              | 20kB 12.6MB/s eta 0:00:01\r\u001b[K     |█▉                              | 30kB 8.4MB/s eta 0:00:01\r\u001b[K     |██▍                             | 40kB 7.4MB/s eta 0:00:01\r\u001b[K     |███                             | 51kB 4.1MB/s eta 0:00:01\r\u001b[K     |███▋                            | 61kB 4.6MB/s eta 0:00:01\r\u001b[K     |████▏                           | 71kB 4.7MB/s eta 0:00:01\r\u001b[K     |████▊                           | 81kB 5.0MB/s eta 0:00:01\r\u001b[K     |█████▍                          | 92kB 5.3MB/s eta 0:00:01\r\u001b[K     |██████                          | 102kB 5.5MB/s eta 0:00:01\r\u001b[K     |██████▌                         | 112kB 5.5MB/s eta 0:00:01\r\u001b[K     |███████▏                        | 122kB 5.5MB/s eta 0:00:01\r\u001b[K     |███████▊                        | 133kB 5.5MB/s eta 0:00:01\r\u001b[K     |████████▎                       | 143kB 5.5MB/s eta 0:00:01\r\u001b[K     |█████████                       | 153kB 5.5MB/s eta 0:00:01\r\u001b[K     |█████████▌                      | 163kB 5.5MB/s eta 0:00:01\r\u001b[K     |██████████                      | 174kB 5.5MB/s eta 0:00:01\r\u001b[K     |██████████▊                     | 184kB 5.5MB/s eta 0:00:01\r\u001b[K     |███████████▎                    | 194kB 5.5MB/s eta 0:00:01\r\u001b[K     |███████████▉                    | 204kB 5.5MB/s eta 0:00:01\r\u001b[K     |████████████▌                   | 215kB 5.5MB/s eta 0:00:01\r\u001b[K     |█████████████                   | 225kB 5.5MB/s eta 0:00:01\r\u001b[K     |█████████████▋                  | 235kB 5.5MB/s eta 0:00:01\r\u001b[K     |██████████████▎                 | 245kB 5.5MB/s eta 0:00:01\r\u001b[K     |██████████████▉                 | 256kB 5.5MB/s eta 0:00:01\r\u001b[K     |███████████████▍                | 266kB 5.5MB/s eta 0:00:01\r\u001b[K     |████████████████                | 276kB 5.5MB/s eta 0:00:01\r\u001b[K     |████████████████▋               | 286kB 5.5MB/s eta 0:00:01\r\u001b[K     |█████████████████▏              | 296kB 5.5MB/s eta 0:00:01\r\u001b[K     |█████████████████▉              | 307kB 5.5MB/s eta 0:00:01\r\u001b[K     |██████████████████▍             | 317kB 5.5MB/s eta 0:00:01\r\u001b[K     |███████████████████             | 327kB 5.5MB/s eta 0:00:01\r\u001b[K     |███████████████████▋            | 337kB 5.5MB/s eta 0:00:01\r\u001b[K     |████████████████████▏           | 348kB 5.5MB/s eta 0:00:01\r\u001b[K     |████████████████████▊           | 358kB 5.5MB/s eta 0:00:01\r\u001b[K     |█████████████████████▍          | 368kB 5.5MB/s eta 0:00:01\r\u001b[K     |██████████████████████          | 378kB 5.5MB/s eta 0:00:01\r\u001b[K     |██████████████████████▌         | 389kB 5.5MB/s eta 0:00:01\r\u001b[K     |███████████████████████▏        | 399kB 5.5MB/s eta 0:00:01\r\u001b[K     |███████████████████████▊        | 409kB 5.5MB/s eta 0:00:01\r\u001b[K     |████████████████████████▎       | 419kB 5.5MB/s eta 0:00:01\r\u001b[K     |█████████████████████████       | 430kB 5.5MB/s eta 0:00:01\r\u001b[K     |█████████████████████████▌      | 440kB 5.5MB/s eta 0:00:01\r\u001b[K     |██████████████████████████      | 450kB 5.5MB/s eta 0:00:01\r\u001b[K     |██████████████████████████▊     | 460kB 5.5MB/s eta 0:00:01\r\u001b[K     |███████████████████████████▎    | 471kB 5.5MB/s eta 0:00:01\r\u001b[K     |███████████████████████████▉    | 481kB 5.5MB/s eta 0:00:01\r\u001b[K     |████████████████████████████▌   | 491kB 5.5MB/s eta 0:00:01\r\u001b[K     |█████████████████████████████   | 501kB 5.5MB/s eta 0:00:01\r\u001b[K     |█████████████████████████████▋  | 512kB 5.5MB/s eta 0:00:01\r\u001b[K     |██████████████████████████████▎ | 522kB 5.5MB/s eta 0:00:01\r\u001b[K     |██████████████████████████████▉ | 532kB 5.5MB/s eta 0:00:01\r\u001b[K     |███████████████████████████████▍| 542kB 5.5MB/s eta 0:00:01\r\u001b[K     |████████████████████████████████| 552kB 5.5MB/s \n",
            "\u001b[?25hBuilding wheels for collected packages: pydsm\n",
            "  Building wheel for pydsm (setup.py) ... \u001b[?25l\u001b[?25hdone\n",
            "  Created wheel for pydsm: filename=pydsm-0.14.0.0-cp37-cp37m-linux_x86_64.whl size=684656 sha256=87ff3c53b8fb8f59420708f29ccddcec2ae12cdb893743867204d2fb9e3d388b\n",
            "  Stored in directory: /root/.cache/pip/wheels/7d/10/8c/8983ab80da463bab42f455c100dbf62c47fba0b6650f6c22f6\n",
            "Successfully built pydsm\n",
            "Installing collected packages: pydsm\n",
            "Successfully installed pydsm-0.14.0.0\n"
          ],
          "name": "stdout"
        }
      ]
    },
    {
      "cell_type": "code",
      "metadata": {
        "colab": {
          "base_uri": "https://localhost:8080/"
        },
        "id": "wIra2N3JU_GR",
        "outputId": "fed6c678-5db5-453a-a336-3f5856209b6d"
      },
      "source": [
        "!gdown https://drive.google.com/uc?id=1-nxgfNaJPeB88X_kE5T2xDqiGI5T2I1u\n",
        "!gdown https://drive.google.com/uc?id=1937_NrN8dHRPEsAamOn7v6hBSWG1cwzt"
      ],
      "execution_count": null,
      "outputs": [
        {
          "output_type": "stream",
          "text": [
            "Downloading...\n",
            "From: https://drive.google.com/uc?id=1-nxgfNaJPeB88X_kE5T2xDqiGI5T2I1u\n",
            "To: /content/signals.py\n",
            "100% 2.52k/2.52k [00:00<00:00, 3.88MB/s]\n",
            "Downloading...\n",
            "From: https://drive.google.com/uc?id=1937_NrN8dHRPEsAamOn7v6hBSWG1cwzt\n",
            "To: /content/filters.py\n",
            "100% 1.06k/1.06k [00:00<00:00, 1.74MB/s]\n"
          ],
          "name": "stdout"
        }
      ]
    },
    {
      "cell_type": "code",
      "metadata": {
        "id": "-ppEAxkD80RF"
      },
      "source": [
        "import ipywidgets as widgets\n",
        "import numpy as np\n",
        "import matplotlib.pyplot as plt\n",
        "%matplotlib inline\n",
        "from pydsm.ft import idtft\n",
        "import signals\n",
        "import filters\n",
        "#-------------------------------------------------------------------------------\n",
        "\n",
        "sigmaG = 1\n",
        "\n",
        "logPlotG = False\n",
        "\n",
        "#Important Stuff\n",
        "################################################################################\n",
        "\n",
        "#filter h\n",
        "def h(t):\n",
        "  return np.real(idtft(filters.H, t, fs = 2*np.pi)) #sets f_s such that f=Omega\n",
        "\n",
        "#robust inversion filter G\n",
        "def G(Omega):\n",
        "  return np.conjugate(filters.H(Omega))/(np.abs(filters.H(Omega))**2 + sigmaG**2)\n",
        "\n",
        "#filter g\n",
        "def g(t):\n",
        "  return np.real(idtft(G, t, fs = 2*np.pi)) #sets f_s such that f=Omega\n",
        "\n",
        "#noise\n",
        "def w(t):\n",
        "  return np.random.normal(0,0.05,1)[0]\n",
        "\n",
        "#received signal\n",
        "def y():\n",
        "  #convolution in computer is finite. Restrict signals (and filters) to nG to be able to perform computations.\n",
        "  u_ = signals.time_domain_signal()\n",
        "  h_ = [h(t) for t in signals.nG]\n",
        "  w_ = [w(t) for t in np.arange(2*signals.nG.size-1)] #result of convolution has dimension (N+M-1) i.e. (nG.size+nG.size-1) = 2*nG.size-1\n",
        "  return np.convolve(u_,h_) + w_\n",
        "\n",
        "#estimation\n",
        "def u_hat():\n",
        "  #convolution in computer is finite. Restrict signals (and filters) to nG to be able to perform computations.\n",
        "  y_ = y()\n",
        "  g_ = [g(t) for t in signals.nG]\n",
        "  return np.convolve(y_, g_)\n",
        "################################################################################\n",
        "\n",
        "#drawing plots\n",
        "def plot():\n",
        "  Omega_values = np.linspace(-np.pi, np.pi, 200)\n",
        "  H_values = [filters.H(Omega) for Omega in Omega_values]\n",
        "  G_values = [G(Omega) for Omega in Omega_values]\n",
        "\n",
        "  fig = plt.figure(figsize=(20, 8))\n",
        "\n",
        "  ax1 = fig.add_subplot(1, 2, 1)\n",
        "  ax1.grid()\n",
        "  ax1.set_xlabel('$\\Omega$', fontsize=14)\n",
        "  ax1.set_ylabel('$H(e^{i\\Omega})$', fontsize=14)\n",
        "  if logPlotG == False:\n",
        "    ax1.axis(xmin=Omega_values[0], xmax=Omega_values[-1], ymin=0, ymax=1.5)\n",
        "    ax1.plot(Omega_values, H_values, alpha=0.5);\n",
        "  else:\n",
        "    ax1.axis(xmin=Omega_values[0], xmax=Omega_values[-1], ymin = 0.1, ymax = 1.5)\n",
        "    ax1.semilogy(Omega_values, H_values, alpha=0.5);\n",
        "\n",
        "  ax2 = fig.add_subplot(1, 2, 2)\n",
        "  ax2.grid()\n",
        "  ax2.set_xlabel('$\\Omega$', fontsize=14)\n",
        "  ax2.set_ylabel('$G(e^{i\\Omega})$', fontsize=14)\n",
        "  if logPlotG == False:\n",
        "    ax2.axis(xmin=Omega_values[0], xmax=Omega_values[-1], ymin=0, ymax=1.5)\n",
        "    ax2.plot(Omega_values, G_values, alpha=0.5);\n",
        "  else:\n",
        "    ax2.axis(xmin=Omega_values[0], xmax=Omega_values[-1], ymin = 0.1, ymax = 1.5)\n",
        "    ax2.semilogy(Omega_values, G_values, alpha=0.5);\n",
        "\n",
        "def plot_time():\n",
        "  t1_values = np.arange(3*np.min(signals.nG), 3*np.max(signals.nG)+3)\n",
        "  u_values = [signals.time_domain_signal()[t-signals.nG.size] if t < 2*signals.nG.size and t >= signals.nG.size else 0 for t in range(3*signals.nG.size)]\n",
        "  t2_values = np.arange(2*np.min(signals.nG), 2*np.max(signals.nG)+1)\n",
        "  y_values = y()\n",
        "  t3_values = np.arange(3*np.min(signals.nG), 3*np.max(signals.nG)+1)\n",
        "  u_hat_values = u_hat()\n",
        "\n",
        "\n",
        "  fig = plt.figure(figsize=(20, 8))\n",
        "\n",
        "  ax1 = fig.add_subplot(1, 3, 1)\n",
        "  ax1.grid()\n",
        "  ax1.set_xlabel('$k$', fontsize=14)\n",
        "  ax1.set_ylabel('$u(k)$', fontsize=14)\n",
        "  ax1.axis(xmin=t1_values[0], xmax=t1_values[-1])\n",
        "  if logPlotG == False:\n",
        "    ax1.axis(ymin=-3, ymax=3)\n",
        "    ax1.plot(t1_values, u_values, alpha=0.5, marker='o', markersize=8);\n",
        "  else:\n",
        "    ax1.axis(ymin=0.1, ymax=3)\n",
        "    ax1.semilogy(t1_values, u_values, alpha=0.5, marker='o', markersize=8);\n",
        "\n",
        "  ax2 = fig.add_subplot(1, 3, 2)\n",
        "  ax2.grid()\n",
        "  ax2.set_xlabel('$k$', fontsize=14)\n",
        "  ax2.set_ylabel('$y(k)$', fontsize=14)\n",
        "  ax2.axis(xmin=t2_values[0], xmax=t2_values[-1])\n",
        "  if logPlotG == False:\n",
        "    ax2.axis(ymin=-3, ymax=3)\n",
        "    ax2.plot(t2_values, y_values, alpha=0.5, marker='o', markersize=8);\n",
        "  else:\n",
        "    ax2.axis(ymin=0.1, ymax=3)\n",
        "    ax2.semilogy(t2_values, y_values, alpha=0.5, marker='o', markersize=8);\n",
        "\n",
        "  ax3 = fig.add_subplot(1, 3, 3)\n",
        "  ax3.grid()\n",
        "  ax3.set_xlabel('$k$', fontsize=14)\n",
        "  ax3.set_ylabel('$\\hat{u}(k)$', fontsize=14)\n",
        "  ax3.axis(xmin=t3_values[0], xmax=t3_values[-1])\n",
        "  if logPlotG == False:\n",
        "    ax3.axis(ymin=-3, ymax=3)\n",
        "    ax3.plot(t3_values, u_hat_values, alpha=0.5, marker='o', markersize=8);\n",
        "  else:\n",
        "    ax3.axis(ymin=0.1, ymax=3)\n",
        "    ax3.semilogy(t3_values, u_hat_values, alpha=0.5, marker='o', markersize=8);"
      ],
      "execution_count": null,
      "outputs": []
    },
    {
      "cell_type": "code",
      "metadata": {
        "colab": {
          "base_uri": "https://localhost:8080/",
          "height": 145,
          "referenced_widgets": [
            "b42994c7c27a4330896fdee1dd56d0f0",
            "dfa25d0f68414f4e9fa9e6d5a9787a06",
            "3740bdbe5b9c460684b5fc521470a5ba",
            "aa0e73e9bed24adf931b55494efb0fd8",
            "2f60f4dd24ba42db9810990874ed5184",
            "80ca9c1292944eab89617a78738ad6b0",
            "b03f664e78ec4e14952bdf394bc15af2",
            "6671437ec2694867a26aca1973170faf",
            "6b1cae6a79804ddf9091c93e326b75d2",
            "bb93c09d7071479189e6f83ccc82908f",
            "82ee785fb2aa43c79ab6abbdfabd5d92",
            "4dc51698ce52414bbd264659da73663b",
            "72f459050b684387aa027e1b341dea10",
            "ebe2e4bf238345b78a4001dcc59f8f4f",
            "0b22977c1bd046b9821f5f08887b12ab",
            "b82a498c48624cbea70eadccb5bc58e0",
            "70e8bb5c7ed546cfacf100cbf2657efe",
            "20bd9dd49945430da9b95e30f53350aa",
            "fa98dbd78e904adaa9859261c00a5765",
            "c4985497c2ea4590acf29030523e154e"
          ]
        },
        "id": "wpVlJeNKX-mQ",
        "outputId": "c9c0410f-63f9-4a43-a722-5f84c5441446"
      },
      "source": [
        "signals.widget()\n",
        "filters.widget()\n",
        "\n",
        "def update_parameters(sigma, logPlot):\n",
        "  global sigmaG, logPlotG\n",
        "  sigmaG, logPlotG = sigma, logPlot\n",
        "\n",
        "widgets.interact(update_parameters,\n",
        "  sigma = widgets.FloatSlider(\n",
        "    value=1,\n",
        "    min=0.01,\n",
        "    max=10,\n",
        "    description='sigma'),\n",
        "  logPlot = widgets.Checkbox(\n",
        "    value=False,\n",
        "    description='logarithmic plot')\n",
        ");"
      ],
      "execution_count": null,
      "outputs": [
        {
          "output_type": "display_data",
          "data": {
            "application/vnd.jupyter.widget-view+json": {
              "model_id": "b42994c7c27a4330896fdee1dd56d0f0",
              "version_minor": 0,
              "version_major": 2
            },
            "text/plain": [
              "interactive(children=(Dropdown(description='signal type', options=('unit step', 'unit impulse', 'ramp', 'expon…"
            ]
          },
          "metadata": {
            "tags": []
          }
        },
        {
          "output_type": "display_data",
          "data": {
            "application/vnd.jupyter.widget-view+json": {
              "model_id": "82ee785fb2aa43c79ab6abbdfabd5d92",
              "version_minor": 0,
              "version_major": 2
            },
            "text/plain": [
              "interactive(children=(FloatSlider(value=1.0, description='sigma', max=10.0, min=0.01), Checkbox(value=False, d…"
            ]
          },
          "metadata": {
            "tags": []
          }
        }
      ]
    },
    {
      "cell_type": "markdown",
      "metadata": {
        "id": "lTxSjmxHil8_"
      },
      "source": [
        "You may select different signals (adjustable by a parameter) and filter types (along with cut off frequency) for $h$. Sigma allows you to change the robustness of the inversion filter $g$. You should note that the signals are distorted more heavily if the low frequencies are removed in which case it is more important to have a robust inversion filter."
      ]
    },
    {
      "cell_type": "code",
      "metadata": {
        "colab": {
          "base_uri": "https://localhost:8080/",
          "height": 607
        },
        "id": "Ut9fc32SO8_1",
        "outputId": "51d080b9-ed9d-4367-a0c8-7c9f828419f8"
      },
      "source": [
        "plot()\n",
        "plot_time()"
      ],
      "execution_count": null,
      "outputs": [
        {
          "output_type": "display_data",
          "data": {
            "image/png": "[encoded data removed]",
            "text/plain": [
              "<Figure size 1440x576 with 2 Axes>"
            ]
          },
          "metadata": {
            "tags": [],
            "needs_background": "light"
          }
        },
        {
          "output_type": "display_data",
          "data": {
            "image/png": "[encoded data removed]",
            "text/plain": [
              "<Figure size 1440x576 with 3 Axes>"
            ]
          },
          "metadata": {
            "tags": [],
            "needs_background": "light"
          }
        }
      ]
    }
  ]
}