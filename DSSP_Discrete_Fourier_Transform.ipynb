{
  "nbformat": 4,
  "nbformat_minor": 0,
  "metadata": {
    "colab": {
      "name": "DSSP Discrete Fourier Transform.ipynb",
      "provenance": [],
      "collapsed_sections": [],
      "authorship_tag": "ABX9TyOCvHI2Fbu8dIe3WyNb8g/c",
      "include_colab_link": true
    },
    "kernelspec": {
      "name": "python3",
      "display_name": "Python 3"
    },
    "language_info": {
      "name": "python"
    },
    "widgets": {
      "application/vnd.jupyter.widget-state+json": {
        "3879ef9e082746a98f3509949924cbfb": {
          "model_module": "@jupyter-widgets/controls",
          "model_name": "VBoxModel",
          "state": {
            "_view_name": "VBoxView",
            "_dom_classes": [
              "widget-interact"
            ],
            "_model_name": "VBoxModel",
            "_view_module": "@jupyter-widgets/controls",
            "_model_module_version": "1.5.0",
            "_view_count": null,
            "_view_module_version": "1.5.0",
            "box_style": "",
            "layout": "IPY_MODEL_82d85f8937d34dc6bcc4f22f97c2ca53",
            "_model_module": "@jupyter-widgets/controls",
            "children": [
              "IPY_MODEL_b88cf0576d584523bc58055c65d20a70",
              "IPY_MODEL_68af7ac7692f481181930edbaaa87585"
            ]
          }
        },
        "82d85f8937d34dc6bcc4f22f97c2ca53": {
          "model_module": "@jupyter-widgets/base",
          "model_name": "LayoutModel",
          "state": {
            "_view_name": "LayoutView",
            "grid_template_rows": null,
            "right": null,
            "justify_content": null,
            "_view_module": "@jupyter-widgets/base",
            "overflow": null,
            "_model_module_version": "1.2.0",
            "_view_count": null,
            "flex_flow": null,
            "width": null,
            "min_width": null,
            "border": null,
            "align_items": null,
            "bottom": null,
            "_model_module": "@jupyter-widgets/base",
            "top": null,
            "grid_column": null,
            "overflow_y": null,
            "overflow_x": null,
            "grid_auto_flow": null,
            "grid_area": null,
            "grid_template_columns": null,
            "flex": null,
            "_model_name": "LayoutModel",
            "justify_items": null,
            "grid_row": null,
            "max_height": null,
            "align_content": null,
            "visibility": null,
            "align_self": null,
            "height": null,
            "min_height": null,
            "padding": null,
            "grid_auto_rows": null,
            "grid_gap": null,
            "max_width": null,
            "order": null,
            "_view_module_version": "1.2.0",
            "grid_template_areas": null,
            "object_position": null,
            "object_fit": null,
            "grid_auto_columns": null,
            "margin": null,
            "display": null,
            "left": null
          }
        },
        "b88cf0576d584523bc58055c65d20a70": {
          "model_module": "@jupyter-widgets/controls",
          "model_name": "DropdownModel",
          "state": {
            "_options_labels": [
              "sinusoidal",
              "sinusoidal squared",
              "10 5 3 9 3 10"
            ],
            "_view_name": "DropdownView",
            "style": "IPY_MODEL_218fae6dbd1041b8aef145372ddb12f9",
            "_dom_classes": [],
            "description": "f",
            "_model_name": "DropdownModel",
            "index": 1,
            "_view_module": "@jupyter-widgets/controls",
            "_model_module_version": "1.5.0",
            "_view_count": null,
            "disabled": false,
            "_view_module_version": "1.5.0",
            "description_tooltip": null,
            "_model_module": "@jupyter-widgets/controls",
            "layout": "IPY_MODEL_80db31cdfbd7480ea52d32d8a443165f"
          }
        },
        "68af7ac7692f481181930edbaaa87585": {
          "model_module": "@jupyter-widgets/output",
          "model_name": "OutputModel",
          "state": {
            "_view_name": "OutputView",
            "msg_id": "",
            "_dom_classes": [],
            "_model_name": "OutputModel",
            "outputs": [
              {
                "output_type": "stream",
                "metadata": {
                  "tags": []
                },
                "text": "F =  [(6-0j), 0j, (-3+0j), (-0-0j), (-0-0j), -0j, (-0-0j), 0j, (-0+0j), (-0+0j), (-3-0j), -0j]\n",
                "stream": "stdout"
              }
            ],
            "_view_module": "@jupyter-widgets/output",
            "_model_module_version": "1.0.0",
            "_view_count": null,
            "_view_module_version": "1.0.0",
            "layout": "IPY_MODEL_b28e9cae1ab4466e9860b4e71d9e084b",
            "_model_module": "@jupyter-widgets/output"
          }
        },
        "218fae6dbd1041b8aef145372ddb12f9": {
          "model_module": "@jupyter-widgets/controls",
          "model_name": "DescriptionStyleModel",
          "state": {
            "_view_name": "StyleView",
            "_model_name": "DescriptionStyleModel",
            "description_width": "",
            "_view_module": "@jupyter-widgets/base",
            "_model_module_version": "1.5.0",
            "_view_count": null,
            "_view_module_version": "1.2.0",
            "_model_module": "@jupyter-widgets/controls"
          }
        },
        "80db31cdfbd7480ea52d32d8a443165f": {
          "model_module": "@jupyter-widgets/base",
          "model_name": "LayoutModel",
          "state": {
            "_view_name": "LayoutView",
            "grid_template_rows": null,
            "right": null,
            "justify_content": null,
            "_view_module": "@jupyter-widgets/base",
            "overflow": null,
            "_model_module_version": "1.2.0",
            "_view_count": null,
            "flex_flow": null,
            "width": null,
            "min_width": null,
            "border": null,
            "align_items": null,
            "bottom": null,
            "_model_module": "@jupyter-widgets/base",
            "top": null,
            "grid_column": null,
            "overflow_y": null,
            "overflow_x": null,
            "grid_auto_flow": null,
            "grid_area": null,
            "grid_template_columns": null,
            "flex": null,
            "_model_name": "LayoutModel",
            "justify_items": null,
            "grid_row": null,
            "max_height": null,
            "align_content": null,
            "visibility": null,
            "align_self": null,
            "height": null,
            "min_height": null,
            "padding": null,
            "grid_auto_rows": null,
            "grid_gap": null,
            "max_width": null,
            "order": null,
            "_view_module_version": "1.2.0",
            "grid_template_areas": null,
            "object_position": null,
            "object_fit": null,
            "grid_auto_columns": null,
            "margin": null,
            "display": null,
            "left": null
          }
        },
        "b28e9cae1ab4466e9860b4e71d9e084b": {
          "model_module": "@jupyter-widgets/base",
          "model_name": "LayoutModel",
          "state": {
            "_view_name": "LayoutView",
            "grid_template_rows": null,
            "right": null,
            "justify_content": null,
            "_view_module": "@jupyter-widgets/base",
            "overflow": null,
            "_model_module_version": "1.2.0",
            "_view_count": null,
            "flex_flow": null,
            "width": null,
            "min_width": null,
            "border": null,
            "align_items": null,
            "bottom": null,
            "_model_module": "@jupyter-widgets/base",
            "top": null,
            "grid_column": null,
            "overflow_y": null,
            "overflow_x": null,
            "grid_auto_flow": null,
            "grid_area": null,
            "grid_template_columns": null,
            "flex": null,
            "_model_name": "LayoutModel",
            "justify_items": null,
            "grid_row": null,
            "max_height": null,
            "align_content": null,
            "visibility": null,
            "align_self": null,
            "height": null,
            "min_height": null,
            "padding": null,
            "grid_auto_rows": null,
            "grid_gap": null,
            "max_width": null,
            "order": null,
            "_view_module_version": "1.2.0",
            "grid_template_areas": null,
            "object_position": null,
            "object_fit": null,
            "grid_auto_columns": null,
            "margin": null,
            "display": null,
            "left": null
          }
        }
      }
    }
  },
  "cells": [
    {
      "cell_type": "markdown",
      "metadata": {
        "id": "view-in-github",
        "colab_type": "text"
      },
      "source": [
        "<a href=\"https://colab.research.google.com/github/dssp-ethz/DSSP-Illustrations/blob/main/DSSP_Discrete_Fourier_Transform.ipynb\" target=\"_parent\"><img src=\"https://colab.research.google.com/assets/colab-badge.svg\" alt=\"Open In Colab\"/></a>"
      ]
    },
    {
      "cell_type": "markdown",
      "metadata": {
        "id": "3y04DTDd72Vw"
      },
      "source": [
        "# Discrete Fourier Transform"
      ]
    },
    {
      "cell_type": "markdown",
      "metadata": {
        "id": "rT2bCEEg73Xr"
      },
      "source": [
        "The following code uses SciPy to compute the discrete fourier transform as introduced in the lecture notes on page 72 (as of 2020). You may play around with the values in the time domain as well as the signal length and plot the results."
      ]
    },
    {
      "cell_type": "code",
      "metadata": {
        "id": "RPbVyEta7vmR",
        "colab": {
          "base_uri": "https://localhost:8080/",
          "height": 66,
          "referenced_widgets": [
            "3879ef9e082746a98f3509949924cbfb",
            "82d85f8937d34dc6bcc4f22f97c2ca53",
            "b88cf0576d584523bc58055c65d20a70",
            "68af7ac7692f481181930edbaaa87585",
            "218fae6dbd1041b8aef145372ddb12f9",
            "80db31cdfbd7480ea52d32d8a443165f",
            "b28e9cae1ab4466e9860b4e71d9e084b"
          ]
        },
        "outputId": "a5dcf303-7dae-444b-aeb1-47e6d380ab74"
      },
      "source": [
        "import ipywidgets as widgets\n",
        "import numpy as np\n",
        "from scipy.fft import fft\n",
        "import matplotlib.pyplot as plt\n",
        "%matplotlib inline\n",
        "#-------------------------------------------------------------------------------\n",
        "\n",
        "#Important Stuff\n",
        "############################################################################\n",
        "def compute_dft(fG):\n",
        "  return [np.round(v,2) for v in fft(fG)] #computes DFT (rounding to 2 decimal places) as FFT (fast fourier transform)\n",
        "############################################################################\n",
        "\n",
        "fG = []\n",
        "FG = []\n",
        "def update_parameters(f):\n",
        "  global fG, FG\n",
        "  time = np.arange(0,2*np.pi,np.pi/6)\n",
        "\n",
        "  if f == 'sinusoidal':\n",
        "    fG = np.sin(time).tolist()\n",
        "  \n",
        "  elif f == 'sinusoidal squared':\n",
        "    fG = (np.sin(time)**2).tolist()\n",
        "  elif f == '10 5 3 9 3 10':\n",
        "    fG = [10, 5, 3, 9, 3, 10]\n",
        "\n",
        "  FG = compute_dft(fG)\n",
        "  print(\"F = \", list(FG))\n",
        "\n",
        "  #global fG, FG\n",
        "  #try:\n",
        "  #  fG = [int(s) for s in f.split()]\n",
        "  #  FG = compute_dft(fG)\n",
        "  #  print(\"F = \", list(FG))\n",
        "  #except:\n",
        "  #  pass #catches bad input\n",
        "\n",
        "widgets.interact(update_parameters, f=['sinusoidal', 'sinusoidal squared', '10 5 3 9 3 10'],);\n",
        "\n",
        "def illustrate():\n",
        "  fig, (ax1, ax2) = plt.subplots(1, 2, figsize=(12, 8))\n",
        "  ax1.set_xlabel('$k$', fontsize=14)\n",
        "  ax1.set_ylabel('$abs(f[k]])$', fontsize=14)\n",
        "  ax1.stem(range(len(fG)), np.abs(fG))\n",
        "\n",
        "  ax2.set_xlabel('$n$', fontsize=14)\n",
        "  ax2.set_ylabel('$abs(f[n])$', fontsize=14)\n",
        "  ax2.stem(range(len(FG)), np.abs(FG))"
      ],
      "execution_count": 15,
      "outputs": [
        {
          "output_type": "display_data",
          "data": {
            "application/vnd.jupyter.widget-view+json": {
              "model_id": "3879ef9e082746a98f3509949924cbfb",
              "version_minor": 0,
              "version_major": 2
            },
            "text/plain": [
              "interactive(children=(Dropdown(description='f', options=('sinusoidal', 'sinusoidal squared', '10 5 3 9 3 10'),…"
            ]
          },
          "metadata": {
            "tags": []
          }
        }
      ]
    },
    {
      "cell_type": "markdown",
      "metadata": {
        "id": "jqcAj5in79hS"
      },
      "source": [
        "Try out the discrete fourier transform with different values (and different signal lengths). The graphs are plotted below for illustration."
      ]
    },
    {
      "cell_type": "code",
      "metadata": {
        "id": "jcYD7tWk7_XL",
        "colab": {
          "base_uri": "https://localhost:8080/",
          "height": 556
        },
        "outputId": "82edae41-400f-471f-96aa-b441fdad4205"
      },
      "source": [
        "illustrate()"
      ],
      "execution_count": 19,
      "outputs": [
        {
          "output_type": "stream",
          "text": [
            "/usr/local/lib/python3.7/dist-packages/ipykernel_launcher.py:45: UserWarning: In Matplotlib 3.3 individual lines on a stem plot will be added as a LineCollection instead of individual lines. This significantly improves the performance of a stem plot. To remove this warning and switch to the new behaviour, set the \"use_line_collection\" keyword argument to True.\n",
            "/usr/local/lib/python3.7/dist-packages/ipykernel_launcher.py:49: UserWarning: In Matplotlib 3.3 individual lines on a stem plot will be added as a LineCollection instead of individual lines. This significantly improves the performance of a stem plot. To remove this warning and switch to the new behaviour, set the \"use_line_collection\" keyword argument to True.\n"
          ],
          "name": "stderr"
        },
        {
          "output_type": "display_data",
          "data": {
            "image/png": "[encoded data removed]",
            "text/plain": [
              "<Figure size 864x576 with 2 Axes>"
            ]
          },
          "metadata": {
            "tags": [],
            "needs_background": "light"
          }
        }
      ]
    },
    {
      "cell_type": "markdown",
      "metadata": {
        "id": "Gvhy5wpX8CCF"
      },
      "source": [
        "# Fast Fourier Transform"
      ]
    },
    {
      "cell_type": "markdown",
      "metadata": {
        "id": "ySN6jAp58FEV"
      },
      "source": [
        "We wish to compute the discrete fourier transform (DFT) of a signal $f[k]$ which we assume has length $N$. We know the DFT to be given by\n",
        "$$F[n] = F(\\alpha^n) = \\sum\\limits_{k=0}^{N-1} f[k] \\alpha^{-kn}$$\n",
        "Computing the DFT for $n \\in \\{0,\\ldots,N-1\\}$ thus runs in $\\mathcal{O}(N^2)$.\n",
        "\n",
        "The Cooley-Tukey FFT (page 77 as of 2020) improves the runtime of the DFT to $\\mathcal{O}(\\log(N) \\cdot N)$. We shall quickly motivate its construction. <br>\n",
        "Assuming $N = N_1 \\cdot N_2$ we can decompose $F(z)$ into $F(z) = \\sum\\limits_{k_1=0}^{N_1-1} F_{k_1} (z^{N_1}) z^{-k_1}$ and $F_{k_1} (z) = \\sum\\limits_{k_2=0}^{N_2-1} f[N_1 k_2 + k_1] z^{-k_2}$. We can use the same decomposition for the DFT with $n = N_2 n_1 + n_2$ to get\n",
        "$$F[N_2 n_1 + n_2] = \\sum\\limits_{k_1=0}^{N_1-1} \\left[ F_{k_1} ((\\alpha^{N_1})^{n_2}) \\alpha^{-k_1 n_2} \\right] (\\alpha^N_2)^{-k_1 n_1}$$\n",
        "\n",
        "Thus instead of calculating 1 DFT of size $N = N_1 \\cdot N_2$ we can calculate $N_1$ DFT's of size $N_2$ cutting the runtime from $N^2 = N_1^2 \\cdot N_2^2$ to $N_1 \\cdot N_2^2$. We can perform this decomposition repeatedly until we only have to compute very small DFT's. Of course there are additional operations that need to be done to combine the results, but the main savings leading to a runtime of $\\mathcal{O}(\\log(N)\\cdot N)$ should be clear.\n",
        "\n",
        "We may implement the aforementioned decomposition of the DFT in a 5 step procedure as describe in the lecture notes on page 78 (as of 2020). The steps are:\n",
        "\n",
        "\n",
        "\n",
        "1.   Write the data row after row into a matrix with $N_2$ rows and $N_1$ columns.\n",
        "2.   Replace every column by its DFT with $\\alpha_1 = \\alpha^N_1$.\n",
        "3.   Multiply every element of the matrix with  $\\alpha^{- k_1 n_2}$ where $n_2$ indicates the row and $k_1$ the column (0 indexed).\n",
        "4.   Replace every row by its DFT with $\\alpha_2 = \\alpha^{N_2}$.\n",
        "5.   Read data column after column."
      ]
    },
    {
      "cell_type": "code",
      "metadata": {
        "id": "1Kep1OIj8CrR"
      },
      "source": [
        "import ipywidgets as widgets\n",
        "import numpy as np\n",
        "import matplotlib.pyplot as plt\n",
        "%matplotlib inline\n",
        "#-------------------------------------------------------------------------------\n",
        "\n",
        "#Important Stuff\n",
        "################################################################################\n",
        "def dft(f, alpha):\n",
        "  F = [0]*len(f)\n",
        "  for n in range(len(F)):\n",
        "    for k in range(len(f)):\n",
        "      F[n] += f[k] * alpha**(- k * n)\n",
        "  return F\n",
        "\n",
        "def step_by_step_dft(f):\n",
        "  #convert to table \n",
        "    f_table = np.resize(f, (N_2, N_1))\n",
        "\n",
        "    f_table_columnDFT = np.zeros(f_table.shape, dtype = 'complex_')\n",
        "    for c in range(N_1):\n",
        "      f_table_columnDFT[:,c] = dft(f_table[:,c], alpha**(N_1))\n",
        "      \n",
        "    f_table_columnDFT_adjusted = np.zeros(f_table_columnDFT.shape, dtype = 'complex_')\n",
        "    for k_1 in range(N_1):\n",
        "      for n_2 in range(N_2):\n",
        "        f_table_columnDFT_adjusted[n_2, k_1] = f_table_columnDFT[n_2, k_1] * alpha**(- k_1 * n_2)\n",
        "\n",
        "    f_tableDFT = np.zeros(f_table_columnDFT_adjusted.shape, dtype = 'complex_')\n",
        "    for r in range(N_2):\n",
        "      f_tableDFT[r,:] = dft(f_table_columnDFT_adjusted[r,:], alpha**(N_2))\n",
        "\n",
        "    f_DFT = np.reshape(f_tableDFT, (f.size,1))\n",
        "\n",
        "    return (f_table, f_table_columnDFT, f_table_columnDFT_adjusted, f_tableDFT, f_DFT)\n",
        "################################################################################\n",
        "\n",
        "def update(N_1, f):\n",
        "  try:\n",
        "    f = np.array([int(s) for s in f.split()])\n",
        "    f.reshape(f.size,1)\n",
        "    alpha = np.exp(2j*np.pi/f.size)\n",
        "    if f.size % N_1 != 0:\n",
        "      raise #exception thrown since reshaping is impossible\n",
        "    N_2 = f.size//N_1\n",
        "\n",
        "    (f_table, f_table_columnDFT, f_table_columnDFT_adjusted, f_tableDFT, f_DFT) = step_by_step_dft(f)\n",
        "\n",
        "    print(np.round(f, 2))\n",
        "    print(\"\\nStep 1\")\n",
        "    print(np.round(f_table, 2))\n",
        "    print(\"\\nStep 2\")\n",
        "    print(np.round(f_table_columnDFT, 2))\n",
        "    print(\"\\nStep 3\")\n",
        "    print(np.round(f_table_columnDFT_adjusted, 2))\n",
        "    print(\"\\nStep 4\")\n",
        "    print(np.round(f_tableDFT, 2))\n",
        "    print(\"\\nStep 5\")\n",
        "    print(np.round(f_DFT, 2))\n",
        "    print(\"\\nF = \", np.reshape(np.round(f_DFT, 2),(1,f_DFT.size)).tolist()[0])\n",
        "  except:\n",
        "    pass #catches bad input as well as invalid dimensions\n",
        "widgets.interact(update, N_1 = widgets.IntSlider(min=1, max=5, value=2), f=\"10 5 3 9 3 10\");"
      ],
      "execution_count": null,
      "outputs": []
    },
    {
      "cell_type": "markdown",
      "metadata": {
        "id": "M9UGA3W58MAg"
      },
      "source": [
        "[(40-0j), (5.5+4.33j), (8.5+4.33j), (-8-0j), (8.5-4.33j), (5.5-4.33j)]"
      ]
    },
    {
      "cell_type": "markdown",
      "metadata": {
        "id": "_5yFonot8Mbv"
      },
      "source": [
        "Above you can see the 5 steps of the FFT decomposition perform on an adjustable signal. You may also change the layout of the decomposition by changing the parameter $N_1$."
      ]
    }
  ]
}