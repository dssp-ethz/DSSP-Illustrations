{
  "nbformat": 4,
  "nbformat_minor": 0,
  "metadata": {
    "colab": {
      "name": "Discrete Fourier Transform.ipynb",
      "provenance": [],
      "collapsed_sections": [],
      "authorship_tag": "ABX9TyMk86XONSmFGUoTxaf+MW4K",
      "include_colab_link": true
    },
    "kernelspec": {
      "name": "python3",
      "display_name": "Python 3"
    },
    "language_info": {
      "name": "python"
    },
    "widgets": {
      "application/vnd.jupyter.widget-state+json": {
        "9f0421d4468d419d89b93b5c977a0bcf": {
          "model_module": "@jupyter-widgets/controls",
          "model_name": "VBoxModel",
          "model_module_version": "1.5.0",
          "state": {
            "_view_name": "VBoxView",
            "_dom_classes": [
              "widget-interact"
            ],
            "_model_name": "VBoxModel",
            "_view_module": "@jupyter-widgets/controls",
            "_model_module_version": "1.5.0",
            "_view_count": null,
            "_view_module_version": "1.5.0",
            "box_style": "",
            "layout": "IPY_MODEL_d69fced7e51445f496609ba7c8f70e7b",
            "_model_module": "@jupyter-widgets/controls",
            "children": [
              "IPY_MODEL_0b590667543240bb8c34aa7a6874b7c7",
              "IPY_MODEL_cdeee9834c6f473fa90de5046ca95782"
            ]
          }
        },
        "d69fced7e51445f496609ba7c8f70e7b": {
          "model_module": "@jupyter-widgets/base",
          "model_name": "LayoutModel",
          "model_module_version": "1.2.0",
          "state": {
            "_view_name": "LayoutView",
            "grid_template_rows": null,
            "right": null,
            "justify_content": null,
            "_view_module": "@jupyter-widgets/base",
            "overflow": null,
            "_model_module_version": "1.2.0",
            "_view_count": null,
            "flex_flow": null,
            "width": null,
            "min_width": null,
            "border": null,
            "align_items": null,
            "bottom": null,
            "_model_module": "@jupyter-widgets/base",
            "top": null,
            "grid_column": null,
            "overflow_y": null,
            "overflow_x": null,
            "grid_auto_flow": null,
            "grid_area": null,
            "grid_template_columns": null,
            "flex": null,
            "_model_name": "LayoutModel",
            "justify_items": null,
            "grid_row": null,
            "max_height": null,
            "align_content": null,
            "visibility": null,
            "align_self": null,
            "height": null,
            "min_height": null,
            "padding": null,
            "grid_auto_rows": null,
            "grid_gap": null,
            "max_width": null,
            "order": null,
            "_view_module_version": "1.2.0",
            "grid_template_areas": null,
            "object_position": null,
            "object_fit": null,
            "grid_auto_columns": null,
            "margin": null,
            "display": null,
            "left": null
          }
        },
        "0b590667543240bb8c34aa7a6874b7c7": {
          "model_module": "@jupyter-widgets/controls",
          "model_name": "DropdownModel",
          "model_module_version": "1.5.0",
          "state": {
            "_options_labels": [
              "matched sinusoidal",
              "unmatched sinusoidal",
              "matched sinusoidal squared",
              "10 5 3 9 3 10"
            ],
            "_view_name": "DropdownView",
            "style": "IPY_MODEL_678a5480c1fa474693dd4ec57284f9b8",
            "_dom_classes": [],
            "description": "f",
            "_model_name": "DropdownModel",
            "index": 3,
            "_view_module": "@jupyter-widgets/controls",
            "_model_module_version": "1.5.0",
            "_view_count": null,
            "disabled": false,
            "_view_module_version": "1.5.0",
            "description_tooltip": null,
            "_model_module": "@jupyter-widgets/controls",
            "layout": "IPY_MODEL_0fd124bcc17048a19c4f13fd4889163d"
          }
        },
        "cdeee9834c6f473fa90de5046ca95782": {
          "model_module": "@jupyter-widgets/output",
          "model_name": "OutputModel",
          "model_module_version": "1.0.0",
          "state": {
            "_view_name": "OutputView",
            "msg_id": "",
            "_dom_classes": [],
            "_model_name": "OutputModel",
            "outputs": [
              {
                "output_type": "stream",
                "name": "stdout",
                "text": [
                  "F =  [(40-0j), (5.5+4.33j), (8.5+4.33j), (-8-0j), (8.5-4.33j), (5.5-4.33j)]\n"
                ]
              }
            ],
            "_view_module": "@jupyter-widgets/output",
            "_model_module_version": "1.0.0",
            "_view_count": null,
            "_view_module_version": "1.0.0",
            "layout": "IPY_MODEL_e1060fa9b70e470a838f86892280f8e9",
            "_model_module": "@jupyter-widgets/output"
          }
        },
        "678a5480c1fa474693dd4ec57284f9b8": {
          "model_module": "@jupyter-widgets/controls",
          "model_name": "DescriptionStyleModel",
          "model_module_version": "1.5.0",
          "state": {
            "_view_name": "StyleView",
            "_model_name": "DescriptionStyleModel",
            "description_width": "",
            "_view_module": "@jupyter-widgets/base",
            "_model_module_version": "1.5.0",
            "_view_count": null,
            "_view_module_version": "1.2.0",
            "_model_module": "@jupyter-widgets/controls"
          }
        },
        "0fd124bcc17048a19c4f13fd4889163d": {
          "model_module": "@jupyter-widgets/base",
          "model_name": "LayoutModel",
          "model_module_version": "1.2.0",
          "state": {
            "_view_name": "LayoutView",
            "grid_template_rows": null,
            "right": null,
            "justify_content": null,
            "_view_module": "@jupyter-widgets/base",
            "overflow": null,
            "_model_module_version": "1.2.0",
            "_view_count": null,
            "flex_flow": null,
            "width": null,
            "min_width": null,
            "border": null,
            "align_items": null,
            "bottom": null,
            "_model_module": "@jupyter-widgets/base",
            "top": null,
            "grid_column": null,
            "overflow_y": null,
            "overflow_x": null,
            "grid_auto_flow": null,
            "grid_area": null,
            "grid_template_columns": null,
            "flex": null,
            "_model_name": "LayoutModel",
            "justify_items": null,
            "grid_row": null,
            "max_height": null,
            "align_content": null,
            "visibility": null,
            "align_self": null,
            "height": null,
            "min_height": null,
            "padding": null,
            "grid_auto_rows": null,
            "grid_gap": null,
            "max_width": null,
            "order": null,
            "_view_module_version": "1.2.0",
            "grid_template_areas": null,
            "object_position": null,
            "object_fit": null,
            "grid_auto_columns": null,
            "margin": null,
            "display": null,
            "left": null
          }
        },
        "e1060fa9b70e470a838f86892280f8e9": {
          "model_module": "@jupyter-widgets/base",
          "model_name": "LayoutModel",
          "model_module_version": "1.2.0",
          "state": {
            "_view_name": "LayoutView",
            "grid_template_rows": null,
            "right": null,
            "justify_content": null,
            "_view_module": "@jupyter-widgets/base",
            "overflow": null,
            "_model_module_version": "1.2.0",
            "_view_count": null,
            "flex_flow": null,
            "width": null,
            "min_width": null,
            "border": null,
            "align_items": null,
            "bottom": null,
            "_model_module": "@jupyter-widgets/base",
            "top": null,
            "grid_column": null,
            "overflow_y": null,
            "overflow_x": null,
            "grid_auto_flow": null,
            "grid_area": null,
            "grid_template_columns": null,
            "flex": null,
            "_model_name": "LayoutModel",
            "justify_items": null,
            "grid_row": null,
            "max_height": null,
            "align_content": null,
            "visibility": null,
            "align_self": null,
            "height": null,
            "min_height": null,
            "padding": null,
            "grid_auto_rows": null,
            "grid_gap": null,
            "max_width": null,
            "order": null,
            "_view_module_version": "1.2.0",
            "grid_template_areas": null,
            "object_position": null,
            "object_fit": null,
            "grid_auto_columns": null,
            "margin": null,
            "display": null,
            "left": null
          }
        },
        "740b84c81f0f449e849cfa71e06bb629": {
          "model_module": "@jupyter-widgets/controls",
          "model_name": "VBoxModel",
          "model_module_version": "1.5.0",
          "state": {
            "_view_name": "VBoxView",
            "_dom_classes": [
              "widget-interact"
            ],
            "_model_name": "VBoxModel",
            "_view_module": "@jupyter-widgets/controls",
            "_model_module_version": "1.5.0",
            "_view_count": null,
            "_view_module_version": "1.5.0",
            "box_style": "",
            "layout": "IPY_MODEL_aa8904c639ed419fa904fb60ddfd21a4",
            "_model_module": "@jupyter-widgets/controls",
            "children": [
              "IPY_MODEL_849d557aa13548968fb7f04bdf63f901",
              "IPY_MODEL_bdae649be95a4911bfe8dfae79852d07",
              "IPY_MODEL_3fdb65a21cba41ce98f88262f66008fe"
            ]
          }
        },
        "aa8904c639ed419fa904fb60ddfd21a4": {
          "model_module": "@jupyter-widgets/base",
          "model_name": "LayoutModel",
          "model_module_version": "1.2.0",
          "state": {
            "_view_name": "LayoutView",
            "grid_template_rows": null,
            "right": null,
            "justify_content": null,
            "_view_module": "@jupyter-widgets/base",
            "overflow": null,
            "_model_module_version": "1.2.0",
            "_view_count": null,
            "flex_flow": null,
            "width": null,
            "min_width": null,
            "border": null,
            "align_items": null,
            "bottom": null,
            "_model_module": "@jupyter-widgets/base",
            "top": null,
            "grid_column": null,
            "overflow_y": null,
            "overflow_x": null,
            "grid_auto_flow": null,
            "grid_area": null,
            "grid_template_columns": null,
            "flex": null,
            "_model_name": "LayoutModel",
            "justify_items": null,
            "grid_row": null,
            "max_height": null,
            "align_content": null,
            "visibility": null,
            "align_self": null,
            "height": null,
            "min_height": null,
            "padding": null,
            "grid_auto_rows": null,
            "grid_gap": null,
            "max_width": null,
            "order": null,
            "_view_module_version": "1.2.0",
            "grid_template_areas": null,
            "object_position": null,
            "object_fit": null,
            "grid_auto_columns": null,
            "margin": null,
            "display": null,
            "left": null
          }
        },
        "849d557aa13548968fb7f04bdf63f901": {
          "model_module": "@jupyter-widgets/controls",
          "model_name": "IntSliderModel",
          "model_module_version": "1.5.0",
          "state": {
            "_view_name": "IntSliderView",
            "style": "IPY_MODEL_43e72367d2924d55bd5400ddcd96a0e0",
            "_dom_classes": [],
            "description": "N_1",
            "step": 1,
            "_model_name": "IntSliderModel",
            "orientation": "horizontal",
            "max": 5,
            "_view_module": "@jupyter-widgets/controls",
            "_model_module_version": "1.5.0",
            "value": 3,
            "_view_count": null,
            "disabled": false,
            "_view_module_version": "1.5.0",
            "min": 1,
            "continuous_update": true,
            "readout_format": "d",
            "description_tooltip": null,
            "readout": true,
            "_model_module": "@jupyter-widgets/controls",
            "layout": "IPY_MODEL_fb6ffe56e7084550ad02f07780a3c7e0"
          }
        },
        "bdae649be95a4911bfe8dfae79852d07": {
          "model_module": "@jupyter-widgets/controls",
          "model_name": "TextModel",
          "model_module_version": "1.5.0",
          "state": {
            "_view_name": "TextView",
            "style": "IPY_MODEL_59f6e271cab34017bd23a1dd2a8fc534",
            "_dom_classes": [],
            "description": "f",
            "_model_name": "TextModel",
            "placeholder": "​",
            "_view_module": "@jupyter-widgets/controls",
            "_model_module_version": "1.5.0",
            "value": "10 5 3 9 3 10",
            "_view_count": null,
            "disabled": false,
            "_view_module_version": "1.5.0",
            "continuous_update": true,
            "description_tooltip": null,
            "_model_module": "@jupyter-widgets/controls",
            "layout": "IPY_MODEL_96391cc7ff36490bbc332c6fa4159a7b"
          }
        },
        "3fdb65a21cba41ce98f88262f66008fe": {
          "model_module": "@jupyter-widgets/output",
          "model_name": "OutputModel",
          "model_module_version": "1.0.0",
          "state": {
            "_view_name": "OutputView",
            "msg_id": "",
            "_dom_classes": [],
            "_model_name": "OutputModel",
            "outputs": [
              {
                "output_type": "stream",
                "name": "stdout",
                "text": [
                  "[10  5  3  9  3 10]\n",
                  "\n",
                  "Step 1\n",
                  "[[10  5  3]\n",
                  " [ 9  3 10]]\n",
                  "\n",
                  "Step 2\n",
                  "[[19.+0.j  8.+0.j 13.+0.j]\n",
                  " [ 1.-0.j  2.-0.j -7.-0.j]]\n",
                  "\n",
                  "Step 3\n",
                  "[[19. +0.j    8. +0.j   13. +0.j  ]\n",
                  " [ 1. -0.j    1. -1.73j  3.5+6.06j]]\n",
                  "\n",
                  "Step 4\n",
                  "[[40. +0.j    8.5+4.33j  8.5-4.33j]\n",
                  " [ 5.5+4.33j -8. -0.j    5.5-4.33j]]\n",
                  "\n",
                  "Step 5\n",
                  "[40. +0.j    5.5+4.33j  8.5+4.33j -8. -0.j    8.5-4.33j  5.5-4.33j]\n",
                  "\n",
                  "F =  [(40+0j), (5.5+4.33j), (8.5+4.33j), (-8-0j), (8.5-4.33j), (5.5-4.33j)]\n"
                ]
              }
            ],
            "_view_module": "@jupyter-widgets/output",
            "_model_module_version": "1.0.0",
            "_view_count": null,
            "_view_module_version": "1.0.0",
            "layout": "IPY_MODEL_ced245a3bb604f0e98324a30dad9314c",
            "_model_module": "@jupyter-widgets/output"
          }
        },
        "43e72367d2924d55bd5400ddcd96a0e0": {
          "model_module": "@jupyter-widgets/controls",
          "model_name": "SliderStyleModel",
          "model_module_version": "1.5.0",
          "state": {
            "_view_name": "StyleView",
            "handle_color": null,
            "_model_name": "SliderStyleModel",
            "description_width": "",
            "_view_module": "@jupyter-widgets/base",
            "_model_module_version": "1.5.0",
            "_view_count": null,
            "_view_module_version": "1.2.0",
            "_model_module": "@jupyter-widgets/controls"
          }
        },
        "fb6ffe56e7084550ad02f07780a3c7e0": {
          "model_module": "@jupyter-widgets/base",
          "model_name": "LayoutModel",
          "model_module_version": "1.2.0",
          "state": {
            "_view_name": "LayoutView",
            "grid_template_rows": null,
            "right": null,
            "justify_content": null,
            "_view_module": "@jupyter-widgets/base",
            "overflow": null,
            "_model_module_version": "1.2.0",
            "_view_count": null,
            "flex_flow": null,
            "width": null,
            "min_width": null,
            "border": null,
            "align_items": null,
            "bottom": null,
            "_model_module": "@jupyter-widgets/base",
            "top": null,
            "grid_column": null,
            "overflow_y": null,
            "overflow_x": null,
            "grid_auto_flow": null,
            "grid_area": null,
            "grid_template_columns": null,
            "flex": null,
            "_model_name": "LayoutModel",
            "justify_items": null,
            "grid_row": null,
            "max_height": null,
            "align_content": null,
            "visibility": null,
            "align_self": null,
            "height": null,
            "min_height": null,
            "padding": null,
            "grid_auto_rows": null,
            "grid_gap": null,
            "max_width": null,
            "order": null,
            "_view_module_version": "1.2.0",
            "grid_template_areas": null,
            "object_position": null,
            "object_fit": null,
            "grid_auto_columns": null,
            "margin": null,
            "display": null,
            "left": null
          }
        },
        "59f6e271cab34017bd23a1dd2a8fc534": {
          "model_module": "@jupyter-widgets/controls",
          "model_name": "DescriptionStyleModel",
          "model_module_version": "1.5.0",
          "state": {
            "_view_name": "StyleView",
            "_model_name": "DescriptionStyleModel",
            "description_width": "",
            "_view_module": "@jupyter-widgets/base",
            "_model_module_version": "1.5.0",
            "_view_count": null,
            "_view_module_version": "1.2.0",
            "_model_module": "@jupyter-widgets/controls"
          }
        },
        "96391cc7ff36490bbc332c6fa4159a7b": {
          "model_module": "@jupyter-widgets/base",
          "model_name": "LayoutModel",
          "model_module_version": "1.2.0",
          "state": {
            "_view_name": "LayoutView",
            "grid_template_rows": null,
            "right": null,
            "justify_content": null,
            "_view_module": "@jupyter-widgets/base",
            "overflow": null,
            "_model_module_version": "1.2.0",
            "_view_count": null,
            "flex_flow": null,
            "width": null,
            "min_width": null,
            "border": null,
            "align_items": null,
            "bottom": null,
            "_model_module": "@jupyter-widgets/base",
            "top": null,
            "grid_column": null,
            "overflow_y": null,
            "overflow_x": null,
            "grid_auto_flow": null,
            "grid_area": null,
            "grid_template_columns": null,
            "flex": null,
            "_model_name": "LayoutModel",
            "justify_items": null,
            "grid_row": null,
            "max_height": null,
            "align_content": null,
            "visibility": null,
            "align_self": null,
            "height": null,
            "min_height": null,
            "padding": null,
            "grid_auto_rows": null,
            "grid_gap": null,
            "max_width": null,
            "order": null,
            "_view_module_version": "1.2.0",
            "grid_template_areas": null,
            "object_position": null,
            "object_fit": null,
            "grid_auto_columns": null,
            "margin": null,
            "display": null,
            "left": null
          }
        },
        "ced245a3bb604f0e98324a30dad9314c": {
          "model_module": "@jupyter-widgets/base",
          "model_name": "LayoutModel",
          "model_module_version": "1.2.0",
          "state": {
            "_view_name": "LayoutView",
            "grid_template_rows": null,
            "right": null,
            "justify_content": null,
            "_view_module": "@jupyter-widgets/base",
            "overflow": null,
            "_model_module_version": "1.2.0",
            "_view_count": null,
            "flex_flow": null,
            "width": null,
            "min_width": null,
            "border": null,
            "align_items": null,
            "bottom": null,
            "_model_module": "@jupyter-widgets/base",
            "top": null,
            "grid_column": null,
            "overflow_y": null,
            "overflow_x": null,
            "grid_auto_flow": null,
            "grid_area": null,
            "grid_template_columns": null,
            "flex": null,
            "_model_name": "LayoutModel",
            "justify_items": null,
            "grid_row": null,
            "max_height": null,
            "align_content": null,
            "visibility": null,
            "align_self": null,
            "height": null,
            "min_height": null,
            "padding": null,
            "grid_auto_rows": null,
            "grid_gap": null,
            "max_width": null,
            "order": null,
            "_view_module_version": "1.2.0",
            "grid_template_areas": null,
            "object_position": null,
            "object_fit": null,
            "grid_auto_columns": null,
            "margin": null,
            "display": null,
            "left": null
          }
        }
      }
    }
  },
  "cells": [
    {
      "cell_type": "markdown",
      "metadata": {
        "id": "view-in-github",
        "colab_type": "text"
      },
      "source": [
        "<a href=\"https://colab.research.google.com/github/dssp-ethz/DSSP-Illustrations/blob/main/Discrete_Fourier_Transform.ipynb\" target=\"_parent\"><img src=\"https://colab.research.google.com/assets/colab-badge.svg\" alt=\"Open In Colab\"/></a>"
      ]
    },
    {
      "cell_type": "markdown",
      "metadata": {
        "id": "3AfsK99RJ8rD"
      },
      "source": [
        "*Notebook designed by Nicolas Menet in collaboration with Guy Revach.*"
      ]
    },
    {
      "cell_type": "markdown",
      "metadata": {
        "id": "3y04DTDd72Vw"
      },
      "source": [
        "# Discrete Fourier Transform"
      ]
    },
    {
      "cell_type": "markdown",
      "metadata": {
        "id": "rT2bCEEg73Xr"
      },
      "source": [
        "The following code uses SciPy to compute the discrete fourier transform as introduced in the lecture notes on page 72 (as of 2020). You may play around with the values in the time domain as well as the signal length and plot the results."
      ]
    },
    {
      "cell_type": "code",
      "metadata": {
        "id": "RPbVyEta7vmR",
        "colab": {
          "base_uri": "https://localhost:8080/",
          "height": 66,
          "referenced_widgets": [
            "9f0421d4468d419d89b93b5c977a0bcf",
            "d69fced7e51445f496609ba7c8f70e7b",
            "0b590667543240bb8c34aa7a6874b7c7",
            "cdeee9834c6f473fa90de5046ca95782",
            "678a5480c1fa474693dd4ec57284f9b8",
            "0fd124bcc17048a19c4f13fd4889163d",
            "e1060fa9b70e470a838f86892280f8e9"
          ]
        },
        "outputId": "06eb877b-227d-45af-c6ec-c21035a84a2d"
      },
      "source": [
        "import ipywidgets as widgets\n",
        "import numpy as np\n",
        "from scipy.fft import fft\n",
        "import matplotlib.pyplot as plt\n",
        "%matplotlib inline\n",
        "#-------------------------------------------------------------------------------\n",
        "\n",
        "#Important Stuff\n",
        "############################################################################\n",
        "def compute_dft(fG):\n",
        "  return [np.round(v,2) for v in fft(fG)] #computes DFT (rounding to 2 decimal places) as FFT (fast fourier transform)\n",
        "############################################################################\n",
        "\n",
        "fG = []\n",
        "FG = []\n",
        "def update_parameters(f):\n",
        "  global fG, FG\n",
        "  time = np.arange(0,2*np.pi,np.pi/6)\n",
        "\n",
        "  if f == 'matched sinusoidal':\n",
        "    fG = np.sin(time).tolist()\n",
        "\n",
        "  elif f == 'unmatched sinusoidal':\n",
        "    fG = np.sin(1.5*time).tolist()\n",
        "  \n",
        "  elif f == 'matched sinusoidal squared':\n",
        "    fG = (np.sin(time)**2).tolist()\n",
        "  elif f == '10 5 3 9 3 10':\n",
        "    fG = [10, 5, 3, 9, 3, 10]\n",
        "\n",
        "  FG = compute_dft(fG)\n",
        "  print(\"F = \", list(FG))\n",
        "\n",
        "  #global fG, FG\n",
        "  #try:\n",
        "  #  fG = [int(s) for s in f.split()]\n",
        "  #  FG = compute_dft(fG)\n",
        "  #  print(\"F = \", list(FG))\n",
        "  #except:\n",
        "  #  pass #catches bad input\n",
        "\n",
        "widgets.interact(update_parameters, f=['matched sinusoidal', 'unmatched sinusoidal', 'matched sinusoidal squared', '10 5 3 9 3 10'],);\n",
        "\n",
        "def illustrate():\n",
        "  fig, (ax1, ax2) = plt.subplots(1, 2, figsize=(12, 8))\n",
        "  ax1.set_title('time domain')\n",
        "  ax1.set_xlabel('$k$', fontsize=14)\n",
        "  ax1.set_ylabel('$abs(f[k]])$', fontsize=14)\n",
        "  ax1.stem(range(len(fG)), np.abs(fG))\n",
        "\n",
        "  ax2.set_title('frequency domain')\n",
        "  ax2.set_xlabel('$n$', fontsize=14)\n",
        "  ax2.set_ylabel('$abs(f[n])$', fontsize=14)\n",
        "  ax2.stem(range(len(FG)), np.abs(FG))"
      ],
      "execution_count": 1,
      "outputs": [
        {
          "output_type": "display_data",
          "data": {
            "application/vnd.jupyter.widget-view+json": {
              "model_id": "9f0421d4468d419d89b93b5c977a0bcf",
              "version_minor": 0,
              "version_major": 2
            },
            "text/plain": [
              "interactive(children=(Dropdown(description='f', options=('matched sinusoidal', 'unmatched sinusoidal', 'matche…"
            ]
          },
          "metadata": {}
        }
      ]
    },
    {
      "cell_type": "markdown",
      "metadata": {
        "id": "jqcAj5in79hS"
      },
      "source": [
        "Try out the discrete fourier transform with different values (and different signal lengths). The graphs are plotted below for illustration."
      ]
    },
    {
      "cell_type": "code",
      "metadata": {
        "id": "jcYD7tWk7_XL",
        "colab": {
          "base_uri": "https://localhost:8080/",
          "height": 572
        },
        "outputId": "c899c361-5b2f-422b-fb4c-de043794f636"
      },
      "source": [
        "illustrate()"
      ],
      "execution_count": 2,
      "outputs": [
        {
          "output_type": "stream",
          "name": "stderr",
          "text": [
            "/usr/local/lib/python3.7/dist-packages/ipykernel_launcher.py:49: UserWarning: In Matplotlib 3.3 individual lines on a stem plot will be added as a LineCollection instead of individual lines. This significantly improves the performance of a stem plot. To remove this warning and switch to the new behaviour, set the \"use_line_collection\" keyword argument to True.\n",
            "/usr/local/lib/python3.7/dist-packages/ipykernel_launcher.py:54: UserWarning: In Matplotlib 3.3 individual lines on a stem plot will be added as a LineCollection instead of individual lines. This significantly improves the performance of a stem plot. To remove this warning and switch to the new behaviour, set the \"use_line_collection\" keyword argument to True.\n"
          ]
        },
        {
          "output_type": "display_data",
          "data": {
            "image/png": "[encoded data removed]",
            "text/plain": [
              "<Figure size 864x576 with 2 Axes>"
            ]
          },
          "metadata": {
            "needs_background": "light"
          }
        }
      ]
    },
    {
      "cell_type": "markdown",
      "metadata": {
        "id": "Gvhy5wpX8CCF"
      },
      "source": [
        "# Fast Fourier Transform"
      ]
    },
    {
      "cell_type": "markdown",
      "metadata": {
        "id": "ySN6jAp58FEV"
      },
      "source": [
        "We wish to compute the discrete fourier transform (DFT) of a signal $f[k]$ which we assume has length $N$. We know the DFT to be given by\n",
        "$$F[n] = F(\\alpha^n) = \\sum\\limits_{k=0}^{N-1} f[k] \\alpha^{-kn}$$\n",
        "Computing the DFT for $n \\in \\{0,\\ldots,N-1\\}$ thus runs in $\\mathcal{O}(N^2)$.\n",
        "\n",
        "The Cooley-Tukey FFT (page 77 as of 2020) improves the runtime of the DFT to $\\mathcal{O}(\\log(N) \\cdot N)$. We shall quickly motivate its construction. <br>\n",
        "Assuming $N = N_1 \\cdot N_2$ we can decompose $F(z)$ into $F(z) = \\sum\\limits_{k_1=0}^{N_1-1} F_{k_1} (z^{N_1}) z^{-k_1}$ and $F_{k_1} (z) = \\sum\\limits_{k_2=0}^{N_2-1} f[N_1 k_2 + k_1] z^{-k_2}$. We can use the same decomposition for the DFT with $n = N_2 n_1 + n_2$ (substituting $z = \\alpha^n$) to get\n",
        "$$F[N_2 n_1 + n_2] = \\sum\\limits_{k_1=0}^{N_1-1} \\left[ F_{k_1} ((\\alpha^{N_1})^{n_2}) \\alpha^{-k_1 n_2} \\right] (\\alpha^{N_2})^{-k_1 n_1}$$\n",
        "\n",
        "Thus instead of calculating 1 DFT of size $N = N_1 \\cdot N_2$ we can calculate $N_1$ DFT's of size $N_2$ cutting the runtime from $N^2 = N_1^2 \\cdot N_2^2$ to $N_1 \\cdot N_2^2$. We can perform this decomposition repeatedly until we only have to compute very small DFT's. Of course there are additional operations that need to be done to combine the results, but the main savings leading to a runtime of $\\mathcal{O}(\\log(N)\\cdot N)$ should be clear.\n",
        "\n",
        "We may implement the aforementioned decomposition of the DFT in a 5 step procedure as describe in the lecture notes on page 78 (as of 2020). The steps are:\n",
        "\n",
        "\n",
        "\n",
        "1.   Write the data row after row into a matrix with $N_2$ rows and $N_1$ columns.\n",
        "2.   Replace every column by its DFT with $\\alpha_1 = \\alpha^N_1$.\n",
        "3.   Multiply every element of the matrix with  $\\alpha^{- k_1 n_2}$ where $n_2$ indicates the row and $k_1$ the column (0 indexed).\n",
        "4.   Replace every row by its DFT with $\\alpha_2 = \\alpha^{N_2}$.\n",
        "5.   Read data column after column."
      ]
    },
    {
      "cell_type": "code",
      "metadata": {
        "id": "1Kep1OIj8CrR",
        "colab": {
          "base_uri": "https://localhost:8080/",
          "height": 456,
          "referenced_widgets": [
            "740b84c81f0f449e849cfa71e06bb629",
            "aa8904c639ed419fa904fb60ddfd21a4",
            "849d557aa13548968fb7f04bdf63f901",
            "bdae649be95a4911bfe8dfae79852d07",
            "3fdb65a21cba41ce98f88262f66008fe",
            "43e72367d2924d55bd5400ddcd96a0e0",
            "fb6ffe56e7084550ad02f07780a3c7e0",
            "59f6e271cab34017bd23a1dd2a8fc534",
            "96391cc7ff36490bbc332c6fa4159a7b",
            "ced245a3bb604f0e98324a30dad9314c"
          ]
        },
        "outputId": "65c5218c-3815-45b0-ef8e-08b6582b7d66"
      },
      "source": [
        "import ipywidgets as widgets\n",
        "import numpy as np\n",
        "import matplotlib.pyplot as plt\n",
        "%matplotlib inline\n",
        "#-------------------------------------------------------------------------------\n",
        "\n",
        "#Important Stuff\n",
        "################################################################################\n",
        "def dft(f, alpha):\n",
        "  F = [0]*len(f)\n",
        "  for n in range(len(F)):\n",
        "    for k in range(len(f)):\n",
        "      F[n] += f[k] * alpha**(- k * n)\n",
        "  return F\n",
        "\n",
        "def step_by_step_dft(f, N_1, N_2, alpha):\n",
        "  #convert to table \n",
        "    f_table = np.resize(f, (N_2, N_1))\n",
        "\n",
        "    f_table_columnDFT = np.zeros(f_table.shape, dtype = 'complex_')\n",
        "\n",
        "    for c in range(N_1):\n",
        "      f_table_columnDFT[:,c] = dft(f_table[:,c], alpha**(N_1))\n",
        "      \n",
        "    f_table_columnDFT_adjusted = np.zeros(f_table_columnDFT.shape, dtype = 'complex_')\n",
        "    for k_1 in range(N_1):\n",
        "      for n_2 in range(N_2):\n",
        "        f_table_columnDFT_adjusted[n_2, k_1] = f_table_columnDFT[n_2, k_1] * alpha**(- k_1 * n_2)\n",
        "\n",
        "    f_tableDFT = np.zeros(f_table_columnDFT_adjusted.shape, dtype = 'complex_')\n",
        "    for r in range(N_2):\n",
        "      f_tableDFT[r,:] = dft(f_table_columnDFT_adjusted[r,:], alpha**(N_2))\n",
        "\n",
        "    f_DFT = []\n",
        "    for column in range(N_1):\n",
        "      for row in range(N_2):\n",
        "        f_DFT.append(f_tableDFT[row, column])\n",
        "\n",
        "    f_DFT = np.array(f_DFT)\n",
        "\n",
        "    return (f_table, f_table_columnDFT, f_table_columnDFT_adjusted, f_tableDFT, f_DFT)\n",
        "################################################################################\n",
        "\n",
        "def update(N_1, f):\n",
        "  try:\n",
        "    f = np.array([int(s) for s in f.split()])\n",
        "    f.reshape(f.size,1)\n",
        "    alpha = np.exp(2j*np.pi/f.size)\n",
        "    if f.size % N_1 != 0:\n",
        "      raise #exception thrown since reshaping is impossible\n",
        "    N_2 = f.size//N_1\n",
        "\n",
        "    (f_table, f_table_columnDFT, f_table_columnDFT_adjusted, f_tableDFT, f_DFT) = step_by_step_dft(f, N_1, N_2, alpha)\n",
        "\n",
        "\n",
        "    print(np.round(f, 2))\n",
        "    print(\"\\nStep 1\")\n",
        "    print(np.round(f_table, 2))\n",
        "    print(\"\\nStep 2\")\n",
        "    print(np.round(f_table_columnDFT, 2))\n",
        "    print(\"\\nStep 3\")\n",
        "    print(np.round(f_table_columnDFT_adjusted, 2))\n",
        "    print(\"\\nStep 4\")\n",
        "    print(np.round(f_tableDFT, 2))\n",
        "    print(\"\\nStep 5\")\n",
        "    print(np.round(f_DFT, 2))\n",
        "    print(\"\\nF = \", np.reshape(np.round(f_DFT, 2),(1,f_DFT.size)).tolist()[0])\n",
        "  except:\n",
        "    pass #catches bad input as well as invalid dimensions\n",
        "widgets.interact(update, N_1 = widgets.IntSlider(min=1, max=5, value=2), f=\"10 5 3 9 3 10\");"
      ],
      "execution_count": 9,
      "outputs": [
        {
          "output_type": "display_data",
          "data": {
            "application/vnd.jupyter.widget-view+json": {
              "model_id": "740b84c81f0f449e849cfa71e06bb629",
              "version_minor": 0,
              "version_major": 2
            },
            "text/plain": [
              "interactive(children=(IntSlider(value=2, description='N_1', max=5, min=1), Text(value='10 5 3 9 3 10', descrip…"
            ]
          },
          "metadata": {}
        }
      ]
    },
    {
      "cell_type": "markdown",
      "metadata": {
        "id": "_5yFonot8Mbv"
      },
      "source": [
        "Above you can see the 5 steps of the FFT decomposition perform on an adjustable signal. You may also change the layout of the decomposition by changing the parameter $N_1$."
      ]
    }
  ]
}