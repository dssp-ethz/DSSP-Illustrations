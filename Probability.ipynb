{
  "nbformat": 4,
  "nbformat_minor": 0,
  "metadata": {
    "colab": {
      "name": "Probability.ipynb",
      "provenance": [],
      "authorship_tag": "ABX9TyO1LRuhEfnb47dpP5AOubWV",
      "include_colab_link": true
    },
    "kernelspec": {
      "name": "python3",
      "display_name": "Python 3"
    },
    "language_info": {
      "name": "python"
    },
    "widgets": {
      "application/vnd.jupyter.widget-state+json": {
        "052434d69bc547018f7ea1ba15684607": {
          "model_module": "@jupyter-widgets/controls",
          "model_name": "VBoxModel",
          "state": {
            "_view_name": "VBoxView",
            "_dom_classes": [
              "widget-interact"
            ],
            "_model_name": "VBoxModel",
            "_view_module": "@jupyter-widgets/controls",
            "_model_module_version": "1.5.0",
            "_view_count": null,
            "_view_module_version": "1.5.0",
            "box_style": "",
            "layout": "IPY_MODEL_e6eddfbc733a44ed8211e5a0cab57805",
            "_model_module": "@jupyter-widgets/controls",
            "children": [
              "IPY_MODEL_d25dcdc31a604ef5946890c1419418aa",
              "IPY_MODEL_7369f6946a7a4037b94a2057e1650222",
              "IPY_MODEL_a8ad962cf2d14d6995f1afc38ce4ee30"
            ]
          }
        },
        "e6eddfbc733a44ed8211e5a0cab57805": {
          "model_module": "@jupyter-widgets/base",
          "model_name": "LayoutModel",
          "state": {
            "_view_name": "LayoutView",
            "grid_template_rows": null,
            "right": null,
            "justify_content": null,
            "_view_module": "@jupyter-widgets/base",
            "overflow": null,
            "_model_module_version": "1.2.0",
            "_view_count": null,
            "flex_flow": null,
            "width": null,
            "min_width": null,
            "border": null,
            "align_items": null,
            "bottom": null,
            "_model_module": "@jupyter-widgets/base",
            "top": null,
            "grid_column": null,
            "overflow_y": null,
            "overflow_x": null,
            "grid_auto_flow": null,
            "grid_area": null,
            "grid_template_columns": null,
            "flex": null,
            "_model_name": "LayoutModel",
            "justify_items": null,
            "grid_row": null,
            "max_height": null,
            "align_content": null,
            "visibility": null,
            "align_self": null,
            "height": null,
            "min_height": null,
            "padding": null,
            "grid_auto_rows": null,
            "grid_gap": null,
            "max_width": null,
            "order": null,
            "_view_module_version": "1.2.0",
            "grid_template_areas": null,
            "object_position": null,
            "object_fit": null,
            "grid_auto_columns": null,
            "margin": null,
            "display": null,
            "left": null
          }
        },
        "d25dcdc31a604ef5946890c1419418aa": {
          "model_module": "@jupyter-widgets/controls",
          "model_name": "FloatSliderModel",
          "state": {
            "_view_name": "FloatSliderView",
            "style": "IPY_MODEL_c3ab65cfac02485eb1ff351fcbd9acdf",
            "_dom_classes": [],
            "description": "m_x",
            "step": 0.1,
            "_model_name": "FloatSliderModel",
            "orientation": "horizontal",
            "max": 10,
            "_view_module": "@jupyter-widgets/controls",
            "_model_module_version": "1.5.0",
            "value": 0,
            "_view_count": null,
            "disabled": false,
            "_view_module_version": "1.5.0",
            "min": -10,
            "continuous_update": true,
            "readout_format": ".2f",
            "description_tooltip": null,
            "readout": true,
            "_model_module": "@jupyter-widgets/controls",
            "layout": "IPY_MODEL_917abc4d6217417db1f0794a0fa5da0a"
          }
        },
        "7369f6946a7a4037b94a2057e1650222": {
          "model_module": "@jupyter-widgets/controls",
          "model_name": "FloatSliderModel",
          "state": {
            "_view_name": "FloatSliderView",
            "style": "IPY_MODEL_328b87930e1b4903bf3b54b4b10c7e52",
            "_dom_classes": [],
            "description": "sigma_x",
            "step": 0.1,
            "_model_name": "FloatSliderModel",
            "orientation": "horizontal",
            "max": 10,
            "_view_module": "@jupyter-widgets/controls",
            "_model_module_version": "1.5.0",
            "value": 1,
            "_view_count": null,
            "disabled": false,
            "_view_module_version": "1.5.0",
            "min": 0.1,
            "continuous_update": true,
            "readout_format": ".2f",
            "description_tooltip": null,
            "readout": true,
            "_model_module": "@jupyter-widgets/controls",
            "layout": "IPY_MODEL_030b375a5ce04aae9a91fa16f97cfb51"
          }
        },
        "a8ad962cf2d14d6995f1afc38ce4ee30": {
          "model_module": "@jupyter-widgets/output",
          "model_name": "OutputModel",
          "state": {
            "_view_name": "OutputView",
            "msg_id": "",
            "_dom_classes": [],
            "_model_name": "OutputModel",
            "outputs": [],
            "_view_module": "@jupyter-widgets/output",
            "_model_module_version": "1.0.0",
            "_view_count": null,
            "_view_module_version": "1.0.0",
            "layout": "IPY_MODEL_546e1db55fe844e797c04473f38f32cf",
            "_model_module": "@jupyter-widgets/output"
          }
        },
        "c3ab65cfac02485eb1ff351fcbd9acdf": {
          "model_module": "@jupyter-widgets/controls",
          "model_name": "SliderStyleModel",
          "state": {
            "_view_name": "StyleView",
            "handle_color": null,
            "_model_name": "SliderStyleModel",
            "description_width": "",
            "_view_module": "@jupyter-widgets/base",
            "_model_module_version": "1.5.0",
            "_view_count": null,
            "_view_module_version": "1.2.0",
            "_model_module": "@jupyter-widgets/controls"
          }
        },
        "917abc4d6217417db1f0794a0fa5da0a": {
          "model_module": "@jupyter-widgets/base",
          "model_name": "LayoutModel",
          "state": {
            "_view_name": "LayoutView",
            "grid_template_rows": null,
            "right": null,
            "justify_content": null,
            "_view_module": "@jupyter-widgets/base",
            "overflow": null,
            "_model_module_version": "1.2.0",
            "_view_count": null,
            "flex_flow": null,
            "width": null,
            "min_width": null,
            "border": null,
            "align_items": null,
            "bottom": null,
            "_model_module": "@jupyter-widgets/base",
            "top": null,
            "grid_column": null,
            "overflow_y": null,
            "overflow_x": null,
            "grid_auto_flow": null,
            "grid_area": null,
            "grid_template_columns": null,
            "flex": null,
            "_model_name": "LayoutModel",
            "justify_items": null,
            "grid_row": null,
            "max_height": null,
            "align_content": null,
            "visibility": null,
            "align_self": null,
            "height": null,
            "min_height": null,
            "padding": null,
            "grid_auto_rows": null,
            "grid_gap": null,
            "max_width": null,
            "order": null,
            "_view_module_version": "1.2.0",
            "grid_template_areas": null,
            "object_position": null,
            "object_fit": null,
            "grid_auto_columns": null,
            "margin": null,
            "display": null,
            "left": null
          }
        },
        "328b87930e1b4903bf3b54b4b10c7e52": {
          "model_module": "@jupyter-widgets/controls",
          "model_name": "SliderStyleModel",
          "state": {
            "_view_name": "StyleView",
            "handle_color": null,
            "_model_name": "SliderStyleModel",
            "description_width": "",
            "_view_module": "@jupyter-widgets/base",
            "_model_module_version": "1.5.0",
            "_view_count": null,
            "_view_module_version": "1.2.0",
            "_model_module": "@jupyter-widgets/controls"
          }
        },
        "030b375a5ce04aae9a91fa16f97cfb51": {
          "model_module": "@jupyter-widgets/base",
          "model_name": "LayoutModel",
          "state": {
            "_view_name": "LayoutView",
            "grid_template_rows": null,
            "right": null,
            "justify_content": null,
            "_view_module": "@jupyter-widgets/base",
            "overflow": null,
            "_model_module_version": "1.2.0",
            "_view_count": null,
            "flex_flow": null,
            "width": null,
            "min_width": null,
            "border": null,
            "align_items": null,
            "bottom": null,
            "_model_module": "@jupyter-widgets/base",
            "top": null,
            "grid_column": null,
            "overflow_y": null,
            "overflow_x": null,
            "grid_auto_flow": null,
            "grid_area": null,
            "grid_template_columns": null,
            "flex": null,
            "_model_name": "LayoutModel",
            "justify_items": null,
            "grid_row": null,
            "max_height": null,
            "align_content": null,
            "visibility": null,
            "align_self": null,
            "height": null,
            "min_height": null,
            "padding": null,
            "grid_auto_rows": null,
            "grid_gap": null,
            "max_width": null,
            "order": null,
            "_view_module_version": "1.2.0",
            "grid_template_areas": null,
            "object_position": null,
            "object_fit": null,
            "grid_auto_columns": null,
            "margin": null,
            "display": null,
            "left": null
          }
        },
        "546e1db55fe844e797c04473f38f32cf": {
          "model_module": "@jupyter-widgets/base",
          "model_name": "LayoutModel",
          "state": {
            "_view_name": "LayoutView",
            "grid_template_rows": null,
            "right": null,
            "justify_content": null,
            "_view_module": "@jupyter-widgets/base",
            "overflow": null,
            "_model_module_version": "1.2.0",
            "_view_count": null,
            "flex_flow": null,
            "width": null,
            "min_width": null,
            "border": null,
            "align_items": null,
            "bottom": null,
            "_model_module": "@jupyter-widgets/base",
            "top": null,
            "grid_column": null,
            "overflow_y": null,
            "overflow_x": null,
            "grid_auto_flow": null,
            "grid_area": null,
            "grid_template_columns": null,
            "flex": null,
            "_model_name": "LayoutModel",
            "justify_items": null,
            "grid_row": null,
            "max_height": null,
            "align_content": null,
            "visibility": null,
            "align_self": null,
            "height": null,
            "min_height": null,
            "padding": null,
            "grid_auto_rows": null,
            "grid_gap": null,
            "max_width": null,
            "order": null,
            "_view_module_version": "1.2.0",
            "grid_template_areas": null,
            "object_position": null,
            "object_fit": null,
            "grid_auto_columns": null,
            "margin": null,
            "display": null,
            "left": null
          }
        }
      }
    }
  },
  "cells": [
    {
      "cell_type": "markdown",
      "metadata": {
        "id": "view-in-github",
        "colab_type": "text"
      },
      "source": [
        "<a href=\"https://colab.research.google.com/github/dssp-ethz/DSSP-Illustrations/blob/main/Probability.ipynb\" target=\"_parent\"><img src=\"https://colab.research.google.com/assets/colab-badge.svg\" alt=\"Open In Colab\"/></a>"
      ]
    },
    {
      "cell_type": "markdown",
      "metadata": {
        "id": "csJbCbmP6Njx"
      },
      "source": [
        "# Gaussian Probability Density Function"
      ]
    },
    {
      "cell_type": "markdown",
      "metadata": {
        "id": "99FyZ3L96REt"
      },
      "source": [
        "The gaussian distribution (as introduced in the lecture notes on page 125 as of 2020) will be of great importance to this course (and life in general). Its pdf is plotted below.\n",
        "$$f_X(x) = \\frac{1}{\\sqrt{2\\pi}\\sigma_X} \\exp \\left(-\\frac{(x-m_X)^2}{2\\sigma_X^2} \\right) \\propto \\exp \\left ( - \\frac{x^2}{2\\sigma_X^2} + x \\frac{m_X}{\\sigma_X^2}\\right)$$\n"
      ]
    },
    {
      "cell_type": "code",
      "metadata": {
        "colab": {
          "base_uri": "https://localhost:8080/",
          "height": 81,
          "referenced_widgets": [
            "052434d69bc547018f7ea1ba15684607",
            "e6eddfbc733a44ed8211e5a0cab57805",
            "d25dcdc31a604ef5946890c1419418aa",
            "7369f6946a7a4037b94a2057e1650222",
            "a8ad962cf2d14d6995f1afc38ce4ee30",
            "c3ab65cfac02485eb1ff351fcbd9acdf",
            "917abc4d6217417db1f0794a0fa5da0a",
            "328b87930e1b4903bf3b54b4b10c7e52",
            "030b375a5ce04aae9a91fa16f97cfb51",
            "546e1db55fe844e797c04473f38f32cf"
          ]
        },
        "id": "6NGVqwii6Jlq",
        "outputId": "2c8aa30c-86ec-458b-d58a-c83277010183"
      },
      "source": [
        "import ipywidgets as widgets\n",
        "import numpy as np\n",
        "import matplotlib.pyplot as plt\n",
        "%matplotlib inline\n",
        "#-------------------------------------------------------------------------------\n",
        "\n",
        "#read in parameters\n",
        "m_xG = 0\n",
        "sigma_xG = 1\n",
        "def update_parameters(m_x, sigma_x):\n",
        "  global m_xG, sigma_xG\n",
        "  m_xG, sigma_xG = m_x, sigma_x\n",
        "widgets.interact(update_parameters, m_x = widgets.FloatSlider(min=-10, max=10, value=0), sigma_x = widgets.FloatSlider(min=0.1, max=10, value=1));\n",
        "\n",
        "#Important Stuff\n",
        "################################################################################\n",
        "#function to be plotted\n",
        "gaussian_pdf = lambda x, m_x, sigma_x: 1/(np.sqrt(2*np.pi)*sigma_x) * np.exp(-(x-m_x)**2 / (2*sigma_x**2))\n",
        "################################################################################\n",
        "\n",
        "#range to display\n",
        "x_values = np.arange(-10,10,0.1)\n",
        "\n",
        "def plot():\n",
        "  y_values = gaussian_pdf(x_values, m_xG, sigma_xG)\n",
        "\n",
        "  fig, ax = plt.subplots(figsize=(12, 8))\n",
        "  ax.grid()\n",
        "  ax.set_xlabel('$x$', fontsize=14)\n",
        "  ax.set_ylabel('$f(x \\mid \\mu_x, \\sigma_x)$', fontsize=14)\n",
        "  ax.axis(xmin=x_values[0], xmax=x_values[-1])\n",
        "  ax.plot(x_values, y_values, alpha=0.5, marker='o', markersize=8);"
      ],
      "execution_count": 1,
      "outputs": [
        {
          "output_type": "display_data",
          "data": {
            "application/vnd.jupyter.widget-view+json": {
              "model_id": "052434d69bc547018f7ea1ba15684607",
              "version_minor": 0,
              "version_major": 2
            },
            "text/plain": [
              "interactive(children=(FloatSlider(value=0.0, description='m_x', max=10.0, min=-10.0), FloatSlider(value=1.0, d…"
            ]
          },
          "metadata": {
            "tags": []
          }
        }
      ]
    },
    {
      "cell_type": "markdown",
      "metadata": {
        "id": "7cGbLtKG6W9s"
      },
      "source": [
        "The gaussian distribution is the most common model for noise. It also occurs virtually everywhere in nature. Why is that? In our world many entities (such as age, height, IQ test scores) can be thought of as the sum of (infinitely) many random binary processes, modelled by a bernoulli random variable, with vanishing likelihood. By the central limit theorem the binomial distribution approaches the gaussian distribution."
      ]
    },
    {
      "cell_type": "code",
      "metadata": {
        "colab": {
          "base_uri": "https://localhost:8080/",
          "height": 501
        },
        "id": "NQqurnYC6X7X",
        "outputId": "185dfd6e-e729-4fb9-dc29-2cba9a57566d"
      },
      "source": [
        "plot()"
      ],
      "execution_count": 2,
      "outputs": [
        {
          "output_type": "display_data",
          "data": {
            "image/png": "[encoded data removed]",
            "text/plain": [
              "<Figure size 864x576 with 1 Axes>"
            ]
          },
          "metadata": {
            "tags": [],
            "needs_background": "light"
          }
        }
      ]
    }
  ]
}